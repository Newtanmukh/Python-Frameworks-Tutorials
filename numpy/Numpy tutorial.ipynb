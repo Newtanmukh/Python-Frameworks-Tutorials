{
 "cells": [
  {
   "cell_type": "code",
   "execution_count": 1,
   "id": "5916eddb",
   "metadata": {},
   "outputs": [],
   "source": [
    "import numpy as np"
   ]
  },
  {
   "cell_type": "code",
   "execution_count": 2,
   "id": "abe3211b",
   "metadata": {},
   "outputs": [
    {
     "name": "stdout",
     "output_type": "stream",
     "text": [
      "1.20.3\n"
     ]
    }
   ],
   "source": [
    "print(np.__version__) # show the numpy version"
   ]
  },
  {
   "cell_type": "code",
   "execution_count": 18,
   "id": "71ca68dc",
   "metadata": {},
   "outputs": [
    {
     "data": {
      "text/plain": [
       "array([     3,     54,      2,     11, 231111])"
      ]
     },
     "execution_count": 18,
     "metadata": {},
     "output_type": "execute_result"
    }
   ],
   "source": [
    "myarr=np.array([3,54,2,11,231111],np.int32) #np.intx basically says that, x bits numbers are allowed.\n",
    "myarr"
   ]
  },
  {
   "cell_type": "code",
   "execution_count": 28,
   "id": "326f67ff",
   "metadata": {},
   "outputs": [
    {
     "name": "stdout",
     "output_type": "stream",
     "text": [
      "231111\n",
      "\n",
      "\n"
     ]
    },
    {
     "data": {
      "text/plain": [
       "array([     3,     54,      2,     11, 231111])"
      ]
     },
     "execution_count": 28,
     "metadata": {},
     "output_type": "execute_result"
    }
   ],
   "source": [
    "myarr=np.array([[3,54,2,11,231111],[3,54,2,11,44]])\n",
    "print(myarr[0,4]) #accessing the element by 2D index\n",
    "print(\"\\n\")\n",
    "myarr[0]"
   ]
  },
  {
   "cell_type": "code",
   "execution_count": 36,
   "id": "8bd909d4",
   "metadata": {},
   "outputs": [
    {
     "name": "stdout",
     "output_type": "stream",
     "text": [
      "(2, 5)\n",
      "int32\n",
      "<class 'numpy.ndarray'>\n"
     ]
    }
   ],
   "source": [
    "print(myarr.shape) # it is a 2 by 5 array 2D array\n",
    "\n",
    "print(myarr.dtype)\n",
    "\n",
    "print(type(myarr))"
   ]
  },
  {
   "cell_type": "code",
   "execution_count": 38,
   "id": "e7310160",
   "metadata": {},
   "outputs": [
    {
     "name": "stdout",
     "output_type": "stream",
     "text": [
      "[[[1 2 3]\n",
      "  [4 5 6]]\n",
      "\n",
      " [[1 2 3]\n",
      "  [4 5 6]]]\n",
      "3\n"
     ]
    }
   ],
   "source": [
    "arr = np.array([[[1, 2, 3], [4, 5, 6]], [[1, 2, 3], [4, 5, 6]]])\n",
    "\n",
    "print(arr)\n",
    "print(arr.ndim) # will print the number of dimension of this array. it is 3."
   ]
  },
  {
   "cell_type": "code",
   "execution_count": null,
   "id": "3f8f944c",
   "metadata": {},
   "outputs": [],
   "source": []
  }
 ],
 "metadata": {
  "kernelspec": {
   "display_name": "Python 3 (ipykernel)",
   "language": "python",
   "name": "python3"
  },
  "language_info": {
   "codemirror_mode": {
    "name": "ipython",
    "version": 3
   },
   "file_extension": ".py",
   "mimetype": "text/x-python",
   "name": "python",
   "nbconvert_exporter": "python",
   "pygments_lexer": "ipython3",
   "version": "3.9.7"
  }
 },
 "nbformat": 4,
 "nbformat_minor": 5
}
