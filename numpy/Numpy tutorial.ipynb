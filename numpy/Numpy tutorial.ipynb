{
 "cells": [
  {
   "cell_type": "code",
   "execution_count": 1,
   "id": "8e37638c",
   "metadata": {},
   "outputs": [],
   "source": [
    "import numpy as np"
   ]
  },
  {
   "cell_type": "code",
   "execution_count": 2,
   "id": "e1ee5813",
   "metadata": {},
   "outputs": [
    {
     "name": "stdout",
     "output_type": "stream",
     "text": [
      "1.20.3\n"
     ]
    }
   ],
   "source": [
    "print(np.__version__) # show the numpy version"
   ]
  },
  {
   "cell_type": "code",
   "execution_count": 18,
   "id": "b74c5263",
   "metadata": {},
   "outputs": [
    {
     "data": {
      "text/plain": [
       "array([     3,     54,      2,     11, 231111])"
      ]
     },
     "execution_count": 18,
     "metadata": {},
     "output_type": "execute_result"
    }
   ],
   "source": [
    "myarr=np.array([3,54,2,11,231111],np.int32) #np.intx basically says that, x bits numbers are allowed.\n",
    "myarr"
   ]
  },
  {
   "cell_type": "code",
   "execution_count": 28,
   "id": "7a2a1686",
   "metadata": {},
   "outputs": [
    {
     "name": "stdout",
     "output_type": "stream",
     "text": [
      "231111\n",
      "\n",
      "\n"
     ]
    },
    {
     "data": {
      "text/plain": [
       "array([     3,     54,      2,     11, 231111])"
      ]
     },
     "execution_count": 28,
     "metadata": {},
     "output_type": "execute_result"
    }
   ],
   "source": [
    "myarr=np.array([[3,54,2,11,231111],[3,54,2,11,44]])\n",
    "print(myarr[0,4]) #accessing the element by 2D index\n",
    "print(\"\\n\")\n",
    "myarr[0]"
   ]
  },
  {
   "cell_type": "code",
   "execution_count": 36,
   "id": "2b71a35b",
   "metadata": {},
   "outputs": [
    {
     "name": "stdout",
     "output_type": "stream",
     "text": [
      "(2, 5)\n",
      "int32\n",
      "<class 'numpy.ndarray'>\n"
     ]
    }
   ],
   "source": [
    "print(myarr.shape) # it is a 2 by 5 array 2D array\n",
    "\n",
    "print(myarr.dtype)\n",
    "\n",
    "print(type(myarr))"
   ]
  },
  {
   "cell_type": "code",
   "execution_count": 38,
   "id": "0b19042c",
   "metadata": {},
   "outputs": [
    {
     "name": "stdout",
     "output_type": "stream",
     "text": [
      "[[[1 2 3]\n",
      "  [4 5 6]]\n",
      "\n",
      " [[1 2 3]\n",
      "  [4 5 6]]]\n",
      "3\n"
     ]
    }
   ],
   "source": [
    "arr = np.array([[[1, 2, 3], [4, 5, 6]], [[1, 2, 3], [4, 5, 6]]])\n",
    "\n",
    "print(arr)\n",
    "print(arr.ndim) # will print the number of dimension of this array. it is 3."
   ]
  },
  {
   "cell_type": "code",
   "execution_count": 41,
   "id": "c63bb02a",
   "metadata": {},
   "outputs": [
    {
     "name": "stdout",
     "output_type": "stream",
     "text": [
      "6\n",
      "23\n"
     ]
    }
   ],
   "source": [
    "print(arr[0,1,2]) # will give 6 as output\n",
    "arr[0,1,2]=23\n",
    "print(arr[0,1,2]) "
   ]
  },
  {
   "cell_type": "markdown",
   "id": "3c6ca417",
   "metadata": {},
   "source": [
    "# Conversion from other data structures to numpy (Dictionary) "
   ]
  },
  {
   "cell_type": "code",
   "execution_count": 50,
   "id": "fc1bcae6",
   "metadata": {},
   "outputs": [
    {
     "name": "stdout",
     "output_type": "stream",
     "text": [
      "[1 2 3 4]\n",
      "int32\n"
     ]
    }
   ],
   "source": [
    "dict = {\"a\": 1, \"b\": 2, \"c\": 3, \"d\": 4}\n",
    "data = list(dict.values())\n",
    "\n",
    "# Try with dict.keys() as well as dict.items()\n",
    "\n",
    "an_array = np. array(data)\n",
    "print(an_array)\n",
    "print(an_array.dtype)"
   ]
  },
  {
   "cell_type": "markdown",
   "id": "e423d6ab",
   "metadata": {},
   "source": [
    "# Functions : Zeroes,ones,lspace,empty and arange"
   ]
  },
  {
   "cell_type": "code",
   "execution_count": 61,
   "id": "438ebc4a",
   "metadata": {},
   "outputs": [
    {
     "name": "stdout",
     "output_type": "stream",
     "text": [
      "(2, 5, 3)\n",
      "float64\n",
      "[[[ 0.  0.  0.]\n",
      "  [ 0.  0.  0.]\n",
      "  [ 0.  0.  0.]\n",
      "  [ 0.  0.  0.]\n",
      "  [ 0. 34.  0.]]\n",
      "\n",
      " [[ 0.  0.  0.]\n",
      "  [ 0.  0.  0.]\n",
      "  [ 0.  0.  0.]\n",
      "  [ 0.  0.  0.]\n",
      "  [ 0.  0.  0.]]]\n"
     ]
    }
   ],
   "source": [
    "zeroes=np.zeros((2,5,3))\n",
    "\n",
    "print(zeroes.shape)\n",
    "print(zeroes.dtype)\n",
    "zeroes[0,4,1]=34\n",
    "print(zeroes)"
   ]
  },
  {
   "cell_type": "code",
   "execution_count": 62,
   "id": "52be9774",
   "metadata": {},
   "outputs": [
    {
     "name": "stdout",
     "output_type": "stream",
     "text": [
      "[ 0  1  2  3  4  5  6  7  8  9 10 11 12 13 14]\n"
     ]
    }
   ],
   "source": [
    "rnd=np.arange(15) # range of entries inside array from 0 to 14 inclusive\n",
    "print(rnd)"
   ]
  },
  {
   "cell_type": "code",
   "execution_count": 63,
   "id": "a8e67cff",
   "metadata": {},
   "outputs": [
    {
     "name": "stdout",
     "output_type": "stream",
     "text": [
      "[ 1.          6.44444444 11.88888889 17.33333333 22.77777778 28.22222222\n",
      " 33.66666667 39.11111111 44.55555556 50.        ]\n"
     ]
    }
   ],
   "source": [
    "lspace=np.linspace(1,50,10) # gives us 10 elements with equal spaing between them.\n",
    "print(lspace)"
   ]
  },
  {
   "cell_type": "code",
   "execution_count": 65,
   "id": "90456b67",
   "metadata": {},
   "outputs": [
    {
     "name": "stdout",
     "output_type": "stream",
     "text": [
      "[[0. 0. 0. 0. 0.]\n",
      " [0. 0. 0. 0. 0.]\n",
      " [0. 0. 0. 0. 0.]]\n"
     ]
    }
   ],
   "source": [
    "randomarray = np.empty((3,5))\n",
    "print(randomarray)"
   ]
  },
  {
   "cell_type": "code",
   "execution_count": 67,
   "id": "f6bd0a58",
   "metadata": {},
   "outputs": [
    {
     "name": "stdout",
     "output_type": "stream",
     "text": [
      "[[1. 0. 0. 0.]\n",
      " [0. 1. 0. 0.]\n",
      " [0. 0. 1. 0.]\n",
      " [0. 0. 0. 1.]]\n"
     ]
    }
   ],
   "source": [
    "idm=np.identity(4) # will give an identity matrix of size 4 by 4\n",
    "print(idm)"
   ]
  },
  {
   "cell_type": "markdown",
   "id": "f69a9e0f",
   "metadata": {},
   "source": [
    "# Reshape "
   ]
  },
  {
   "cell_type": "code",
   "execution_count": 68,
   "id": "89790cb7",
   "metadata": {},
   "outputs": [
    {
     "name": "stdout",
     "output_type": "stream",
     "text": [
      "[ 0  1  2  3  4  5  6  7  8  9 10 11 12 13 14 15 16 17 18 19 20 21 22 23\n",
      " 24 25 26 27 28 29 30 31 32 33 34 35 36 37 38 39 40 41 42 43 44 45 46 47\n",
      " 48 49 50 51 52 53 54 55 56 57 58 59 60 61 62 63 64 65 66 67 68 69 70 71\n",
      " 72 73 74 75 76 77 78 79 80 81 82 83 84 85 86 87 88 89 90 91 92 93 94 95\n",
      " 96 97 98]\n"
     ]
    }
   ],
   "source": [
    "x=np.arange(99)\n",
    "print(x)"
   ]
  },
  {
   "cell_type": "code",
   "execution_count": 75,
   "id": "253ad633",
   "metadata": {},
   "outputs": [
    {
     "name": "stdout",
     "output_type": "stream",
     "text": [
      "[[[ 0  1  2  3  4  5  6  7  8  9 10]\n",
      "  [11 12 13 14 15 16 17 18 19 20 21]\n",
      "  [22 23 24 25 26 27 28 29 30 31 32]]\n",
      "\n",
      " [[33 34 35 36 37 38 39 40 41 42 43]\n",
      "  [44 45 46 47 48 49 50 51 52 53 54]\n",
      "  [55 56 57 58 59 60 61 62 63 64 65]]\n",
      "\n",
      " [[66 67 68 69 70 71 72 73 74 75 76]\n",
      "  [77 78 79 80 81 82 83 84 85 86 87]\n",
      "  [88 89 90 91 92 93 94 95 96 97 98]]]\n"
     ]
    }
   ],
   "source": [
    "x=x.reshape(3,3,11) #to change it as well.\n",
    "print(x)\n",
    "\n",
    "#to change it again to 1D array again, do x=x.ravel()"
   ]
  },
  {
   "cell_type": "markdown",
   "id": "b4e281f0",
   "metadata": {},
   "source": [
    "# Axis"
   ]
  },
  {
   "cell_type": "code",
   "execution_count": 98,
   "id": "726122ec",
   "metadata": {},
   "outputs": [
    {
     "name": "stdout",
     "output_type": "stream",
     "text": [
      "[[1 2 3]\n",
      " [4 5 6]\n",
      " [7 8 9]]\n"
     ]
    }
   ],
   "source": [
    "# in a 2D array, axis0 towards the row and axis1 towards the column.\n",
    "\n",
    "x=[[1,2,3],[4,5,6],[7,8,9]]\n",
    "\n",
    "arr=np.array(x)\n",
    "print(arr)"
   ]
  },
  {
   "cell_type": "code",
   "execution_count": 99,
   "id": "04eae6bf",
   "metadata": {},
   "outputs": [
    {
     "name": "stdout",
     "output_type": "stream",
     "text": [
      "[12 15 18]\n",
      "[ 6 15 24]\n",
      "[[1 2 3]\n",
      " [4 5 6]\n",
      " [7 8 9]]\n"
     ]
    }
   ],
   "source": [
    "print(arr.sum(axis=0)) # up to down sum\n",
    "print(arr.sum(axis=1)) # left to right sum\n",
    "print(arr)"
   ]
  },
  {
   "cell_type": "code",
   "execution_count": 100,
   "id": "a86bb132",
   "metadata": {},
   "outputs": [
    {
     "name": "stdout",
     "output_type": "stream",
     "text": [
      "[[1 4 7]\n",
      " [2 5 8]\n",
      " [3 6 9]]\n"
     ]
    }
   ],
   "source": [
    "arr=arr.T #Transpose\n",
    "print(arr)"
   ]
  },
  {
   "cell_type": "code",
   "execution_count": 105,
   "id": "566ba8b1",
   "metadata": {},
   "outputs": [
    {
     "name": "stdout",
     "output_type": "stream",
     "text": [
      "1\n",
      "4\n",
      "7\n",
      "2\n",
      "5\n",
      "8\n",
      "3\n",
      "6\n",
      "9\n",
      "The dimension is : 2\n"
     ]
    }
   ],
   "source": [
    "for x in arr.flat:\n",
    "    print(x)\n",
    "    \n",
    "print(\"The dimension is : \" + str(arr.ndim))"
   ]
  },
  {
   "cell_type": "code",
   "execution_count": 106,
   "id": "1c6c880b",
   "metadata": {},
   "outputs": [
    {
     "data": {
      "text/plain": [
       "9"
      ]
     },
     "execution_count": 106,
     "metadata": {},
     "output_type": "execute_result"
    }
   ],
   "source": [
    "arr.size #total number of elements in the 2D array."
   ]
  },
  {
   "cell_type": "code",
   "execution_count": null,
   "id": "6125dc49",
   "metadata": {},
   "outputs": [],
   "source": []
  }
 ],
 "metadata": {
  "kernelspec": {
   "display_name": "Python 3 (ipykernel)",
   "language": "python",
   "name": "python3"
  },
  "language_info": {
   "codemirror_mode": {
    "name": "ipython",
    "version": 3
   },
   "file_extension": ".py",
   "mimetype": "text/x-python",
   "name": "python",
   "nbconvert_exporter": "python",
   "pygments_lexer": "ipython3",
   "version": "3.9.7"
  }
 },
 "nbformat": 4,
 "nbformat_minor": 5
}
