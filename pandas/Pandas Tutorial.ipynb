{
 "cells": [
  {
   "cell_type": "code",
   "execution_count": 2,
   "id": "f8d4623f",
   "metadata": {},
   "outputs": [],
   "source": [
    "import numpy as np \n",
    "import pandas as pd\n"
   ]
  },
  {
   "cell_type": "code",
   "execution_count": 6,
   "id": "1cf93a36",
   "metadata": {},
   "outputs": [],
   "source": [
    "  dict1={\n",
    "      \"name\":['harry','rohan','skillf','shubh'],\n",
    "      \"marks\":[92,34,12,76],\n",
    "      \"city\":['kolkata','delhi','mumbai','aurangabad']      #sample data.\n",
    "        }"
   ]
  },
  {
   "cell_type": "code",
   "execution_count": 7,
   "id": "cdbe90f6",
   "metadata": {},
   "outputs": [],
   "source": [
    "df = pd.DataFrame(dict1)  #this will make a dataframe. this will convert the data to excel sheet for faster indexing."
   ]
  },
  {
   "cell_type": "code",
   "execution_count": 9,
   "id": "8b6a8ef7",
   "metadata": {},
   "outputs": [
    {
     "name": "stdout",
     "output_type": "stream",
     "text": [
      "     name  marks        city\n",
      "0   harry     92     kolkata\n",
      "1   rohan     34       delhi\n",
      "2  skillf     12      mumbai\n",
      "3   shubh     76  aurangabad\n"
     ]
    }
   ],
   "source": [
    "print(df) #index,name,marks,column"
   ]
  },
  {
   "cell_type": "code",
   "execution_count": 13,
   "id": "b348f1fe",
   "metadata": {},
   "outputs": [],
   "source": [
    "df.to_csv('friends.csv') #will covert the data to a csv(excel) file."
   ]
  },
  {
   "cell_type": "code",
   "execution_count": 15,
   "id": "969c348b",
   "metadata": {},
   "outputs": [],
   "source": [
    "df.to_csv('friends_indexFalse.csv',index=False) #same,but no indexing now in excel"
   ]
  },
  {
   "cell_type": "code",
   "execution_count": 17,
   "id": "04f112e8",
   "metadata": {},
   "outputs": [
    {
     "data": {
      "text/html": [
       "<div>\n",
       "<style scoped>\n",
       "    .dataframe tbody tr th:only-of-type {\n",
       "        vertical-align: middle;\n",
       "    }\n",
       "\n",
       "    .dataframe tbody tr th {\n",
       "        vertical-align: top;\n",
       "    }\n",
       "\n",
       "    .dataframe thead th {\n",
       "        text-align: right;\n",
       "    }\n",
       "</style>\n",
       "<table border=\"1\" class=\"dataframe\">\n",
       "  <thead>\n",
       "    <tr style=\"text-align: right;\">\n",
       "      <th></th>\n",
       "      <th>name</th>\n",
       "      <th>marks</th>\n",
       "      <th>city</th>\n",
       "    </tr>\n",
       "  </thead>\n",
       "  <tbody>\n",
       "    <tr>\n",
       "      <th>0</th>\n",
       "      <td>harry</td>\n",
       "      <td>92</td>\n",
       "      <td>kolkata</td>\n",
       "    </tr>\n",
       "    <tr>\n",
       "      <th>1</th>\n",
       "      <td>rohan</td>\n",
       "      <td>34</td>\n",
       "      <td>delhi</td>\n",
       "    </tr>\n",
       "  </tbody>\n",
       "</table>\n",
       "</div>"
      ],
      "text/plain": [
       "    name  marks     city\n",
       "0  harry     92  kolkata\n",
       "1  rohan     34    delhi"
      ]
     },
     "execution_count": 17,
     "metadata": {},
     "output_type": "execute_result"
    }
   ],
   "source": [
    "df.head(2) #will show the first two entries."
   ]
  },
  {
   "cell_type": "code",
   "execution_count": 18,
   "id": "9b76c4dd",
   "metadata": {},
   "outputs": [
    {
     "data": {
      "text/html": [
       "<div>\n",
       "<style scoped>\n",
       "    .dataframe tbody tr th:only-of-type {\n",
       "        vertical-align: middle;\n",
       "    }\n",
       "\n",
       "    .dataframe tbody tr th {\n",
       "        vertical-align: top;\n",
       "    }\n",
       "\n",
       "    .dataframe thead th {\n",
       "        text-align: right;\n",
       "    }\n",
       "</style>\n",
       "<table border=\"1\" class=\"dataframe\">\n",
       "  <thead>\n",
       "    <tr style=\"text-align: right;\">\n",
       "      <th></th>\n",
       "      <th>name</th>\n",
       "      <th>marks</th>\n",
       "      <th>city</th>\n",
       "    </tr>\n",
       "  </thead>\n",
       "  <tbody>\n",
       "    <tr>\n",
       "      <th>2</th>\n",
       "      <td>skillf</td>\n",
       "      <td>12</td>\n",
       "      <td>mumbai</td>\n",
       "    </tr>\n",
       "    <tr>\n",
       "      <th>3</th>\n",
       "      <td>shubh</td>\n",
       "      <td>76</td>\n",
       "      <td>aurangabad</td>\n",
       "    </tr>\n",
       "  </tbody>\n",
       "</table>\n",
       "</div>"
      ],
      "text/plain": [
       "     name  marks        city\n",
       "2  skillf     12      mumbai\n",
       "3   shubh     76  aurangabad"
      ]
     },
     "execution_count": 18,
     "metadata": {},
     "output_type": "execute_result"
    }
   ],
   "source": [
    "df.tail(2) #will show the last two"
   ]
  },
  {
   "cell_type": "code",
   "execution_count": 21,
   "id": "b94a1e88",
   "metadata": {},
   "outputs": [
    {
     "data": {
      "text/html": [
       "<div>\n",
       "<style scoped>\n",
       "    .dataframe tbody tr th:only-of-type {\n",
       "        vertical-align: middle;\n",
       "    }\n",
       "\n",
       "    .dataframe tbody tr th {\n",
       "        vertical-align: top;\n",
       "    }\n",
       "\n",
       "    .dataframe thead th {\n",
       "        text-align: right;\n",
       "    }\n",
       "</style>\n",
       "<table border=\"1\" class=\"dataframe\">\n",
       "  <thead>\n",
       "    <tr style=\"text-align: right;\">\n",
       "      <th></th>\n",
       "      <th>marks</th>\n",
       "    </tr>\n",
       "  </thead>\n",
       "  <tbody>\n",
       "    <tr>\n",
       "      <th>count</th>\n",
       "      <td>4.000000</td>\n",
       "    </tr>\n",
       "    <tr>\n",
       "      <th>mean</th>\n",
       "      <td>53.500000</td>\n",
       "    </tr>\n",
       "    <tr>\n",
       "      <th>std</th>\n",
       "      <td>36.927858</td>\n",
       "    </tr>\n",
       "    <tr>\n",
       "      <th>min</th>\n",
       "      <td>12.000000</td>\n",
       "    </tr>\n",
       "    <tr>\n",
       "      <th>25%</th>\n",
       "      <td>28.500000</td>\n",
       "    </tr>\n",
       "    <tr>\n",
       "      <th>50%</th>\n",
       "      <td>55.000000</td>\n",
       "    </tr>\n",
       "    <tr>\n",
       "      <th>75%</th>\n",
       "      <td>80.000000</td>\n",
       "    </tr>\n",
       "    <tr>\n",
       "      <th>max</th>\n",
       "      <td>92.000000</td>\n",
       "    </tr>\n",
       "  </tbody>\n",
       "</table>\n",
       "</div>"
      ],
      "text/plain": [
       "           marks\n",
       "count   4.000000\n",
       "mean   53.500000\n",
       "std    36.927858\n",
       "min    12.000000\n",
       "25%    28.500000\n",
       "50%    55.000000\n",
       "75%    80.000000\n",
       "max    92.000000"
      ]
     },
     "execution_count": 21,
     "metadata": {},
     "output_type": "execute_result"
    }
   ],
   "source": [
    "df.describe() # Will calcculate the standard deviation,mean etc of all the numerical values."
   ]
  },
  {
   "cell_type": "code",
   "execution_count": 25,
   "id": "b616aa6f",
   "metadata": {},
   "outputs": [],
   "source": [
    "newton=pd.read_csv('Newtan.csv') #read from csv file."
   ]
  },
  {
   "cell_type": "code",
   "execution_count": 28,
   "id": "fc8bea36",
   "metadata": {},
   "outputs": [
    {
     "name": "stderr",
     "output_type": "stream",
     "text": [
      "C:\\Users\\Newtan\\AppData\\Local\\Temp/ipykernel_3476/3974474628.py:1: SettingWithCopyWarning: \n",
      "A value is trying to be set on a copy of a slice from a DataFrame\n",
      "\n",
      "See the caveats in the documentation: https://pandas.pydata.org/pandas-docs/stable/user_guide/indexing.html#returning-a-view-versus-a-copy\n",
      "  newton['distance'][1]=40\n"
     ]
    }
   ],
   "source": [
    "newton['distance'][1]=40"
   ]
  },
  {
   "cell_type": "code",
   "execution_count": 29,
   "id": "d81d1f6c",
   "metadata": {},
   "outputs": [
    {
     "data": {
      "text/html": [
       "<div>\n",
       "<style scoped>\n",
       "    .dataframe tbody tr th:only-of-type {\n",
       "        vertical-align: middle;\n",
       "    }\n",
       "\n",
       "    .dataframe tbody tr th {\n",
       "        vertical-align: top;\n",
       "    }\n",
       "\n",
       "    .dataframe thead th {\n",
       "        text-align: right;\n",
       "    }\n",
       "</style>\n",
       "<table border=\"1\" class=\"dataframe\">\n",
       "  <thead>\n",
       "    <tr style=\"text-align: right;\">\n",
       "      <th></th>\n",
       "      <th>surname</th>\n",
       "      <th>distance</th>\n",
       "      <th>area</th>\n",
       "    </tr>\n",
       "  </thead>\n",
       "  <tbody>\n",
       "    <tr>\n",
       "      <th>0</th>\n",
       "      <td>harry</td>\n",
       "      <td>92</td>\n",
       "      <td>kolkata</td>\n",
       "    </tr>\n",
       "    <tr>\n",
       "      <th>1</th>\n",
       "      <td>rohan</td>\n",
       "      <td>40</td>\n",
       "      <td>delhi</td>\n",
       "    </tr>\n",
       "    <tr>\n",
       "      <th>2</th>\n",
       "      <td>skillf</td>\n",
       "      <td>12</td>\n",
       "      <td>mumbai</td>\n",
       "    </tr>\n",
       "    <tr>\n",
       "      <th>3</th>\n",
       "      <td>shubh</td>\n",
       "      <td>76</td>\n",
       "      <td>aurangabad</td>\n",
       "    </tr>\n",
       "  </tbody>\n",
       "</table>\n",
       "</div>"
      ],
      "text/plain": [
       "  surname  distance        area\n",
       "0   harry        92     kolkata\n",
       "1   rohan        40       delhi\n",
       "2  skillf        12      mumbai\n",
       "3   shubh        76  aurangabad"
      ]
     },
     "execution_count": 29,
     "metadata": {},
     "output_type": "execute_result"
    }
   ],
   "source": [
    "newton"
   ]
  },
  {
   "cell_type": "code",
   "execution_count": 31,
   "id": "ebb71e7e",
   "metadata": {},
   "outputs": [],
   "source": [
    "newton.to_csv('Newtan.csv',index=False)"
   ]
  },
  {
   "cell_type": "markdown",
   "id": "5ccab965",
   "metadata": {},
   "source": [
    "# change index title to something else"
   ]
  },
  {
   "cell_type": "code",
   "execution_count": 33,
   "id": "9df564d8",
   "metadata": {},
   "outputs": [],
   "source": [
    "newton.index=['first','second','third','fourth']"
   ]
  },
  {
   "cell_type": "markdown",
   "id": "1f304909",
   "metadata": {},
   "source": [
    "# Use of numpy to make the dataframe"
   ]
  },
  {
   "cell_type": "code",
   "execution_count": 38,
   "id": "c0811b0d",
   "metadata": {},
   "outputs": [],
   "source": [
    "newdf=pd.DataFrame(np.random.rand(336,5),index=np.arange(336))"
   ]
  },
  {
   "cell_type": "code",
   "execution_count": 40,
   "id": "23fb3337",
   "metadata": {},
   "outputs": [
    {
     "data": {
      "text/plain": [
       "pandas.core.frame.DataFrame"
      ]
     },
     "execution_count": 40,
     "metadata": {},
     "output_type": "execute_result"
    }
   ],
   "source": [
    "type(newdf)"
   ]
  },
  {
   "cell_type": "code",
   "execution_count": 41,
   "id": "763da463",
   "metadata": {},
   "outputs": [
    {
     "data": {
      "text/html": [
       "<div>\n",
       "<style scoped>\n",
       "    .dataframe tbody tr th:only-of-type {\n",
       "        vertical-align: middle;\n",
       "    }\n",
       "\n",
       "    .dataframe tbody tr th {\n",
       "        vertical-align: top;\n",
       "    }\n",
       "\n",
       "    .dataframe thead th {\n",
       "        text-align: right;\n",
       "    }\n",
       "</style>\n",
       "<table border=\"1\" class=\"dataframe\">\n",
       "  <thead>\n",
       "    <tr style=\"text-align: right;\">\n",
       "      <th></th>\n",
       "      <th>0</th>\n",
       "      <th>1</th>\n",
       "      <th>2</th>\n",
       "      <th>3</th>\n",
       "      <th>4</th>\n",
       "    </tr>\n",
       "  </thead>\n",
       "  <tbody>\n",
       "    <tr>\n",
       "      <th>count</th>\n",
       "      <td>336.000000</td>\n",
       "      <td>336.000000</td>\n",
       "      <td>336.000000</td>\n",
       "      <td>336.000000</td>\n",
       "      <td>336.000000</td>\n",
       "    </tr>\n",
       "    <tr>\n",
       "      <th>mean</th>\n",
       "      <td>0.510731</td>\n",
       "      <td>0.497219</td>\n",
       "      <td>0.474760</td>\n",
       "      <td>0.492583</td>\n",
       "      <td>0.494060</td>\n",
       "    </tr>\n",
       "    <tr>\n",
       "      <th>std</th>\n",
       "      <td>0.298710</td>\n",
       "      <td>0.291787</td>\n",
       "      <td>0.288820</td>\n",
       "      <td>0.286721</td>\n",
       "      <td>0.288870</td>\n",
       "    </tr>\n",
       "    <tr>\n",
       "      <th>min</th>\n",
       "      <td>0.010792</td>\n",
       "      <td>0.001448</td>\n",
       "      <td>0.000818</td>\n",
       "      <td>0.003347</td>\n",
       "      <td>0.001122</td>\n",
       "    </tr>\n",
       "    <tr>\n",
       "      <th>25%</th>\n",
       "      <td>0.246655</td>\n",
       "      <td>0.234819</td>\n",
       "      <td>0.235630</td>\n",
       "      <td>0.234750</td>\n",
       "      <td>0.249267</td>\n",
       "    </tr>\n",
       "    <tr>\n",
       "      <th>50%</th>\n",
       "      <td>0.521568</td>\n",
       "      <td>0.496608</td>\n",
       "      <td>0.456995</td>\n",
       "      <td>0.481859</td>\n",
       "      <td>0.486732</td>\n",
       "    </tr>\n",
       "    <tr>\n",
       "      <th>75%</th>\n",
       "      <td>0.786005</td>\n",
       "      <td>0.743405</td>\n",
       "      <td>0.720408</td>\n",
       "      <td>0.744030</td>\n",
       "      <td>0.751234</td>\n",
       "    </tr>\n",
       "    <tr>\n",
       "      <th>max</th>\n",
       "      <td>0.996225</td>\n",
       "      <td>0.998271</td>\n",
       "      <td>0.996745</td>\n",
       "      <td>0.999350</td>\n",
       "      <td>0.999448</td>\n",
       "    </tr>\n",
       "  </tbody>\n",
       "</table>\n",
       "</div>"
      ],
      "text/plain": [
       "                0           1           2           3           4\n",
       "count  336.000000  336.000000  336.000000  336.000000  336.000000\n",
       "mean     0.510731    0.497219    0.474760    0.492583    0.494060\n",
       "std      0.298710    0.291787    0.288820    0.286721    0.288870\n",
       "min      0.010792    0.001448    0.000818    0.003347    0.001122\n",
       "25%      0.246655    0.234819    0.235630    0.234750    0.249267\n",
       "50%      0.521568    0.496608    0.456995    0.481859    0.486732\n",
       "75%      0.786005    0.743405    0.720408    0.744030    0.751234\n",
       "max      0.996225    0.998271    0.996745    0.999350    0.999448"
      ]
     },
     "execution_count": 41,
     "metadata": {},
     "output_type": "execute_result"
    }
   ],
   "source": [
    "newdf.describe()"
   ]
  },
  {
   "cell_type": "code",
   "execution_count": 48,
   "id": "3a9c7915",
   "metadata": {},
   "outputs": [],
   "source": [
    "newdf=newdf.rename(columns={'new':'newton'}) # Rename the column name to something else.\n"
   ]
  },
  {
   "cell_type": "code",
   "execution_count": 52,
   "id": "577e61b6",
   "metadata": {},
   "outputs": [],
   "source": [
    "newdf['newton'][0]='example'"
   ]
  },
  {
   "cell_type": "code",
   "execution_count": 54,
   "id": "7cc70b53",
   "metadata": {},
   "outputs": [
    {
     "data": {
      "text/html": [
       "<div>\n",
       "<style scoped>\n",
       "    .dataframe tbody tr th:only-of-type {\n",
       "        vertical-align: middle;\n",
       "    }\n",
       "\n",
       "    .dataframe tbody tr th {\n",
       "        vertical-align: top;\n",
       "    }\n",
       "\n",
       "    .dataframe thead th {\n",
       "        text-align: right;\n",
       "    }\n",
       "</style>\n",
       "<table border=\"1\" class=\"dataframe\">\n",
       "  <thead>\n",
       "    <tr style=\"text-align: right;\">\n",
       "      <th></th>\n",
       "      <th>newton</th>\n",
       "      <th>1</th>\n",
       "      <th>2</th>\n",
       "      <th>3</th>\n",
       "      <th>4</th>\n",
       "    </tr>\n",
       "  </thead>\n",
       "  <tbody>\n",
       "    <tr>\n",
       "      <th>0</th>\n",
       "      <td>example</td>\n",
       "      <td>0.531152</td>\n",
       "      <td>0.334151</td>\n",
       "      <td>0.158317</td>\n",
       "      <td>0.337828</td>\n",
       "    </tr>\n",
       "    <tr>\n",
       "      <th>1</th>\n",
       "      <td>0.222044</td>\n",
       "      <td>0.068515</td>\n",
       "      <td>0.977235</td>\n",
       "      <td>0.297188</td>\n",
       "      <td>0.996942</td>\n",
       "    </tr>\n",
       "    <tr>\n",
       "      <th>2</th>\n",
       "      <td>0.6448</td>\n",
       "      <td>0.247417</td>\n",
       "      <td>0.767831</td>\n",
       "      <td>0.372679</td>\n",
       "      <td>0.040176</td>\n",
       "    </tr>\n",
       "    <tr>\n",
       "      <th>3</th>\n",
       "      <td>0.162428</td>\n",
       "      <td>0.452127</td>\n",
       "      <td>0.142193</td>\n",
       "      <td>0.632288</td>\n",
       "      <td>0.089867</td>\n",
       "    </tr>\n",
       "    <tr>\n",
       "      <th>4</th>\n",
       "      <td>0.053416</td>\n",
       "      <td>0.937112</td>\n",
       "      <td>0.335629</td>\n",
       "      <td>0.869446</td>\n",
       "      <td>0.293420</td>\n",
       "    </tr>\n",
       "  </tbody>\n",
       "</table>\n",
       "</div>"
      ],
      "text/plain": [
       "     newton         1         2         3         4\n",
       "0   example  0.531152  0.334151  0.158317  0.337828\n",
       "1  0.222044  0.068515  0.977235  0.297188  0.996942\n",
       "2    0.6448  0.247417  0.767831  0.372679  0.040176\n",
       "3  0.162428  0.452127  0.142193  0.632288  0.089867\n",
       "4  0.053416  0.937112  0.335629  0.869446  0.293420"
      ]
     },
     "execution_count": 54,
     "metadata": {},
     "output_type": "execute_result"
    }
   ],
   "source": [
    "newdf.head()"
   ]
  },
  {
   "cell_type": "code",
   "execution_count": 55,
   "id": "7f527f72",
   "metadata": {},
   "outputs": [
    {
     "data": {
      "text/plain": [
       "newton     object\n",
       "1         float64\n",
       "2         float64\n",
       "3         float64\n",
       "4         float64\n",
       "dtype: object"
      ]
     },
     "execution_count": 55,
     "metadata": {},
     "output_type": "execute_result"
    }
   ],
   "source": [
    "newdf.dtypes"
   ]
  },
  {
   "cell_type": "code",
   "execution_count": 56,
   "id": "fd309cb2",
   "metadata": {},
   "outputs": [
    {
     "data": {
      "text/plain": [
       "Index(['newton', 1, 2, 3, 4], dtype='object')"
      ]
     },
     "execution_count": 56,
     "metadata": {},
     "output_type": "execute_result"
    }
   ],
   "source": [
    "newdf.columns"
   ]
  },
  {
   "cell_type": "code",
   "execution_count": 57,
   "id": "be378f73",
   "metadata": {},
   "outputs": [],
   "source": [
    "newdf['newton'][0]=2"
   ]
  },
  {
   "cell_type": "markdown",
   "id": "d34072f1",
   "metadata": {},
   "source": [
    "# converting from dataframe tio numpy format"
   ]
  },
  {
   "cell_type": "code",
   "execution_count": 58,
   "id": "c680a069",
   "metadata": {},
   "outputs": [
    {
     "data": {
      "text/plain": [
       "array([[2, 0.5311517891212216, 0.33415144877230596, 0.15831710496903206,\n",
       "        0.3378281773224563],\n",
       "       [0.22204380487953235, 0.06851499847701192, 0.9772346936005041,\n",
       "        0.2971881416874296, 0.9969423840899676],\n",
       "       [0.644799577512262, 0.24741688019350638, 0.7678308534791995,\n",
       "        0.3726792999609523, 0.040175917416776064],\n",
       "       ...,\n",
       "       [0.9008526109075282, 0.720918410294082, 0.3966757561612685,\n",
       "        0.3002497663796989, 0.13176848538188912],\n",
       "       [0.1362622221704305, 0.7607610455673315, 0.5559653397778794,\n",
       "        0.19650253368541204, 0.14860251575800254],\n",
       "       [0.03349417210309036, 0.17861240927412647, 0.7681189510810519,\n",
       "        0.21174717560728729, 0.5794978052775954]], dtype=object)"
      ]
     },
     "execution_count": 58,
     "metadata": {},
     "output_type": "execute_result"
    }
   ],
   "source": [
    "newdf.to_numpy()"
   ]
  },
  {
   "cell_type": "code",
   "execution_count": null,
   "id": "2728c312",
   "metadata": {},
   "outputs": [],
   "source": []
  }
 ],
 "metadata": {
  "kernelspec": {
   "display_name": "Python 3 (ipykernel)",
   "language": "python",
   "name": "python3"
  },
  "language_info": {
   "codemirror_mode": {
    "name": "ipython",
    "version": 3
   },
   "file_extension": ".py",
   "mimetype": "text/x-python",
   "name": "python",
   "nbconvert_exporter": "python",
   "pygments_lexer": "ipython3",
   "version": "3.9.7"
  }
 },
 "nbformat": 4,
 "nbformat_minor": 5
}
