{
 "cells": [
  {
   "cell_type": "code",
   "execution_count": 2,
   "id": "bba776c0",
   "metadata": {},
   "outputs": [],
   "source": [
    "import numpy as np \n",
    "import pandas as pd\n"
   ]
  },
  {
   "cell_type": "code",
   "execution_count": 6,
   "id": "6e243085",
   "metadata": {},
   "outputs": [],
   "source": [
    "  dict1={\n",
    "      \"name\":['harry','rohan','skillf','shubh'],\n",
    "      \"marks\":[92,34,12,76],\n",
    "      \"city\":['kolkata','delhi','mumbai','aurangabad']      #sample data.\n",
    "        }"
   ]
  },
  {
   "cell_type": "code",
   "execution_count": 7,
   "id": "ad2d4cfe",
   "metadata": {},
   "outputs": [],
   "source": [
    "df = pd.DataFrame(dict1)  #this will make a dataframe. this will convert the data to excel sheet for faster indexing."
   ]
  },
  {
   "cell_type": "code",
   "execution_count": 9,
   "id": "a988d7ce",
   "metadata": {},
   "outputs": [
    {
     "name": "stdout",
     "output_type": "stream",
     "text": [
      "     name  marks        city\n",
      "0   harry     92     kolkata\n",
      "1   rohan     34       delhi\n",
      "2  skillf     12      mumbai\n",
      "3   shubh     76  aurangabad\n"
     ]
    }
   ],
   "source": [
    "print(df) #index,name,marks,column"
   ]
  },
  {
   "cell_type": "code",
   "execution_count": 13,
   "id": "42553502",
   "metadata": {},
   "outputs": [],
   "source": [
    "df.to_csv('friends.csv') #will covert the data to a csv(excel) file."
   ]
  },
  {
   "cell_type": "code",
   "execution_count": 15,
   "id": "319ff56d",
   "metadata": {},
   "outputs": [],
   "source": [
    "df.to_csv('friends_indexFalse.csv',index=False) #same,but no indexing now in excel"
   ]
  },
  {
   "cell_type": "code",
   "execution_count": 17,
   "id": "e6788928",
   "metadata": {},
   "outputs": [
    {
     "data": {
      "text/html": [
       "<div>\n",
       "<style scoped>\n",
       "    .dataframe tbody tr th:only-of-type {\n",
       "        vertical-align: middle;\n",
       "    }\n",
       "\n",
       "    .dataframe tbody tr th {\n",
       "        vertical-align: top;\n",
       "    }\n",
       "\n",
       "    .dataframe thead th {\n",
       "        text-align: right;\n",
       "    }\n",
       "</style>\n",
       "<table border=\"1\" class=\"dataframe\">\n",
       "  <thead>\n",
       "    <tr style=\"text-align: right;\">\n",
       "      <th></th>\n",
       "      <th>name</th>\n",
       "      <th>marks</th>\n",
       "      <th>city</th>\n",
       "    </tr>\n",
       "  </thead>\n",
       "  <tbody>\n",
       "    <tr>\n",
       "      <th>0</th>\n",
       "      <td>harry</td>\n",
       "      <td>92</td>\n",
       "      <td>kolkata</td>\n",
       "    </tr>\n",
       "    <tr>\n",
       "      <th>1</th>\n",
       "      <td>rohan</td>\n",
       "      <td>34</td>\n",
       "      <td>delhi</td>\n",
       "    </tr>\n",
       "  </tbody>\n",
       "</table>\n",
       "</div>"
      ],
      "text/plain": [
       "    name  marks     city\n",
       "0  harry     92  kolkata\n",
       "1  rohan     34    delhi"
      ]
     },
     "execution_count": 17,
     "metadata": {},
     "output_type": "execute_result"
    }
   ],
   "source": [
    "df.head(2) #will show the first two entries."
   ]
  },
  {
   "cell_type": "code",
   "execution_count": 18,
   "id": "f4e6258a",
   "metadata": {},
   "outputs": [
    {
     "data": {
      "text/html": [
       "<div>\n",
       "<style scoped>\n",
       "    .dataframe tbody tr th:only-of-type {\n",
       "        vertical-align: middle;\n",
       "    }\n",
       "\n",
       "    .dataframe tbody tr th {\n",
       "        vertical-align: top;\n",
       "    }\n",
       "\n",
       "    .dataframe thead th {\n",
       "        text-align: right;\n",
       "    }\n",
       "</style>\n",
       "<table border=\"1\" class=\"dataframe\">\n",
       "  <thead>\n",
       "    <tr style=\"text-align: right;\">\n",
       "      <th></th>\n",
       "      <th>name</th>\n",
       "      <th>marks</th>\n",
       "      <th>city</th>\n",
       "    </tr>\n",
       "  </thead>\n",
       "  <tbody>\n",
       "    <tr>\n",
       "      <th>2</th>\n",
       "      <td>skillf</td>\n",
       "      <td>12</td>\n",
       "      <td>mumbai</td>\n",
       "    </tr>\n",
       "    <tr>\n",
       "      <th>3</th>\n",
       "      <td>shubh</td>\n",
       "      <td>76</td>\n",
       "      <td>aurangabad</td>\n",
       "    </tr>\n",
       "  </tbody>\n",
       "</table>\n",
       "</div>"
      ],
      "text/plain": [
       "     name  marks        city\n",
       "2  skillf     12      mumbai\n",
       "3   shubh     76  aurangabad"
      ]
     },
     "execution_count": 18,
     "metadata": {},
     "output_type": "execute_result"
    }
   ],
   "source": [
    "df.tail(2) #will show the last two"
   ]
  },
  {
   "cell_type": "code",
   "execution_count": 21,
   "id": "ed91151b",
   "metadata": {},
   "outputs": [
    {
     "data": {
      "text/html": [
       "<div>\n",
       "<style scoped>\n",
       "    .dataframe tbody tr th:only-of-type {\n",
       "        vertical-align: middle;\n",
       "    }\n",
       "\n",
       "    .dataframe tbody tr th {\n",
       "        vertical-align: top;\n",
       "    }\n",
       "\n",
       "    .dataframe thead th {\n",
       "        text-align: right;\n",
       "    }\n",
       "</style>\n",
       "<table border=\"1\" class=\"dataframe\">\n",
       "  <thead>\n",
       "    <tr style=\"text-align: right;\">\n",
       "      <th></th>\n",
       "      <th>marks</th>\n",
       "    </tr>\n",
       "  </thead>\n",
       "  <tbody>\n",
       "    <tr>\n",
       "      <th>count</th>\n",
       "      <td>4.000000</td>\n",
       "    </tr>\n",
       "    <tr>\n",
       "      <th>mean</th>\n",
       "      <td>53.500000</td>\n",
       "    </tr>\n",
       "    <tr>\n",
       "      <th>std</th>\n",
       "      <td>36.927858</td>\n",
       "    </tr>\n",
       "    <tr>\n",
       "      <th>min</th>\n",
       "      <td>12.000000</td>\n",
       "    </tr>\n",
       "    <tr>\n",
       "      <th>25%</th>\n",
       "      <td>28.500000</td>\n",
       "    </tr>\n",
       "    <tr>\n",
       "      <th>50%</th>\n",
       "      <td>55.000000</td>\n",
       "    </tr>\n",
       "    <tr>\n",
       "      <th>75%</th>\n",
       "      <td>80.000000</td>\n",
       "    </tr>\n",
       "    <tr>\n",
       "      <th>max</th>\n",
       "      <td>92.000000</td>\n",
       "    </tr>\n",
       "  </tbody>\n",
       "</table>\n",
       "</div>"
      ],
      "text/plain": [
       "           marks\n",
       "count   4.000000\n",
       "mean   53.500000\n",
       "std    36.927858\n",
       "min    12.000000\n",
       "25%    28.500000\n",
       "50%    55.000000\n",
       "75%    80.000000\n",
       "max    92.000000"
      ]
     },
     "execution_count": 21,
     "metadata": {},
     "output_type": "execute_result"
    }
   ],
   "source": [
    "df.describe() # Will calcculate the standard deviation,mean etc of all the numerical values."
   ]
  },
  {
   "cell_type": "code",
   "execution_count": 25,
   "id": "c5386b1b",
   "metadata": {},
   "outputs": [],
   "source": [
    "newton=pd.read_csv('Newtan.csv') #read from csv file."
   ]
  },
  {
   "cell_type": "code",
   "execution_count": 28,
   "id": "164eb71f",
   "metadata": {},
   "outputs": [
    {
     "name": "stderr",
     "output_type": "stream",
     "text": [
      "C:\\Users\\Newtan\\AppData\\Local\\Temp/ipykernel_3476/3974474628.py:1: SettingWithCopyWarning: \n",
      "A value is trying to be set on a copy of a slice from a DataFrame\n",
      "\n",
      "See the caveats in the documentation: https://pandas.pydata.org/pandas-docs/stable/user_guide/indexing.html#returning-a-view-versus-a-copy\n",
      "  newton['distance'][1]=40\n"
     ]
    }
   ],
   "source": [
    "newton['distance'][1]=40"
   ]
  },
  {
   "cell_type": "code",
   "execution_count": 29,
   "id": "a1dc370a",
   "metadata": {},
   "outputs": [
    {
     "data": {
      "text/html": [
       "<div>\n",
       "<style scoped>\n",
       "    .dataframe tbody tr th:only-of-type {\n",
       "        vertical-align: middle;\n",
       "    }\n",
       "\n",
       "    .dataframe tbody tr th {\n",
       "        vertical-align: top;\n",
       "    }\n",
       "\n",
       "    .dataframe thead th {\n",
       "        text-align: right;\n",
       "    }\n",
       "</style>\n",
       "<table border=\"1\" class=\"dataframe\">\n",
       "  <thead>\n",
       "    <tr style=\"text-align: right;\">\n",
       "      <th></th>\n",
       "      <th>surname</th>\n",
       "      <th>distance</th>\n",
       "      <th>area</th>\n",
       "    </tr>\n",
       "  </thead>\n",
       "  <tbody>\n",
       "    <tr>\n",
       "      <th>0</th>\n",
       "      <td>harry</td>\n",
       "      <td>92</td>\n",
       "      <td>kolkata</td>\n",
       "    </tr>\n",
       "    <tr>\n",
       "      <th>1</th>\n",
       "      <td>rohan</td>\n",
       "      <td>40</td>\n",
       "      <td>delhi</td>\n",
       "    </tr>\n",
       "    <tr>\n",
       "      <th>2</th>\n",
       "      <td>skillf</td>\n",
       "      <td>12</td>\n",
       "      <td>mumbai</td>\n",
       "    </tr>\n",
       "    <tr>\n",
       "      <th>3</th>\n",
       "      <td>shubh</td>\n",
       "      <td>76</td>\n",
       "      <td>aurangabad</td>\n",
       "    </tr>\n",
       "  </tbody>\n",
       "</table>\n",
       "</div>"
      ],
      "text/plain": [
       "  surname  distance        area\n",
       "0   harry        92     kolkata\n",
       "1   rohan        40       delhi\n",
       "2  skillf        12      mumbai\n",
       "3   shubh        76  aurangabad"
      ]
     },
     "execution_count": 29,
     "metadata": {},
     "output_type": "execute_result"
    }
   ],
   "source": [
    "newton"
   ]
  },
  {
   "cell_type": "code",
   "execution_count": 31,
   "id": "6d4012ea",
   "metadata": {},
   "outputs": [],
   "source": [
    "newton.to_csv('Newtan.csv',index=False)"
   ]
  },
  {
   "cell_type": "markdown",
   "id": "17c55fc3",
   "metadata": {},
   "source": [
    "# change index title to something else"
   ]
  },
  {
   "cell_type": "code",
   "execution_count": 33,
   "id": "3cefba9a",
   "metadata": {},
   "outputs": [],
   "source": [
    "newton.index=['first','second','third','fourth']"
   ]
  },
  {
   "cell_type": "markdown",
   "id": "1ad1b603",
   "metadata": {},
   "source": [
    "# Use of numpy to make the dataframe"
   ]
  },
  {
   "cell_type": "code",
   "execution_count": 38,
   "id": "c4906d6b",
   "metadata": {},
   "outputs": [],
   "source": [
    "newdf=pd.DataFrame(np.random.rand(336,5),index=np.arange(336))"
   ]
  },
  {
   "cell_type": "code",
   "execution_count": 40,
   "id": "4db1fb4c",
   "metadata": {},
   "outputs": [
    {
     "data": {
      "text/plain": [
       "pandas.core.frame.DataFrame"
      ]
     },
     "execution_count": 40,
     "metadata": {},
     "output_type": "execute_result"
    }
   ],
   "source": [
    "type(newdf)"
   ]
  },
  {
   "cell_type": "code",
   "execution_count": 41,
   "id": "24c50a32",
   "metadata": {},
   "outputs": [
    {
     "data": {
      "text/html": [
       "<div>\n",
       "<style scoped>\n",
       "    .dataframe tbody tr th:only-of-type {\n",
       "        vertical-align: middle;\n",
       "    }\n",
       "\n",
       "    .dataframe tbody tr th {\n",
       "        vertical-align: top;\n",
       "    }\n",
       "\n",
       "    .dataframe thead th {\n",
       "        text-align: right;\n",
       "    }\n",
       "</style>\n",
       "<table border=\"1\" class=\"dataframe\">\n",
       "  <thead>\n",
       "    <tr style=\"text-align: right;\">\n",
       "      <th></th>\n",
       "      <th>0</th>\n",
       "      <th>1</th>\n",
       "      <th>2</th>\n",
       "      <th>3</th>\n",
       "      <th>4</th>\n",
       "    </tr>\n",
       "  </thead>\n",
       "  <tbody>\n",
       "    <tr>\n",
       "      <th>count</th>\n",
       "      <td>336.000000</td>\n",
       "      <td>336.000000</td>\n",
       "      <td>336.000000</td>\n",
       "      <td>336.000000</td>\n",
       "      <td>336.000000</td>\n",
       "    </tr>\n",
       "    <tr>\n",
       "      <th>mean</th>\n",
       "      <td>0.510731</td>\n",
       "      <td>0.497219</td>\n",
       "      <td>0.474760</td>\n",
       "      <td>0.492583</td>\n",
       "      <td>0.494060</td>\n",
       "    </tr>\n",
       "    <tr>\n",
       "      <th>std</th>\n",
       "      <td>0.298710</td>\n",
       "      <td>0.291787</td>\n",
       "      <td>0.288820</td>\n",
       "      <td>0.286721</td>\n",
       "      <td>0.288870</td>\n",
       "    </tr>\n",
       "    <tr>\n",
       "      <th>min</th>\n",
       "      <td>0.010792</td>\n",
       "      <td>0.001448</td>\n",
       "      <td>0.000818</td>\n",
       "      <td>0.003347</td>\n",
       "      <td>0.001122</td>\n",
       "    </tr>\n",
       "    <tr>\n",
       "      <th>25%</th>\n",
       "      <td>0.246655</td>\n",
       "      <td>0.234819</td>\n",
       "      <td>0.235630</td>\n",
       "      <td>0.234750</td>\n",
       "      <td>0.249267</td>\n",
       "    </tr>\n",
       "    <tr>\n",
       "      <th>50%</th>\n",
       "      <td>0.521568</td>\n",
       "      <td>0.496608</td>\n",
       "      <td>0.456995</td>\n",
       "      <td>0.481859</td>\n",
       "      <td>0.486732</td>\n",
       "    </tr>\n",
       "    <tr>\n",
       "      <th>75%</th>\n",
       "      <td>0.786005</td>\n",
       "      <td>0.743405</td>\n",
       "      <td>0.720408</td>\n",
       "      <td>0.744030</td>\n",
       "      <td>0.751234</td>\n",
       "    </tr>\n",
       "    <tr>\n",
       "      <th>max</th>\n",
       "      <td>0.996225</td>\n",
       "      <td>0.998271</td>\n",
       "      <td>0.996745</td>\n",
       "      <td>0.999350</td>\n",
       "      <td>0.999448</td>\n",
       "    </tr>\n",
       "  </tbody>\n",
       "</table>\n",
       "</div>"
      ],
      "text/plain": [
       "                0           1           2           3           4\n",
       "count  336.000000  336.000000  336.000000  336.000000  336.000000\n",
       "mean     0.510731    0.497219    0.474760    0.492583    0.494060\n",
       "std      0.298710    0.291787    0.288820    0.286721    0.288870\n",
       "min      0.010792    0.001448    0.000818    0.003347    0.001122\n",
       "25%      0.246655    0.234819    0.235630    0.234750    0.249267\n",
       "50%      0.521568    0.496608    0.456995    0.481859    0.486732\n",
       "75%      0.786005    0.743405    0.720408    0.744030    0.751234\n",
       "max      0.996225    0.998271    0.996745    0.999350    0.999448"
      ]
     },
     "execution_count": 41,
     "metadata": {},
     "output_type": "execute_result"
    }
   ],
   "source": [
    "newdf.describe()"
   ]
  },
  {
   "cell_type": "code",
   "execution_count": 48,
   "id": "83a05a9b",
   "metadata": {},
   "outputs": [],
   "source": [
    "newdf=newdf.rename(columns={'new':'newton'}) # Rename the column name to something else.\n"
   ]
  },
  {
   "cell_type": "code",
   "execution_count": 52,
   "id": "0bf22a71",
   "metadata": {},
   "outputs": [],
   "source": [
    "newdf['newton'][0]='example'"
   ]
  },
  {
   "cell_type": "code",
   "execution_count": 54,
   "id": "a23cfe20",
   "metadata": {},
   "outputs": [
    {
     "data": {
      "text/html": [
       "<div>\n",
       "<style scoped>\n",
       "    .dataframe tbody tr th:only-of-type {\n",
       "        vertical-align: middle;\n",
       "    }\n",
       "\n",
       "    .dataframe tbody tr th {\n",
       "        vertical-align: top;\n",
       "    }\n",
       "\n",
       "    .dataframe thead th {\n",
       "        text-align: right;\n",
       "    }\n",
       "</style>\n",
       "<table border=\"1\" class=\"dataframe\">\n",
       "  <thead>\n",
       "    <tr style=\"text-align: right;\">\n",
       "      <th></th>\n",
       "      <th>newton</th>\n",
       "      <th>1</th>\n",
       "      <th>2</th>\n",
       "      <th>3</th>\n",
       "      <th>4</th>\n",
       "    </tr>\n",
       "  </thead>\n",
       "  <tbody>\n",
       "    <tr>\n",
       "      <th>0</th>\n",
       "      <td>example</td>\n",
       "      <td>0.531152</td>\n",
       "      <td>0.334151</td>\n",
       "      <td>0.158317</td>\n",
       "      <td>0.337828</td>\n",
       "    </tr>\n",
       "    <tr>\n",
       "      <th>1</th>\n",
       "      <td>0.222044</td>\n",
       "      <td>0.068515</td>\n",
       "      <td>0.977235</td>\n",
       "      <td>0.297188</td>\n",
       "      <td>0.996942</td>\n",
       "    </tr>\n",
       "    <tr>\n",
       "      <th>2</th>\n",
       "      <td>0.6448</td>\n",
       "      <td>0.247417</td>\n",
       "      <td>0.767831</td>\n",
       "      <td>0.372679</td>\n",
       "      <td>0.040176</td>\n",
       "    </tr>\n",
       "    <tr>\n",
       "      <th>3</th>\n",
       "      <td>0.162428</td>\n",
       "      <td>0.452127</td>\n",
       "      <td>0.142193</td>\n",
       "      <td>0.632288</td>\n",
       "      <td>0.089867</td>\n",
       "    </tr>\n",
       "    <tr>\n",
       "      <th>4</th>\n",
       "      <td>0.053416</td>\n",
       "      <td>0.937112</td>\n",
       "      <td>0.335629</td>\n",
       "      <td>0.869446</td>\n",
       "      <td>0.293420</td>\n",
       "    </tr>\n",
       "  </tbody>\n",
       "</table>\n",
       "</div>"
      ],
      "text/plain": [
       "     newton         1         2         3         4\n",
       "0   example  0.531152  0.334151  0.158317  0.337828\n",
       "1  0.222044  0.068515  0.977235  0.297188  0.996942\n",
       "2    0.6448  0.247417  0.767831  0.372679  0.040176\n",
       "3  0.162428  0.452127  0.142193  0.632288  0.089867\n",
       "4  0.053416  0.937112  0.335629  0.869446  0.293420"
      ]
     },
     "execution_count": 54,
     "metadata": {},
     "output_type": "execute_result"
    }
   ],
   "source": [
    "newdf.head()"
   ]
  },
  {
   "cell_type": "code",
   "execution_count": 55,
   "id": "89837cd0",
   "metadata": {},
   "outputs": [
    {
     "data": {
      "text/plain": [
       "newton     object\n",
       "1         float64\n",
       "2         float64\n",
       "3         float64\n",
       "4         float64\n",
       "dtype: object"
      ]
     },
     "execution_count": 55,
     "metadata": {},
     "output_type": "execute_result"
    }
   ],
   "source": [
    "newdf.dtypes"
   ]
  },
  {
   "cell_type": "code",
   "execution_count": 56,
   "id": "f315d0b5",
   "metadata": {},
   "outputs": [
    {
     "data": {
      "text/plain": [
       "Index(['newton', 1, 2, 3, 4], dtype='object')"
      ]
     },
     "execution_count": 56,
     "metadata": {},
     "output_type": "execute_result"
    }
   ],
   "source": [
    "newdf.columns"
   ]
  },
  {
   "cell_type": "code",
   "execution_count": 57,
   "id": "069e5144",
   "metadata": {},
   "outputs": [],
   "source": [
    "newdf['newton'][0]=2"
   ]
  },
  {
   "cell_type": "markdown",
   "id": "058d38fe",
   "metadata": {},
   "source": [
    "# converting from dataframe tio numpy format"
   ]
  },
  {
   "cell_type": "code",
   "execution_count": 59,
   "id": "2fffbd3e",
   "metadata": {},
   "outputs": [
    {
     "data": {
      "text/plain": [
       "array([[0.73, 0.5311517891212216, 0.33415144877230596,\n",
       "        0.15831710496903206, 0.3378281773224563],\n",
       "       [0.22204380487953235, 0.06851499847701192, 0.9772346936005041,\n",
       "        0.2971881416874296, 0.9969423840899676],\n",
       "       [0.644799577512262, 0.24741688019350638, 0.7678308534791995,\n",
       "        0.3726792999609523, 0.040175917416776064],\n",
       "       ...,\n",
       "       [0.9008526109075282, 0.720918410294082, 0.3966757561612685,\n",
       "        0.3002497663796989, 0.13176848538188912],\n",
       "       [0.1362622221704305, 0.7607610455673315, 0.5559653397778794,\n",
       "        0.19650253368541204, 0.14860251575800254],\n",
       "       [0.03349417210309036, 0.17861240927412647, 0.7681189510810519,\n",
       "        0.21174717560728729, 0.5794978052775954]], dtype=object)"
      ]
     },
     "execution_count": 59,
     "metadata": {},
     "output_type": "execute_result"
    }
   ],
   "source": [
    "newdf['newton'][0]=0.73\n",
    "newdf.to_numpy()"
   ]
  },
  {
   "cell_type": "code",
   "execution_count": 62,
   "id": "b69a43c8",
   "metadata": {},
   "outputs": [
    {
     "data": {
      "text/html": [
       "<div>\n",
       "<style scoped>\n",
       "    .dataframe tbody tr th:only-of-type {\n",
       "        vertical-align: middle;\n",
       "    }\n",
       "\n",
       "    .dataframe tbody tr th {\n",
       "        vertical-align: top;\n",
       "    }\n",
       "\n",
       "    .dataframe thead th {\n",
       "        text-align: right;\n",
       "    }\n",
       "</style>\n",
       "<table border=\"1\" class=\"dataframe\">\n",
       "  <thead>\n",
       "    <tr style=\"text-align: right;\">\n",
       "      <th></th>\n",
       "      <th>0</th>\n",
       "      <th>1</th>\n",
       "      <th>2</th>\n",
       "      <th>3</th>\n",
       "      <th>4</th>\n",
       "      <th>5</th>\n",
       "      <th>6</th>\n",
       "      <th>7</th>\n",
       "      <th>8</th>\n",
       "      <th>9</th>\n",
       "      <th>...</th>\n",
       "      <th>326</th>\n",
       "      <th>327</th>\n",
       "      <th>328</th>\n",
       "      <th>329</th>\n",
       "      <th>330</th>\n",
       "      <th>331</th>\n",
       "      <th>332</th>\n",
       "      <th>333</th>\n",
       "      <th>334</th>\n",
       "      <th>335</th>\n",
       "    </tr>\n",
       "  </thead>\n",
       "  <tbody>\n",
       "    <tr>\n",
       "      <th>newton</th>\n",
       "      <td>0.73</td>\n",
       "      <td>0.222044</td>\n",
       "      <td>0.6448</td>\n",
       "      <td>0.162428</td>\n",
       "      <td>0.053416</td>\n",
       "      <td>0.572199</td>\n",
       "      <td>0.780843</td>\n",
       "      <td>0.641056</td>\n",
       "      <td>0.405071</td>\n",
       "      <td>0.966464</td>\n",
       "      <td>...</td>\n",
       "      <td>0.590674</td>\n",
       "      <td>0.761381</td>\n",
       "      <td>0.139815</td>\n",
       "      <td>0.872853</td>\n",
       "      <td>0.615223</td>\n",
       "      <td>0.010792</td>\n",
       "      <td>0.629829</td>\n",
       "      <td>0.900853</td>\n",
       "      <td>0.136262</td>\n",
       "      <td>0.033494</td>\n",
       "    </tr>\n",
       "    <tr>\n",
       "      <th>1</th>\n",
       "      <td>0.531152</td>\n",
       "      <td>0.068515</td>\n",
       "      <td>0.247417</td>\n",
       "      <td>0.452127</td>\n",
       "      <td>0.937112</td>\n",
       "      <td>0.882948</td>\n",
       "      <td>0.317309</td>\n",
       "      <td>0.265009</td>\n",
       "      <td>0.331446</td>\n",
       "      <td>0.641823</td>\n",
       "      <td>...</td>\n",
       "      <td>0.570224</td>\n",
       "      <td>0.707766</td>\n",
       "      <td>0.098022</td>\n",
       "      <td>0.684396</td>\n",
       "      <td>0.977836</td>\n",
       "      <td>0.215113</td>\n",
       "      <td>0.124749</td>\n",
       "      <td>0.720918</td>\n",
       "      <td>0.760761</td>\n",
       "      <td>0.178612</td>\n",
       "    </tr>\n",
       "    <tr>\n",
       "      <th>2</th>\n",
       "      <td>0.334151</td>\n",
       "      <td>0.977235</td>\n",
       "      <td>0.767831</td>\n",
       "      <td>0.142193</td>\n",
       "      <td>0.335629</td>\n",
       "      <td>0.721008</td>\n",
       "      <td>0.648859</td>\n",
       "      <td>0.23075</td>\n",
       "      <td>0.111517</td>\n",
       "      <td>0.425242</td>\n",
       "      <td>...</td>\n",
       "      <td>0.489244</td>\n",
       "      <td>0.658292</td>\n",
       "      <td>0.176114</td>\n",
       "      <td>0.223113</td>\n",
       "      <td>0.349185</td>\n",
       "      <td>0.490238</td>\n",
       "      <td>0.203396</td>\n",
       "      <td>0.396676</td>\n",
       "      <td>0.555965</td>\n",
       "      <td>0.768119</td>\n",
       "    </tr>\n",
       "    <tr>\n",
       "      <th>3</th>\n",
       "      <td>0.158317</td>\n",
       "      <td>0.297188</td>\n",
       "      <td>0.372679</td>\n",
       "      <td>0.632288</td>\n",
       "      <td>0.869446</td>\n",
       "      <td>0.821652</td>\n",
       "      <td>0.145201</td>\n",
       "      <td>0.270947</td>\n",
       "      <td>0.181312</td>\n",
       "      <td>0.421636</td>\n",
       "      <td>...</td>\n",
       "      <td>0.288957</td>\n",
       "      <td>0.027192</td>\n",
       "      <td>0.027609</td>\n",
       "      <td>0.629324</td>\n",
       "      <td>0.131497</td>\n",
       "      <td>0.094054</td>\n",
       "      <td>0.291867</td>\n",
       "      <td>0.30025</td>\n",
       "      <td>0.196503</td>\n",
       "      <td>0.211747</td>\n",
       "    </tr>\n",
       "    <tr>\n",
       "      <th>4</th>\n",
       "      <td>0.337828</td>\n",
       "      <td>0.996942</td>\n",
       "      <td>0.040176</td>\n",
       "      <td>0.089867</td>\n",
       "      <td>0.29342</td>\n",
       "      <td>0.001966</td>\n",
       "      <td>0.594576</td>\n",
       "      <td>0.493887</td>\n",
       "      <td>0.395554</td>\n",
       "      <td>0.526434</td>\n",
       "      <td>...</td>\n",
       "      <td>0.80463</td>\n",
       "      <td>0.953371</td>\n",
       "      <td>0.046153</td>\n",
       "      <td>0.115832</td>\n",
       "      <td>0.782119</td>\n",
       "      <td>0.250967</td>\n",
       "      <td>0.377044</td>\n",
       "      <td>0.131768</td>\n",
       "      <td>0.148603</td>\n",
       "      <td>0.579498</td>\n",
       "    </tr>\n",
       "  </tbody>\n",
       "</table>\n",
       "<p>5 rows × 336 columns</p>\n",
       "</div>"
      ],
      "text/plain": [
       "             0         1         2         3         4         5         6    \\\n",
       "newton      0.73  0.222044    0.6448  0.162428  0.053416  0.572199  0.780843   \n",
       "1       0.531152  0.068515  0.247417  0.452127  0.937112  0.882948  0.317309   \n",
       "2       0.334151  0.977235  0.767831  0.142193  0.335629  0.721008  0.648859   \n",
       "3       0.158317  0.297188  0.372679  0.632288  0.869446  0.821652  0.145201   \n",
       "4       0.337828  0.996942  0.040176  0.089867   0.29342  0.001966  0.594576   \n",
       "\n",
       "             7         8         9    ...       326       327       328  \\\n",
       "newton  0.641056  0.405071  0.966464  ...  0.590674  0.761381  0.139815   \n",
       "1       0.265009  0.331446  0.641823  ...  0.570224  0.707766  0.098022   \n",
       "2        0.23075  0.111517  0.425242  ...  0.489244  0.658292  0.176114   \n",
       "3       0.270947  0.181312  0.421636  ...  0.288957  0.027192  0.027609   \n",
       "4       0.493887  0.395554  0.526434  ...   0.80463  0.953371  0.046153   \n",
       "\n",
       "             329       330       331       332       333       334       335  \n",
       "newton  0.872853  0.615223  0.010792  0.629829  0.900853  0.136262  0.033494  \n",
       "1       0.684396  0.977836  0.215113  0.124749  0.720918  0.760761  0.178612  \n",
       "2       0.223113  0.349185  0.490238  0.203396  0.396676  0.555965  0.768119  \n",
       "3       0.629324  0.131497  0.094054  0.291867   0.30025  0.196503  0.211747  \n",
       "4       0.115832  0.782119  0.250967  0.377044  0.131768  0.148603  0.579498  \n",
       "\n",
       "[5 rows x 336 columns]"
      ]
     },
     "execution_count": 62,
     "metadata": {},
     "output_type": "execute_result"
    }
   ],
   "source": [
    "newdf.T #Transpose"
   ]
  },
  {
   "cell_type": "code",
   "execution_count": 71,
   "id": "b1f01b57",
   "metadata": {},
   "outputs": [
    {
     "data": {
      "text/html": [
       "<div>\n",
       "<style scoped>\n",
       "    .dataframe tbody tr th:only-of-type {\n",
       "        vertical-align: middle;\n",
       "    }\n",
       "\n",
       "    .dataframe tbody tr th {\n",
       "        vertical-align: top;\n",
       "    }\n",
       "\n",
       "    .dataframe thead th {\n",
       "        text-align: right;\n",
       "    }\n",
       "</style>\n",
       "<table border=\"1\" class=\"dataframe\">\n",
       "  <thead>\n",
       "    <tr style=\"text-align: right;\">\n",
       "      <th></th>\n",
       "      <th>newton</th>\n",
       "      <th>1</th>\n",
       "      <th>2</th>\n",
       "      <th>3</th>\n",
       "      <th>4</th>\n",
       "    </tr>\n",
       "  </thead>\n",
       "  <tbody>\n",
       "    <tr>\n",
       "      <th>335</th>\n",
       "      <td>0.033494</td>\n",
       "      <td>0.178612</td>\n",
       "      <td>0.768119</td>\n",
       "      <td>0.211747</td>\n",
       "      <td>0.579498</td>\n",
       "    </tr>\n",
       "    <tr>\n",
       "      <th>334</th>\n",
       "      <td>0.136262</td>\n",
       "      <td>0.760761</td>\n",
       "      <td>0.555965</td>\n",
       "      <td>0.196503</td>\n",
       "      <td>0.148603</td>\n",
       "    </tr>\n",
       "    <tr>\n",
       "      <th>333</th>\n",
       "      <td>0.900853</td>\n",
       "      <td>0.720918</td>\n",
       "      <td>0.396676</td>\n",
       "      <td>0.300250</td>\n",
       "      <td>0.131768</td>\n",
       "    </tr>\n",
       "    <tr>\n",
       "      <th>332</th>\n",
       "      <td>0.629829</td>\n",
       "      <td>0.124749</td>\n",
       "      <td>0.203396</td>\n",
       "      <td>0.291867</td>\n",
       "      <td>0.377044</td>\n",
       "    </tr>\n",
       "    <tr>\n",
       "      <th>331</th>\n",
       "      <td>0.010792</td>\n",
       "      <td>0.215113</td>\n",
       "      <td>0.490238</td>\n",
       "      <td>0.094054</td>\n",
       "      <td>0.250967</td>\n",
       "    </tr>\n",
       "    <tr>\n",
       "      <th>...</th>\n",
       "      <td>...</td>\n",
       "      <td>...</td>\n",
       "      <td>...</td>\n",
       "      <td>...</td>\n",
       "      <td>...</td>\n",
       "    </tr>\n",
       "    <tr>\n",
       "      <th>4</th>\n",
       "      <td>0.053416</td>\n",
       "      <td>0.937112</td>\n",
       "      <td>0.335629</td>\n",
       "      <td>0.869446</td>\n",
       "      <td>0.293420</td>\n",
       "    </tr>\n",
       "    <tr>\n",
       "      <th>3</th>\n",
       "      <td>0.162428</td>\n",
       "      <td>0.452127</td>\n",
       "      <td>0.142193</td>\n",
       "      <td>0.632288</td>\n",
       "      <td>0.089867</td>\n",
       "    </tr>\n",
       "    <tr>\n",
       "      <th>2</th>\n",
       "      <td>0.6448</td>\n",
       "      <td>0.247417</td>\n",
       "      <td>0.767831</td>\n",
       "      <td>0.372679</td>\n",
       "      <td>0.040176</td>\n",
       "    </tr>\n",
       "    <tr>\n",
       "      <th>1</th>\n",
       "      <td>0.222044</td>\n",
       "      <td>0.068515</td>\n",
       "      <td>0.977235</td>\n",
       "      <td>0.297188</td>\n",
       "      <td>0.996942</td>\n",
       "    </tr>\n",
       "    <tr>\n",
       "      <th>0</th>\n",
       "      <td>0.73</td>\n",
       "      <td>0.531152</td>\n",
       "      <td>0.334151</td>\n",
       "      <td>0.158317</td>\n",
       "      <td>0.337828</td>\n",
       "    </tr>\n",
       "  </tbody>\n",
       "</table>\n",
       "<p>336 rows × 5 columns</p>\n",
       "</div>"
      ],
      "text/plain": [
       "       newton         1         2         3         4\n",
       "335  0.033494  0.178612  0.768119  0.211747  0.579498\n",
       "334  0.136262  0.760761  0.555965  0.196503  0.148603\n",
       "333  0.900853  0.720918  0.396676  0.300250  0.131768\n",
       "332  0.629829  0.124749  0.203396  0.291867  0.377044\n",
       "331  0.010792  0.215113  0.490238  0.094054  0.250967\n",
       "..        ...       ...       ...       ...       ...\n",
       "4    0.053416  0.937112  0.335629  0.869446  0.293420\n",
       "3    0.162428  0.452127  0.142193  0.632288  0.089867\n",
       "2      0.6448  0.247417  0.767831  0.372679  0.040176\n",
       "1    0.222044  0.068515  0.977235  0.297188  0.996942\n",
       "0        0.73  0.531152  0.334151  0.158317  0.337828\n",
       "\n",
       "[336 rows x 5 columns]"
      ]
     },
     "execution_count": 71,
     "metadata": {},
     "output_type": "execute_result"
    }
   ],
   "source": [
    "newdf.sort_index(axis=0,ascending=False) #Sort the table on the basis of decreasing values of their index."
   ]
  },
  {
   "cell_type": "markdown",
   "id": "2b26d4e7",
   "metadata": {},
   "source": [
    "# Copy,View"
   ]
  },
  {
   "cell_type": "code",
   "execution_count": 80,
   "id": "bb428094",
   "metadata": {
    "scrolled": false
   },
   "outputs": [
    {
     "name": "stderr",
     "output_type": "stream",
     "text": [
      "C:\\Users\\Newtan\\AppData\\Local\\Temp/ipykernel_3476/3858279272.py:2: SettingWithCopyWarning: \n",
      "A value is trying to be set on a copy of a slice from a DataFrame\n",
      "\n",
      "See the caveats in the documentation: https://pandas.pydata.org/pandas-docs/stable/user_guide/indexing.html#returning-a-view-versus-a-copy\n",
      "  x[1][0]=1.45\n"
     ]
    }
   ],
   "source": [
    "x=newdf.copy()\n",
    "x[1][0]=1.45"
   ]
  },
  {
   "cell_type": "code",
   "execution_count": 83,
   "id": "866b0195",
   "metadata": {},
   "outputs": [],
   "source": [
    "x.columns=list(\"qwert\") # q for first column,w for second and so on."
   ]
  },
  {
   "cell_type": "markdown",
   "id": "089a1ca0",
   "metadata": {},
   "source": [
    "# Drop rows/columns"
   ]
  },
  {
   "cell_type": "code",
   "execution_count": 94,
   "id": "0b988cc9",
   "metadata": {},
   "outputs": [
    {
     "data": {
      "text/html": [
       "<div>\n",
       "<style scoped>\n",
       "    .dataframe tbody tr th:only-of-type {\n",
       "        vertical-align: middle;\n",
       "    }\n",
       "\n",
       "    .dataframe tbody tr th {\n",
       "        vertical-align: top;\n",
       "    }\n",
       "\n",
       "    .dataframe thead th {\n",
       "        text-align: right;\n",
       "    }\n",
       "</style>\n",
       "<table border=\"1\" class=\"dataframe\">\n",
       "  <thead>\n",
       "    <tr style=\"text-align: right;\">\n",
       "      <th></th>\n",
       "      <th>q</th>\n",
       "      <th>w</th>\n",
       "      <th>e</th>\n",
       "      <th>r</th>\n",
       "      <th>t</th>\n",
       "    </tr>\n",
       "  </thead>\n",
       "  <tbody>\n",
       "    <tr>\n",
       "      <th>1</th>\n",
       "      <td>0.222044</td>\n",
       "      <td>0.068515</td>\n",
       "      <td>0.977235</td>\n",
       "      <td>0.297188</td>\n",
       "      <td>0.996942</td>\n",
       "    </tr>\n",
       "    <tr>\n",
       "      <th>2</th>\n",
       "      <td>0.6448</td>\n",
       "      <td>0.247417</td>\n",
       "      <td>0.767831</td>\n",
       "      <td>0.372679</td>\n",
       "      <td>0.040176</td>\n",
       "    </tr>\n",
       "    <tr>\n",
       "      <th>3</th>\n",
       "      <td>0.162428</td>\n",
       "      <td>0.452127</td>\n",
       "      <td>0.142193</td>\n",
       "      <td>0.632288</td>\n",
       "      <td>0.089867</td>\n",
       "    </tr>\n",
       "    <tr>\n",
       "      <th>4</th>\n",
       "      <td>0.053416</td>\n",
       "      <td>0.937112</td>\n",
       "      <td>0.335629</td>\n",
       "      <td>0.869446</td>\n",
       "      <td>0.293420</td>\n",
       "    </tr>\n",
       "    <tr>\n",
       "      <th>5</th>\n",
       "      <td>0.572199</td>\n",
       "      <td>0.882948</td>\n",
       "      <td>0.721008</td>\n",
       "      <td>0.821652</td>\n",
       "      <td>0.001966</td>\n",
       "    </tr>\n",
       "    <tr>\n",
       "      <th>...</th>\n",
       "      <td>...</td>\n",
       "      <td>...</td>\n",
       "      <td>...</td>\n",
       "      <td>...</td>\n",
       "      <td>...</td>\n",
       "    </tr>\n",
       "    <tr>\n",
       "      <th>331</th>\n",
       "      <td>0.010792</td>\n",
       "      <td>0.215113</td>\n",
       "      <td>0.490238</td>\n",
       "      <td>0.094054</td>\n",
       "      <td>0.250967</td>\n",
       "    </tr>\n",
       "    <tr>\n",
       "      <th>332</th>\n",
       "      <td>0.629829</td>\n",
       "      <td>0.124749</td>\n",
       "      <td>0.203396</td>\n",
       "      <td>0.291867</td>\n",
       "      <td>0.377044</td>\n",
       "    </tr>\n",
       "    <tr>\n",
       "      <th>333</th>\n",
       "      <td>0.900853</td>\n",
       "      <td>0.720918</td>\n",
       "      <td>0.396676</td>\n",
       "      <td>0.300250</td>\n",
       "      <td>0.131768</td>\n",
       "    </tr>\n",
       "    <tr>\n",
       "      <th>334</th>\n",
       "      <td>0.136262</td>\n",
       "      <td>0.760761</td>\n",
       "      <td>0.555965</td>\n",
       "      <td>0.196503</td>\n",
       "      <td>0.148603</td>\n",
       "    </tr>\n",
       "    <tr>\n",
       "      <th>335</th>\n",
       "      <td>0.033494</td>\n",
       "      <td>0.178612</td>\n",
       "      <td>0.768119</td>\n",
       "      <td>0.211747</td>\n",
       "      <td>0.579498</td>\n",
       "    </tr>\n",
       "  </tbody>\n",
       "</table>\n",
       "<p>335 rows × 5 columns</p>\n",
       "</div>"
      ],
      "text/plain": [
       "            q         w         e         r         t\n",
       "1    0.222044  0.068515  0.977235  0.297188  0.996942\n",
       "2      0.6448  0.247417  0.767831  0.372679  0.040176\n",
       "3    0.162428  0.452127  0.142193  0.632288  0.089867\n",
       "4    0.053416  0.937112  0.335629  0.869446  0.293420\n",
       "5    0.572199  0.882948  0.721008  0.821652  0.001966\n",
       "..        ...       ...       ...       ...       ...\n",
       "331  0.010792  0.215113  0.490238  0.094054  0.250967\n",
       "332  0.629829  0.124749  0.203396  0.291867  0.377044\n",
       "333  0.900853  0.720918  0.396676  0.300250  0.131768\n",
       "334  0.136262  0.760761  0.555965  0.196503  0.148603\n",
       "335  0.033494  0.178612  0.768119  0.211747  0.579498\n",
       "\n",
       "[335 rows x 5 columns]"
      ]
     },
     "execution_count": 94,
     "metadata": {},
     "output_type": "execute_result"
    }
   ],
   "source": [
    "x.drop('t',axis=1) #this will drop the column 't'.\n",
    "x.drop(0,axis=0) #this will drop the row 0."
   ]
  },
  {
   "cell_type": "code",
   "execution_count": 99,
   "id": "d912a3d4",
   "metadata": {},
   "outputs": [],
   "source": [
    "x['new']=np.arange(336) # add a new column of values from 0,1,2,3....335"
   ]
  },
  {
   "cell_type": "markdown",
   "id": "e7d8483b",
   "metadata": {},
   "source": [
    "# Get the rows/column indexes"
   ]
  },
  {
   "cell_type": "code",
   "execution_count": 112,
   "id": "b94f6ae9",
   "metadata": {},
   "outputs": [
    {
     "name": "stdout",
     "output_type": "stream",
     "text": [
      "          w         q         e\n",
      "2  0.247417    0.6448  0.767831\n",
      "4  0.937112  0.053416  0.335629\n",
      "9  0.641823  0.966464  0.425242\n",
      "5  0.882948  0.572199  0.721008\n",
      "          q         w         e         r         t  new\n",
      "2    0.6448  0.247417  0.767831  0.372679  0.040176    2\n",
      "4  0.053416  0.937112  0.335629  0.869446  0.293420    4\n",
      "9  0.966464  0.641823  0.425242  0.421636  0.526434    9\n",
      "5  0.572199  0.882948  0.721008  0.821652  0.001966    5\n"
     ]
    }
   ],
   "source": [
    "print(x.loc[[2,4,9,5],['w','q','e' ]])\n",
    "print(x.loc[[2,4,9,5],:])"
   ]
  },
  {
   "cell_type": "markdown",
   "id": "77b073bb",
   "metadata": {},
   "source": [
    "# Conditional data fetch"
   ]
  },
  {
   "cell_type": "code",
   "execution_count": 119,
   "id": "237a2279",
   "metadata": {},
   "outputs": [
    {
     "data": {
      "text/plain": [
       "4"
      ]
     },
     "execution_count": 119,
     "metadata": {},
     "output_type": "execute_result"
    }
   ],
   "source": [
    "x.loc[(x['w']>0.6)]['new'][4]  # fetch the entry in the index number 4 in the table where the column is new,and where the "
   ]
  },
  {
   "cell_type": "code",
   "execution_count": null,
   "id": "0ea36f90",
   "metadata": {},
   "outputs": [],
   "source": []
  }
 ],
 "metadata": {
  "kernelspec": {
   "display_name": "Python 3 (ipykernel)",
   "language": "python",
   "name": "python3"
  },
  "language_info": {
   "codemirror_mode": {
    "name": "ipython",
    "version": 3
   },
   "file_extension": ".py",
   "mimetype": "text/x-python",
   "name": "python",
   "nbconvert_exporter": "python",
   "pygments_lexer": "ipython3",
   "version": "3.9.7"
  }
 },
 "nbformat": 4,
 "nbformat_minor": 5
}
