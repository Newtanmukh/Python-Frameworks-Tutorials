{
 "cells": [
  {
   "cell_type": "code",
   "execution_count": 1,
   "id": "6f9c33ae",
   "metadata": {},
   "outputs": [],
   "source": [
    "import numpy as np \n",
    "import pandas as pd\n"
   ]
  },
  {
   "cell_type": "code",
   "execution_count": 2,
   "id": "03dd442d",
   "metadata": {},
   "outputs": [],
   "source": [
    "  dict1={\n",
    "      \"name\":['harry','rohan','skillf','shubh'],\n",
    "      \"marks\":[92,34,12,76],\n",
    "      \"city\":['kolkata','delhi','mumbai','aurangabad']      #sample data.\n",
    "        }"
   ]
  },
  {
   "cell_type": "code",
   "execution_count": 3,
   "id": "4b30eba9",
   "metadata": {},
   "outputs": [],
   "source": [
    "df = pd.DataFrame(dict1)  #this will make a dataframe. this will convert the data to excel sheet for faster indexing."
   ]
  },
  {
   "cell_type": "code",
   "execution_count": 4,
   "id": "4e0bf09a",
   "metadata": {},
   "outputs": [
    {
     "name": "stdout",
     "output_type": "stream",
     "text": [
      "     name  marks        city\n",
      "0   harry     92     kolkata\n",
      "1   rohan     34       delhi\n",
      "2  skillf     12      mumbai\n",
      "3   shubh     76  aurangabad\n"
     ]
    }
   ],
   "source": [
    "print(df) #index,name,marks,column"
   ]
  },
  {
   "cell_type": "code",
   "execution_count": 5,
   "id": "8ba8cd62",
   "metadata": {},
   "outputs": [],
   "source": [
    "df.to_csv('friends.csv') #will covert the data to a csv(excel) file."
   ]
  },
  {
   "cell_type": "code",
   "execution_count": 6,
   "id": "b6e80e0b",
   "metadata": {},
   "outputs": [],
   "source": [
    "df.to_csv('friends_indexFalse.csv',index=False) #same,but no indexing now in excel"
   ]
  },
  {
   "cell_type": "code",
   "execution_count": 7,
   "id": "4dd2c4e4",
   "metadata": {},
   "outputs": [
    {
     "data": {
      "text/html": [
       "<div>\n",
       "<style scoped>\n",
       "    .dataframe tbody tr th:only-of-type {\n",
       "        vertical-align: middle;\n",
       "    }\n",
       "\n",
       "    .dataframe tbody tr th {\n",
       "        vertical-align: top;\n",
       "    }\n",
       "\n",
       "    .dataframe thead th {\n",
       "        text-align: right;\n",
       "    }\n",
       "</style>\n",
       "<table border=\"1\" class=\"dataframe\">\n",
       "  <thead>\n",
       "    <tr style=\"text-align: right;\">\n",
       "      <th></th>\n",
       "      <th>name</th>\n",
       "      <th>marks</th>\n",
       "      <th>city</th>\n",
       "    </tr>\n",
       "  </thead>\n",
       "  <tbody>\n",
       "    <tr>\n",
       "      <th>0</th>\n",
       "      <td>harry</td>\n",
       "      <td>92</td>\n",
       "      <td>kolkata</td>\n",
       "    </tr>\n",
       "    <tr>\n",
       "      <th>1</th>\n",
       "      <td>rohan</td>\n",
       "      <td>34</td>\n",
       "      <td>delhi</td>\n",
       "    </tr>\n",
       "  </tbody>\n",
       "</table>\n",
       "</div>"
      ],
      "text/plain": [
       "    name  marks     city\n",
       "0  harry     92  kolkata\n",
       "1  rohan     34    delhi"
      ]
     },
     "execution_count": 7,
     "metadata": {},
     "output_type": "execute_result"
    }
   ],
   "source": [
    "df.head(2) #will show the first two entries."
   ]
  },
  {
   "cell_type": "code",
   "execution_count": 8,
   "id": "db5f603e",
   "metadata": {},
   "outputs": [
    {
     "data": {
      "text/html": [
       "<div>\n",
       "<style scoped>\n",
       "    .dataframe tbody tr th:only-of-type {\n",
       "        vertical-align: middle;\n",
       "    }\n",
       "\n",
       "    .dataframe tbody tr th {\n",
       "        vertical-align: top;\n",
       "    }\n",
       "\n",
       "    .dataframe thead th {\n",
       "        text-align: right;\n",
       "    }\n",
       "</style>\n",
       "<table border=\"1\" class=\"dataframe\">\n",
       "  <thead>\n",
       "    <tr style=\"text-align: right;\">\n",
       "      <th></th>\n",
       "      <th>name</th>\n",
       "      <th>marks</th>\n",
       "      <th>city</th>\n",
       "    </tr>\n",
       "  </thead>\n",
       "  <tbody>\n",
       "    <tr>\n",
       "      <th>2</th>\n",
       "      <td>skillf</td>\n",
       "      <td>12</td>\n",
       "      <td>mumbai</td>\n",
       "    </tr>\n",
       "    <tr>\n",
       "      <th>3</th>\n",
       "      <td>shubh</td>\n",
       "      <td>76</td>\n",
       "      <td>aurangabad</td>\n",
       "    </tr>\n",
       "  </tbody>\n",
       "</table>\n",
       "</div>"
      ],
      "text/plain": [
       "     name  marks        city\n",
       "2  skillf     12      mumbai\n",
       "3   shubh     76  aurangabad"
      ]
     },
     "execution_count": 8,
     "metadata": {},
     "output_type": "execute_result"
    }
   ],
   "source": [
    "df.tail(2) #will show the last two"
   ]
  },
  {
   "cell_type": "code",
   "execution_count": 9,
   "id": "e4a8c4df",
   "metadata": {},
   "outputs": [
    {
     "data": {
      "text/html": [
       "<div>\n",
       "<style scoped>\n",
       "    .dataframe tbody tr th:only-of-type {\n",
       "        vertical-align: middle;\n",
       "    }\n",
       "\n",
       "    .dataframe tbody tr th {\n",
       "        vertical-align: top;\n",
       "    }\n",
       "\n",
       "    .dataframe thead th {\n",
       "        text-align: right;\n",
       "    }\n",
       "</style>\n",
       "<table border=\"1\" class=\"dataframe\">\n",
       "  <thead>\n",
       "    <tr style=\"text-align: right;\">\n",
       "      <th></th>\n",
       "      <th>marks</th>\n",
       "    </tr>\n",
       "  </thead>\n",
       "  <tbody>\n",
       "    <tr>\n",
       "      <th>count</th>\n",
       "      <td>4.000000</td>\n",
       "    </tr>\n",
       "    <tr>\n",
       "      <th>mean</th>\n",
       "      <td>53.500000</td>\n",
       "    </tr>\n",
       "    <tr>\n",
       "      <th>std</th>\n",
       "      <td>36.927858</td>\n",
       "    </tr>\n",
       "    <tr>\n",
       "      <th>min</th>\n",
       "      <td>12.000000</td>\n",
       "    </tr>\n",
       "    <tr>\n",
       "      <th>25%</th>\n",
       "      <td>28.500000</td>\n",
       "    </tr>\n",
       "    <tr>\n",
       "      <th>50%</th>\n",
       "      <td>55.000000</td>\n",
       "    </tr>\n",
       "    <tr>\n",
       "      <th>75%</th>\n",
       "      <td>80.000000</td>\n",
       "    </tr>\n",
       "    <tr>\n",
       "      <th>max</th>\n",
       "      <td>92.000000</td>\n",
       "    </tr>\n",
       "  </tbody>\n",
       "</table>\n",
       "</div>"
      ],
      "text/plain": [
       "           marks\n",
       "count   4.000000\n",
       "mean   53.500000\n",
       "std    36.927858\n",
       "min    12.000000\n",
       "25%    28.500000\n",
       "50%    55.000000\n",
       "75%    80.000000\n",
       "max    92.000000"
      ]
     },
     "execution_count": 9,
     "metadata": {},
     "output_type": "execute_result"
    }
   ],
   "source": [
    "df.describe() # Will calcculate the standard deviation,mean etc of all the numerical values."
   ]
  },
  {
   "cell_type": "code",
   "execution_count": 10,
   "id": "8b0c6c08",
   "metadata": {},
   "outputs": [],
   "source": [
    "newton=pd.read_csv('Newtan.csv') #read from csv file."
   ]
  },
  {
   "cell_type": "code",
   "execution_count": 11,
   "id": "c33774ed",
   "metadata": {},
   "outputs": [
    {
     "name": "stderr",
     "output_type": "stream",
     "text": [
      "C:\\Users\\Newtan\\AppData\\Local\\Temp/ipykernel_580/3974474628.py:1: SettingWithCopyWarning: \n",
      "A value is trying to be set on a copy of a slice from a DataFrame\n",
      "\n",
      "See the caveats in the documentation: https://pandas.pydata.org/pandas-docs/stable/user_guide/indexing.html#returning-a-view-versus-a-copy\n",
      "  newton['distance'][1]=40\n"
     ]
    }
   ],
   "source": [
    "newton['distance'][1]=40"
   ]
  },
  {
   "cell_type": "code",
   "execution_count": 12,
   "id": "c96a0ae4",
   "metadata": {},
   "outputs": [
    {
     "data": {
      "text/html": [
       "<div>\n",
       "<style scoped>\n",
       "    .dataframe tbody tr th:only-of-type {\n",
       "        vertical-align: middle;\n",
       "    }\n",
       "\n",
       "    .dataframe tbody tr th {\n",
       "        vertical-align: top;\n",
       "    }\n",
       "\n",
       "    .dataframe thead th {\n",
       "        text-align: right;\n",
       "    }\n",
       "</style>\n",
       "<table border=\"1\" class=\"dataframe\">\n",
       "  <thead>\n",
       "    <tr style=\"text-align: right;\">\n",
       "      <th></th>\n",
       "      <th>surname</th>\n",
       "      <th>distance</th>\n",
       "      <th>area</th>\n",
       "    </tr>\n",
       "  </thead>\n",
       "  <tbody>\n",
       "    <tr>\n",
       "      <th>0</th>\n",
       "      <td>harry</td>\n",
       "      <td>92</td>\n",
       "      <td>kolkata</td>\n",
       "    </tr>\n",
       "    <tr>\n",
       "      <th>1</th>\n",
       "      <td>rohan</td>\n",
       "      <td>40</td>\n",
       "      <td>delhi</td>\n",
       "    </tr>\n",
       "    <tr>\n",
       "      <th>2</th>\n",
       "      <td>skillf</td>\n",
       "      <td>12</td>\n",
       "      <td>mumbai</td>\n",
       "    </tr>\n",
       "    <tr>\n",
       "      <th>3</th>\n",
       "      <td>shubh</td>\n",
       "      <td>76</td>\n",
       "      <td>aurangabad</td>\n",
       "    </tr>\n",
       "  </tbody>\n",
       "</table>\n",
       "</div>"
      ],
      "text/plain": [
       "  surname  distance        area\n",
       "0   harry        92     kolkata\n",
       "1   rohan        40       delhi\n",
       "2  skillf        12      mumbai\n",
       "3   shubh        76  aurangabad"
      ]
     },
     "execution_count": 12,
     "metadata": {},
     "output_type": "execute_result"
    }
   ],
   "source": [
    "newton"
   ]
  },
  {
   "cell_type": "code",
   "execution_count": 13,
   "id": "fca65298",
   "metadata": {},
   "outputs": [],
   "source": [
    "newton.to_csv('Newtan.csv',index=False)"
   ]
  },
  {
   "cell_type": "markdown",
   "id": "611ed72d",
   "metadata": {},
   "source": [
    "# change index title to something else"
   ]
  },
  {
   "cell_type": "code",
   "execution_count": 14,
   "id": "47c02033",
   "metadata": {},
   "outputs": [],
   "source": [
    "newton.index=['first','second','third','fourth']"
   ]
  },
  {
   "cell_type": "markdown",
   "id": "11f71f73",
   "metadata": {},
   "source": [
    "# Use of numpy to make the dataframe"
   ]
  },
  {
   "cell_type": "code",
   "execution_count": 15,
   "id": "c6006e2b",
   "metadata": {},
   "outputs": [],
   "source": [
    "newdf=pd.DataFrame(np.random.rand(336,5),index=np.arange(336))"
   ]
  },
  {
   "cell_type": "code",
   "execution_count": 16,
   "id": "80c93837",
   "metadata": {},
   "outputs": [
    {
     "data": {
      "text/plain": [
       "pandas.core.frame.DataFrame"
      ]
     },
     "execution_count": 16,
     "metadata": {},
     "output_type": "execute_result"
    }
   ],
   "source": [
    "type(newdf)"
   ]
  },
  {
   "cell_type": "code",
   "execution_count": 17,
   "id": "c32492c3",
   "metadata": {},
   "outputs": [
    {
     "data": {
      "text/html": [
       "<div>\n",
       "<style scoped>\n",
       "    .dataframe tbody tr th:only-of-type {\n",
       "        vertical-align: middle;\n",
       "    }\n",
       "\n",
       "    .dataframe tbody tr th {\n",
       "        vertical-align: top;\n",
       "    }\n",
       "\n",
       "    .dataframe thead th {\n",
       "        text-align: right;\n",
       "    }\n",
       "</style>\n",
       "<table border=\"1\" class=\"dataframe\">\n",
       "  <thead>\n",
       "    <tr style=\"text-align: right;\">\n",
       "      <th></th>\n",
       "      <th>0</th>\n",
       "      <th>1</th>\n",
       "      <th>2</th>\n",
       "      <th>3</th>\n",
       "      <th>4</th>\n",
       "    </tr>\n",
       "  </thead>\n",
       "  <tbody>\n",
       "    <tr>\n",
       "      <th>count</th>\n",
       "      <td>336.000000</td>\n",
       "      <td>336.000000</td>\n",
       "      <td>336.000000</td>\n",
       "      <td>336.000000</td>\n",
       "      <td>336.000000</td>\n",
       "    </tr>\n",
       "    <tr>\n",
       "      <th>mean</th>\n",
       "      <td>0.498925</td>\n",
       "      <td>0.507859</td>\n",
       "      <td>0.494279</td>\n",
       "      <td>0.498344</td>\n",
       "      <td>0.491417</td>\n",
       "    </tr>\n",
       "    <tr>\n",
       "      <th>std</th>\n",
       "      <td>0.289994</td>\n",
       "      <td>0.276719</td>\n",
       "      <td>0.288414</td>\n",
       "      <td>0.300556</td>\n",
       "      <td>0.276596</td>\n",
       "    </tr>\n",
       "    <tr>\n",
       "      <th>min</th>\n",
       "      <td>0.004893</td>\n",
       "      <td>0.013637</td>\n",
       "      <td>0.000217</td>\n",
       "      <td>0.001528</td>\n",
       "      <td>0.005530</td>\n",
       "    </tr>\n",
       "    <tr>\n",
       "      <th>25%</th>\n",
       "      <td>0.234389</td>\n",
       "      <td>0.281168</td>\n",
       "      <td>0.242702</td>\n",
       "      <td>0.237848</td>\n",
       "      <td>0.258174</td>\n",
       "    </tr>\n",
       "    <tr>\n",
       "      <th>50%</th>\n",
       "      <td>0.495053</td>\n",
       "      <td>0.504636</td>\n",
       "      <td>0.493727</td>\n",
       "      <td>0.498031</td>\n",
       "      <td>0.484008</td>\n",
       "    </tr>\n",
       "    <tr>\n",
       "      <th>75%</th>\n",
       "      <td>0.768228</td>\n",
       "      <td>0.734081</td>\n",
       "      <td>0.736346</td>\n",
       "      <td>0.777754</td>\n",
       "      <td>0.722054</td>\n",
       "    </tr>\n",
       "    <tr>\n",
       "      <th>max</th>\n",
       "      <td>0.999201</td>\n",
       "      <td>0.994986</td>\n",
       "      <td>0.996829</td>\n",
       "      <td>0.998116</td>\n",
       "      <td>0.997457</td>\n",
       "    </tr>\n",
       "  </tbody>\n",
       "</table>\n",
       "</div>"
      ],
      "text/plain": [
       "                0           1           2           3           4\n",
       "count  336.000000  336.000000  336.000000  336.000000  336.000000\n",
       "mean     0.498925    0.507859    0.494279    0.498344    0.491417\n",
       "std      0.289994    0.276719    0.288414    0.300556    0.276596\n",
       "min      0.004893    0.013637    0.000217    0.001528    0.005530\n",
       "25%      0.234389    0.281168    0.242702    0.237848    0.258174\n",
       "50%      0.495053    0.504636    0.493727    0.498031    0.484008\n",
       "75%      0.768228    0.734081    0.736346    0.777754    0.722054\n",
       "max      0.999201    0.994986    0.996829    0.998116    0.997457"
      ]
     },
     "execution_count": 17,
     "metadata": {},
     "output_type": "execute_result"
    }
   ],
   "source": [
    "newdf.describe()"
   ]
  },
  {
   "cell_type": "code",
   "execution_count": 18,
   "id": "50de27b1",
   "metadata": {},
   "outputs": [],
   "source": [
    "newdf=newdf.rename(columns={'new':'newton'}) # Rename the column name to something else.\n"
   ]
  },
  {
   "cell_type": "code",
   "execution_count": null,
   "id": "2fa454bb",
   "metadata": {},
   "outputs": [],
   "source": []
  },
  {
   "cell_type": "code",
   "execution_count": 19,
   "id": "3dcae308",
   "metadata": {},
   "outputs": [
    {
     "data": {
      "text/html": [
       "<div>\n",
       "<style scoped>\n",
       "    .dataframe tbody tr th:only-of-type {\n",
       "        vertical-align: middle;\n",
       "    }\n",
       "\n",
       "    .dataframe tbody tr th {\n",
       "        vertical-align: top;\n",
       "    }\n",
       "\n",
       "    .dataframe thead th {\n",
       "        text-align: right;\n",
       "    }\n",
       "</style>\n",
       "<table border=\"1\" class=\"dataframe\">\n",
       "  <thead>\n",
       "    <tr style=\"text-align: right;\">\n",
       "      <th></th>\n",
       "      <th>0</th>\n",
       "      <th>1</th>\n",
       "      <th>2</th>\n",
       "      <th>3</th>\n",
       "      <th>4</th>\n",
       "    </tr>\n",
       "  </thead>\n",
       "  <tbody>\n",
       "    <tr>\n",
       "      <th>0</th>\n",
       "      <td>0.767778</td>\n",
       "      <td>0.241591</td>\n",
       "      <td>0.296931</td>\n",
       "      <td>0.284010</td>\n",
       "      <td>0.067540</td>\n",
       "    </tr>\n",
       "    <tr>\n",
       "      <th>1</th>\n",
       "      <td>0.446068</td>\n",
       "      <td>0.522179</td>\n",
       "      <td>0.601631</td>\n",
       "      <td>0.690122</td>\n",
       "      <td>0.204458</td>\n",
       "    </tr>\n",
       "    <tr>\n",
       "      <th>2</th>\n",
       "      <td>0.886178</td>\n",
       "      <td>0.765795</td>\n",
       "      <td>0.012818</td>\n",
       "      <td>0.798014</td>\n",
       "      <td>0.710430</td>\n",
       "    </tr>\n",
       "    <tr>\n",
       "      <th>3</th>\n",
       "      <td>0.232437</td>\n",
       "      <td>0.882036</td>\n",
       "      <td>0.005848</td>\n",
       "      <td>0.049907</td>\n",
       "      <td>0.471830</td>\n",
       "    </tr>\n",
       "    <tr>\n",
       "      <th>4</th>\n",
       "      <td>0.518885</td>\n",
       "      <td>0.140367</td>\n",
       "      <td>0.017592</td>\n",
       "      <td>0.318646</td>\n",
       "      <td>0.914320</td>\n",
       "    </tr>\n",
       "  </tbody>\n",
       "</table>\n",
       "</div>"
      ],
      "text/plain": [
       "          0         1         2         3         4\n",
       "0  0.767778  0.241591  0.296931  0.284010  0.067540\n",
       "1  0.446068  0.522179  0.601631  0.690122  0.204458\n",
       "2  0.886178  0.765795  0.012818  0.798014  0.710430\n",
       "3  0.232437  0.882036  0.005848  0.049907  0.471830\n",
       "4  0.518885  0.140367  0.017592  0.318646  0.914320"
      ]
     },
     "execution_count": 19,
     "metadata": {},
     "output_type": "execute_result"
    }
   ],
   "source": [
    "newdf.head()"
   ]
  },
  {
   "cell_type": "code",
   "execution_count": 20,
   "id": "98f7c135",
   "metadata": {},
   "outputs": [
    {
     "data": {
      "text/plain": [
       "0    float64\n",
       "1    float64\n",
       "2    float64\n",
       "3    float64\n",
       "4    float64\n",
       "dtype: object"
      ]
     },
     "execution_count": 20,
     "metadata": {},
     "output_type": "execute_result"
    }
   ],
   "source": [
    "newdf.dtypes"
   ]
  },
  {
   "cell_type": "code",
   "execution_count": 21,
   "id": "fcdcc8cb",
   "metadata": {},
   "outputs": [
    {
     "data": {
      "text/plain": [
       "Int64Index([0, 1, 2, 3, 4], dtype='int64')"
      ]
     },
     "execution_count": 21,
     "metadata": {},
     "output_type": "execute_result"
    }
   ],
   "source": [
    "newdf.columns"
   ]
  },
  {
   "cell_type": "code",
   "execution_count": null,
   "id": "aecb379b",
   "metadata": {},
   "outputs": [],
   "source": []
  },
  {
   "cell_type": "markdown",
   "id": "ce8a3d1f",
   "metadata": {},
   "source": [
    "# converting from dataframe tio numpy format"
   ]
  },
  {
   "cell_type": "code",
   "execution_count": 22,
   "id": "03e7e7a9",
   "metadata": {},
   "outputs": [
    {
     "data": {
      "text/plain": [
       "array([[0.73      , 0.24159065, 0.2969313 , 0.28400978, 0.06753953],\n",
       "       [0.44606816, 0.52217873, 0.60163129, 0.69012165, 0.20445765],\n",
       "       [0.88617827, 0.76579544, 0.01281817, 0.79801429, 0.71043021],\n",
       "       ...,\n",
       "       [0.14639521, 0.20702834, 0.17515602, 0.41535088, 0.58118582],\n",
       "       [0.67764925, 0.81288429, 0.10774448, 0.95754389, 0.15602216],\n",
       "       [0.79738035, 0.84405664, 0.33079582, 0.5115173 , 0.60895176]])"
      ]
     },
     "execution_count": 22,
     "metadata": {},
     "output_type": "execute_result"
    }
   ],
   "source": [
    "newdf[0][0]=0.73\n",
    "newdf.to_numpy()"
   ]
  },
  {
   "cell_type": "code",
   "execution_count": 23,
   "id": "e7c6452e",
   "metadata": {},
   "outputs": [
    {
     "data": {
      "text/html": [
       "<div>\n",
       "<style scoped>\n",
       "    .dataframe tbody tr th:only-of-type {\n",
       "        vertical-align: middle;\n",
       "    }\n",
       "\n",
       "    .dataframe tbody tr th {\n",
       "        vertical-align: top;\n",
       "    }\n",
       "\n",
       "    .dataframe thead th {\n",
       "        text-align: right;\n",
       "    }\n",
       "</style>\n",
       "<table border=\"1\" class=\"dataframe\">\n",
       "  <thead>\n",
       "    <tr style=\"text-align: right;\">\n",
       "      <th></th>\n",
       "      <th>0</th>\n",
       "      <th>1</th>\n",
       "      <th>2</th>\n",
       "      <th>3</th>\n",
       "      <th>4</th>\n",
       "      <th>5</th>\n",
       "      <th>6</th>\n",
       "      <th>7</th>\n",
       "      <th>8</th>\n",
       "      <th>9</th>\n",
       "      <th>...</th>\n",
       "      <th>326</th>\n",
       "      <th>327</th>\n",
       "      <th>328</th>\n",
       "      <th>329</th>\n",
       "      <th>330</th>\n",
       "      <th>331</th>\n",
       "      <th>332</th>\n",
       "      <th>333</th>\n",
       "      <th>334</th>\n",
       "      <th>335</th>\n",
       "    </tr>\n",
       "  </thead>\n",
       "  <tbody>\n",
       "    <tr>\n",
       "      <th>0</th>\n",
       "      <td>0.730000</td>\n",
       "      <td>0.446068</td>\n",
       "      <td>0.886178</td>\n",
       "      <td>0.232437</td>\n",
       "      <td>0.518885</td>\n",
       "      <td>0.503175</td>\n",
       "      <td>0.271156</td>\n",
       "      <td>0.171074</td>\n",
       "      <td>0.953264</td>\n",
       "      <td>0.153660</td>\n",
       "      <td>...</td>\n",
       "      <td>0.592394</td>\n",
       "      <td>0.689292</td>\n",
       "      <td>0.060048</td>\n",
       "      <td>0.113983</td>\n",
       "      <td>0.641967</td>\n",
       "      <td>0.229551</td>\n",
       "      <td>0.425449</td>\n",
       "      <td>0.146395</td>\n",
       "      <td>0.677649</td>\n",
       "      <td>0.797380</td>\n",
       "    </tr>\n",
       "    <tr>\n",
       "      <th>1</th>\n",
       "      <td>0.241591</td>\n",
       "      <td>0.522179</td>\n",
       "      <td>0.765795</td>\n",
       "      <td>0.882036</td>\n",
       "      <td>0.140367</td>\n",
       "      <td>0.920762</td>\n",
       "      <td>0.040733</td>\n",
       "      <td>0.375286</td>\n",
       "      <td>0.535862</td>\n",
       "      <td>0.272115</td>\n",
       "      <td>...</td>\n",
       "      <td>0.487359</td>\n",
       "      <td>0.747437</td>\n",
       "      <td>0.719526</td>\n",
       "      <td>0.475674</td>\n",
       "      <td>0.854431</td>\n",
       "      <td>0.727212</td>\n",
       "      <td>0.842604</td>\n",
       "      <td>0.207028</td>\n",
       "      <td>0.812884</td>\n",
       "      <td>0.844057</td>\n",
       "    </tr>\n",
       "    <tr>\n",
       "      <th>2</th>\n",
       "      <td>0.296931</td>\n",
       "      <td>0.601631</td>\n",
       "      <td>0.012818</td>\n",
       "      <td>0.005848</td>\n",
       "      <td>0.017592</td>\n",
       "      <td>0.439297</td>\n",
       "      <td>0.308010</td>\n",
       "      <td>0.781561</td>\n",
       "      <td>0.548578</td>\n",
       "      <td>0.343950</td>\n",
       "      <td>...</td>\n",
       "      <td>0.702614</td>\n",
       "      <td>0.245642</td>\n",
       "      <td>0.593557</td>\n",
       "      <td>0.660040</td>\n",
       "      <td>0.773022</td>\n",
       "      <td>0.834526</td>\n",
       "      <td>0.942080</td>\n",
       "      <td>0.175156</td>\n",
       "      <td>0.107744</td>\n",
       "      <td>0.330796</td>\n",
       "    </tr>\n",
       "    <tr>\n",
       "      <th>3</th>\n",
       "      <td>0.284010</td>\n",
       "      <td>0.690122</td>\n",
       "      <td>0.798014</td>\n",
       "      <td>0.049907</td>\n",
       "      <td>0.318646</td>\n",
       "      <td>0.539841</td>\n",
       "      <td>0.772812</td>\n",
       "      <td>0.186648</td>\n",
       "      <td>0.631908</td>\n",
       "      <td>0.001528</td>\n",
       "      <td>...</td>\n",
       "      <td>0.866633</td>\n",
       "      <td>0.027820</td>\n",
       "      <td>0.873194</td>\n",
       "      <td>0.194507</td>\n",
       "      <td>0.050308</td>\n",
       "      <td>0.405028</td>\n",
       "      <td>0.432118</td>\n",
       "      <td>0.415351</td>\n",
       "      <td>0.957544</td>\n",
       "      <td>0.511517</td>\n",
       "    </tr>\n",
       "    <tr>\n",
       "      <th>4</th>\n",
       "      <td>0.067540</td>\n",
       "      <td>0.204458</td>\n",
       "      <td>0.710430</td>\n",
       "      <td>0.471830</td>\n",
       "      <td>0.914320</td>\n",
       "      <td>0.684698</td>\n",
       "      <td>0.555042</td>\n",
       "      <td>0.386414</td>\n",
       "      <td>0.859180</td>\n",
       "      <td>0.997457</td>\n",
       "      <td>...</td>\n",
       "      <td>0.043507</td>\n",
       "      <td>0.164416</td>\n",
       "      <td>0.234176</td>\n",
       "      <td>0.125694</td>\n",
       "      <td>0.340698</td>\n",
       "      <td>0.105927</td>\n",
       "      <td>0.320015</td>\n",
       "      <td>0.581186</td>\n",
       "      <td>0.156022</td>\n",
       "      <td>0.608952</td>\n",
       "    </tr>\n",
       "  </tbody>\n",
       "</table>\n",
       "<p>5 rows × 336 columns</p>\n",
       "</div>"
      ],
      "text/plain": [
       "        0         1         2         3         4         5         6    \\\n",
       "0  0.730000  0.446068  0.886178  0.232437  0.518885  0.503175  0.271156   \n",
       "1  0.241591  0.522179  0.765795  0.882036  0.140367  0.920762  0.040733   \n",
       "2  0.296931  0.601631  0.012818  0.005848  0.017592  0.439297  0.308010   \n",
       "3  0.284010  0.690122  0.798014  0.049907  0.318646  0.539841  0.772812   \n",
       "4  0.067540  0.204458  0.710430  0.471830  0.914320  0.684698  0.555042   \n",
       "\n",
       "        7         8         9    ...       326       327       328       329  \\\n",
       "0  0.171074  0.953264  0.153660  ...  0.592394  0.689292  0.060048  0.113983   \n",
       "1  0.375286  0.535862  0.272115  ...  0.487359  0.747437  0.719526  0.475674   \n",
       "2  0.781561  0.548578  0.343950  ...  0.702614  0.245642  0.593557  0.660040   \n",
       "3  0.186648  0.631908  0.001528  ...  0.866633  0.027820  0.873194  0.194507   \n",
       "4  0.386414  0.859180  0.997457  ...  0.043507  0.164416  0.234176  0.125694   \n",
       "\n",
       "        330       331       332       333       334       335  \n",
       "0  0.641967  0.229551  0.425449  0.146395  0.677649  0.797380  \n",
       "1  0.854431  0.727212  0.842604  0.207028  0.812884  0.844057  \n",
       "2  0.773022  0.834526  0.942080  0.175156  0.107744  0.330796  \n",
       "3  0.050308  0.405028  0.432118  0.415351  0.957544  0.511517  \n",
       "4  0.340698  0.105927  0.320015  0.581186  0.156022  0.608952  \n",
       "\n",
       "[5 rows x 336 columns]"
      ]
     },
     "execution_count": 23,
     "metadata": {},
     "output_type": "execute_result"
    }
   ],
   "source": [
    "newdf.T #Transpose"
   ]
  },
  {
   "cell_type": "code",
   "execution_count": 24,
   "id": "8bd539ee",
   "metadata": {},
   "outputs": [
    {
     "data": {
      "text/html": [
       "<div>\n",
       "<style scoped>\n",
       "    .dataframe tbody tr th:only-of-type {\n",
       "        vertical-align: middle;\n",
       "    }\n",
       "\n",
       "    .dataframe tbody tr th {\n",
       "        vertical-align: top;\n",
       "    }\n",
       "\n",
       "    .dataframe thead th {\n",
       "        text-align: right;\n",
       "    }\n",
       "</style>\n",
       "<table border=\"1\" class=\"dataframe\">\n",
       "  <thead>\n",
       "    <tr style=\"text-align: right;\">\n",
       "      <th></th>\n",
       "      <th>0</th>\n",
       "      <th>1</th>\n",
       "      <th>2</th>\n",
       "      <th>3</th>\n",
       "      <th>4</th>\n",
       "    </tr>\n",
       "  </thead>\n",
       "  <tbody>\n",
       "    <tr>\n",
       "      <th>335</th>\n",
       "      <td>0.797380</td>\n",
       "      <td>0.844057</td>\n",
       "      <td>0.330796</td>\n",
       "      <td>0.511517</td>\n",
       "      <td>0.608952</td>\n",
       "    </tr>\n",
       "    <tr>\n",
       "      <th>334</th>\n",
       "      <td>0.677649</td>\n",
       "      <td>0.812884</td>\n",
       "      <td>0.107744</td>\n",
       "      <td>0.957544</td>\n",
       "      <td>0.156022</td>\n",
       "    </tr>\n",
       "    <tr>\n",
       "      <th>333</th>\n",
       "      <td>0.146395</td>\n",
       "      <td>0.207028</td>\n",
       "      <td>0.175156</td>\n",
       "      <td>0.415351</td>\n",
       "      <td>0.581186</td>\n",
       "    </tr>\n",
       "    <tr>\n",
       "      <th>332</th>\n",
       "      <td>0.425449</td>\n",
       "      <td>0.842604</td>\n",
       "      <td>0.942080</td>\n",
       "      <td>0.432118</td>\n",
       "      <td>0.320015</td>\n",
       "    </tr>\n",
       "    <tr>\n",
       "      <th>331</th>\n",
       "      <td>0.229551</td>\n",
       "      <td>0.727212</td>\n",
       "      <td>0.834526</td>\n",
       "      <td>0.405028</td>\n",
       "      <td>0.105927</td>\n",
       "    </tr>\n",
       "    <tr>\n",
       "      <th>...</th>\n",
       "      <td>...</td>\n",
       "      <td>...</td>\n",
       "      <td>...</td>\n",
       "      <td>...</td>\n",
       "      <td>...</td>\n",
       "    </tr>\n",
       "    <tr>\n",
       "      <th>4</th>\n",
       "      <td>0.518885</td>\n",
       "      <td>0.140367</td>\n",
       "      <td>0.017592</td>\n",
       "      <td>0.318646</td>\n",
       "      <td>0.914320</td>\n",
       "    </tr>\n",
       "    <tr>\n",
       "      <th>3</th>\n",
       "      <td>0.232437</td>\n",
       "      <td>0.882036</td>\n",
       "      <td>0.005848</td>\n",
       "      <td>0.049907</td>\n",
       "      <td>0.471830</td>\n",
       "    </tr>\n",
       "    <tr>\n",
       "      <th>2</th>\n",
       "      <td>0.886178</td>\n",
       "      <td>0.765795</td>\n",
       "      <td>0.012818</td>\n",
       "      <td>0.798014</td>\n",
       "      <td>0.710430</td>\n",
       "    </tr>\n",
       "    <tr>\n",
       "      <th>1</th>\n",
       "      <td>0.446068</td>\n",
       "      <td>0.522179</td>\n",
       "      <td>0.601631</td>\n",
       "      <td>0.690122</td>\n",
       "      <td>0.204458</td>\n",
       "    </tr>\n",
       "    <tr>\n",
       "      <th>0</th>\n",
       "      <td>0.730000</td>\n",
       "      <td>0.241591</td>\n",
       "      <td>0.296931</td>\n",
       "      <td>0.284010</td>\n",
       "      <td>0.067540</td>\n",
       "    </tr>\n",
       "  </tbody>\n",
       "</table>\n",
       "<p>336 rows × 5 columns</p>\n",
       "</div>"
      ],
      "text/plain": [
       "            0         1         2         3         4\n",
       "335  0.797380  0.844057  0.330796  0.511517  0.608952\n",
       "334  0.677649  0.812884  0.107744  0.957544  0.156022\n",
       "333  0.146395  0.207028  0.175156  0.415351  0.581186\n",
       "332  0.425449  0.842604  0.942080  0.432118  0.320015\n",
       "331  0.229551  0.727212  0.834526  0.405028  0.105927\n",
       "..        ...       ...       ...       ...       ...\n",
       "4    0.518885  0.140367  0.017592  0.318646  0.914320\n",
       "3    0.232437  0.882036  0.005848  0.049907  0.471830\n",
       "2    0.886178  0.765795  0.012818  0.798014  0.710430\n",
       "1    0.446068  0.522179  0.601631  0.690122  0.204458\n",
       "0    0.730000  0.241591  0.296931  0.284010  0.067540\n",
       "\n",
       "[336 rows x 5 columns]"
      ]
     },
     "execution_count": 24,
     "metadata": {},
     "output_type": "execute_result"
    }
   ],
   "source": [
    "newdf.sort_index(axis=0,ascending=False) #Sort the table on the basis of decreasing values of their index."
   ]
  },
  {
   "cell_type": "markdown",
   "id": "2107eb30",
   "metadata": {},
   "source": [
    "# Copy,View"
   ]
  },
  {
   "cell_type": "code",
   "execution_count": 25,
   "id": "af6f7baf",
   "metadata": {
    "scrolled": false
   },
   "outputs": [],
   "source": [
    "x=newdf.copy()\n",
    "x[1][0]=1.45"
   ]
  },
  {
   "cell_type": "code",
   "execution_count": 26,
   "id": "ddd94f22",
   "metadata": {},
   "outputs": [],
   "source": [
    "x.columns=list(\"qwert\") # q for first column,w for second and so on."
   ]
  },
  {
   "cell_type": "markdown",
   "id": "b169904d",
   "metadata": {},
   "source": [
    "# Drop rows/columns"
   ]
  },
  {
   "cell_type": "code",
   "execution_count": 27,
   "id": "cf8fc79a",
   "metadata": {},
   "outputs": [
    {
     "data": {
      "text/html": [
       "<div>\n",
       "<style scoped>\n",
       "    .dataframe tbody tr th:only-of-type {\n",
       "        vertical-align: middle;\n",
       "    }\n",
       "\n",
       "    .dataframe tbody tr th {\n",
       "        vertical-align: top;\n",
       "    }\n",
       "\n",
       "    .dataframe thead th {\n",
       "        text-align: right;\n",
       "    }\n",
       "</style>\n",
       "<table border=\"1\" class=\"dataframe\">\n",
       "  <thead>\n",
       "    <tr style=\"text-align: right;\">\n",
       "      <th></th>\n",
       "      <th>q</th>\n",
       "      <th>w</th>\n",
       "      <th>e</th>\n",
       "      <th>r</th>\n",
       "      <th>t</th>\n",
       "    </tr>\n",
       "  </thead>\n",
       "  <tbody>\n",
       "    <tr>\n",
       "      <th>1</th>\n",
       "      <td>0.446068</td>\n",
       "      <td>0.522179</td>\n",
       "      <td>0.601631</td>\n",
       "      <td>0.690122</td>\n",
       "      <td>0.204458</td>\n",
       "    </tr>\n",
       "    <tr>\n",
       "      <th>2</th>\n",
       "      <td>0.886178</td>\n",
       "      <td>0.765795</td>\n",
       "      <td>0.012818</td>\n",
       "      <td>0.798014</td>\n",
       "      <td>0.710430</td>\n",
       "    </tr>\n",
       "    <tr>\n",
       "      <th>3</th>\n",
       "      <td>0.232437</td>\n",
       "      <td>0.882036</td>\n",
       "      <td>0.005848</td>\n",
       "      <td>0.049907</td>\n",
       "      <td>0.471830</td>\n",
       "    </tr>\n",
       "    <tr>\n",
       "      <th>4</th>\n",
       "      <td>0.518885</td>\n",
       "      <td>0.140367</td>\n",
       "      <td>0.017592</td>\n",
       "      <td>0.318646</td>\n",
       "      <td>0.914320</td>\n",
       "    </tr>\n",
       "    <tr>\n",
       "      <th>5</th>\n",
       "      <td>0.503175</td>\n",
       "      <td>0.920762</td>\n",
       "      <td>0.439297</td>\n",
       "      <td>0.539841</td>\n",
       "      <td>0.684698</td>\n",
       "    </tr>\n",
       "    <tr>\n",
       "      <th>...</th>\n",
       "      <td>...</td>\n",
       "      <td>...</td>\n",
       "      <td>...</td>\n",
       "      <td>...</td>\n",
       "      <td>...</td>\n",
       "    </tr>\n",
       "    <tr>\n",
       "      <th>331</th>\n",
       "      <td>0.229551</td>\n",
       "      <td>0.727212</td>\n",
       "      <td>0.834526</td>\n",
       "      <td>0.405028</td>\n",
       "      <td>0.105927</td>\n",
       "    </tr>\n",
       "    <tr>\n",
       "      <th>332</th>\n",
       "      <td>0.425449</td>\n",
       "      <td>0.842604</td>\n",
       "      <td>0.942080</td>\n",
       "      <td>0.432118</td>\n",
       "      <td>0.320015</td>\n",
       "    </tr>\n",
       "    <tr>\n",
       "      <th>333</th>\n",
       "      <td>0.146395</td>\n",
       "      <td>0.207028</td>\n",
       "      <td>0.175156</td>\n",
       "      <td>0.415351</td>\n",
       "      <td>0.581186</td>\n",
       "    </tr>\n",
       "    <tr>\n",
       "      <th>334</th>\n",
       "      <td>0.677649</td>\n",
       "      <td>0.812884</td>\n",
       "      <td>0.107744</td>\n",
       "      <td>0.957544</td>\n",
       "      <td>0.156022</td>\n",
       "    </tr>\n",
       "    <tr>\n",
       "      <th>335</th>\n",
       "      <td>0.797380</td>\n",
       "      <td>0.844057</td>\n",
       "      <td>0.330796</td>\n",
       "      <td>0.511517</td>\n",
       "      <td>0.608952</td>\n",
       "    </tr>\n",
       "  </tbody>\n",
       "</table>\n",
       "<p>335 rows × 5 columns</p>\n",
       "</div>"
      ],
      "text/plain": [
       "            q         w         e         r         t\n",
       "1    0.446068  0.522179  0.601631  0.690122  0.204458\n",
       "2    0.886178  0.765795  0.012818  0.798014  0.710430\n",
       "3    0.232437  0.882036  0.005848  0.049907  0.471830\n",
       "4    0.518885  0.140367  0.017592  0.318646  0.914320\n",
       "5    0.503175  0.920762  0.439297  0.539841  0.684698\n",
       "..        ...       ...       ...       ...       ...\n",
       "331  0.229551  0.727212  0.834526  0.405028  0.105927\n",
       "332  0.425449  0.842604  0.942080  0.432118  0.320015\n",
       "333  0.146395  0.207028  0.175156  0.415351  0.581186\n",
       "334  0.677649  0.812884  0.107744  0.957544  0.156022\n",
       "335  0.797380  0.844057  0.330796  0.511517  0.608952\n",
       "\n",
       "[335 rows x 5 columns]"
      ]
     },
     "execution_count": 27,
     "metadata": {},
     "output_type": "execute_result"
    }
   ],
   "source": [
    "x.drop('t',axis=1) #this will drop the column 't'.\n",
    "x.drop(0,axis=0) #this will drop the row 0.\n",
    "\n",
    "#Note:These drops will be locally made. to assign it, do x=x.drop()..."
   ]
  },
  {
   "cell_type": "code",
   "execution_count": 28,
   "id": "e3aaea13",
   "metadata": {},
   "outputs": [],
   "source": [
    "x['new']=np.arange(336) # add a new column of values from 0,1,2,3....335"
   ]
  },
  {
   "cell_type": "markdown",
   "id": "4df07274",
   "metadata": {},
   "source": [
    "# Get the rows/column indexes"
   ]
  },
  {
   "cell_type": "code",
   "execution_count": 29,
   "id": "46fcf6b0",
   "metadata": {},
   "outputs": [
    {
     "name": "stdout",
     "output_type": "stream",
     "text": [
      "          w         q         e\n",
      "2  0.765795  0.886178  0.012818\n",
      "4  0.140367  0.518885  0.017592\n",
      "9  0.272115  0.153660  0.343950\n",
      "5  0.920762  0.503175  0.439297\n",
      "          q         w         e         r         t  new\n",
      "2  0.886178  0.765795  0.012818  0.798014  0.710430    2\n",
      "4  0.518885  0.140367  0.017592  0.318646  0.914320    4\n",
      "9  0.153660  0.272115  0.343950  0.001528  0.997457    9\n",
      "5  0.503175  0.920762  0.439297  0.539841  0.684698    5\n"
     ]
    }
   ],
   "source": [
    "print(x.loc[[2,4,9,5],['w','q','e' ]])\n",
    "print(x.loc[[2,4,9,5],:])"
   ]
  },
  {
   "cell_type": "markdown",
   "id": "ef6a5046",
   "metadata": {},
   "source": [
    "# Conditional data fetch"
   ]
  },
  {
   "cell_type": "code",
   "execution_count": 32,
   "id": "6c0a20d4",
   "metadata": {},
   "outputs": [
    {
     "data": {
      "text/plain": [
       "22"
      ]
     },
     "execution_count": 32,
     "metadata": {},
     "output_type": "execute_result"
    }
   ],
   "source": [
    "x.loc[(x['w']>0.6) & (x['e']>0.6)]['new'][22]\n",
    "# fetch the entry in the index number 4 in the table where the column is new,and where the table actually has the w values greater than 0.6"
   ]
  },
  {
   "cell_type": "code",
   "execution_count": 33,
   "id": "4e09f452",
   "metadata": {},
   "outputs": [
    {
     "data": {
      "text/html": [
       "<div>\n",
       "<style scoped>\n",
       "    .dataframe tbody tr th:only-of-type {\n",
       "        vertical-align: middle;\n",
       "    }\n",
       "\n",
       "    .dataframe tbody tr th {\n",
       "        vertical-align: top;\n",
       "    }\n",
       "\n",
       "    .dataframe thead th {\n",
       "        text-align: right;\n",
       "    }\n",
       "</style>\n",
       "<table border=\"1\" class=\"dataframe\">\n",
       "  <thead>\n",
       "    <tr style=\"text-align: right;\">\n",
       "      <th></th>\n",
       "      <th>q</th>\n",
       "      <th>w</th>\n",
       "      <th>r</th>\n",
       "    </tr>\n",
       "  </thead>\n",
       "  <tbody>\n",
       "    <tr>\n",
       "      <th>1</th>\n",
       "      <td>0.446068</td>\n",
       "      <td>0.522179</td>\n",
       "      <td>0.690122</td>\n",
       "    </tr>\n",
       "    <tr>\n",
       "      <th>5</th>\n",
       "      <td>0.503175</td>\n",
       "      <td>0.920762</td>\n",
       "      <td>0.539841</td>\n",
       "    </tr>\n",
       "    <tr>\n",
       "      <th>17</th>\n",
       "      <td>0.281841</td>\n",
       "      <td>0.366958</td>\n",
       "      <td>0.859746</td>\n",
       "    </tr>\n",
       "  </tbody>\n",
       "</table>\n",
       "</div>"
      ],
      "text/plain": [
       "           q         w         r\n",
       "1   0.446068  0.522179  0.690122\n",
       "5   0.503175  0.920762  0.539841\n",
       "17  0.281841  0.366958  0.859746"
      ]
     },
     "execution_count": 33,
     "metadata": {},
     "output_type": "execute_result"
    }
   ],
   "source": [
    "x.iloc[[1,5,17],[0,1,3]] \n",
    "#iloc is used when we dont want to input the column by its name, but rather simply by indexing."
   ]
  },
  {
   "cell_type": "code",
   "execution_count": 35,
   "id": "fc0cd58b",
   "metadata": {},
   "outputs": [],
   "source": [
    "new=x.loc[(x['w']>0.6) & (x['e']>0.6)]"
   ]
  },
  {
   "cell_type": "code",
   "execution_count": 42,
   "id": "83e376eb",
   "metadata": {},
   "outputs": [
    {
     "data": {
      "text/html": [
       "<div>\n",
       "<style scoped>\n",
       "    .dataframe tbody tr th:only-of-type {\n",
       "        vertical-align: middle;\n",
       "    }\n",
       "\n",
       "    .dataframe tbody tr th {\n",
       "        vertical-align: top;\n",
       "    }\n",
       "\n",
       "    .dataframe thead th {\n",
       "        text-align: right;\n",
       "    }\n",
       "</style>\n",
       "<table border=\"1\" class=\"dataframe\">\n",
       "  <thead>\n",
       "    <tr style=\"text-align: right;\">\n",
       "      <th></th>\n",
       "      <th>q</th>\n",
       "      <th>w</th>\n",
       "      <th>e</th>\n",
       "      <th>r</th>\n",
       "      <th>t</th>\n",
       "      <th>new</th>\n",
       "    </tr>\n",
       "  </thead>\n",
       "  <tbody>\n",
       "    <tr>\n",
       "      <th>0</th>\n",
       "      <td>0.607913</td>\n",
       "      <td>0.970597</td>\n",
       "      <td>0.934600</td>\n",
       "      <td>0.639065</td>\n",
       "      <td>0.352757</td>\n",
       "      <td>16</td>\n",
       "    </tr>\n",
       "    <tr>\n",
       "      <th>1</th>\n",
       "      <td>0.512904</td>\n",
       "      <td>0.881182</td>\n",
       "      <td>0.768209</td>\n",
       "      <td>0.055210</td>\n",
       "      <td>0.267391</td>\n",
       "      <td>22</td>\n",
       "    </tr>\n",
       "    <tr>\n",
       "      <th>2</th>\n",
       "      <td>0.543605</td>\n",
       "      <td>0.605938</td>\n",
       "      <td>0.660468</td>\n",
       "      <td>0.399607</td>\n",
       "      <td>0.475081</td>\n",
       "      <td>30</td>\n",
       "    </tr>\n",
       "    <tr>\n",
       "      <th>3</th>\n",
       "      <td>0.724988</td>\n",
       "      <td>0.831216</td>\n",
       "      <td>0.625884</td>\n",
       "      <td>0.849870</td>\n",
       "      <td>0.522436</td>\n",
       "      <td>45</td>\n",
       "    </tr>\n",
       "    <tr>\n",
       "      <th>4</th>\n",
       "      <td>0.278844</td>\n",
       "      <td>0.714820</td>\n",
       "      <td>0.963685</td>\n",
       "      <td>0.156041</td>\n",
       "      <td>0.488221</td>\n",
       "      <td>48</td>\n",
       "    </tr>\n",
       "  </tbody>\n",
       "</table>\n",
       "</div>"
      ],
      "text/plain": [
       "          q         w         e         r         t  new\n",
       "0  0.607913  0.970597  0.934600  0.639065  0.352757   16\n",
       "1  0.512904  0.881182  0.768209  0.055210  0.267391   22\n",
       "2  0.543605  0.605938  0.660468  0.399607  0.475081   30\n",
       "3  0.724988  0.831216  0.625884  0.849870  0.522436   45\n",
       "4  0.278844  0.714820  0.963685  0.156041  0.488221   48"
      ]
     },
     "execution_count": 42,
     "metadata": {},
     "output_type": "execute_result"
    }
   ],
   "source": [
    "new.reset_index(drop=True,inplace=True) # This function will basically ensure that the indexing starts from 0.\n",
    "new.head()\n"
   ]
  },
  {
   "cell_type": "markdown",
   "id": "b128aa18",
   "metadata": {},
   "source": [
    "# Null"
   ]
  },
  {
   "cell_type": "code",
   "execution_count": 43,
   "id": "17846791",
   "metadata": {},
   "outputs": [
    {
     "data": {
      "text/plain": [
       "0     False\n",
       "1     False\n",
       "2     False\n",
       "3     False\n",
       "4     False\n",
       "5     False\n",
       "6     False\n",
       "7     False\n",
       "8     False\n",
       "9     False\n",
       "10    False\n",
       "11    False\n",
       "12    False\n",
       "13    False\n",
       "14    False\n",
       "15    False\n",
       "16    False\n",
       "17    False\n",
       "18    False\n",
       "19    False\n",
       "20    False\n",
       "21    False\n",
       "22    False\n",
       "23    False\n",
       "24    False\n",
       "25    False\n",
       "26    False\n",
       "27    False\n",
       "28    False\n",
       "29    False\n",
       "30    False\n",
       "31    False\n",
       "32    False\n",
       "33    False\n",
       "34    False\n",
       "35    False\n",
       "36    False\n",
       "37    False\n",
       "38    False\n",
       "39    False\n",
       "40    False\n",
       "41    False\n",
       "42    False\n",
       "43    False\n",
       "44    False\n",
       "45    False\n",
       "46    False\n",
       "47    False\n",
       "48    False\n",
       "49    False\n",
       "50    False\n",
       "51    False\n",
       "52    False\n",
       "53    False\n",
       "54    False\n",
       "55    False\n",
       "56    False\n",
       "Name: q, dtype: bool"
      ]
     },
     "execution_count": 43,
     "metadata": {},
     "output_type": "execute_result"
    }
   ],
   "source": [
    "new['q'].isnull()"
   ]
  },
  {
   "cell_type": "code",
   "execution_count": 46,
   "id": "b877a5f2",
   "metadata": {},
   "outputs": [],
   "source": [
    "new.loc[:,['w']]=None #Always use this instead of just doing new['w']= None"
   ]
  },
  {
   "cell_type": "code",
   "execution_count": 47,
   "id": "8abca49d",
   "metadata": {},
   "outputs": [
    {
     "data": {
      "text/plain": [
       "0     True\n",
       "1     True\n",
       "2     True\n",
       "3     True\n",
       "4     True\n",
       "5     True\n",
       "6     True\n",
       "7     True\n",
       "8     True\n",
       "9     True\n",
       "10    True\n",
       "11    True\n",
       "12    True\n",
       "13    True\n",
       "14    True\n",
       "15    True\n",
       "16    True\n",
       "17    True\n",
       "18    True\n",
       "19    True\n",
       "20    True\n",
       "21    True\n",
       "22    True\n",
       "23    True\n",
       "24    True\n",
       "25    True\n",
       "26    True\n",
       "27    True\n",
       "28    True\n",
       "29    True\n",
       "30    True\n",
       "31    True\n",
       "32    True\n",
       "33    True\n",
       "34    True\n",
       "35    True\n",
       "36    True\n",
       "37    True\n",
       "38    True\n",
       "39    True\n",
       "40    True\n",
       "41    True\n",
       "42    True\n",
       "43    True\n",
       "44    True\n",
       "45    True\n",
       "46    True\n",
       "47    True\n",
       "48    True\n",
       "49    True\n",
       "50    True\n",
       "51    True\n",
       "52    True\n",
       "53    True\n",
       "54    True\n",
       "55    True\n",
       "56    True\n",
       "Name: w, dtype: bool"
      ]
     },
     "execution_count": 47,
     "metadata": {},
     "output_type": "execute_result"
    }
   ],
   "source": [
    "new['w'].isnull()"
   ]
  },
  {
   "cell_type": "code",
   "execution_count": 50,
   "id": "71dda364",
   "metadata": {},
   "outputs": [
    {
     "data": {
      "text/html": [
       "<div>\n",
       "<style scoped>\n",
       "    .dataframe tbody tr th:only-of-type {\n",
       "        vertical-align: middle;\n",
       "    }\n",
       "\n",
       "    .dataframe tbody tr th {\n",
       "        vertical-align: top;\n",
       "    }\n",
       "\n",
       "    .dataframe thead th {\n",
       "        text-align: right;\n",
       "    }\n",
       "</style>\n",
       "<table border=\"1\" class=\"dataframe\">\n",
       "  <thead>\n",
       "    <tr style=\"text-align: right;\">\n",
       "      <th></th>\n",
       "      <th>q</th>\n",
       "      <th>w</th>\n",
       "      <th>e</th>\n",
       "      <th>r</th>\n",
       "      <th>t</th>\n",
       "      <th>new</th>\n",
       "    </tr>\n",
       "  </thead>\n",
       "  <tbody>\n",
       "  </tbody>\n",
       "</table>\n",
       "</div>"
      ],
      "text/plain": [
       "Empty DataFrame\n",
       "Columns: [q, w, e, r, t, new]\n",
       "Index: []"
      ]
     },
     "execution_count": 50,
     "metadata": {},
     "output_type": "execute_result"
    }
   ],
   "source": [
    "new.dropna() # locally. this will eliminate all rows where even one na is there"
   ]
  },
  {
   "cell_type": "code",
   "execution_count": null,
   "id": "a52f1d89",
   "metadata": {},
   "outputs": [],
   "source": []
  }
 ],
 "metadata": {
  "kernelspec": {
   "display_name": "Python 3 (ipykernel)",
   "language": "python",
   "name": "python3"
  },
  "language_info": {
   "codemirror_mode": {
    "name": "ipython",
    "version": 3
   },
   "file_extension": ".py",
   "mimetype": "text/x-python",
   "name": "python",
   "nbconvert_exporter": "python",
   "pygments_lexer": "ipython3",
   "version": "3.9.7"
  }
 },
 "nbformat": 4,
 "nbformat_minor": 5
}
