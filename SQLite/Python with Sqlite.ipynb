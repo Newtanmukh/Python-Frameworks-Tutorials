{
 "cells": [
  {
   "cell_type": "code",
   "execution_count": 1,
   "id": "be0943a4",
   "metadata": {},
   "outputs": [],
   "source": [
    "import sqlite3"
   ]
  },
  {
   "cell_type": "code",
   "execution_count": 2,
   "id": "5d486cf0",
   "metadata": {},
   "outputs": [],
   "source": [
    "conn = sqlite3.connect('customer.db') #if this database does not exist, then it will get created."
   ]
  },
  {
   "cell_type": "code",
   "execution_count": 3,
   "id": "ab0927b9",
   "metadata": {},
   "outputs": [],
   "source": [
    "# Create a cursor\n",
    "c = conn.cursor()"
   ]
  },
  {
   "cell_type": "code",
   "execution_count": 4,
   "id": "ca4d07f8",
   "metadata": {},
   "outputs": [
    {
     "data": {
      "text/plain": [
       "<sqlite3.Cursor at 0x1800dff77a0>"
      ]
     },
     "execution_count": 4,
     "metadata": {},
     "output_type": "execute_result"
    }
   ],
   "source": [
    "# Create a Table\n",
    "c.execute(\"\"\"CREATE TABLE customers (\n",
    "\t\tfirst_name text,\n",
    "\t\tlast_name text,\n",
    "\t\temail text\n",
    "\t)\"\"\")\n",
    "\n",
    "# Datatypes:\n",
    "# NULL\n",
    "# INTEGER\n",
    "# REAL\n",
    "# TEXT\n",
    "# BLOB"
   ]
  },
  {
   "cell_type": "code",
   "execution_count": 5,
   "id": "3ba47d8a",
   "metadata": {},
   "outputs": [],
   "source": [
    "# Commit these changes to our database.\n",
    "conn.commit()\n",
    "\n",
    "# Close our connection\n",
    "conn.close()"
   ]
  },
  {
   "cell_type": "markdown",
   "id": "52959677",
   "metadata": {},
   "source": [
    "# Insert one value into the table"
   ]
  },
  {
   "cell_type": "code",
   "execution_count": 6,
   "id": "83bce456",
   "metadata": {},
   "outputs": [],
   "source": [
    "# Connect to database\n",
    "conn = sqlite3.connect('customer.db')\n",
    "\n",
    "# Create a cursor\n",
    "c = conn.cursor()\n",
    "c.execute(\"INSERT INTO customers VALUES ('Mary', 'Brown', 'mary@codemy.com')\") # Watch out for single and double quote.\n",
    "# Commit our command\n",
    "conn.commit()\n",
    "\n",
    "# Close our connection\n",
    "conn.close()"
   ]
  },
  {
   "cell_type": "markdown",
   "id": "c973834e",
   "metadata": {},
   "source": [
    "# Insert Many values into the table"
   ]
  },
  {
   "cell_type": "code",
   "execution_count": 7,
   "id": "6a0b08e9",
   "metadata": {},
   "outputs": [],
   "source": [
    "# Connect to database\n",
    "conn = sqlite3.connect('customer.db')\n",
    "\n",
    "# Create a cursor\n",
    "c = conn.cursor()\n",
    "\n",
    "many_customers = [\n",
    "\t\t\t\t\t('Wes', 'Brown', 'wes@brown.com'), \n",
    "\t\t\t\t\t('Steph', 'Kuewa', 'steph@kuewa.com'), \n",
    "\t\t\t\t\t('Dan', \"Pas\", 'dan@pas.com'),\n",
    "\t\t\t\t]\n",
    "\n",
    "c.executemany(\"INSERT INTO customers VALUES (?,?,?)\", many_customers)\n",
    "\n",
    "# Commit our command\n",
    "conn.commit()\n",
    "\n",
    "# Close our connection\n",
    "conn.close()"
   ]
  },
  {
   "cell_type": "markdown",
   "id": "5c9fa7fb",
   "metadata": {},
   "source": [
    "# Fetch/Select"
   ]
  },
  {
   "cell_type": "code",
   "execution_count": 12,
   "id": "634e81d4",
   "metadata": {},
   "outputs": [
    {
     "name": "stdout",
     "output_type": "stream",
     "text": [
      "('Mary', 'Brown', 'mary@codemy.com')\n",
      "[('Wes', 'Brown', 'wes@brown.com')]\n",
      "[('Steph', 'Kuewa', 'steph@kuewa.com'), ('Dan', 'Pas', 'dan@pas.com')]\n"
     ]
    }
   ],
   "source": [
    "# Connect to database\n",
    "conn = sqlite3.connect('customer.db')\n",
    "\n",
    "# Create a cursor\n",
    "c = conn.cursor()\n",
    "c.execute(\"SELECT * FROM customers\")\n",
    "\n",
    "print(c.fetchone()) # will fetch the one. the pointer will move down\n",
    "print(c.fetchmany(1)) # will fetch the next two\n",
    "print(c.fetchall())# will fetch the remaining. that is, except the first three this will return the rest of 'em.'\n",
    "\n",
    "# Commit our command\n",
    "conn.commit()\n",
    "\n",
    "# Close our connection\n",
    "conn.close()"
   ]
  },
  {
   "cell_type": "code",
   "execution_count": 18,
   "id": "a84aa15f",
   "metadata": {},
   "outputs": [
    {
     "name": "stdout",
     "output_type": "stream",
     "text": [
      "Mary\n",
      "[('Wes', 'Brown', 'wes@brown.com'), ('Steph', 'Kuewa', 'steph@kuewa.com')]\n"
     ]
    }
   ],
   "source": [
    "# Connect to database\n",
    "conn = sqlite3.connect('customer.db')\n",
    "\n",
    "# Create a cursor\n",
    "c = conn.cursor()\n",
    "c.execute(\"SELECT * FROM customers\")\n",
    "\n",
    "print(c.fetchone()[0]) #this will specifically give u only the name\n",
    "print(c.fetchall()[0:2]) # first two customers of the remaining three\n",
    "# Commit our command\n",
    "conn.commit()\n",
    "\n",
    "# Close our connection\n",
    "conn.close()"
   ]
  },
  {
   "cell_type": "markdown",
   "id": "eae824d0",
   "metadata": {},
   "source": [
    "# Where clause"
   ]
  },
  {
   "cell_type": "code",
   "execution_count": 21,
   "id": "0d59a5da",
   "metadata": {},
   "outputs": [
    {
     "name": "stdout",
     "output_type": "stream",
     "text": [
      "[('Wes', 'Brown', 'wes@brown.com')]\n"
     ]
    }
   ],
   "source": [
    "# Connect to database\n",
    "conn = sqlite3.connect('customer.db')\n",
    "\n",
    "# Create a cursor\n",
    "c = conn.cursor()\n",
    "c.execute(\"SELECT * FROM customers WHERE first_name='Wes'\")\n",
    "\n",
    "print(c.fetchall()) # will fetch the one. the pointer will move down\n",
    "\n",
    "\n",
    "# Commit our command\n",
    "conn.commit()\n",
    "\n",
    "# Close our connection\n",
    "conn.close()"
   ]
  },
  {
   "cell_type": "code",
   "execution_count": null,
   "id": "5dcdfc46",
   "metadata": {},
   "outputs": [],
   "source": []
  }
 ],
 "metadata": {
  "kernelspec": {
   "display_name": "Python 3 (ipykernel)",
   "language": "python",
   "name": "python3"
  },
  "language_info": {
   "codemirror_mode": {
    "name": "ipython",
    "version": 3
   },
   "file_extension": ".py",
   "mimetype": "text/x-python",
   "name": "python",
   "nbconvert_exporter": "python",
   "pygments_lexer": "ipython3",
   "version": "3.9.7"
  }
 },
 "nbformat": 4,
 "nbformat_minor": 5
}
