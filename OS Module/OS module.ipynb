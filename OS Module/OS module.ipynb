{
 "cells": [
  {
   "cell_type": "code",
   "execution_count": 1,
   "id": "4ad94f70",
   "metadata": {},
   "outputs": [],
   "source": [
    "import os"
   ]
  },
  {
   "cell_type": "code",
   "execution_count": 2,
   "id": "fd0651a0",
   "metadata": {},
   "outputs": [
    {
     "name": "stdout",
     "output_type": "stream",
     "text": [
      "E:\\python framewors\\Python-Frameworks-Tutorials\\OS Module\n"
     ]
    }
   ],
   "source": [
    "print(os.getcwd()) # will print the current working directory"
   ]
  },
  {
   "cell_type": "markdown",
   "id": "c3233a96",
   "metadata": {},
   "source": [
    "### NOTE : Current working directory basically means that the directory where the current program is in right now"
   ]
  },
  {
   "cell_type": "code",
   "execution_count": 3,
   "id": "0e63902c",
   "metadata": {},
   "outputs": [
    {
     "name": "stdout",
     "output_type": "stream",
     "text": [
      "E:\\python framewors\\Python-Frameworks-Tutorials\\OS Module\n"
     ]
    }
   ],
   "source": [
    "#os.chdir(\"C://\") # change the current working directory to this C disk\n",
    "print(os.getcwd())"
   ]
  },
  {
   "cell_type": "code",
   "execution_count": 4,
   "id": "1c6e03f6",
   "metadata": {},
   "outputs": [
    {
     "name": "stdout",
     "output_type": "stream",
     "text": [
      "['.ipynb_checkpoints', 'OS module.ipynb', 'p.txt.txt']\n"
     ]
    }
   ],
   "source": [
    "print(os.listdir()) # Will give you list of all the folders and  files which are inside this directory now."
   ]
  },
  {
   "cell_type": "code",
   "execution_count": 5,
   "id": "bc95864a",
   "metadata": {},
   "outputs": [
    {
     "name": "stdout",
     "output_type": "stream",
     "text": [
      "['$RECYCLE.BIN', '450 dsa', 'codechef', 'Config.Msi', 'DSA-problems', 'geeksforgeeks', 'leetcode', 'Program Files', 'projects', 'Python bootcamp', 'python framewors', 'python projects', 'REST API', 'RSO bill october 2021.png', 'software engineering', 'System Volume Information', 'test', 'USB folders', 'Users', 'west bengal student credit card', 'x', 'Youtube tutorials']\n"
     ]
    }
   ],
   "source": [
    "print(os.listdir(\"E://\"))"
   ]
  },
  {
   "cell_type": "code",
   "execution_count": 6,
   "id": "e2a1cb1c",
   "metadata": {},
   "outputs": [
    {
     "name": "stdout",
     "output_type": "stream",
     "text": [
      "<class 'list'>\n"
     ]
    }
   ],
   "source": [
    "print(type(os.listdir(\"E://\")))"
   ]
  },
  {
   "cell_type": "code",
   "execution_count": 7,
   "id": "04ce91b6",
   "metadata": {},
   "outputs": [],
   "source": [
    "#os.chdir(\".\")"
   ]
  },
  {
   "cell_type": "code",
   "execution_count": 8,
   "id": "1a644dc7",
   "metadata": {},
   "outputs": [],
   "source": [
    "os.mkdir(\"this\")# will only make this single folder in the current directory\n",
    "os.makedirs(\"/delete/this/now\") # will make these 3 folders in order in the current directory. basically, use makedirs if we want that subdirectory also is made automatically."
   ]
  },
  {
   "cell_type": "code",
   "execution_count": 11,
   "id": "8f42912d",
   "metadata": {},
   "outputs": [
    {
     "ename": "FileNotFoundError",
     "evalue": "[WinError 2] The system cannot find the file specified: 'p' -> 'z.txt'",
     "output_type": "error",
     "traceback": [
      "\u001b[1;31m---------------------------------------------------------------------------\u001b[0m",
      "\u001b[1;31mFileNotFoundError\u001b[0m                         Traceback (most recent call last)",
      "\u001b[1;32m~\\AppData\\Local\\Temp/ipykernel_14052/337410199.py\u001b[0m in \u001b[0;36m<module>\u001b[1;34m\u001b[0m\n\u001b[1;32m----> 1\u001b[1;33m \u001b[0mos\u001b[0m\u001b[1;33m.\u001b[0m\u001b[0mrename\u001b[0m\u001b[1;33m(\u001b[0m\u001b[1;34m\"p\"\u001b[0m\u001b[1;33m,\u001b[0m\u001b[1;34m\"z.txt\"\u001b[0m\u001b[1;33m)\u001b[0m \u001b[1;31m# Rename the filename\u001b[0m\u001b[1;33m\u001b[0m\u001b[1;33m\u001b[0m\u001b[0m\n\u001b[0m",
      "\u001b[1;31mFileNotFoundError\u001b[0m: [WinError 2] The system cannot find the file specified: 'p' -> 'z.txt'"
     ]
    }
   ],
   "source": [
    "os.rename(\"p\",\"z.txt\") # Rename the filename"
   ]
  },
  {
   "cell_type": "code",
   "execution_count": 14,
   "id": "f1cbea97",
   "metadata": {},
   "outputs": [
    {
     "data": {
      "text/plain": [
       "'E:\\\\python framewors\\\\Python-Frameworks-Tutorials\\\\OS Module\\\\f.cpp'"
      ]
     },
     "execution_count": 14,
     "metadata": {},
     "output_type": "execute_result"
    }
   ],
   "source": [
    "os.path.join(\"E:\\python framewors\\Python-Frameworks-Tutorials\\OS Module\",\"f.cpp\")"
   ]
  },
  {
   "cell_type": "code",
   "execution_count": null,
   "id": "ae87f0dd",
   "metadata": {},
   "outputs": [],
   "source": []
  }
 ],
 "metadata": {
  "kernelspec": {
   "display_name": "Python 3 (ipykernel)",
   "language": "python",
   "name": "python3"
  },
  "language_info": {
   "codemirror_mode": {
    "name": "ipython",
    "version": 3
   },
   "file_extension": ".py",
   "mimetype": "text/x-python",
   "name": "python",
   "nbconvert_exporter": "python",
   "pygments_lexer": "ipython3",
   "version": "3.9.7"
  }
 },
 "nbformat": 4,
 "nbformat_minor": 5
}
