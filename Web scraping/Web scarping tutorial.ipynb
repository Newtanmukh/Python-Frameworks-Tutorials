{
 "cells": [
  {
   "cell_type": "markdown",
   "id": "e3ee3525",
   "metadata": {},
   "source": [
    "## Webpage being used here is  :  https://keithgalli.github.io/web-scraping/example.html"
   ]
  },
  {
   "cell_type": "code",
   "execution_count": 1,
   "id": "ccc3d32e",
   "metadata": {},
   "outputs": [],
   "source": [
    "import requests\n",
    "from bs4 import BeautifulSoup as bs"
   ]
  },
  {
   "cell_type": "markdown",
   "id": "85a2d29e",
   "metadata": {},
   "source": [
    "## Load our first page"
   ]
  },
  {
   "cell_type": "code",
   "execution_count": 2,
   "id": "ce79f6fe",
   "metadata": {},
   "outputs": [
    {
     "name": "stdout",
     "output_type": "stream",
     "text": [
      "<html>\n",
      " <head>\n",
      "  <title>\n",
      "   HTML Example\n",
      "  </title>\n",
      " </head>\n",
      " <body>\n",
      "  <div align=\"middle\">\n",
      "   <h1>\n",
      "    HTML Webpage\n",
      "   </h1>\n",
      "   <p>\n",
      "    Link to more interesting example:\n",
      "    <a href=\"https://keithgalli.github.io/web-scraping/webpage.html\">\n",
      "     keithgalli.github.io/web-scraping/webpage.html\n",
      "    </a>\n",
      "   </p>\n",
      "  </div>\n",
      "  <h2>\n",
      "   A Header\n",
      "  </h2>\n",
      "  <p>\n",
      "   <i>\n",
      "    Some italicized text\n",
      "   </i>\n",
      "  </p>\n",
      "  <h2>\n",
      "   Another header\n",
      "  </h2>\n",
      "  <p id=\"paragraph-id\">\n",
      "   <b>\n",
      "    Some bold text\n",
      "   </b>\n",
      "  </p>\n",
      " </body>\n",
      "</html>\n",
      "\n"
     ]
    }
   ],
   "source": [
    "r=requests.get(\"https://keithgalli.github.io/web-scraping/example.html\")\n",
    "\n",
    "#Convert to besutifulsoup object\n",
    "soup=bs(r.content)\n",
    "\n",
    "#Print out our html\n",
    "print(soup.prettify())\n",
    "\n",
    "#print(soup)"
   ]
  },
  {
   "cell_type": "markdown",
   "id": "be23a6ce",
   "metadata": {},
   "source": [
    "# find() and find_all()"
   ]
  },
  {
   "cell_type": "code",
   "execution_count": 3,
   "id": "23730781",
   "metadata": {},
   "outputs": [
    {
     "name": "stdout",
     "output_type": "stream",
     "text": [
      "<h2>A Header</h2>\n"
     ]
    }
   ],
   "source": [
    "first_header=soup.find(\"h2\") # will give the start h2 tag and the contents inside it.\n",
    "print(first_header)"
   ]
  },
  {
   "cell_type": "code",
   "execution_count": 4,
   "id": "d3052c9a",
   "metadata": {},
   "outputs": [
    {
     "name": "stdout",
     "output_type": "stream",
     "text": [
      "[<h2>A Header</h2>, <h2>Another header</h2>]\n"
     ]
    }
   ],
   "source": [
    "headers=soup.find_all(\"h2\") # will give all the headers of h2.\n",
    "print(headers)"
   ]
  },
  {
   "cell_type": "code",
   "execution_count": 5,
   "id": "8a8a3623",
   "metadata": {},
   "outputs": [
    {
     "name": "stdout",
     "output_type": "stream",
     "text": [
      "<h1>HTML Webpage</h1>\n"
     ]
    }
   ],
   "source": [
    "header=soup.find([\"h1\",\"h2\"]) #will give you the first header which is either h1 or h2. order doesnt matter here.\n",
    "print(header)"
   ]
  },
  {
   "cell_type": "code",
   "execution_count": 6,
   "id": "87e38d47",
   "metadata": {},
   "outputs": [
    {
     "name": "stdout",
     "output_type": "stream",
     "text": [
      "[<h1>HTML Webpage</h1>, <h2>A Header</h2>, <h2>Another header</h2>]\n"
     ]
    }
   ],
   "source": [
    "header=soup.find_all([\"h1\",\"h2\"]) #will give you all the headers, be it h1 or h2.\n",
    "print(header)"
   ]
  },
  {
   "cell_type": "markdown",
   "id": "53bdb7d9",
   "metadata": {},
   "source": [
    "### find() and find_all() using attributes"
   ]
  },
  {
   "cell_type": "code",
   "execution_count": 7,
   "id": "0b58451a",
   "metadata": {},
   "outputs": [
    {
     "name": "stdout",
     "output_type": "stream",
     "text": [
      "[<p id=\"paragraph-id\"><b>Some bold text</b></p>]\n"
     ]
    }
   ],
   "source": [
    "paragraph=soup.find_all(\"p\",attrs={\"id\":\"paragraph-id\"}) #give only those paragraphs where the id is paragraph_id\n",
    "print(paragraph)"
   ]
  },
  {
   "cell_type": "code",
   "execution_count": 8,
   "id": "86e6b61a",
   "metadata": {},
   "outputs": [
    {
     "data": {
      "text/plain": [
       "<h1>HTML Webpage</h1>"
      ]
     },
     "execution_count": 8,
     "metadata": {},
     "output_type": "execute_result"
    }
   ],
   "source": [
    "body=soup.find(\"body\").find(\"div\").find(\"h1\")\n",
    "body"
   ]
  },
  {
   "cell_type": "code",
   "execution_count": 9,
   "id": "a2a2f519",
   "metadata": {},
   "outputs": [
    {
     "name": "stdout",
     "output_type": "stream",
     "text": [
      "<html>\n",
      " <head>\n",
      "  <title>\n",
      "   HTML Example\n",
      "  </title>\n",
      " </head>\n",
      " <body>\n",
      "  <div align=\"middle\">\n",
      "   <h1>\n",
      "    HTML Webpage\n",
      "   </h1>\n",
      "   <p>\n",
      "    Link to more interesting example:\n",
      "    <a href=\"https://keithgalli.github.io/web-scraping/webpage.html\">\n",
      "     keithgalli.github.io/web-scraping/webpage.html\n",
      "    </a>\n",
      "   </p>\n",
      "  </div>\n",
      "  <h2>\n",
      "   A Header\n",
      "  </h2>\n",
      "  <p>\n",
      "   <i>\n",
      "    Some italicized text\n",
      "   </i>\n",
      "  </p>\n",
      "  <h2>\n",
      "   Another header\n",
      "  </h2>\n",
      "  <p id=\"paragraph-id\">\n",
      "   <b>\n",
      "    Some bold text\n",
      "   </b>\n",
      "  </p>\n",
      " </body>\n",
      "</html>\n",
      "\n"
     ]
    }
   ],
   "source": [
    "print(soup.prettify())"
   ]
  },
  {
   "cell_type": "markdown",
   "id": "500e9f30",
   "metadata": {},
   "source": [
    "### paragrap containg some substrings"
   ]
  },
  {
   "cell_type": "code",
   "execution_count": 10,
   "id": "94c35b56",
   "metadata": {},
   "outputs": [
    {
     "name": "stdout",
     "output_type": "stream",
     "text": [
      "[<p><i>Some italicized text</i></p>, <p id=\"paragraph-id\"><b>Some bold text</b></p>]\n",
      "\n",
      "\n",
      "[<h2>A Header</h2>, <h2>Another header</h2>]\n"
     ]
    }
   ],
   "source": [
    "#print(soup.find_all(\"p\",string=\"Some bold text\"))\n",
    "\n",
    "# We can search specific strings in our find/find_all calls\n",
    "import re\n",
    "\n",
    "paragraphs = soup.find_all(\"p\", string=re.compile(\"Some\")) #find all the paragraphs with these substring : \"Some\"\n",
    "print(paragraphs)\n",
    "print(\"\\n\")\n",
    "headers = soup.find_all(\"h2\", string=re.compile(\"(H|h)eader\")) #print all h2 headers which contain either Header or header.\n",
    "print(headers)"
   ]
  },
  {
   "cell_type": "markdown",
   "id": "4e2ce4b9",
   "metadata": {},
   "source": [
    "# Select CSS"
   ]
  },
  {
   "cell_type": "code",
   "execution_count": 11,
   "id": "6ceda600",
   "metadata": {},
   "outputs": [
    {
     "data": {
      "text/plain": [
       "[<a href=\"https://keithgalli.github.io/web-scraping/webpage.html\">keithgalli.github.io/web-scraping/webpage.html</a>]"
      ]
     },
     "execution_count": 11,
     "metadata": {},
     "output_type": "execute_result"
    }
   ],
   "source": [
    "content=soup.select(\"body div p a\")\n",
    "content"
   ]
  },
  {
   "cell_type": "code",
   "execution_count": 12,
   "id": "17f445f6",
   "metadata": {},
   "outputs": [
    {
     "name": "stdout",
     "output_type": "stream",
     "text": [
      "[<b>Some bold text</b>]\n"
     ]
    }
   ],
   "source": [
    "# By this,we will get all the bold texts inside the paragraph with the id : paragraph-id\n",
    "bold_text=soup.select(\"p#paragraph-id b\")\n",
    "print(bold_text)"
   ]
  },
  {
   "cell_type": "markdown",
   "id": "f2ff5ed9",
   "metadata": {},
   "source": [
    "## Select_one will be same as find.  https://stackoverflow.com/questions/38028384/beautifulsoup-difference-between-find-and-select  select() returns all the instances"
   ]
  },
  {
   "cell_type": "code",
   "execution_count": 13,
   "id": "82317d17",
   "metadata": {},
   "outputs": [
    {
     "name": "stdout",
     "output_type": "stream",
     "text": [
      "[<p><i>Some italicized text</i></p>, <p id=\"paragraph-id\"><b>Some bold text</b></p>]\n"
     ]
    }
   ],
   "source": [
    "# take the second , third ..... paragraphs under the body but NOT the first.\n",
    "\n",
    "paragraphs = soup.select(\"body > p\")\n",
    "print(paragraphs)"
   ]
  },
  {
   "cell_type": "code",
   "execution_count": 14,
   "id": "4a3bc9e3",
   "metadata": {},
   "outputs": [
    {
     "name": "stdout",
     "output_type": "stream",
     "text": [
      "[<i>Some italicized text</i>]\n",
      "[]\n"
     ]
    }
   ],
   "source": [
    "#Print all the italics inside these paragraphs.\n",
    "for paragraph in paragraphs:\n",
    "  print(paragraph.select(\"i\"))"
   ]
  },
  {
   "cell_type": "code",
   "execution_count": 15,
   "id": "86b95a2b",
   "metadata": {},
   "outputs": [
    {
     "data": {
      "text/plain": [
       "[<div align=\"middle\">\n",
       " <h1>HTML Webpage</h1>\n",
       " <p>Link to more interesting example: <a href=\"https://keithgalli.github.io/web-scraping/webpage.html\">keithgalli.github.io/web-scraping/webpage.html</a></p>\n",
       " </div>]"
      ]
     },
     "execution_count": 15,
     "metadata": {},
     "output_type": "execute_result"
    }
   ],
   "source": [
    "# Grab by element with specific property\n",
    "soup.select(\"[align=middle]\")"
   ]
  },
  {
   "cell_type": "markdown",
   "id": "973e017a",
   "metadata": {},
   "source": [
    "# Get different properties of HTML"
   ]
  },
  {
   "cell_type": "code",
   "execution_count": 16,
   "id": "1cc1588e",
   "metadata": {},
   "outputs": [
    {
     "data": {
      "text/plain": [
       "'A Header'"
      ]
     },
     "execution_count": 16,
     "metadata": {},
     "output_type": "execute_result"
    }
   ],
   "source": [
    "# find the text inside the h2 tag.\n",
    "# NOTE: This will work only if there is there is not other confusing things. like many tags inside this tag as well.\n",
    "header = soup.find(\"h2\")\n",
    "header.string"
   ]
  },
  {
   "cell_type": "markdown",
   "id": "0c6007a4",
   "metadata": {},
   "source": [
    "### GET Text in recursive manner (if string does not work here.)"
   ]
  },
  {
   "cell_type": "code",
   "execution_count": 17,
   "id": "4d792996",
   "metadata": {},
   "outputs": [
    {
     "name": "stdout",
     "output_type": "stream",
     "text": [
      "\n",
      "HTML Webpage\n",
      "Link to more interesting example: keithgalli.github.io/web-scraping/webpage.html\n",
      "\n"
     ]
    }
   ],
   "source": [
    "div = soup.find(\"div\")\n",
    "# if multiplee child elements use get_text()\n",
    "print(div.get_text())"
   ]
  },
  {
   "cell_type": "markdown",
   "id": "89ca7606",
   "metadata": {},
   "source": [
    "### GET Specific properties from an element."
   ]
  },
  {
   "cell_type": "code",
   "execution_count": 18,
   "id": "de7d567a",
   "metadata": {},
   "outputs": [
    {
     "data": {
      "text/plain": [
       "'https://keithgalli.github.io/web-scraping/webpage.html'"
      ]
     },
     "execution_count": 18,
     "metadata": {},
     "output_type": "execute_result"
    }
   ],
   "source": [
    "link=soup.find(\"a\")\n",
    "link['href']"
   ]
  },
  {
   "cell_type": "code",
   "execution_count": 19,
   "id": "53ca7b9b",
   "metadata": {},
   "outputs": [
    {
     "data": {
      "text/plain": [
       "'middle'"
      ]
     },
     "execution_count": 19,
     "metadata": {},
     "output_type": "execute_result"
    }
   ],
   "source": [
    "# use [] to get the properties like, href,align,id etc.\n",
    "test=soup.find(\"div\",attrs={\"align\":\"middle\"})\n",
    "test['align']"
   ]
  },
  {
   "cell_type": "markdown",
   "id": "410bd72b",
   "metadata": {},
   "source": [
    "## Path Syntax "
   ]
  },
  {
   "cell_type": "code",
   "execution_count": 20,
   "id": "8f155969",
   "metadata": {},
   "outputs": [
    {
     "data": {
      "text/plain": [
       "'HTML Webpage'"
      ]
     },
     "execution_count": 20,
     "metadata": {},
     "output_type": "execute_result"
    }
   ],
   "source": [
    "soup.div.h1.get_text()"
   ]
  },
  {
   "cell_type": "code",
   "execution_count": 21,
   "id": "2fc744bd",
   "metadata": {},
   "outputs": [
    {
     "data": {
      "text/plain": [
       "'HTML Webpage'"
      ]
     },
     "execution_count": 21,
     "metadata": {},
     "output_type": "execute_result"
    }
   ],
   "source": [
    "soup.body.div.h1.string"
   ]
  },
  {
   "cell_type": "markdown",
   "id": "476a33fb",
   "metadata": {},
   "source": [
    "# parent, child and siblings"
   ]
  },
  {
   "cell_type": "code",
   "execution_count": 22,
   "id": "efc9efa4",
   "metadata": {},
   "outputs": [
    {
     "name": "stdout",
     "output_type": "stream",
     "text": [
      "<body>\n",
      " <div align=\"middle\">\n",
      "  <h1>\n",
      "   HTML Webpage\n",
      "  </h1>\n",
      "  <p>\n",
      "   Link to more interesting example:\n",
      "   <a href=\"https://keithgalli.github.io/web-scraping/webpage.html\">\n",
      "    keithgalli.github.io/web-scraping/webpage.html\n",
      "   </a>\n",
      "  </p>\n",
      " </div>\n",
      " <h2>\n",
      "  A Header\n",
      " </h2>\n",
      " <p>\n",
      "  <i>\n",
      "   Some italicized text\n",
      "  </i>\n",
      " </p>\n",
      " <h2>\n",
      "  Another header\n",
      " </h2>\n",
      " <p id=\"paragraph-id\">\n",
      "  <b>\n",
      "   Some bold text\n",
      "  </b>\n",
      " </p>\n",
      "</body>\n",
      "\n"
     ]
    }
   ],
   "source": [
    "print(soup.body.prettify()) "
   ]
  },
  {
   "cell_type": "code",
   "execution_count": 23,
   "id": "17f05913",
   "metadata": {},
   "outputs": [],
   "source": [
    "# NOTE : Here, the sibling of the div, is h2. parent of div is body and children of body is div,etc."
   ]
  },
  {
   "cell_type": "code",
   "execution_count": 24,
   "id": "22428d0c",
   "metadata": {},
   "outputs": [
    {
     "name": "stdout",
     "output_type": "stream",
     "text": [
      "[<h2>A Header</h2>, <p><i>Some italicized text</i></p>, <h2>Another header</h2>, <p id=\"paragraph-id\"><b>Some bold text</b></p>]\n"
     ]
    }
   ],
   "source": [
    "# Siblings\n",
    "print(soup.body.find(\"div\").find_next_siblings())"
   ]
  },
  {
   "cell_type": "code",
   "execution_count": 25,
   "id": "d24828ed",
   "metadata": {},
   "outputs": [
    {
     "name": "stdout",
     "output_type": "stream",
     "text": [
      "<h2>A Header</h2>\n",
      "None\n"
     ]
    }
   ],
   "source": [
    "print(soup.body.find(\"div\").find_next_sibling())\n",
    "print(soup.body.find(\"div\").find_previous_sibling())"
   ]
  },
  {
   "cell_type": "code",
   "execution_count": 26,
   "id": "833216d1",
   "metadata": {},
   "outputs": [
    {
     "name": "stdout",
     "output_type": "stream",
     "text": [
      "<body>\n",
      "<div align=\"middle\">\n",
      "<h1>HTML Webpage</h1>\n",
      "<p>Link to more interesting example: <a href=\"https://keithgalli.github.io/web-scraping/webpage.html\">keithgalli.github.io/web-scraping/webpage.html</a></p>\n",
      "</div>\n",
      "<h2>A Header</h2>\n",
      "<p><i>Some italicized text</i></p>\n",
      "<h2>Another header</h2>\n",
      "<p id=\"paragraph-id\"><b>Some bold text</b></p>\n",
      "</body>\n"
     ]
    }
   ],
   "source": [
    "print(soup.body.find(\"div\").find_parent())"
   ]
  },
  {
   "cell_type": "code",
   "execution_count": 27,
   "id": "47c6d2d8",
   "metadata": {},
   "outputs": [
    {
     "name": "stdout",
     "output_type": "stream",
     "text": [
      "[<h1>HTML Webpage</h1>, <p>Link to more interesting example: <a href=\"https://keithgalli.github.io/web-scraping/webpage.html\">keithgalli.github.io/web-scraping/webpage.html</a></p>, <a href=\"https://keithgalli.github.io/web-scraping/webpage.html\">keithgalli.github.io/web-scraping/webpage.html</a>, <h2>A Header</h2>, <p><i>Some italicized text</i></p>, <i>Some italicized text</i>, <h2>Another header</h2>, <p id=\"paragraph-id\"><b>Some bold text</b></p>, <b>Some bold text</b>]\n"
     ]
    }
   ],
   "source": [
    "print(soup.body.find(\"div\").find_all_next())"
   ]
  },
  {
   "cell_type": "markdown",
   "id": "30a9cf5f",
   "metadata": {},
   "source": [
    "# Another website"
   ]
  },
  {
   "cell_type": "code",
   "execution_count": 28,
   "id": "7a9cb9c0",
   "metadata": {},
   "outputs": [],
   "source": [
    "# Load the webpage content\n",
    "r = requests.get(\"https://keithgalli.github.io/web-scraping/webpage.html\")\n",
    "\n",
    "# Convert to a beautiful soup object\n",
    "webpage = bs(r.content)\n"
   ]
  },
  {
   "cell_type": "markdown",
   "id": "11e930db",
   "metadata": {},
   "source": [
    "### Grab all social links from this webpage"
   ]
  },
  {
   "cell_type": "code",
   "execution_count": 29,
   "id": "a333577c",
   "metadata": {},
   "outputs": [
    {
     "data": {
      "text/plain": [
       "['https://www.instagram.com/keithgalli/',\n",
       " 'https://twitter.com/keithgalli',\n",
       " 'https://www.linkedin.com/in/keithgalli/',\n",
       " 'https://www.tiktok.com/@keithgalli']"
      ]
     },
     "execution_count": 29,
     "metadata": {},
     "output_type": "execute_result"
    }
   ],
   "source": [
    "links = webpage.select(\"ul.socials a\")\n",
    "actual_links = [link['href'] for link in links]\n",
    "actual_links"
   ]
  },
  {
   "cell_type": "code",
   "execution_count": 30,
   "id": "b16094cb",
   "metadata": {},
   "outputs": [
    {
     "data": {
      "text/plain": [
       "['https://www.instagram.com/keithgalli/',\n",
       " 'https://twitter.com/keithgalli',\n",
       " 'https://www.linkedin.com/in/keithgalli/',\n",
       " 'https://www.tiktok.com/@keithgalli']"
      ]
     },
     "execution_count": 30,
     "metadata": {},
     "output_type": "execute_result"
    }
   ],
   "source": [
    "ulist = webpage.find(\"ul\", attrs={\"class\": \"socials\"})\n",
    "links = ulist.find_all(\"a\")\n",
    "actual_links = [link['href'] for link in links]\n",
    "actual_links"
   ]
  },
  {
   "cell_type": "code",
   "execution_count": 31,
   "id": "4e1c9a0a",
   "metadata": {},
   "outputs": [
    {
     "data": {
      "text/plain": [
       "['https://www.instagram.com/keithgalli/',\n",
       " 'https://twitter.com/keithgalli',\n",
       " 'https://www.linkedin.com/in/keithgalli/',\n",
       " 'https://www.tiktok.com/@keithgalli']"
      ]
     },
     "execution_count": 31,
     "metadata": {},
     "output_type": "execute_result"
    }
   ],
   "source": [
    "links = webpage.select(\"li.social a\")\n",
    "actual_links = [link['href'] for link in links]\n",
    "actual_links"
   ]
  },
  {
   "cell_type": "markdown",
   "id": "faa1b0dc",
   "metadata": {},
   "source": [
    "### Grab the table"
   ]
  },
  {
   "cell_type": "code",
   "execution_count": 35,
   "id": "ef5a59c6",
   "metadata": {},
   "outputs": [
    {
     "name": "stdout",
     "output_type": "stream",
     "text": [
      "<table class=\"hockey-stats\">\n",
      "<thead>\n",
      "<tr>\n",
      "<th class=\"season\" data-sort=\"\">S</th>\n",
      "<th class=\"team\" data-sort=\"team\">Team</th>\n",
      "<th class=\"league\" data-sort=\"league\">League</th>\n",
      "<th class=\"regular gp\" data-sort=\"gp\">GP</th>\n",
      "<th class=\"regular g\" data-sort=\"g\">G</th>\n",
      "<th class=\"regular a\" data-sort=\"a\">A</th>\n",
      "<th class=\"regular tp\" data-sort=\"tp\">TP</th>\n",
      "<th class=\"regular pim\" data-sort=\"pim\">PIM</th>\n",
      "<th class=\"regular pm\" data-sort=\"pm\">+/-</th>\n",
      "<th class=\"separator\"> </th>\n",
      "<th class=\"postseason\">POST</th>\n",
      "<th class=\"postseason gp\" data-sort=\"playoffs-gp\">GP</th>\n",
      "<th class=\"postseason g\" data-sort=\"playoffs-g\">G</th>\n",
      "<th class=\"postseason a\" data-sort=\"playoffs-a\">A</th>\n",
      "<th class=\"postseason tp\" data-sort=\"playoffs-tp\">TP</th>\n",
      "<th class=\"postseason pim\" data-sort=\"playoffs-pim\">PIM</th>\n",
      "<th class=\"postseason pm\" data-sort=\"playoffs-pm\">+/-</th>\n",
      "</tr>\n",
      "</thead>\n",
      "<tbody>\n",
      "<tr class=\"team-continent-NA\">\n",
      "<td class=\"season sorted\">\n",
      "                  2014-15\n",
      "              </td>\n",
      "<td class=\"team\">\n",
      "<i><img src=\"images/flag.png\"/></i>\n",
      "<span class=\"txt-blue\">\n",
      "<a href=\"https://www.eliteprospects.com/team/10263/mit-mass.-inst.-of-tech./2014-2015?tab=stats\"> MIT (Mass. Inst. of Tech.) </a>\n",
      "</span>\n",
      "</td>\n",
      "<td class=\"league\"> <a href=\"https://www.eliteprospects.com/league/acha-ii/stats/2014-2015\"> ACHA II </a> </td>\n",
      "<td class=\"regular gp\">17</td>\n",
      "<td class=\"regular g\">3</td>\n",
      "<td class=\"regular a\">9</td>\n",
      "<td class=\"regular tp\">12</td>\n",
      "<td class=\"regular pim\">20</td>\n",
      "<td class=\"regular pm\"></td>\n",
      "<td class=\"separator\"> | </td>\n",
      "<td class=\"postseason\">\n",
      "<a href=\"https://www.eliteprospects.com/league/acha-ii/stats/2014-2015\"> </a>\n",
      "</td>\n",
      "<td class=\"postseason gp\">\n",
      "</td>\n",
      "<td class=\"postseason g\">\n",
      "</td>\n",
      "<td class=\"postseason a\">\n",
      "</td>\n",
      "<td class=\"postseason tp\">\n",
      "</td>\n",
      "<td class=\"postseason pim\">\n",
      "</td>\n",
      "<td class=\"postseason pm\">\n",
      "</td>\n",
      "</tr>\n",
      "<tr class=\"team-continent-NA\">\n",
      "<td class=\"season sorted\">\n",
      "                  2015-16\n",
      "              </td>\n",
      "<td class=\"team\">\n",
      "<i><img src=\"images/flag.png\"/></i>\n",
      "<span class=\"txt-blue\">\n",
      "<a href=\"https://www.eliteprospects.com/team/10263/mit-mass.-inst.-of-tech./2015-2016?tab=stats\"> MIT (Mass. Inst. of Tech.) </a>\n",
      "</span>\n",
      "</td>\n",
      "<td class=\"league\"> <a href=\"https://www.eliteprospects.com/league/acha-ii/stats/2015-2016\"> ACHA II </a> </td>\n",
      "<td class=\"regular gp\">9</td>\n",
      "<td class=\"regular g\">1</td>\n",
      "<td class=\"regular a\">1</td>\n",
      "<td class=\"regular tp\">2</td>\n",
      "<td class=\"regular pim\">2</td>\n",
      "<td class=\"regular pm\"></td>\n",
      "<td class=\"separator\"> | </td>\n",
      "<td class=\"postseason\">\n",
      "<a href=\"https://www.eliteprospects.com/league/acha-ii/stats/2015-2016\"> </a>\n",
      "</td>\n",
      "<td class=\"postseason gp\">\n",
      "</td>\n",
      "<td class=\"postseason g\">\n",
      "</td>\n",
      "<td class=\"postseason a\">\n",
      "</td>\n",
      "<td class=\"postseason tp\">\n",
      "</td>\n",
      "<td class=\"postseason pim\">\n",
      "</td>\n",
      "<td class=\"postseason pm\">\n",
      "</td>\n",
      "</tr>\n",
      "<tr class=\"team-continent-NA\">\n",
      "<td class=\"season sorted\">\n",
      "                  2016-17\n",
      "              </td>\n",
      "<td class=\"team\">\n",
      "<i><img src=\"images/flag.png\"/></i>\n",
      "<span class=\"txt-blue\">\n",
      "<a href=\"https://www.eliteprospects.com/team/10263/mit-mass.-inst.-of-tech./2016-2017?tab=stats\"> MIT (Mass. Inst. of Tech.) </a>\n",
      "</span>\n",
      "</td>\n",
      "<td class=\"league\"> <a href=\"https://www.eliteprospects.com/league/acha-ii/stats/2016-2017\"> ACHA II </a> </td>\n",
      "<td class=\"regular gp\">12</td>\n",
      "<td class=\"regular g\">5</td>\n",
      "<td class=\"regular a\">5</td>\n",
      "<td class=\"regular tp\">10</td>\n",
      "<td class=\"regular pim\">8</td>\n",
      "<td class=\"regular pm\">0</td>\n",
      "<td class=\"separator\"> | </td>\n",
      "<td class=\"postseason\">\n",
      "</td>\n",
      "<td class=\"postseason gp\">\n",
      "</td>\n",
      "<td class=\"postseason g\">\n",
      "</td>\n",
      "<td class=\"postseason a\">\n",
      "</td>\n",
      "<td class=\"postseason tp\">\n",
      "</td>\n",
      "<td class=\"postseason pim\">\n",
      "</td>\n",
      "<td class=\"postseason pm\">\n",
      "</td>\n",
      "</tr>\n",
      "<tr class=\"team-continent-EU\">\n",
      "<td class=\"season sorted\">\n",
      "                  2017-18\n",
      "              </td>\n",
      "<td class=\"team\">\n",
      "                  Did not play\n",
      "              </td>\n",
      "<td class=\"league\"> <a href=\"https://www.eliteprospects.com/stats\"> </a> </td>\n",
      "<td class=\"regular gp\"></td>\n",
      "<td class=\"regular g\"></td>\n",
      "<td class=\"regular a\"></td>\n",
      "<td class=\"regular tp\"></td>\n",
      "<td class=\"regular pim\"></td>\n",
      "<td class=\"regular pm\"></td>\n",
      "<td class=\"separator\"> | </td>\n",
      "<td class=\"postseason\">\n",
      "<a href=\"https://www.eliteprospects.com/stats\"> </a>\n",
      "</td>\n",
      "<td class=\"postseason gp\">\n",
      "</td>\n",
      "<td class=\"postseason g\">\n",
      "</td>\n",
      "<td class=\"postseason a\">\n",
      "</td>\n",
      "<td class=\"postseason tp\">\n",
      "</td>\n",
      "<td class=\"postseason pim\">\n",
      "</td>\n",
      "<td class=\"postseason pm\">\n",
      "</td>\n",
      "</tr>\n",
      "<tr class=\"team-continent-NA\">\n",
      "<td class=\"season sorted\">\n",
      "                  2018-19\n",
      "              </td>\n",
      "<td class=\"team\">\n",
      "<i><img src=\"images/flag.png\"/></i>\n",
      "<span class=\"txt-blue\">\n",
      "<a href=\"https://www.eliteprospects.com/team/10263/mit-mass.-inst.-of-tech./2018-2019?tab=stats\"> MIT (Mass. Inst. of Tech.) </a>\n",
      "</span>\n",
      "</td>\n",
      "<td class=\"league\"> <a href=\"https://www.eliteprospects.com/league/acha-iii/stats/2018-2019\"> ACHA III </a> </td>\n",
      "<td class=\"regular gp\">8</td>\n",
      "<td class=\"regular g\">5</td>\n",
      "<td class=\"regular a\">10</td>\n",
      "<td class=\"regular tp\">15</td>\n",
      "<td class=\"regular pim\">8</td>\n",
      "<td class=\"regular pm\"></td>\n",
      "<td class=\"separator\"> | </td>\n",
      "<td class=\"postseason\">\n",
      "<a href=\"https://www.eliteprospects.com/league/acha-iii/stats/2018-2019\"> </a>\n",
      "</td>\n",
      "<td class=\"postseason gp\">\n",
      "</td>\n",
      "<td class=\"postseason g\">\n",
      "</td>\n",
      "<td class=\"postseason a\">\n",
      "</td>\n",
      "<td class=\"postseason tp\">\n",
      "</td>\n",
      "<td class=\"postseason pim\">\n",
      "</td>\n",
      "<td class=\"postseason pm\">\n",
      "</td>\n",
      "</tr>\n",
      "</tbody>\n",
      "</table>\n"
     ]
    }
   ],
   "source": [
    "table=webpage.find(\"table\",attrs={\"class\":\"hockey-stats\"})\n",
    "# ALTERNATE WAY : table = webpage.select(\"table.hockey-stats\")[0]\n",
    "print(table)"
   ]
  },
  {
   "cell_type": "code",
   "execution_count": null,
   "id": "ff6f6a3a",
   "metadata": {},
   "outputs": [],
   "source": [
    "import pandas as pd\n",
    "\n",
    "table = webpage.select(\"table.hockey-stats\")[0]\n",
    "columns = table.find(\"thead\").find_all(\"th\")\n",
    "column_names = [c.string for c in columns]\n",
    "\n",
    "table_rows = table.find(\"tbody\").find_all(\"tr\")\n",
    "l = []\n",
    "for tr in table_rows:\n",
    "    td = tr.find_all('td')\n",
    "    row = [str(tr.get_text()).strip() for tr in td]\n",
    "    l.append(row)\n",
    "\n",
    "df = pd.DataFrame(l, columns=column_names)\n",
    "df.head()\n"
   ]
  }
 ],
 "metadata": {
  "kernelspec": {
   "display_name": "Python 3 (ipykernel)",
   "language": "python",
   "name": "python3"
  },
  "language_info": {
   "codemirror_mode": {
    "name": "ipython",
    "version": 3
   },
   "file_extension": ".py",
   "mimetype": "text/x-python",
   "name": "python",
   "nbconvert_exporter": "python",
   "pygments_lexer": "ipython3",
   "version": "3.9.7"
  }
 },
 "nbformat": 4,
 "nbformat_minor": 5
}
