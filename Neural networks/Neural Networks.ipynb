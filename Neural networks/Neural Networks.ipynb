{
 "cells": [
  {
   "cell_type": "markdown",
   "id": "05ea2f5c",
   "metadata": {},
   "source": [
    "# Hyperparamaters"
   ]
  },
  {
   "cell_type": "markdown",
   "id": "2cd1aa5c",
   "metadata": {},
   "source": [
    "#### batch size : how many data points are passing in each step\n",
    "#### Number of hidden layers and the number of neurons per layer\n",
    "#### Optimizer : algorithms to update neural network\n",
    "#### Learining rate : how much do we update the network weights each  time we see the batch of inputs.\n",
    "#### Dropout : probability that nodes are gonna randomly disconnected during training steps.\n",
    "#### Epoch : how many time do we go through our training data."
   ]
  },
  {
   "cell_type": "markdown",
   "id": "8656d99e",
   "metadata": {},
   "source": [
    "# How do we choose layers, neurons and hyperparamaters"
   ]
  },
  {
   "cell_type": "markdown",
   "id": "4fbaaa80",
   "metadata": {},
   "source": [
    "#### Use training performance(with a validation split) to check your training performance.\n",
    "#### High accuracy of training but not on validation (overfit) : reduce the number of paramaters\n",
    "#### Low accuracy on training (underfit) : Increase the number of paramaters"
   ]
  },
  {
   "cell_type": "markdown",
   "id": "69bf8f1c",
   "metadata": {},
   "source": [
    "#### Automatically search for a best hyperparamater with a grid search"
   ]
  },
  {
   "cell_type": "markdown",
   "id": "ff5a0200",
   "metadata": {},
   "source": [
    "# Activation functions introduce non-linearity in the Neural Network"
   ]
  },
  {
   "cell_type": "markdown",
   "id": "43253705",
   "metadata": {},
   "source": [
    "#### Activation Functions can be sigmoid, tanh, RelU, Leaky  ReLu, Maxout, ELU."
   ]
  },
  {
   "cell_type": "markdown",
   "id": "dafaccd1",
   "metadata": {},
   "source": [
    "#### In hidden layers, RelU avoids the vanishing gradient problem.\n",
    "#### in output layer, sigmoid is good for multi label classification(two or three out of green,blue,red,yellow,orange), and softmax is good for single label classification (one out of green, or blue or red)"
   ]
  },
  {
   "cell_type": "code",
   "execution_count": 1,
   "id": "fd47a175",
   "metadata": {},
   "outputs": [
    {
     "ename": "ModuleNotFoundError",
     "evalue": "No module named 'tensorflow'",
     "output_type": "error",
     "traceback": [
      "\u001b[1;31m---------------------------------------------------------------------------\u001b[0m",
      "\u001b[1;31mModuleNotFoundError\u001b[0m                       Traceback (most recent call last)",
      "\u001b[1;32m~\\AppData\\Local\\Temp/ipykernel_10164/3793406994.py\u001b[0m in \u001b[0;36m<module>\u001b[1;34m\u001b[0m\n\u001b[1;32m----> 1\u001b[1;33m \u001b[1;32mimport\u001b[0m \u001b[0mtensorflow\u001b[0m \u001b[1;32mas\u001b[0m \u001b[0mtf\u001b[0m\u001b[1;33m\u001b[0m\u001b[1;33m\u001b[0m\u001b[0m\n\u001b[0m",
      "\u001b[1;31mModuleNotFoundError\u001b[0m: No module named 'tensorflow'"
     ]
    }
   ],
   "source": [
    "import tensorflow as tf"
   ]
  },
  {
   "cell_type": "code",
   "execution_count": null,
   "id": "53b698ff",
   "metadata": {},
   "outputs": [],
   "source": []
  }
 ],
 "metadata": {
  "kernelspec": {
   "display_name": "Python 3 (ipykernel)",
   "language": "python",
   "name": "python3"
  },
  "language_info": {
   "codemirror_mode": {
    "name": "ipython",
    "version": 3
   },
   "file_extension": ".py",
   "mimetype": "text/x-python",
   "name": "python",
   "nbconvert_exporter": "python",
   "pygments_lexer": "ipython3",
   "version": "3.9.7"
  }
 },
 "nbformat": 4,
 "nbformat_minor": 5
}
