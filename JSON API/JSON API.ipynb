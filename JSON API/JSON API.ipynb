{
 "cells": [
  {
   "cell_type": "markdown",
   "id": "14c07dfe",
   "metadata": {},
   "source": [
    "## For more info about requests, visit this website : https://docs.python-requests.org/en/latest/user/quickstart/"
   ]
  },
  {
   "cell_type": "code",
   "execution_count": 20,
   "id": "0db6837f",
   "metadata": {},
   "outputs": [
    {
     "name": "stdout",
     "output_type": "stream",
     "text": [
      "[{'id': '1001', 'type': 'Regular'}, {'id': '1002', 'type': 'Chocolate'}, {'id': '1003', 'type': 'Blueberry'}, {'id': '1004', 'type': \"Devil's Food\"}]\n",
      "1003\n",
      "<class 'list'>\n",
      "<class 'dict'>\n"
     ]
    }
   ],
   "source": [
    "import json\n",
    "\n",
    "# import the json type things into python objects so that we can work with the data inside more easily.\n",
    "\n",
    "# loads will convert the object to dict,array to list , number to int , null to None, number(real) to number (float)\n",
    "\n",
    "\n",
    "\n",
    "\n",
    "\n",
    "people_string='''{\n",
    "\t\"id\": \"0001\",\n",
    "\t\"type\": \"donut\",\n",
    "\t\"name\": \"Cake\",\n",
    "\t\"ppu\": 0.55,\n",
    "\t\"batters\":\n",
    "\t\t{\n",
    "\t\t\t\"batter\":\n",
    "\t\t\t\t[\n",
    "\t\t\t\t\t{ \"id\": \"1001\", \"type\": \"Regular\" },\n",
    "\t\t\t\t\t{ \"id\": \"1002\", \"type\": \"Chocolate\" },\n",
    "\t\t\t\t\t{ \"id\": \"1003\", \"type\": \"Blueberry\" },\n",
    "\t\t\t\t\t{ \"id\": \"1004\", \"type\": \"Devil's Food\" }\n",
    "\t\t\t\t]\n",
    "\t\t},\n",
    "\t\"topping\":\n",
    "\t\t[\n",
    "\t\t\t{ \"id\": \"5001\", \"type\": \"None\" },\n",
    "\t\t\t{ \"id\": \"5002\", \"type\": \"Glazed\" },\n",
    "\t\t\t{ \"id\": \"5005\", \"type\": \"Sugar\" },\n",
    "\t\t\t{ \"id\": \"5007\", \"type\": \"Powdered Sugar\" },\n",
    "\t\t\t{ \"id\": \"5006\", \"type\": \"Chocolate with Sprinkles\" },\n",
    "\t\t\t{ \"id\": \"5003\", \"type\": \"Chocolate\" },\n",
    "\t\t\t{ \"id\": \"5004\", \"type\": \"Maple\" }\n",
    "\t\t]\n",
    "}'''\n",
    "\n",
    "\n",
    "data=json.loads(people_string)\n",
    "print(data['batters']['batter'])\n",
    "print(data['batters']['batter'][2]['id'])\n",
    "print(type(data['batters']['batter']))\n",
    "print(type(data)) # will print class:dict\n",
    "\n",
    "\n",
    "\n"
   ]
  },
  {
   "cell_type": "code",
   "execution_count": 25,
   "id": "b67ad377",
   "metadata": {},
   "outputs": [
    {
     "name": "stdout",
     "output_type": "stream",
     "text": [
      "[{'id': '1001', 'type': 'Regular'}, {'id': '1002', 'type': 'Chocolate'}, {'id': '1003', 'type': 'Blueberry'}, {'id': '1004', 'type': \"Devil's Food\"}]\n",
      "[{'id': '1001'}, {'id': '1002'}, {'id': '1003'}, {'id': '1004'}]\n"
     ]
    }
   ],
   "source": [
    "y=json.loads(people_string)\n",
    "print(y['batters']['batter'])    \n",
    "\n",
    "for l in y['batters']['batter']:\n",
    "    del l['type']         # delete\n",
    "    \n",
    "print(y['batters']['batter'])    \n",
    "\n"
   ]
  },
  {
   "cell_type": "code",
   "execution_count": 35,
   "id": "c635f51a",
   "metadata": {},
   "outputs": [
    {
     "name": "stdout",
     "output_type": "stream",
     "text": [
      "{\n",
      "  \"id\": \"0001\",\n",
      "  \"type\": \"donut\",\n",
      "  \"name\": \"Cake\",\n",
      "  \"ppu\": 0.55,\n",
      "  \"batters\": {\n",
      "    \"batter\": [\n",
      "      {\n",
      "        \"id\": \"1001\"\n",
      "      },\n",
      "      {\n",
      "        \"id\": \"1002\"\n",
      "      },\n",
      "      {\n",
      "        \"id\": \"1003\"\n",
      "      },\n",
      "      {\n",
      "        \"id\": \"1004\"\n",
      "      }\n",
      "    ]\n",
      "  },\n",
      "  \"topping\": [\n",
      "    {\n",
      "      \"id\": \"5001\",\n",
      "      \"type\": \"None\"\n",
      "    },\n",
      "    {\n",
      "      \"id\": \"5002\",\n",
      "      \"type\": \"Glazed\"\n",
      "    },\n",
      "    {\n",
      "      \"id\": \"5005\",\n",
      "      \"type\": \"Sugar\"\n",
      "    },\n",
      "    {\n",
      "      \"id\": \"5007\",\n",
      "      \"type\": \"Powdered Sugar\"\n",
      "    },\n",
      "    {\n",
      "      \"id\": \"5006\",\n",
      "      \"type\": \"Chocolate with Sprinkles\"\n",
      "    },\n",
      "    {\n",
      "      \"id\": \"5003\",\n",
      "      \"type\": \"Chocolate\"\n",
      "    },\n",
      "    {\n",
      "      \"id\": \"5004\",\n",
      "      \"type\": \"Maple\"\n",
      "    }\n",
      "  ]\n",
      "}\n"
     ]
    }
   ],
   "source": [
    "new_string=json.dumps(data,indent=2) #  dumps will convert object to JSON\n",
    "print(new_string)"
   ]
  },
  {
   "cell_type": "code",
   "execution_count": null,
   "id": "985c76bf",
   "metadata": {},
   "outputs": [],
   "source": []
  }
 ],
 "metadata": {
  "kernelspec": {
   "display_name": "Python 3 (ipykernel)",
   "language": "python",
   "name": "python3"
  },
  "language_info": {
   "codemirror_mode": {
    "name": "ipython",
    "version": 3
   },
   "file_extension": ".py",
   "mimetype": "text/x-python",
   "name": "python",
   "nbconvert_exporter": "python",
   "pygments_lexer": "ipython3",
   "version": "3.9.7"
  }
 },
 "nbformat": 4,
 "nbformat_minor": 5
}
