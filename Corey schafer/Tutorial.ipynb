{
 "cells": [
  {
   "cell_type": "markdown",
   "id": "e16c1878",
   "metadata": {},
   "source": [
    "# Strings"
   ]
  },
  {
   "cell_type": "code",
   "execution_count": 1,
   "id": "ec1a40ed",
   "metadata": {},
   "outputs": [
    {
     "name": "stdout",
     "output_type": "stream",
     "text": [
      "hello world\n"
     ]
    }
   ],
   "source": [
    "print('hello world')"
   ]
  },
  {
   "cell_type": "code",
   "execution_count": 2,
   "id": "6b5a42d7",
   "metadata": {},
   "outputs": [
    {
     "name": "stdout",
     "output_type": "stream",
     "text": [
      "kd\n"
     ]
    }
   ],
   "source": [
    "s='olkdsfl'\n",
    "print(s[2:4])"
   ]
  },
  {
   "cell_type": "code",
   "execution_count": 3,
   "id": "cda1f750",
   "metadata": {},
   "outputs": [
    {
     "name": "stdout",
     "output_type": "stream",
     "text": [
      "mgdfg ' ksdfk\n"
     ]
    }
   ],
   "source": [
    "print('mgdfg \\' ksdfk')"
   ]
  },
  {
   "cell_type": "code",
   "execution_count": 4,
   "id": "80550a9f",
   "metadata": {},
   "outputs": [
    {
     "name": "stdout",
     "output_type": "stream",
     "text": [
      "7\n"
     ]
    }
   ],
   "source": [
    "print(len(s))\n"
   ]
  },
  {
   "cell_type": "code",
   "execution_count": 5,
   "id": "a0e767f8",
   "metadata": {},
   "outputs": [
    {
     "name": "stdout",
     "output_type": "stream",
     "text": [
      "dsfl\n"
     ]
    }
   ],
   "source": [
    "print(s[3:])"
   ]
  },
  {
   "cell_type": "code",
   "execution_count": 6,
   "id": "73c4c6a7",
   "metadata": {},
   "outputs": [],
   "source": [
    "s='LKMDSdskmDSmdskmdksdf'"
   ]
  },
  {
   "cell_type": "code",
   "execution_count": 7,
   "id": "349299bd",
   "metadata": {},
   "outputs": [
    {
     "name": "stdout",
     "output_type": "stream",
     "text": [
      "lkmdsdskmdsmdskmdksdf\n"
     ]
    }
   ],
   "source": [
    "print(s.lower())"
   ]
  },
  {
   "cell_type": "code",
   "execution_count": 8,
   "id": "1e523c84",
   "metadata": {},
   "outputs": [
    {
     "name": "stdout",
     "output_type": "stream",
     "text": [
      "LKMDSDSKMDSMDSKMDKSDF\n"
     ]
    }
   ],
   "source": [
    "print(s.upper())"
   ]
  },
  {
   "cell_type": "code",
   "execution_count": 9,
   "id": "d44f8816",
   "metadata": {},
   "outputs": [
    {
     "name": "stdout",
     "output_type": "stream",
     "text": [
      "Lkmdsdskmdsmdskmdksdf\n"
     ]
    }
   ],
   "source": [
    "print(s.capitalize())"
   ]
  },
  {
   "cell_type": "code",
   "execution_count": 12,
   "id": "e2229c2b",
   "metadata": {},
   "outputs": [],
   "source": [
    "big='I am Newtan'\n",
    "small='Newtan'"
   ]
  },
  {
   "cell_type": "code",
   "execution_count": 18,
   "id": "04493da4",
   "metadata": {},
   "outputs": [
    {
     "name": "stdout",
     "output_type": "stream",
     "text": [
      "5\n",
      "N\n",
      "2\n",
      "I am portan\n"
     ]
    }
   ],
   "source": [
    "print(big.find('Newtan'))\n",
    "print(big[5])\n",
    "print(big.find('a'))\n",
    "big=big.replace('New','por')\n",
    "print(big)"
   ]
  },
  {
   "cell_type": "code",
   "execution_count": 22,
   "id": "0c08fab8",
   "metadata": {},
   "outputs": [
    {
     "name": "stdout",
     "output_type": "stream",
     "text": [
      "Hi,I am NEW\n"
     ]
    }
   ],
   "source": [
    "new='Newtan'\n",
    "s='{},I am {}'.format('Hi','new'.upper())\n",
    "print(s)"
   ]
  },
  {
   "cell_type": "code",
   "execution_count": null,
   "id": "f6f930a1",
   "metadata": {},
   "outputs": [],
   "source": []
  }
 ],
 "metadata": {
  "kernelspec": {
   "display_name": "Python 3 (ipykernel)",
   "language": "python",
   "name": "python3"
  },
  "language_info": {
   "codemirror_mode": {
    "name": "ipython",
    "version": 3
   },
   "file_extension": ".py",
   "mimetype": "text/x-python",
   "name": "python",
   "nbconvert_exporter": "python",
   "pygments_lexer": "ipython3",
   "version": "3.9.7"
  }
 },
 "nbformat": 4,
 "nbformat_minor": 5
}
