{
 "cells": [
  {
   "cell_type": "markdown",
   "id": "5e1d940c",
   "metadata": {},
   "source": [
    "# Strings"
   ]
  },
  {
   "cell_type": "code",
   "execution_count": 1,
   "id": "d4ed8245",
   "metadata": {},
   "outputs": [
    {
     "name": "stdout",
     "output_type": "stream",
     "text": [
      "hello world\n"
     ]
    }
   ],
   "source": [
    "print('hello world')"
   ]
  },
  {
   "cell_type": "code",
   "execution_count": 2,
   "id": "e1260e72",
   "metadata": {},
   "outputs": [
    {
     "name": "stdout",
     "output_type": "stream",
     "text": [
      "kd\n"
     ]
    }
   ],
   "source": [
    "s='olkdsfl'\n",
    "print(s[2:4])"
   ]
  },
  {
   "cell_type": "code",
   "execution_count": 3,
   "id": "64a10337",
   "metadata": {},
   "outputs": [
    {
     "name": "stdout",
     "output_type": "stream",
     "text": [
      "mgdfg ' ksdfk\n"
     ]
    }
   ],
   "source": [
    "print('mgdfg \\' ksdfk')"
   ]
  },
  {
   "cell_type": "code",
   "execution_count": 4,
   "id": "2e645624",
   "metadata": {},
   "outputs": [
    {
     "name": "stdout",
     "output_type": "stream",
     "text": [
      "7\n"
     ]
    }
   ],
   "source": [
    "print(len(s))\n"
   ]
  },
  {
   "cell_type": "code",
   "execution_count": 5,
   "id": "57d253e8",
   "metadata": {},
   "outputs": [
    {
     "name": "stdout",
     "output_type": "stream",
     "text": [
      "dsfl\n"
     ]
    }
   ],
   "source": [
    "print(s[3:])"
   ]
  },
  {
   "cell_type": "code",
   "execution_count": 6,
   "id": "258694ca",
   "metadata": {},
   "outputs": [],
   "source": [
    "s='LKMDSdskmDSmdskmdksdf'"
   ]
  },
  {
   "cell_type": "code",
   "execution_count": 7,
   "id": "a777a8d4",
   "metadata": {},
   "outputs": [
    {
     "name": "stdout",
     "output_type": "stream",
     "text": [
      "lkmdsdskmdsmdskmdksdf\n"
     ]
    }
   ],
   "source": [
    "print(s.lower())"
   ]
  },
  {
   "cell_type": "code",
   "execution_count": 8,
   "id": "63b94584",
   "metadata": {},
   "outputs": [
    {
     "name": "stdout",
     "output_type": "stream",
     "text": [
      "LKMDSDSKMDSMDSKMDKSDF\n"
     ]
    }
   ],
   "source": [
    "print(s.upper())"
   ]
  },
  {
   "cell_type": "code",
   "execution_count": 9,
   "id": "bc42c0ab",
   "metadata": {},
   "outputs": [
    {
     "name": "stdout",
     "output_type": "stream",
     "text": [
      "Lkmdsdskmdsmdskmdksdf\n"
     ]
    }
   ],
   "source": [
    "print(s.capitalize())"
   ]
  },
  {
   "cell_type": "code",
   "execution_count": 10,
   "id": "59776614",
   "metadata": {},
   "outputs": [],
   "source": [
    "big='I am Newtan'\n",
    "small='Newtan'"
   ]
  },
  {
   "cell_type": "code",
   "execution_count": 11,
   "id": "bbecd3a9",
   "metadata": {},
   "outputs": [
    {
     "name": "stdout",
     "output_type": "stream",
     "text": [
      "5\n",
      "N\n",
      "2\n",
      "I am portan\n"
     ]
    }
   ],
   "source": [
    "print(big.find('Newtan'))\n",
    "print(big[5])\n",
    "print(big.find('a'))\n",
    "big=big.replace('New','por')\n",
    "print(big)"
   ]
  },
  {
   "cell_type": "code",
   "execution_count": 12,
   "id": "9d24fa2e",
   "metadata": {},
   "outputs": [
    {
     "name": "stdout",
     "output_type": "stream",
     "text": [
      "Hi,I am NEW\n"
     ]
    }
   ],
   "source": [
    "new='Newtan'\n",
    "s='{},I am {}'.format('Hi','new'.upper())\n",
    "print(s)"
   ]
  },
  {
   "cell_type": "code",
   "execution_count": 13,
   "id": "5663c42c",
   "metadata": {},
   "outputs": [
    {
     "name": "stdout",
     "output_type": "stream",
     "text": [
      "3\n"
     ]
    }
   ],
   "source": [
    "s='Newtan New New t'\n",
    "print(s.count('New'))"
   ]
  },
  {
   "cell_type": "markdown",
   "id": "7275746e",
   "metadata": {},
   "source": [
    "# List, tuples and sets."
   ]
  },
  {
   "cell_type": "code",
   "execution_count": 14,
   "id": "5774e607",
   "metadata": {},
   "outputs": [
    {
     "name": "stdout",
     "output_type": "stream",
     "text": [
      "math\n",
      "\n",
      "science\n",
      "\n",
      "physics\n",
      "\n",
      "3\n"
     ]
    }
   ],
   "source": [
    "course=['math','science','physics']\n",
    "\n",
    "for i in course:\n",
    "    print(i+'\\n')\n",
    "print(len(course))"
   ]
  },
  {
   "cell_type": "code",
   "execution_count": 15,
   "id": "c1ef9b0a",
   "metadata": {},
   "outputs": [
    {
     "name": "stdout",
     "output_type": "stream",
     "text": [
      "physics\n"
     ]
    }
   ],
   "source": [
    "print(course[-1])"
   ]
  },
  {
   "cell_type": "code",
   "execution_count": 16,
   "id": "9a040c78",
   "metadata": {},
   "outputs": [
    {
     "name": "stdout",
     "output_type": "stream",
     "text": [
      "science\n"
     ]
    }
   ],
   "source": [
    "print(course[-2])"
   ]
  },
  {
   "cell_type": "code",
   "execution_count": 17,
   "id": "f976a5f9",
   "metadata": {},
   "outputs": [
    {
     "name": "stdout",
     "output_type": "stream",
     "text": [
      "math\n"
     ]
    }
   ],
   "source": [
    "print(course[-len(course)])"
   ]
  },
  {
   "cell_type": "code",
   "execution_count": 18,
   "id": "5151ef97",
   "metadata": {},
   "outputs": [
    {
     "name": "stdout",
     "output_type": "stream",
     "text": [
      "['math']\n"
     ]
    }
   ],
   "source": [
    "print(course[0:-2\n",
    "            ])   #"
   ]
  },
  {
   "cell_type": "code",
   "execution_count": 19,
   "id": "95ce11fa",
   "metadata": {},
   "outputs": [],
   "source": [
    "course=['math','seocne','fasf','fdfsdfdsfsd','dfsdfsdfsdfs','dfsdfsefes']"
   ]
  },
  {
   "cell_type": "code",
   "execution_count": 20,
   "id": "f2e6e8b2",
   "metadata": {},
   "outputs": [
    {
     "name": "stdout",
     "output_type": "stream",
     "text": [
      "['math', 'seocne', 'fasf']\n"
     ]
    }
   ],
   "source": [
    "print(course[0:-3]) # print all the elements from index 0 except the last 3"
   ]
  },
  {
   "cell_type": "code",
   "execution_count": 21,
   "id": "4a46f0aa",
   "metadata": {},
   "outputs": [
    {
     "name": "stdout",
     "output_type": "stream",
     "text": [
      "['math', 'seocne', 'fasf', 'fdfsdfdsfsd']\n"
     ]
    }
   ],
   "source": [
    "print(course[0:-2])# print all the elements from index 0 except the last 2"
   ]
  },
  {
   "cell_type": "code",
   "execution_count": 22,
   "id": "00d613e3",
   "metadata": {},
   "outputs": [
    {
     "name": "stdout",
     "output_type": "stream",
     "text": [
      "['math', 'seocne', 'fasf', 'fdfsdfdsfsd', 'dfsdfsdfsdfs', 'dfsdfsefes', 'sdfgsddfdsffdggggggggggggggggggggggggggggggggggggggggggggggggggggggggggggggggggf']\n"
     ]
    }
   ],
   "source": [
    "course.append('sdfgsddfdsffdggggggggggggggggggggggggggggggggggggggggggggggggggggggggggggggggggf')\n",
    "print(course)"
   ]
  },
  {
   "cell_type": "code",
   "execution_count": 23,
   "id": "89ce5122",
   "metadata": {},
   "outputs": [
    {
     "name": "stdout",
     "output_type": "stream",
     "text": [
      "['math', 'seocne', 'fasf', 'fdfsdfdsfsd', 'dfsdfsdfsdfs', 'dfsdfsefes', 'zzzzz', 'sdfgsddfdsffdggggggggggggggggggggggggggggggggggggggggggggggggggggggggggggggggggf']\n"
     ]
    }
   ],
   "source": [
    "course.insert(-1,'zzzzz')\n",
    "print(course)"
   ]
  },
  {
   "cell_type": "code",
   "execution_count": 24,
   "id": "56b84551",
   "metadata": {},
   "outputs": [
    {
     "name": "stdout",
     "output_type": "stream",
     "text": [
      "['zzzzz', 'math', 'seocne', 'fasf', 'fdfsdfdsfsd', 'dfsdfsdfsdfs', 'dfsdfsefes', 'zzzzz', 'sdfgsddfdsffdggggggggggggggggggggggggggggggggggggggggggggggggggggggggggggggggggf']\n"
     ]
    }
   ],
   "source": [
    "course.insert(0,'zzzzz')\n",
    "print(course)"
   ]
  },
  {
   "cell_type": "code",
   "execution_count": 25,
   "id": "d82e60f3",
   "metadata": {},
   "outputs": [],
   "source": [
    "course.remove('zzzzz')"
   ]
  },
  {
   "cell_type": "code",
   "execution_count": 26,
   "id": "98815ee3",
   "metadata": {},
   "outputs": [
    {
     "name": "stdout",
     "output_type": "stream",
     "text": [
      "['math', 'seocne', 'fasf', 'fdfsdfdsfsd', 'dfsdfsdfsdfs', 'dfsdfsefes', 'zzzzz', 'sdfgsddfdsffdggggggggggggggggggggggggggggggggggggggggggggggggggggggggggggggggggf']\n"
     ]
    }
   ],
   "source": [
    "print(course\n",
    "     )"
   ]
  },
  {
   "cell_type": "code",
   "execution_count": 27,
   "id": "956313c5",
   "metadata": {},
   "outputs": [
    {
     "name": "stdout",
     "output_type": "stream",
     "text": [
      "['a', 'a']\n"
     ]
    }
   ],
   "source": [
    "course=['a','a','a']\n",
    "course.remove('a')\n",
    "print(course)"
   ]
  },
  {
   "cell_type": "code",
   "execution_count": 28,
   "id": "8d1e355b",
   "metadata": {},
   "outputs": [
    {
     "name": "stdout",
     "output_type": "stream",
     "text": [
      "['sfdsf', 'lkkg', 'fdsf', 'fdsdsf']\n"
     ]
    }
   ],
   "source": [
    "course=['fdsdsf','fdsf','lkkg','sfdsf']\n",
    "course.reverse()\n",
    "print(course)"
   ]
  },
  {
   "cell_type": "code",
   "execution_count": 29,
   "id": "892377fe",
   "metadata": {},
   "outputs": [
    {
     "name": "stdout",
     "output_type": "stream",
     "text": [
      "['sfdsf', 'lkkg', 'fdsf', 'fdsdsf']\n"
     ]
    }
   ],
   "source": [
    "course.sort(reverse=True)\n",
    "print(course)"
   ]
  },
  {
   "cell_type": "code",
   "execution_count": 30,
   "id": "6baa1c1d",
   "metadata": {},
   "outputs": [
    {
     "name": "stdout",
     "output_type": "stream",
     "text": [
      "2\n"
     ]
    }
   ],
   "source": [
    "print(course.index('fdsf'))"
   ]
  },
  {
   "cell_type": "code",
   "execution_count": 31,
   "id": "002f164d",
   "metadata": {},
   "outputs": [],
   "source": [
    "char=[]\n",
    "for i in range(26):\n",
    "    char.append(str('a'+str(i)))\n",
    "    \n"
   ]
  },
  {
   "cell_type": "code",
   "execution_count": 32,
   "id": "883a33df",
   "metadata": {},
   "outputs": [
    {
     "name": "stdout",
     "output_type": "stream",
     "text": [
      "['a0', 'a1', 'a2', 'a3', 'a4', 'a5', 'a6', 'a7', 'a8', 'a9', 'a10', 'a11', 'a12', 'a13', 'a14', 'a15', 'a16', 'a17', 'a18', 'a19', 'a20', 'a21', 'a22', 'a23', 'a24', 'a25'] 2\n",
      "['a0', 'a1', 'a2', 'a3', 'a4', 'a5', 'a6', 'a7', 'a8', 'a9', 'a10', 'a11', 'a12', 'a13', 'a14', 'a15', 'a16', 'a17', 'a18', 'a19', 'a20', 'a21', 'a22', 'a23', 'a24', 'a25'] 3\n",
      "['a0', 'a1', 'a2', 'a3', 'a4', 'a5', 'a6', 'a7', 'a8', 'a9', 'a10', 'a11', 'a12', 'a13', 'a14', 'a15', 'a16', 'a17', 'a18', 'a19', 'a20', 'a21', 'a22', 'a23', 'a24', 'a25'] 4\n",
      "['a0', 'a1', 'a2', 'a3', 'a4', 'a5', 'a6', 'a7', 'a8', 'a9', 'a10', 'a11', 'a12', 'a13', 'a14', 'a15', 'a16', 'a17', 'a18', 'a19', 'a20', 'a21', 'a22', 'a23', 'a24', 'a25'] 5\n",
      "['a0', 'a1', 'a2', 'a3', 'a4', 'a5', 'a6', 'a7', 'a8', 'a9', 'a10', 'a11', 'a12', 'a13', 'a14', 'a15', 'a16', 'a17', 'a18', 'a19', 'a20', 'a21', 'a22', 'a23', 'a24', 'a25'] 6\n",
      "['a0', 'a1', 'a2', 'a3', 'a4', 'a5', 'a6', 'a7', 'a8', 'a9', 'a10', 'a11', 'a12', 'a13', 'a14', 'a15', 'a16', 'a17', 'a18', 'a19', 'a20', 'a21', 'a22', 'a23', 'a24', 'a25'] 7\n",
      "['a0', 'a1', 'a2', 'a3', 'a4', 'a5', 'a6', 'a7', 'a8', 'a9', 'a10', 'a11', 'a12', 'a13', 'a14', 'a15', 'a16', 'a17', 'a18', 'a19', 'a20', 'a21', 'a22', 'a23', 'a24', 'a25'] 8\n",
      "['a0', 'a1', 'a2', 'a3', 'a4', 'a5', 'a6', 'a7', 'a8', 'a9', 'a10', 'a11', 'a12', 'a13', 'a14', 'a15', 'a16', 'a17', 'a18', 'a19', 'a20', 'a21', 'a22', 'a23', 'a24', 'a25'] 9\n",
      "['a0', 'a1', 'a2', 'a3', 'a4', 'a5', 'a6', 'a7', 'a8', 'a9', 'a10', 'a11', 'a12', 'a13', 'a14', 'a15', 'a16', 'a17', 'a18', 'a19', 'a20', 'a21', 'a22', 'a23', 'a24', 'a25'] 10\n",
      "['a0', 'a1', 'a2', 'a3', 'a4', 'a5', 'a6', 'a7', 'a8', 'a9', 'a10', 'a11', 'a12', 'a13', 'a14', 'a15', 'a16', 'a17', 'a18', 'a19', 'a20', 'a21', 'a22', 'a23', 'a24', 'a25'] 11\n",
      "['a0', 'a1', 'a2', 'a3', 'a4', 'a5', 'a6', 'a7', 'a8', 'a9', 'a10', 'a11', 'a12', 'a13', 'a14', 'a15', 'a16', 'a17', 'a18', 'a19', 'a20', 'a21', 'a22', 'a23', 'a24', 'a25'] 12\n",
      "['a0', 'a1', 'a2', 'a3', 'a4', 'a5', 'a6', 'a7', 'a8', 'a9', 'a10', 'a11', 'a12', 'a13', 'a14', 'a15', 'a16', 'a17', 'a18', 'a19', 'a20', 'a21', 'a22', 'a23', 'a24', 'a25'] 13\n",
      "['a0', 'a1', 'a2', 'a3', 'a4', 'a5', 'a6', 'a7', 'a8', 'a9', 'a10', 'a11', 'a12', 'a13', 'a14', 'a15', 'a16', 'a17', 'a18', 'a19', 'a20', 'a21', 'a22', 'a23', 'a24', 'a25'] 14\n",
      "['a0', 'a1', 'a2', 'a3', 'a4', 'a5', 'a6', 'a7', 'a8', 'a9', 'a10', 'a11', 'a12', 'a13', 'a14', 'a15', 'a16', 'a17', 'a18', 'a19', 'a20', 'a21', 'a22', 'a23', 'a24', 'a25'] 15\n",
      "['a0', 'a1', 'a2', 'a3', 'a4', 'a5', 'a6', 'a7', 'a8', 'a9', 'a10', 'a11', 'a12', 'a13', 'a14', 'a15', 'a16', 'a17', 'a18', 'a19', 'a20', 'a21', 'a22', 'a23', 'a24', 'a25'] 16\n",
      "['a0', 'a1', 'a2', 'a3', 'a4', 'a5', 'a6', 'a7', 'a8', 'a9', 'a10', 'a11', 'a12', 'a13', 'a14', 'a15', 'a16', 'a17', 'a18', 'a19', 'a20', 'a21', 'a22', 'a23', 'a24', 'a25'] 17\n",
      "['a0', 'a1', 'a2', 'a3', 'a4', 'a5', 'a6', 'a7', 'a8', 'a9', 'a10', 'a11', 'a12', 'a13', 'a14', 'a15', 'a16', 'a17', 'a18', 'a19', 'a20', 'a21', 'a22', 'a23', 'a24', 'a25'] 18\n",
      "['a0', 'a1', 'a2', 'a3', 'a4', 'a5', 'a6', 'a7', 'a8', 'a9', 'a10', 'a11', 'a12', 'a13', 'a14', 'a15', 'a16', 'a17', 'a18', 'a19', 'a20', 'a21', 'a22', 'a23', 'a24', 'a25'] 19\n",
      "['a0', 'a1', 'a2', 'a3', 'a4', 'a5', 'a6', 'a7', 'a8', 'a9', 'a10', 'a11', 'a12', 'a13', 'a14', 'a15', 'a16', 'a17', 'a18', 'a19', 'a20', 'a21', 'a22', 'a23', 'a24', 'a25'] 20\n",
      "['a0', 'a1', 'a2', 'a3', 'a4', 'a5', 'a6', 'a7', 'a8', 'a9', 'a10', 'a11', 'a12', 'a13', 'a14', 'a15', 'a16', 'a17', 'a18', 'a19', 'a20', 'a21', 'a22', 'a23', 'a24', 'a25'] 21\n",
      "['a0', 'a1', 'a2', 'a3', 'a4', 'a5', 'a6', 'a7', 'a8', 'a9', 'a10', 'a11', 'a12', 'a13', 'a14', 'a15', 'a16', 'a17', 'a18', 'a19', 'a20', 'a21', 'a22', 'a23', 'a24', 'a25'] 22\n",
      "['a0', 'a1', 'a2', 'a3', 'a4', 'a5', 'a6', 'a7', 'a8', 'a9', 'a10', 'a11', 'a12', 'a13', 'a14', 'a15', 'a16', 'a17', 'a18', 'a19', 'a20', 'a21', 'a22', 'a23', 'a24', 'a25'] 23\n",
      "['a0', 'a1', 'a2', 'a3', 'a4', 'a5', 'a6', 'a7', 'a8', 'a9', 'a10', 'a11', 'a12', 'a13', 'a14', 'a15', 'a16', 'a17', 'a18', 'a19', 'a20', 'a21', 'a22', 'a23', 'a24', 'a25'] 24\n",
      "['a0', 'a1', 'a2', 'a3', 'a4', 'a5', 'a6', 'a7', 'a8', 'a9', 'a10', 'a11', 'a12', 'a13', 'a14', 'a15', 'a16', 'a17', 'a18', 'a19', 'a20', 'a21', 'a22', 'a23', 'a24', 'a25'] 25\n",
      "['a0', 'a1', 'a2', 'a3', 'a4', 'a5', 'a6', 'a7', 'a8', 'a9', 'a10', 'a11', 'a12', 'a13', 'a14', 'a15', 'a16', 'a17', 'a18', 'a19', 'a20', 'a21', 'a22', 'a23', 'a24', 'a25'] 26\n",
      "['a0', 'a1', 'a2', 'a3', 'a4', 'a5', 'a6', 'a7', 'a8', 'a9', 'a10', 'a11', 'a12', 'a13', 'a14', 'a15', 'a16', 'a17', 'a18', 'a19', 'a20', 'a21', 'a22', 'a23', 'a24', 'a25'] 27\n"
     ]
    }
   ],
   "source": [
    "for index,c in enumerate(char,start=2):\n",
    "    print(str(char)+' '+str(index))\n",
    "    "
   ]
  },
  {
   "cell_type": "code",
   "execution_count": 33,
   "id": "797660b0",
   "metadata": {},
   "outputs": [
    {
     "name": "stdout",
     "output_type": "stream",
     "text": [
      "Hi - i - am - newtan\n"
     ]
    }
   ],
   "source": [
    "char=['Hi',\"i\",\"am\",\"newtan\"]\n",
    "s=' - '.join(char)\n",
    "print(s)"
   ]
  },
  {
   "cell_type": "markdown",
   "id": "3d1b511a",
   "metadata": {},
   "source": [
    "# FUnctions\n"
   ]
  },
  {
   "cell_type": "code",
   "execution_count": 34,
   "id": "92df4a3c",
   "metadata": {},
   "outputs": [],
   "source": [
    "def p():\n",
    "   pass #will be updated later, ignored for now"
   ]
  },
  {
   "cell_type": "code",
   "execution_count": 35,
   "id": "f40c3205",
   "metadata": {},
   "outputs": [
    {
     "name": "stdout",
     "output_type": "stream",
     "text": [
      "FDSFSAD\n",
      "fdsfsad\n",
      "Fdsfsad\n",
      "fdsfsaD\n"
     ]
    }
   ],
   "source": [
    "s='fdsFsad'\n",
    "print(s.upper())\n",
    "print(s.lower())\n",
    "s='FdsFsad'\n",
    "print(s.capitalize())\n",
    "print(s[0:len(s)-1].lower()+s[len(s)-1].capitalize())"
   ]
  },
  {
   "cell_type": "code",
   "execution_count": 36,
   "id": "75cc89b0",
   "metadata": {},
   "outputs": [
    {
     "name": "stdout",
     "output_type": "stream",
     "text": [
      "fff ok boomer\n",
      "fff ok boomer\n"
     ]
    }
   ],
   "source": [
    "def ret(par='dffs'):\n",
    "    return '{} ok boomer'.format(par)\n",
    "\n",
    "print(ret(par='fff'))\n",
    "print(ret('fff'))"
   ]
  },
  {
   "cell_type": "code",
   "execution_count": 37,
   "id": "204b4a61",
   "metadata": {},
   "outputs": [],
   "source": [
    "def student_info(*args,**kwargs):\n",
    "    print(args)\n",
    "    print(kwargs)"
   ]
  },
  {
   "cell_type": "code",
   "execution_count": 38,
   "id": "264c17fe",
   "metadata": {},
   "outputs": [
    {
     "name": "stdout",
     "output_type": "stream",
     "text": [
      "('math', 'science', 'astronomy')\n",
      "{'name': 'newtan', 'surname': 'mukhopadhyay'}\n"
     ]
    }
   ],
   "source": [
    "student_info('math','science','astronomy',name='newtan',surname='mukhopadhyay')\n",
    "# arguments are like tuples, the keyword arguments are like dictionary"
   ]
  },
  {
   "cell_type": "code",
   "execution_count": 39,
   "id": "33daba16",
   "metadata": {},
   "outputs": [
    {
     "name": "stdout",
     "output_type": "stream",
     "text": [
      "('math', 'art')\n",
      "{'name': 'john', 'age': 22}\n"
     ]
    }
   ],
   "source": [
    "courses=['math','art']\n",
    "info={'name':'john','age':22}\n",
    "student_info(*courses,**info) # Adding * will basically unpack those values."
   ]
  },
  {
   "cell_type": "markdown",
   "id": "571370fb",
   "metadata": {},
   "source": [
    "# Modules"
   ]
  },
  {
   "cell_type": "code",
   "execution_count": 40,
   "id": "8880af3b",
   "metadata": {},
   "outputs": [
    {
     "data": {
      "text/plain": [
       "'\\ntwo python files : module.py and main.py\\nwant to use function inside the module.py in main.py?\\nimport module as md.\\nthen use, md.function(arguments)\\n\\nalternatively, u can directly import the function directly.\\n\\nfrom module import function,test     # here test is another local string in the module.\\nfunction(arguments)\\n'"
      ]
     },
     "execution_count": 40,
     "metadata": {},
     "output_type": "execute_result"
    }
   ],
   "source": [
    "'''\n",
    "two python files : module.py and main.py\n",
    "want to use function inside the module.py in main.py?\n",
    "import module as md.\n",
    "then use, md.function(arguments)\n",
    "\n",
    "alternatively, u can directly import the function directly.\n",
    "\n",
    "from module import function,test     # here test is another local string in the module.\n",
    "function(arguments)\n",
    "'''"
   ]
  },
  {
   "cell_type": "markdown",
   "id": "d11013a9",
   "metadata": {},
   "source": [
    "# Slicing"
   ]
  },
  {
   "cell_type": "code",
   "execution_count": 41,
   "id": "d33b30ae",
   "metadata": {},
   "outputs": [],
   "source": [
    "my_list=[i for i in range(10)]"
   ]
  },
  {
   "cell_type": "code",
   "execution_count": 42,
   "id": "c3cdcddd",
   "metadata": {},
   "outputs": [
    {
     "data": {
      "text/plain": [
       "[2, 3, 4]"
      ]
     },
     "execution_count": 42,
     "metadata": {},
     "output_type": "execute_result"
    }
   ],
   "source": [
    "my_list[2:5]"
   ]
  },
  {
   "cell_type": "code",
   "execution_count": 43,
   "id": "28762989",
   "metadata": {},
   "outputs": [
    {
     "data": {
      "text/plain": [
       "[0, 2, 4, 6, 8]"
      ]
     },
     "execution_count": 43,
     "metadata": {},
     "output_type": "execute_result"
    }
   ],
   "source": [
    "my_list[0:10:2]"
   ]
  },
  {
   "cell_type": "code",
   "execution_count": 44,
   "id": "2ec4d25d",
   "metadata": {},
   "outputs": [
    {
     "data": {
      "text/plain": [
       "[0, 3, 6, 9]"
      ]
     },
     "execution_count": 44,
     "metadata": {},
     "output_type": "execute_result"
    }
   ],
   "source": [
    "my_list[0:10:3]"
   ]
  },
  {
   "cell_type": "code",
   "execution_count": 45,
   "id": "8157155d",
   "metadata": {},
   "outputs": [
    {
     "data": {
      "text/plain": [
       "[1, 2, 3, 4, 5, 6, 7, 8, 9]"
      ]
     },
     "execution_count": 45,
     "metadata": {},
     "output_type": "execute_result"
    }
   ],
   "source": [
    "my_list[1:]"
   ]
  },
  {
   "cell_type": "code",
   "execution_count": 46,
   "id": "77829c98",
   "metadata": {},
   "outputs": [
    {
     "data": {
      "text/plain": [
       "[0, 1, 2, 3, 4]"
      ]
     },
     "execution_count": 46,
     "metadata": {},
     "output_type": "execute_result"
    }
   ],
   "source": [
    "my_list[:5]"
   ]
  },
  {
   "cell_type": "code",
   "execution_count": 47,
   "id": "b56e901f",
   "metadata": {},
   "outputs": [
    {
     "name": "stdout",
     "output_type": "stream",
     "text": [
      "fdnjsfnds\n"
     ]
    }
   ],
   "source": [
    "s='fdnjsfnds'\n",
    "t=s[0:]\n",
    "print(t)"
   ]
  },
  {
   "cell_type": "code",
   "execution_count": 48,
   "id": "a6a339e0",
   "metadata": {},
   "outputs": [],
   "source": [
    "lists=[2,4,2,1,3,5,3]\n",
    "lists.sort()"
   ]
  },
  {
   "cell_type": "code",
   "execution_count": 49,
   "id": "0cc63cdc",
   "metadata": {},
   "outputs": [
    {
     "data": {
      "text/plain": [
       "[1, 2, 2, 3, 3, 4, 5]"
      ]
     },
     "execution_count": 49,
     "metadata": {},
     "output_type": "execute_result"
    }
   ],
   "source": [
    "lists"
   ]
  },
  {
   "cell_type": "markdown",
   "id": "dc1db5ca",
   "metadata": {},
   "source": [
    "# sort() will sort the list inplcae. sorted will return a new sorted list."
   ]
  },
  {
   "cell_type": "code",
   "execution_count": 50,
   "id": "9d3b0259",
   "metadata": {},
   "outputs": [],
   "source": [
    "lists.sort(reverse=True)"
   ]
  },
  {
   "cell_type": "code",
   "execution_count": 51,
   "id": "f2d21231",
   "metadata": {},
   "outputs": [
    {
     "data": {
      "text/plain": [
       "[5, 4, 3, 3, 2, 2, 1]"
      ]
     },
     "execution_count": 51,
     "metadata": {},
     "output_type": "execute_result"
    }
   ],
   "source": [
    "lists"
   ]
  },
  {
   "cell_type": "code",
   "execution_count": 52,
   "id": "89617a14",
   "metadata": {},
   "outputs": [],
   "source": [
    "name='Newtan'\n",
    "age='21'\n",
    "\n",
    "text='Hi i am {0}, i am {1} years old. {0}\\'s favorite food is chicken'.format(name,age)\n"
   ]
  },
  {
   "cell_type": "code",
   "execution_count": 53,
   "id": "9bc52a02",
   "metadata": {},
   "outputs": [
    {
     "data": {
      "text/plain": [
       "\"Hi i am Newtan, i am 21 years old. Newtan's favorite food is chicken\""
      ]
     },
     "execution_count": 53,
     "metadata": {},
     "output_type": "execute_result"
    }
   ],
   "source": [
    "text"
   ]
  },
  {
   "cell_type": "markdown",
   "id": "a1d3779e",
   "metadata": {},
   "source": [
    "# OS Module"
   ]
  },
  {
   "cell_type": "code",
   "execution_count": 54,
   "id": "1b35903d",
   "metadata": {},
   "outputs": [],
   "source": [
    "import os"
   ]
  },
  {
   "cell_type": "code",
   "execution_count": 55,
   "id": "212cedbb",
   "metadata": {},
   "outputs": [
    {
     "name": "stdout",
     "output_type": "stream",
     "text": [
      "['DirEntry', 'F_OK', 'GenericAlias', 'Mapping', 'MutableMapping', 'O_APPEND', 'O_BINARY', 'O_CREAT', 'O_EXCL', 'O_NOINHERIT', 'O_RANDOM', 'O_RDONLY', 'O_RDWR', 'O_SEQUENTIAL', 'O_SHORT_LIVED', 'O_TEMPORARY', 'O_TEXT', 'O_TRUNC', 'O_WRONLY', 'P_DETACH', 'P_NOWAIT', 'P_NOWAITO', 'P_OVERLAY', 'P_WAIT', 'PathLike', 'R_OK', 'SEEK_CUR', 'SEEK_END', 'SEEK_SET', 'TMP_MAX', 'W_OK', 'X_OK', '_AddedDllDirectory', '_Environ', '__all__', '__builtins__', '__cached__', '__doc__', '__file__', '__loader__', '__name__', '__package__', '__spec__', '_check_methods', '_execvpe', '_exists', '_exit', '_fspath', '_get_exports_list', '_walk', '_wrap_close', 'abc', 'abort', 'access', 'add_dll_directory', 'altsep', 'chdir', 'chmod', 'close', 'closerange', 'cpu_count', 'curdir', 'defpath', 'device_encoding', 'devnull', 'dup', 'dup2', 'environ', 'error', 'execl', 'execle', 'execlp', 'execlpe', 'execv', 'execve', 'execvp', 'execvpe', 'extsep', 'fdopen', 'fsdecode', 'fsencode', 'fspath', 'fstat', 'fsync', 'ftruncate', 'get_exec_path', 'get_handle_inheritable', 'get_inheritable', 'get_terminal_size', 'getcwd', 'getcwdb', 'getenv', 'getlogin', 'getpid', 'getppid', 'isatty', 'kill', 'linesep', 'link', 'listdir', 'lseek', 'lstat', 'makedirs', 'mkdir', 'name', 'open', 'pardir', 'path', 'pathsep', 'pipe', 'popen', 'putenv', 'read', 'readlink', 'remove', 'removedirs', 'rename', 'renames', 'replace', 'rmdir', 'scandir', 'sep', 'set_handle_inheritable', 'set_inheritable', 'spawnl', 'spawnle', 'spawnv', 'spawnve', 'st', 'startfile', 'stat', 'stat_result', 'statvfs_result', 'strerror', 'supports_bytes_environ', 'supports_dir_fd', 'supports_effective_ids', 'supports_fd', 'supports_follow_symlinks', 'symlink', 'sys', 'system', 'terminal_size', 'times', 'times_result', 'truncate', 'umask', 'uname_result', 'unlink', 'unsetenv', 'urandom', 'utime', 'waitpid', 'waitstatus_to_exitcode', 'walk', 'write']\n"
     ]
    }
   ],
   "source": [
    "print(dir(os))"
   ]
  },
  {
   "cell_type": "code",
   "execution_count": 56,
   "id": "7fbbd56a",
   "metadata": {},
   "outputs": [
    {
     "name": "stdout",
     "output_type": "stream",
     "text": [
      "E:\\python framewors\\Python-Frameworks-Tutorials\\Corey schafer\n"
     ]
    }
   ],
   "source": [
    "print(os.getcwd())"
   ]
  },
  {
   "cell_type": "code",
   "execution_count": 57,
   "id": "ca21abe6",
   "metadata": {},
   "outputs": [],
   "source": [
    "# os.chdir(loc_name) this will take you to the directory of loc_name"
   ]
  },
  {
   "cell_type": "code",
   "execution_count": 58,
   "id": "26ef741e",
   "metadata": {},
   "outputs": [
    {
     "name": "stdout",
     "output_type": "stream",
     "text": [
      "['.ipynb_checkpoints', 'employee.db', 'Tutorial.ipynb']\n"
     ]
    }
   ],
   "source": [
    "print(os.listdir()) # Will list the files and folder in the current directory"
   ]
  },
  {
   "cell_type": "markdown",
   "id": "7253e506",
   "metadata": {},
   "source": [
    "* os.mkdir()  "
   ]
  },
  {
   "cell_type": "code",
   "execution_count": 59,
   "id": "9d1b175b",
   "metadata": {},
   "outputs": [
    {
     "data": {
      "text/plain": [
       "'E:\\\\python framewors\\\\Python-Frameworks-Tutorials\\\\Corey schafer'"
      ]
     },
     "execution_count": 59,
     "metadata": {},
     "output_type": "execute_result"
    }
   ],
   "source": [
    "os.getcwd()"
   ]
  },
  {
   "cell_type": "code",
   "execution_count": 60,
   "id": "e72de135",
   "metadata": {},
   "outputs": [
    {
     "name": "stdout",
     "output_type": "stream",
     "text": [
      "Name of the file is : .ipynb_checkpoints and the extension is : \n",
      "Name of the file is : employee and the extension is : .db\n",
      "Name of the file is : Tutorial and the extension is : .ipynb\n"
     ]
    }
   ],
   "source": [
    "for file in os.listdir():\n",
    "    file_name,file_ext=os.path.splitext(file)# os.path.splitext just separates the name of the file and its extension\n",
    "    print(\"Name of the file is : \"+ str(file_name)+\" and the extension is : \"+str(file_ext))"
   ]
  },
  {
   "cell_type": "markdown",
   "id": "7fde62e6",
   "metadata": {},
   "source": [
    "# Random"
   ]
  },
  {
   "cell_type": "code",
   "execution_count": 61,
   "id": "78677721",
   "metadata": {},
   "outputs": [],
   "source": [
    "import random"
   ]
  },
  {
   "cell_type": "code",
   "execution_count": 62,
   "id": "4ce55238",
   "metadata": {},
   "outputs": [
    {
     "name": "stdout",
     "output_type": "stream",
     "text": [
      "0.4252437418725107\n"
     ]
    }
   ],
   "source": [
    "value=random.random()\n",
    "print(value)"
   ]
  },
  {
   "cell_type": "code",
   "execution_count": 63,
   "id": "a242160d",
   "metadata": {},
   "outputs": [
    {
     "name": "stdout",
     "output_type": "stream",
     "text": [
      "8.80747681952749\n"
     ]
    }
   ],
   "source": [
    "value=random.uniform(1,10)\n",
    "print(value)"
   ]
  },
  {
   "cell_type": "code",
   "execution_count": 64,
   "id": "04cc0947",
   "metadata": {},
   "outputs": [
    {
     "name": "stdout",
     "output_type": "stream",
     "text": [
      "1\n"
     ]
    }
   ],
   "source": [
    "value=random.randint(1,6)\n",
    "print(value)"
   ]
  },
  {
   "cell_type": "code",
   "execution_count": 65,
   "id": "919c90fb",
   "metadata": {},
   "outputs": [
    {
     "name": "stdout",
     "output_type": "stream",
     "text": [
      "1\n"
     ]
    }
   ],
   "source": [
    "nums=[3,5,1,56,7,8,900,'dfs','dfesf','new','list']\n",
    "value=random.choice(nums)\n",
    "print(value)"
   ]
  },
  {
   "cell_type": "code",
   "execution_count": 66,
   "id": "73d4d5c2",
   "metadata": {},
   "outputs": [
    {
     "name": "stdout",
     "output_type": "stream",
     "text": [
      "[1, 'list', 'dfesf', 'dfs']\n"
     ]
    }
   ],
   "source": [
    "nums=[3,5,1,56,7,8,900,'dfs','dfesf','new','list']\n",
    "\n",
    "value=random.choices(nums,k=4)\n",
    "print(value)"
   ]
  },
  {
   "cell_type": "code",
   "execution_count": 67,
   "id": "f1ad7d0c",
   "metadata": {},
   "outputs": [
    {
     "name": "stdout",
     "output_type": "stream",
     "text": [
      "['new', 'new', 'dfs', 900, 900, 'new', 'dfesf', 3, 'list', 7, 5, 'dfs', 'list', 7, 'new']\n"
     ]
    }
   ],
   "source": [
    "nums=[3,5,1,56,7,8,900,'dfs','dfesf','new','list']\n",
    "weights=[100,200,300,400,500,600,700,800,900,1000,999]\n",
    "value=random.choices(nums,weights=weights,k=15)\n",
    "print(value)"
   ]
  },
  {
   "cell_type": "code",
   "execution_count": 68,
   "id": "c701ea26",
   "metadata": {},
   "outputs": [],
   "source": [
    "deck=list(range(1,16))"
   ]
  },
  {
   "cell_type": "code",
   "execution_count": 69,
   "id": "4139bab7",
   "metadata": {},
   "outputs": [
    {
     "data": {
      "text/plain": [
       "[1, 2, 3, 4, 5, 6, 7, 8, 9, 10, 11, 12, 13, 14, 15]"
      ]
     },
     "execution_count": 69,
     "metadata": {},
     "output_type": "execute_result"
    }
   ],
   "source": [
    "deck"
   ]
  },
  {
   "cell_type": "code",
   "execution_count": 70,
   "id": "1e996981",
   "metadata": {},
   "outputs": [],
   "source": [
    "random.shuffle(deck)"
   ]
  },
  {
   "cell_type": "code",
   "execution_count": 71,
   "id": "cc07bd2d",
   "metadata": {},
   "outputs": [
    {
     "data": {
      "text/plain": [
       "[10, 1, 8, 11, 6, 12, 14, 13, 4, 7, 3, 15, 2, 5, 9]"
      ]
     },
     "execution_count": 71,
     "metadata": {},
     "output_type": "execute_result"
    }
   ],
   "source": [
    "deck"
   ]
  },
  {
   "cell_type": "code",
   "execution_count": 72,
   "id": "8b222ff4",
   "metadata": {},
   "outputs": [],
   "source": [
    "hand=random.sample(deck,k=6)"
   ]
  },
  {
   "cell_type": "code",
   "execution_count": 73,
   "id": "fa2cc120",
   "metadata": {},
   "outputs": [
    {
     "data": {
      "text/plain": [
       "[14, 3, 8, 15, 2, 4]"
      ]
     },
     "execution_count": 73,
     "metadata": {},
     "output_type": "execute_result"
    }
   ],
   "source": [
    "hand"
   ]
  },
  {
   "cell_type": "markdown",
   "id": "e72725f2",
   "metadata": {},
   "source": [
    "# JSON"
   ]
  },
  {
   "cell_type": "code",
   "execution_count": 74,
   "id": "6aa4d6fa",
   "metadata": {},
   "outputs": [],
   "source": [
    "data='''{\n",
    "  \"states\": [\n",
    "    {\n",
    "      \"name\": \"Alabama\",\n",
    "      \"abbreviation\": \"AL\",\n",
    "      \"area_codes\": [\"205\", \"251\", \"256\", \"334\", \"938\"]\n",
    "    },\n",
    "    {\n",
    "      \"name\": \"Alaska\",\n",
    "      \"abbreviation\": \"AK\",\n",
    "      \"area_codes\": [\"907\"]\n",
    "    }\n",
    "       ]\n",
    "}'''"
   ]
  },
  {
   "cell_type": "code",
   "execution_count": 75,
   "id": "faf31fc3",
   "metadata": {},
   "outputs": [],
   "source": [
    "import json"
   ]
  },
  {
   "cell_type": "code",
   "execution_count": 76,
   "id": "f64eda19",
   "metadata": {},
   "outputs": [],
   "source": [
    "d=json.loads(data)"
   ]
  },
  {
   "cell_type": "code",
   "execution_count": 77,
   "id": "4306674b",
   "metadata": {},
   "outputs": [
    {
     "data": {
      "text/plain": [
       "{'states': [{'name': 'Alabama',\n",
       "   'abbreviation': 'AL',\n",
       "   'area_codes': ['205', '251', '256', '334', '938']},\n",
       "  {'name': 'Alaska', 'abbreviation': 'AK', 'area_codes': ['907']}]}"
      ]
     },
     "execution_count": 77,
     "metadata": {},
     "output_type": "execute_result"
    }
   ],
   "source": [
    "d\n"
   ]
  },
  {
   "cell_type": "code",
   "execution_count": 78,
   "id": "7484325e",
   "metadata": {},
   "outputs": [
    {
     "name": "stdout",
     "output_type": "stream",
     "text": [
      "<class 'str'>\n"
     ]
    }
   ],
   "source": [
    "print(type(data))"
   ]
  },
  {
   "cell_type": "markdown",
   "id": "4804e3cc",
   "metadata": {},
   "source": [
    "### The following images shows what happens when we convert from python object to JSON."
   ]
  },
  {
   "attachments": {
    "image.png": {
     "image/png": "[encoded data removed]"
    }
   },
   "cell_type": "markdown",
   "id": "de736f13",
   "metadata": {},
   "source": [
    "![image.png](attachment:image.png)"
   ]
  },
  {
   "cell_type": "code",
   "execution_count": 79,
   "id": "ca3a82e7",
   "metadata": {},
   "outputs": [
    {
     "data": {
      "text/plain": [
       "['205', '251', '256', '334', '938']"
      ]
     },
     "execution_count": 79,
     "metadata": {},
     "output_type": "execute_result"
    }
   ],
   "source": [
    "d['states'][0]['area_codes']\n",
    "    "
   ]
  },
  {
   "cell_type": "code",
   "execution_count": 80,
   "id": "f4fc2b35",
   "metadata": {},
   "outputs": [
    {
     "data": {
      "text/plain": [
       "{'states': [{'name': 'Alabama',\n",
       "   'abbreviation': 'AL',\n",
       "   'area_codes': ['205', '251', '256', '334', '938']},\n",
       "  {'name': 'Alaska', 'abbreviation': 'AK', 'area_codes': ['907']}]}"
      ]
     },
     "execution_count": 80,
     "metadata": {},
     "output_type": "execute_result"
    }
   ],
   "source": [
    "d"
   ]
  },
  {
   "cell_type": "code",
   "execution_count": 81,
   "id": "404eafe5",
   "metadata": {},
   "outputs": [],
   "source": [
    "new_string=json.dumps(d,indent=1,sort_keys=True)"
   ]
  },
  {
   "cell_type": "code",
   "execution_count": 82,
   "id": "11c955b7",
   "metadata": {},
   "outputs": [
    {
     "data": {
      "text/plain": [
       "'{\\n \"states\": [\\n  {\\n   \"abbreviation\": \"AL\",\\n   \"area_codes\": [\\n    \"205\",\\n    \"251\",\\n    \"256\",\\n    \"334\",\\n    \"938\"\\n   ],\\n   \"name\": \"Alabama\"\\n  },\\n  {\\n   \"abbreviation\": \"AK\",\\n   \"area_codes\": [\\n    \"907\"\\n   ],\\n   \"name\": \"Alaska\"\\n  }\\n ]\\n}'"
      ]
     },
     "execution_count": 82,
     "metadata": {},
     "output_type": "execute_result"
    }
   ],
   "source": [
    "new_string"
   ]
  },
  {
   "cell_type": "markdown",
   "id": "e3171a79",
   "metadata": {},
   "source": [
    "### You can also delete stuff by using the command del. "
   ]
  },
  {
   "cell_type": "markdown",
   "id": "d1092a6a",
   "metadata": {},
   "source": [
    "# SQLite"
   ]
  },
  {
   "cell_type": "code",
   "execution_count": 83,
   "id": "6083499a",
   "metadata": {},
   "outputs": [],
   "source": [
    "import sqlite3"
   ]
  },
  {
   "cell_type": "code",
   "execution_count": 84,
   "id": "09b33a86",
   "metadata": {},
   "outputs": [],
   "source": [
    "conn=sqlite3.connect('employee.db')# it creates if it does not exist"
   ]
  },
  {
   "cell_type": "code",
   "execution_count": 85,
   "id": "0727b6af",
   "metadata": {},
   "outputs": [],
   "source": [
    "c=conn.cursor()"
   ]
  },
  {
   "cell_type": "code",
   "execution_count": 86,
   "id": "96acfe11",
   "metadata": {},
   "outputs": [
    {
     "ename": "OperationalError",
     "evalue": "table employee already exists",
     "output_type": "error",
     "traceback": [
      "\u001b[1;31m---------------------------------------------------------------------------\u001b[0m",
      "\u001b[1;31mOperationalError\u001b[0m                          Traceback (most recent call last)",
      "\u001b[1;32m~\\AppData\\Local\\Temp/ipykernel_1440/1466404941.py\u001b[0m in \u001b[0;36m<module>\u001b[1;34m\u001b[0m\n\u001b[1;32m----> 1\u001b[1;33m c.execute(\"\"\"CREATE TABLE employee(\n\u001b[0m\u001b[0;32m      2\u001b[0m         \u001b[0mfirst\u001b[0m \u001b[0mtext\u001b[0m\u001b[1;33m,\u001b[0m\u001b[1;33m\u001b[0m\u001b[1;33m\u001b[0m\u001b[0m\n\u001b[0;32m      3\u001b[0m         \u001b[0mlast\u001b[0m \u001b[0mtext\u001b[0m\u001b[1;33m,\u001b[0m\u001b[1;33m\u001b[0m\u001b[1;33m\u001b[0m\u001b[0m\n\u001b[0;32m      4\u001b[0m         \u001b[0mpay\u001b[0m \u001b[0minteger\u001b[0m\u001b[1;33m\u001b[0m\u001b[1;33m\u001b[0m\u001b[0m\n\u001b[0;32m      5\u001b[0m         )\"\"\")\n",
      "\u001b[1;31mOperationalError\u001b[0m: table employee already exists"
     ]
    }
   ],
   "source": [
    "c.execute(\"\"\"CREATE TABLE employee(\n",
    "        first text,\n",
    "        last text,\n",
    "        pay integer\n",
    "        )\"\"\")"
   ]
  },
  {
   "cell_type": "code",
   "execution_count": 87,
   "id": "efcb0b47",
   "metadata": {},
   "outputs": [],
   "source": [
    "conn.commit()# Commit the changes to the DB."
   ]
  },
  {
   "cell_type": "code",
   "execution_count": 88,
   "id": "772a63c1",
   "metadata": {},
   "outputs": [],
   "source": [
    "conn.close()"
   ]
  },
  {
   "cell_type": "code",
   "execution_count": 89,
   "id": "033d3b60",
   "metadata": {},
   "outputs": [],
   "source": [
    "conn=sqlite3.connect('employee.db')\n",
    "c=conn.cursor()\n",
    "c.execute(\"\"\"INSERT INTO employee\n",
    "        VALUES('Newtan','Mukhopadhyay',50000)\n",
    "        \"\"\")\n",
    "\n",
    "conn.commit()\n",
    "conn.close()"
   ]
  },
  {
   "cell_type": "code",
   "execution_count": 92,
   "id": "1381c2ee",
   "metadata": {},
   "outputs": [
    {
     "name": "stdout",
     "output_type": "stream",
     "text": [
      "('Newtan', 'Mukhopadhyay', 50000)\n"
     ]
    }
   ],
   "source": [
    "conn=sqlite3.connect('employee.db')\n",
    "c=conn.cursor()\n",
    "c.execute(\"\"\"SELECT * from employee where last='Mukhopadhyay'\n",
    "        \"\"\")\n",
    "print(c.fetchone())\n",
    "#fetchmany(args) : in args we specify the number. that will give is the number of row tuples\n",
    "#fetchall()  :   return the remaining number of row tuples\n",
    "#fetchone()  :  will return one row one by one\n",
    "conn.commit()\n",
    "conn.close()"
   ]
  },
  {
   "cell_type": "markdown",
   "id": "6ef5549a",
   "metadata": {},
   "source": [
    "# Manipulating images using Pillow"
   ]
  },
  {
   "cell_type": "code",
   "execution_count": 94,
   "id": "4d68b977",
   "metadata": {},
   "outputs": [],
   "source": [
    "from PIL import Image"
   ]
  },
  {
   "cell_type": "code",
   "execution_count": 95,
   "id": "bc06ecec",
   "metadata": {},
   "outputs": [
    {
     "name": "stdout",
     "output_type": "stream",
     "text": [
      "Requirement already satisfied: pillow in d:\\users\\newtan\\anaconda3\\lib\\site-packages (9.2.0)\n",
      "Note: you may need to restart the kernel to use updated packages.\n"
     ]
    },
    {
     "name": "stderr",
     "output_type": "stream",
     "text": [
      "WARNING: Ignoring invalid distribution -illow (d:\\users\\newtan\\anaconda3\\lib\\site-packages)\n",
      "WARNING: Ignoring invalid distribution -illow (d:\\users\\newtan\\anaconda3\\lib\\site-packages)\n",
      "WARNING: Ignoring invalid distribution -illow (d:\\users\\newtan\\anaconda3\\lib\\site-packages)\n",
      "WARNING: Ignoring invalid distribution -illow (d:\\users\\newtan\\anaconda3\\lib\\site-packages)\n",
      "WARNING: Ignoring invalid distribution -illow (d:\\users\\newtan\\anaconda3\\lib\\site-packages)\n",
      "WARNING: Ignoring invalid distribution -illow (d:\\users\\newtan\\anaconda3\\lib\\site-packages)\n"
     ]
    }
   ],
   "source": [
    "pip install pillow"
   ]
  },
  {
   "cell_type": "code",
   "execution_count": 96,
   "id": "67520759",
   "metadata": {},
   "outputs": [],
   "source": [
    "img=Image.open('ghost.jfif')"
   ]
  },
  {
   "cell_type": "code",
   "execution_count": 97,
   "id": "23b03d4f",
   "metadata": {},
   "outputs": [
    {
     "data": {
      "image/png": "[encoded data removed]",
      "text/plain": [
       "<PIL.JpegImagePlugin.JpegImageFile image mode=RGB size=275x183>"
      ]
     },
     "execution_count": 97,
     "metadata": {},
     "output_type": "execute_result"
    }
   ],
   "source": [
    "img"
   ]
  },
  {
   "cell_type": "code",
   "execution_count": 99,
   "id": "de39e7cc",
   "metadata": {},
   "outputs": [],
   "source": [
    "img.show() # will open the image in the images app"
   ]
  },
  {
   "cell_type": "code",
   "execution_count": 101,
   "id": "97b79a86",
   "metadata": {},
   "outputs": [],
   "source": [
    "img.save('duplicate.png') # this will save this image with a new image with this name and extension."
   ]
  },
  {
   "cell_type": "code",
   "execution_count": 104,
   "id": "cf248d4a",
   "metadata": {},
   "outputs": [
    {
     "name": "stdout",
     "output_type": "stream",
     "text": [
      "duplicate.png\n"
     ]
    }
   ],
   "source": [
    "for f in os.listdir('.'):\n",
    "    if f.endswith('.png'):\n",
    "        print(f)"
   ]
  },
  {
   "cell_type": "markdown",
   "id": "4a70ba9a",
   "metadata": {},
   "source": [
    "### Saving the jpg format of png file."
   ]
  },
  {
   "cell_type": "code",
   "execution_count": 107,
   "id": "3860580d",
   "metadata": {},
   "outputs": [],
   "source": [
    "\n",
    "\n",
    "for f in os.listdir('.'):\n",
    "    if f.endswith('.png'):\n",
    "        i=Image.open(f)\n",
    "        name,extension=os.path.splitext(f)\n",
    "        i.save('{}.jpg'.format(name))"
   ]
  },
  {
   "cell_type": "markdown",
   "id": "47ed4e7a",
   "metadata": {},
   "source": [
    "# Unit Testing"
   ]
  },
  {
   "cell_type": "code",
   "execution_count": null,
   "id": "937a4518",
   "metadata": {},
   "outputs": [],
   "source": []
  }
 ],
 "metadata": {
  "kernelspec": {
   "display_name": "Python 3 (ipykernel)",
   "language": "python",
   "name": "python3"
  },
  "language_info": {
   "codemirror_mode": {
    "name": "ipython",
    "version": 3
   },
   "file_extension": ".py",
   "mimetype": "text/x-python",
   "name": "python",
   "nbconvert_exporter": "python",
   "pygments_lexer": "ipython3",
   "version": "3.9.7"
  }
 },
 "nbformat": 4,
 "nbformat_minor": 5
}
