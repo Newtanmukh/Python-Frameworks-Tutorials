{
 "cells": [
  {
   "cell_type": "markdown",
   "id": "5e1d940c",
   "metadata": {},
   "source": [
    "# Strings"
   ]
  },
  {
   "cell_type": "code",
   "execution_count": 1,
   "id": "d4ed8245",
   "metadata": {},
   "outputs": [
    {
     "name": "stdout",
     "output_type": "stream",
     "text": [
      "hello world\n"
     ]
    }
   ],
   "source": [
    "print('hello world')"
   ]
  },
  {
   "cell_type": "code",
   "execution_count": 2,
   "id": "e1260e72",
   "metadata": {},
   "outputs": [
    {
     "name": "stdout",
     "output_type": "stream",
     "text": [
      "kd\n"
     ]
    }
   ],
   "source": [
    "s='olkdsfl'\n",
    "print(s[2:4])"
   ]
  },
  {
   "cell_type": "code",
   "execution_count": 3,
   "id": "64a10337",
   "metadata": {},
   "outputs": [
    {
     "name": "stdout",
     "output_type": "stream",
     "text": [
      "mgdfg ' ksdfk\n"
     ]
    }
   ],
   "source": [
    "print('mgdfg \\' ksdfk')"
   ]
  },
  {
   "cell_type": "code",
   "execution_count": 4,
   "id": "2e645624",
   "metadata": {},
   "outputs": [
    {
     "name": "stdout",
     "output_type": "stream",
     "text": [
      "7\n"
     ]
    }
   ],
   "source": [
    "print(len(s))\n"
   ]
  },
  {
   "cell_type": "code",
   "execution_count": 5,
   "id": "57d253e8",
   "metadata": {},
   "outputs": [
    {
     "name": "stdout",
     "output_type": "stream",
     "text": [
      "dsfl\n"
     ]
    }
   ],
   "source": [
    "print(s[3:])"
   ]
  },
  {
   "cell_type": "code",
   "execution_count": 6,
   "id": "258694ca",
   "metadata": {},
   "outputs": [],
   "source": [
    "s='LKMDSdskmDSmdskmdksdf'"
   ]
  },
  {
   "cell_type": "code",
   "execution_count": 7,
   "id": "a777a8d4",
   "metadata": {},
   "outputs": [
    {
     "name": "stdout",
     "output_type": "stream",
     "text": [
      "lkmdsdskmdsmdskmdksdf\n"
     ]
    }
   ],
   "source": [
    "print(s.lower())"
   ]
  },
  {
   "cell_type": "code",
   "execution_count": 8,
   "id": "63b94584",
   "metadata": {},
   "outputs": [
    {
     "name": "stdout",
     "output_type": "stream",
     "text": [
      "LKMDSDSKMDSMDSKMDKSDF\n"
     ]
    }
   ],
   "source": [
    "print(s.upper())"
   ]
  },
  {
   "cell_type": "code",
   "execution_count": 9,
   "id": "bc42c0ab",
   "metadata": {},
   "outputs": [
    {
     "name": "stdout",
     "output_type": "stream",
     "text": [
      "Lkmdsdskmdsmdskmdksdf\n"
     ]
    }
   ],
   "source": [
    "print(s.capitalize())"
   ]
  },
  {
   "cell_type": "code",
   "execution_count": 12,
   "id": "59776614",
   "metadata": {},
   "outputs": [],
   "source": [
    "big='I am Newtan'\n",
    "small='Newtan'"
   ]
  },
  {
   "cell_type": "code",
   "execution_count": 18,
   "id": "bbecd3a9",
   "metadata": {},
   "outputs": [
    {
     "name": "stdout",
     "output_type": "stream",
     "text": [
      "5\n",
      "N\n",
      "2\n",
      "I am portan\n"
     ]
    }
   ],
   "source": [
    "print(big.find('Newtan'))\n",
    "print(big[5])\n",
    "print(big.find('a'))\n",
    "big=big.replace('New','por')\n",
    "print(big)"
   ]
  },
  {
   "cell_type": "code",
   "execution_count": 22,
   "id": "9d24fa2e",
   "metadata": {},
   "outputs": [
    {
     "name": "stdout",
     "output_type": "stream",
     "text": [
      "Hi,I am NEW\n"
     ]
    }
   ],
   "source": [
    "new='Newtan'\n",
    "s='{},I am {}'.format('Hi','new'.upper())\n",
    "print(s)"
   ]
  },
  {
   "cell_type": "code",
   "execution_count": 23,
   "id": "5663c42c",
   "metadata": {},
   "outputs": [
    {
     "name": "stdout",
     "output_type": "stream",
     "text": [
      "3\n"
     ]
    }
   ],
   "source": [
    "s='Newtan New New t'\n",
    "print(s.count('New'))"
   ]
  },
  {
   "cell_type": "markdown",
   "id": "7275746e",
   "metadata": {},
   "source": [
    "# List, tuples and sets."
   ]
  },
  {
   "cell_type": "code",
   "execution_count": 25,
   "id": "5774e607",
   "metadata": {},
   "outputs": [
    {
     "name": "stdout",
     "output_type": "stream",
     "text": [
      "math\n",
      "\n",
      "science\n",
      "\n",
      "physics\n",
      "\n",
      "3\n"
     ]
    }
   ],
   "source": [
    "course=['math','science','physics']\n",
    "\n",
    "for i in course:\n",
    "    print(i+'\\n')\n",
    "print(len(course))"
   ]
  },
  {
   "cell_type": "code",
   "execution_count": 27,
   "id": "c1ef9b0a",
   "metadata": {},
   "outputs": [
    {
     "name": "stdout",
     "output_type": "stream",
     "text": [
      "physics\n"
     ]
    }
   ],
   "source": [
    "print(course[-1])"
   ]
  },
  {
   "cell_type": "code",
   "execution_count": 28,
   "id": "9a040c78",
   "metadata": {},
   "outputs": [
    {
     "name": "stdout",
     "output_type": "stream",
     "text": [
      "science\n"
     ]
    }
   ],
   "source": [
    "print(course[-2])"
   ]
  },
  {
   "cell_type": "code",
   "execution_count": 29,
   "id": "f976a5f9",
   "metadata": {},
   "outputs": [
    {
     "name": "stdout",
     "output_type": "stream",
     "text": [
      "math\n"
     ]
    }
   ],
   "source": [
    "print(course[-len(course)])"
   ]
  },
  {
   "cell_type": "code",
   "execution_count": 36,
   "id": "5151ef97",
   "metadata": {},
   "outputs": [
    {
     "name": "stdout",
     "output_type": "stream",
     "text": [
      "['math']\n"
     ]
    }
   ],
   "source": [
    "print(course[0:-2\n",
    "            ])   #"
   ]
  },
  {
   "cell_type": "code",
   "execution_count": 37,
   "id": "95ce11fa",
   "metadata": {},
   "outputs": [],
   "source": [
    "course=['math','seocne','fasf','fdfsdfdsfsd','dfsdfsdfsdfs','dfsdfsefes']"
   ]
  },
  {
   "cell_type": "code",
   "execution_count": 39,
   "id": "f2e6e8b2",
   "metadata": {},
   "outputs": [
    {
     "name": "stdout",
     "output_type": "stream",
     "text": [
      "['math', 'seocne', 'fasf']\n"
     ]
    }
   ],
   "source": [
    "print(course[0:-3]) # print all the elements from index 0 except the last 3"
   ]
  },
  {
   "cell_type": "code",
   "execution_count": 41,
   "id": "4a46f0aa",
   "metadata": {},
   "outputs": [
    {
     "name": "stdout",
     "output_type": "stream",
     "text": [
      "['math', 'seocne', 'fasf', 'fdfsdfdsfsd']\n"
     ]
    }
   ],
   "source": [
    "print(course[0:-2])# print all the elements from index 0 except the last 2"
   ]
  },
  {
   "cell_type": "code",
   "execution_count": 44,
   "id": "00d613e3",
   "metadata": {},
   "outputs": [
    {
     "name": "stdout",
     "output_type": "stream",
     "text": [
      "['math', 'seocne', 'fasf', 'fdfsdfdsfsd', 'dfsdfsdfsdfs', 'dfsdfsefes', 'sdfgsdf', 'sdfgsdf', 'sdfgsddfdsffdggggggggggggggggggggggggggggggggggggggggggggggggggggggggggggggggggf']\n"
     ]
    }
   ],
   "source": [
    "course.append('sdfgsddfdsffdggggggggggggggggggggggggggggggggggggggggggggggggggggggggggggggggggf')\n",
    "print(course)"
   ]
  },
  {
   "cell_type": "code",
   "execution_count": 45,
   "id": "89ce5122",
   "metadata": {},
   "outputs": [
    {
     "name": "stdout",
     "output_type": "stream",
     "text": [
      "['math', 'seocne', 'fasf', 'fdfsdfdsfsd', 'dfsdfsdfsdfs', 'dfsdfsefes', 'sdfgsdf', 'sdfgsdf', 'zzzzz', 'sdfgsddfdsffdggggggggggggggggggggggggggggggggggggggggggggggggggggggggggggggggggf']\n"
     ]
    }
   ],
   "source": [
    "course.insert(-1,'zzzzz')\n",
    "print(course)"
   ]
  },
  {
   "cell_type": "code",
   "execution_count": 46,
   "id": "56b84551",
   "metadata": {},
   "outputs": [
    {
     "name": "stdout",
     "output_type": "stream",
     "text": [
      "['zzzzz', 'math', 'seocne', 'fasf', 'fdfsdfdsfsd', 'dfsdfsdfsdfs', 'dfsdfsefes', 'sdfgsdf', 'sdfgsdf', 'zzzzz', 'sdfgsddfdsffdggggggggggggggggggggggggggggggggggggggggggggggggggggggggggggggggggf']\n"
     ]
    }
   ],
   "source": [
    "course.insert(0,'zzzzz')\n",
    "print(course)"
   ]
  },
  {
   "cell_type": "code",
   "execution_count": 48,
   "id": "d82e60f3",
   "metadata": {},
   "outputs": [],
   "source": [
    "course.remove('zzzzz')"
   ]
  },
  {
   "cell_type": "code",
   "execution_count": 49,
   "id": "98815ee3",
   "metadata": {},
   "outputs": [
    {
     "name": "stdout",
     "output_type": "stream",
     "text": [
      "['math', 'seocne', 'fasf', 'fdfsdfdsfsd', 'dfsdfsdfsdfs', 'dfsdfsefes', 'sdfgsdf', 'sdfgsdf', 'zzzzz', 'sdfgsddfdsffdggggggggggggggggggggggggggggggggggggggggggggggggggggggggggggggggggf']\n"
     ]
    }
   ],
   "source": [
    "print(course\n",
    "     )"
   ]
  },
  {
   "cell_type": "code",
   "execution_count": 50,
   "id": "956313c5",
   "metadata": {},
   "outputs": [
    {
     "name": "stdout",
     "output_type": "stream",
     "text": [
      "['a', 'a']\n"
     ]
    }
   ],
   "source": [
    "course=['a','a','a']\n",
    "course.remove('a')\n",
    "print(course)"
   ]
  },
  {
   "cell_type": "code",
   "execution_count": 57,
   "id": "8d1e355b",
   "metadata": {},
   "outputs": [
    {
     "name": "stdout",
     "output_type": "stream",
     "text": [
      "['sfdsf', 'lkkg', 'fdsf', 'fdsdsf']\n"
     ]
    }
   ],
   "source": [
    "course=['fdsdsf','fdsf','lkkg','sfdsf']\n",
    "course.reverse()\n",
    "print(course)"
   ]
  },
  {
   "cell_type": "code",
   "execution_count": 61,
   "id": "892377fe",
   "metadata": {},
   "outputs": [
    {
     "ename": "AttributeError",
     "evalue": "'NoneType' object has no attribute 'sort'",
     "output_type": "error",
     "traceback": [
      "\u001b[1;31m---------------------------------------------------------------------------\u001b[0m",
      "\u001b[1;31mAttributeError\u001b[0m                            Traceback (most recent call last)",
      "\u001b[1;32m~\\AppData\\Local\\Temp/ipykernel_15192/880058559.py\u001b[0m in \u001b[0;36m<module>\u001b[1;34m\u001b[0m\n\u001b[1;32m----> 1\u001b[1;33m \u001b[0mcourse\u001b[0m\u001b[1;33m.\u001b[0m\u001b[0msort\u001b[0m\u001b[1;33m(\u001b[0m\u001b[0mreverse\u001b[0m\u001b[1;33m=\u001b[0m\u001b[1;32mTrue\u001b[0m\u001b[1;33m)\u001b[0m\u001b[1;33m\u001b[0m\u001b[1;33m\u001b[0m\u001b[0m\n\u001b[0m\u001b[0;32m      2\u001b[0m \u001b[0mprint\u001b[0m\u001b[1;33m(\u001b[0m\u001b[0mcourse\u001b[0m\u001b[1;33m)\u001b[0m\u001b[1;33m\u001b[0m\u001b[1;33m\u001b[0m\u001b[0m\n",
      "\u001b[1;31mAttributeError\u001b[0m: 'NoneType' object has no attribute 'sort'"
     ]
    }
   ],
   "source": [
    "course.sort(reverse=True)\n",
    "print(course)"
   ]
  },
  {
   "cell_type": "code",
   "execution_count": 59,
   "id": "6baa1c1d",
   "metadata": {},
   "outputs": [
    {
     "name": "stdout",
     "output_type": "stream",
     "text": [
      "2\n"
     ]
    }
   ],
   "source": [
    "print(course.index('fdsf'))"
   ]
  },
  {
   "cell_type": "code",
   "execution_count": 64,
   "id": "002f164d",
   "metadata": {},
   "outputs": [],
   "source": [
    "char=[]\n",
    "for i in range(26):\n",
    "    char.append(str('a'+str(i)))\n",
    "    \n"
   ]
  },
  {
   "cell_type": "code",
   "execution_count": 68,
   "id": "883a33df",
   "metadata": {},
   "outputs": [
    {
     "name": "stdout",
     "output_type": "stream",
     "text": [
      "['a0', 'a1', 'a2', 'a3', 'a4', 'a5', 'a6', 'a7', 'a8', 'a9', 'a10', 'a11', 'a12', 'a13', 'a14', 'a15', 'a16', 'a17', 'a18', 'a19', 'a20', 'a21', 'a22', 'a23', 'a24', 'a25'] 2\n",
      "['a0', 'a1', 'a2', 'a3', 'a4', 'a5', 'a6', 'a7', 'a8', 'a9', 'a10', 'a11', 'a12', 'a13', 'a14', 'a15', 'a16', 'a17', 'a18', 'a19', 'a20', 'a21', 'a22', 'a23', 'a24', 'a25'] 3\n",
      "['a0', 'a1', 'a2', 'a3', 'a4', 'a5', 'a6', 'a7', 'a8', 'a9', 'a10', 'a11', 'a12', 'a13', 'a14', 'a15', 'a16', 'a17', 'a18', 'a19', 'a20', 'a21', 'a22', 'a23', 'a24', 'a25'] 4\n",
      "['a0', 'a1', 'a2', 'a3', 'a4', 'a5', 'a6', 'a7', 'a8', 'a9', 'a10', 'a11', 'a12', 'a13', 'a14', 'a15', 'a16', 'a17', 'a18', 'a19', 'a20', 'a21', 'a22', 'a23', 'a24', 'a25'] 5\n",
      "['a0', 'a1', 'a2', 'a3', 'a4', 'a5', 'a6', 'a7', 'a8', 'a9', 'a10', 'a11', 'a12', 'a13', 'a14', 'a15', 'a16', 'a17', 'a18', 'a19', 'a20', 'a21', 'a22', 'a23', 'a24', 'a25'] 6\n",
      "['a0', 'a1', 'a2', 'a3', 'a4', 'a5', 'a6', 'a7', 'a8', 'a9', 'a10', 'a11', 'a12', 'a13', 'a14', 'a15', 'a16', 'a17', 'a18', 'a19', 'a20', 'a21', 'a22', 'a23', 'a24', 'a25'] 7\n",
      "['a0', 'a1', 'a2', 'a3', 'a4', 'a5', 'a6', 'a7', 'a8', 'a9', 'a10', 'a11', 'a12', 'a13', 'a14', 'a15', 'a16', 'a17', 'a18', 'a19', 'a20', 'a21', 'a22', 'a23', 'a24', 'a25'] 8\n",
      "['a0', 'a1', 'a2', 'a3', 'a4', 'a5', 'a6', 'a7', 'a8', 'a9', 'a10', 'a11', 'a12', 'a13', 'a14', 'a15', 'a16', 'a17', 'a18', 'a19', 'a20', 'a21', 'a22', 'a23', 'a24', 'a25'] 9\n",
      "['a0', 'a1', 'a2', 'a3', 'a4', 'a5', 'a6', 'a7', 'a8', 'a9', 'a10', 'a11', 'a12', 'a13', 'a14', 'a15', 'a16', 'a17', 'a18', 'a19', 'a20', 'a21', 'a22', 'a23', 'a24', 'a25'] 10\n",
      "['a0', 'a1', 'a2', 'a3', 'a4', 'a5', 'a6', 'a7', 'a8', 'a9', 'a10', 'a11', 'a12', 'a13', 'a14', 'a15', 'a16', 'a17', 'a18', 'a19', 'a20', 'a21', 'a22', 'a23', 'a24', 'a25'] 11\n",
      "['a0', 'a1', 'a2', 'a3', 'a4', 'a5', 'a6', 'a7', 'a8', 'a9', 'a10', 'a11', 'a12', 'a13', 'a14', 'a15', 'a16', 'a17', 'a18', 'a19', 'a20', 'a21', 'a22', 'a23', 'a24', 'a25'] 12\n",
      "['a0', 'a1', 'a2', 'a3', 'a4', 'a5', 'a6', 'a7', 'a8', 'a9', 'a10', 'a11', 'a12', 'a13', 'a14', 'a15', 'a16', 'a17', 'a18', 'a19', 'a20', 'a21', 'a22', 'a23', 'a24', 'a25'] 13\n",
      "['a0', 'a1', 'a2', 'a3', 'a4', 'a5', 'a6', 'a7', 'a8', 'a9', 'a10', 'a11', 'a12', 'a13', 'a14', 'a15', 'a16', 'a17', 'a18', 'a19', 'a20', 'a21', 'a22', 'a23', 'a24', 'a25'] 14\n",
      "['a0', 'a1', 'a2', 'a3', 'a4', 'a5', 'a6', 'a7', 'a8', 'a9', 'a10', 'a11', 'a12', 'a13', 'a14', 'a15', 'a16', 'a17', 'a18', 'a19', 'a20', 'a21', 'a22', 'a23', 'a24', 'a25'] 15\n",
      "['a0', 'a1', 'a2', 'a3', 'a4', 'a5', 'a6', 'a7', 'a8', 'a9', 'a10', 'a11', 'a12', 'a13', 'a14', 'a15', 'a16', 'a17', 'a18', 'a19', 'a20', 'a21', 'a22', 'a23', 'a24', 'a25'] 16\n",
      "['a0', 'a1', 'a2', 'a3', 'a4', 'a5', 'a6', 'a7', 'a8', 'a9', 'a10', 'a11', 'a12', 'a13', 'a14', 'a15', 'a16', 'a17', 'a18', 'a19', 'a20', 'a21', 'a22', 'a23', 'a24', 'a25'] 17\n",
      "['a0', 'a1', 'a2', 'a3', 'a4', 'a5', 'a6', 'a7', 'a8', 'a9', 'a10', 'a11', 'a12', 'a13', 'a14', 'a15', 'a16', 'a17', 'a18', 'a19', 'a20', 'a21', 'a22', 'a23', 'a24', 'a25'] 18\n",
      "['a0', 'a1', 'a2', 'a3', 'a4', 'a5', 'a6', 'a7', 'a8', 'a9', 'a10', 'a11', 'a12', 'a13', 'a14', 'a15', 'a16', 'a17', 'a18', 'a19', 'a20', 'a21', 'a22', 'a23', 'a24', 'a25'] 19\n",
      "['a0', 'a1', 'a2', 'a3', 'a4', 'a5', 'a6', 'a7', 'a8', 'a9', 'a10', 'a11', 'a12', 'a13', 'a14', 'a15', 'a16', 'a17', 'a18', 'a19', 'a20', 'a21', 'a22', 'a23', 'a24', 'a25'] 20\n",
      "['a0', 'a1', 'a2', 'a3', 'a4', 'a5', 'a6', 'a7', 'a8', 'a9', 'a10', 'a11', 'a12', 'a13', 'a14', 'a15', 'a16', 'a17', 'a18', 'a19', 'a20', 'a21', 'a22', 'a23', 'a24', 'a25'] 21\n",
      "['a0', 'a1', 'a2', 'a3', 'a4', 'a5', 'a6', 'a7', 'a8', 'a9', 'a10', 'a11', 'a12', 'a13', 'a14', 'a15', 'a16', 'a17', 'a18', 'a19', 'a20', 'a21', 'a22', 'a23', 'a24', 'a25'] 22\n",
      "['a0', 'a1', 'a2', 'a3', 'a4', 'a5', 'a6', 'a7', 'a8', 'a9', 'a10', 'a11', 'a12', 'a13', 'a14', 'a15', 'a16', 'a17', 'a18', 'a19', 'a20', 'a21', 'a22', 'a23', 'a24', 'a25'] 23\n",
      "['a0', 'a1', 'a2', 'a3', 'a4', 'a5', 'a6', 'a7', 'a8', 'a9', 'a10', 'a11', 'a12', 'a13', 'a14', 'a15', 'a16', 'a17', 'a18', 'a19', 'a20', 'a21', 'a22', 'a23', 'a24', 'a25'] 24\n",
      "['a0', 'a1', 'a2', 'a3', 'a4', 'a5', 'a6', 'a7', 'a8', 'a9', 'a10', 'a11', 'a12', 'a13', 'a14', 'a15', 'a16', 'a17', 'a18', 'a19', 'a20', 'a21', 'a22', 'a23', 'a24', 'a25'] 25\n",
      "['a0', 'a1', 'a2', 'a3', 'a4', 'a5', 'a6', 'a7', 'a8', 'a9', 'a10', 'a11', 'a12', 'a13', 'a14', 'a15', 'a16', 'a17', 'a18', 'a19', 'a20', 'a21', 'a22', 'a23', 'a24', 'a25'] 26\n",
      "['a0', 'a1', 'a2', 'a3', 'a4', 'a5', 'a6', 'a7', 'a8', 'a9', 'a10', 'a11', 'a12', 'a13', 'a14', 'a15', 'a16', 'a17', 'a18', 'a19', 'a20', 'a21', 'a22', 'a23', 'a24', 'a25'] 27\n"
     ]
    }
   ],
   "source": [
    "for index,c in enumerate(char,start=2):\n",
    "    print(str(char)+' '+str(index))\n",
    "    "
   ]
  },
  {
   "cell_type": "code",
   "execution_count": 71,
   "id": "797660b0",
   "metadata": {},
   "outputs": [
    {
     "name": "stdout",
     "output_type": "stream",
     "text": [
      "Hi - i - am - newtan\n"
     ]
    }
   ],
   "source": [
    "char=['Hi',\"i\",\"am\",\"newtan\"]\n",
    "s=' - '.join(char)\n",
    "print(s)"
   ]
  },
  {
   "cell_type": "markdown",
   "id": "3d1b511a",
   "metadata": {},
   "source": [
    "# FUnctions\n"
   ]
  },
  {
   "cell_type": "code",
   "execution_count": 5,
   "id": "92df4a3c",
   "metadata": {},
   "outputs": [],
   "source": [
    "def p():\n",
    "   pass #will be updated later, ignored for now"
   ]
  },
  {
   "cell_type": "code",
   "execution_count": 15,
   "id": "f40c3205",
   "metadata": {},
   "outputs": [
    {
     "name": "stdout",
     "output_type": "stream",
     "text": [
      "FDSFSAD\n",
      "fdsfsad\n",
      "Fdsfsad\n",
      "fdsfsaD\n"
     ]
    }
   ],
   "source": [
    "s='fdsFsad'\n",
    "print(s.upper())\n",
    "print(s.lower())\n",
    "s='FdsFsad'\n",
    "print(s.capitalize())\n",
    "print(s[0:len(s)-1].lower()+s[len(s)-1].capitalize())"
   ]
  },
  {
   "cell_type": "code",
   "execution_count": 20,
   "id": "75cc89b0",
   "metadata": {},
   "outputs": [
    {
     "name": "stdout",
     "output_type": "stream",
     "text": [
      "fff ok boomer\n",
      "fff ok boomer\n"
     ]
    }
   ],
   "source": [
    "def ret(par='dffs'):\n",
    "    return '{} ok boomer'.format(par)\n",
    "\n",
    "print(ret(par='fff'))\n",
    "print(ret('fff'))"
   ]
  },
  {
   "cell_type": "code",
   "execution_count": 21,
   "id": "204b4a61",
   "metadata": {},
   "outputs": [],
   "source": [
    "def student_info(*args,**kwargs):\n",
    "    print(args)\n",
    "    print(kwargs)"
   ]
  },
  {
   "cell_type": "code",
   "execution_count": 23,
   "id": "264c17fe",
   "metadata": {},
   "outputs": [
    {
     "name": "stdout",
     "output_type": "stream",
     "text": [
      "('math', 'science', 'astronomy')\n",
      "{'name': 'newtan', 'surname': 'mukhopadhyay'}\n"
     ]
    }
   ],
   "source": [
    "student_info('math','science','astronomy',name='newtan',surname='mukhopadhyay')\n",
    "# arguments are like tuples, the keyword arguments are like dictionary"
   ]
  },
  {
   "cell_type": "code",
   "execution_count": 25,
   "id": "33daba16",
   "metadata": {},
   "outputs": [
    {
     "name": "stdout",
     "output_type": "stream",
     "text": [
      "('math', 'art')\n",
      "{'name': 'john', 'age': 22}\n"
     ]
    }
   ],
   "source": [
    "courses=['math','art']\n",
    "info={'name':'john','age':22}\n",
    "student_info(*courses,**info) # Adding * will basically unpack those values."
   ]
  },
  {
   "cell_type": "markdown",
   "id": "571370fb",
   "metadata": {},
   "source": [
    "# Modules"
   ]
  },
  {
   "cell_type": "code",
   "execution_count": 26,
   "id": "8880af3b",
   "metadata": {},
   "outputs": [
    {
     "data": {
      "text/plain": [
       "'\\ntwo python files : module.py and main.py\\nwant to use function inside the module.py in main.py?\\nimport module as md.\\nthen use, md.function(arguments)\\n\\nalternatively, u can directly import the function directly.\\n\\nfrom module import function\\nfunction(arguments)\\n'"
      ]
     },
     "execution_count": 26,
     "metadata": {},
     "output_type": "execute_result"
    }
   ],
   "source": [
    "'''\n",
    "two python files : module.py and main.py\n",
    "want to use function inside the module.py in main.py?\n",
    "import module as md.\n",
    "then use, md.function(arguments)\n",
    "\n",
    "alternatively, u can directly import the function directly.\n",
    "\n",
    "from module import function,test     # here test is another local string in the module.\n",
    "function(arguments)\n",
    "'''"
   ]
  },
  {
   "cell_type": "markdown",
   "id": "d11013a9",
   "metadata": {},
   "source": [
    "# Slicing"
   ]
  },
  {
   "cell_type": "code",
   "execution_count": 32,
   "id": "d33b30ae",
   "metadata": {},
   "outputs": [],
   "source": [
    "my_list=[i for i in range(10)]"
   ]
  },
  {
   "cell_type": "code",
   "execution_count": 33,
   "id": "c3cdcddd",
   "metadata": {},
   "outputs": [
    {
     "data": {
      "text/plain": [
       "[2, 3, 4]"
      ]
     },
     "execution_count": 33,
     "metadata": {},
     "output_type": "execute_result"
    }
   ],
   "source": [
    "my_list[2:5]"
   ]
  },
  {
   "cell_type": "code",
   "execution_count": 34,
   "id": "28762989",
   "metadata": {},
   "outputs": [
    {
     "data": {
      "text/plain": [
       "[0, 2, 4, 6, 8]"
      ]
     },
     "execution_count": 34,
     "metadata": {},
     "output_type": "execute_result"
    }
   ],
   "source": [
    "my_list[0:10:2]"
   ]
  },
  {
   "cell_type": "code",
   "execution_count": 35,
   "id": "2ec4d25d",
   "metadata": {},
   "outputs": [
    {
     "data": {
      "text/plain": [
       "[0, 3, 6, 9]"
      ]
     },
     "execution_count": 35,
     "metadata": {},
     "output_type": "execute_result"
    }
   ],
   "source": [
    "my_list[0:10:3]"
   ]
  },
  {
   "cell_type": "code",
   "execution_count": 36,
   "id": "8157155d",
   "metadata": {},
   "outputs": [
    {
     "data": {
      "text/plain": [
       "[1, 2, 3, 4, 5, 6, 7, 8, 9]"
      ]
     },
     "execution_count": 36,
     "metadata": {},
     "output_type": "execute_result"
    }
   ],
   "source": [
    "my_list[1:]"
   ]
  },
  {
   "cell_type": "code",
   "execution_count": 37,
   "id": "77829c98",
   "metadata": {},
   "outputs": [
    {
     "data": {
      "text/plain": [
       "[0, 1, 2, 3, 4]"
      ]
     },
     "execution_count": 37,
     "metadata": {},
     "output_type": "execute_result"
    }
   ],
   "source": [
    "my_list[:5]"
   ]
  },
  {
   "cell_type": "code",
   "execution_count": 40,
   "id": "b56e901f",
   "metadata": {},
   "outputs": [
    {
     "name": "stdout",
     "output_type": "stream",
     "text": [
      "s\n"
     ]
    }
   ],
   "source": [
    "s='fdnjsfnds'\n",
    "t=s[le:]\n",
    "print(t)"
   ]
  },
  {
   "cell_type": "code",
   "execution_count": null,
   "id": "a6a339e0",
   "metadata": {},
   "outputs": [],
   "source": []
  }
 ],
 "metadata": {
  "kernelspec": {
   "display_name": "Python 3 (ipykernel)",
   "language": "python",
   "name": "python3"
  },
  "language_info": {
   "codemirror_mode": {
    "name": "ipython",
    "version": 3
   },
   "file_extension": ".py",
   "mimetype": "text/x-python",
   "name": "python",
   "nbconvert_exporter": "python",
   "pygments_lexer": "ipython3",
   "version": "3.9.7"
  }
 },
 "nbformat": 4,
 "nbformat_minor": 5
}
