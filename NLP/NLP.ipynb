{
 "cells": [
  {
   "cell_type": "code",
   "execution_count": 17,
   "id": "3a3bb4fb",
   "metadata": {},
   "outputs": [],
   "source": [
    "from sklearn.feature_extraction.text import CountVectorizer"
   ]
  },
  {
   "cell_type": "code",
   "execution_count": 18,
   "id": "f60308f4",
   "metadata": {},
   "outputs": [],
   "source": [
    "train_x=[\"i love the book\",\"i love the shoes\",\"the fit is great\",\"this is a great book\"]"
   ]
  },
  {
   "cell_type": "code",
   "execution_count": 19,
   "id": "fa0807f2",
   "metadata": {},
   "outputs": [],
   "source": [
    "vectorizer=CountVectorizer() #this will print the whole frequency of each word itself in the matrix. to get info whether it is just present of not(binary), inside the CountVectorizer(binary=True)\n",
    "train_x_vectors=vectorizer.fit_transform(train_x)"
   ]
  },
  {
   "cell_type": "code",
   "execution_count": 20,
   "id": "1e932953",
   "metadata": {},
   "outputs": [
    {
     "name": "stdout",
     "output_type": "stream",
     "text": [
      "['book', 'fit', 'great', 'is', 'love', 'shoes', 'the', 'this']\n"
     ]
    }
   ],
   "source": [
    "print(vectorizer.get_feature_names())"
   ]
  },
  {
   "cell_type": "code",
   "execution_count": 21,
   "id": "41186ee9",
   "metadata": {},
   "outputs": [
    {
     "name": "stdout",
     "output_type": "stream",
     "text": [
      "[[2 0 0 0 1 0 1 0]\n",
      " [0 0 0 0 1 1 1 0]\n",
      " [0 1 1 1 0 0 1 0]\n",
      " [1 0 1 1 0 0 0 1]]\n"
     ]
    }
   ],
   "source": [
    "print(vectors.toarray())"
   ]
  },
  {
   "cell_type": "code",
   "execution_count": 22,
   "id": "d83adfb6",
   "metadata": {},
   "outputs": [
    {
     "name": "stdout",
     "output_type": "stream",
     "text": [
      "  (0, 4)\t1\n",
      "  (0, 6)\t1\n",
      "  (0, 0)\t2\n",
      "  (1, 4)\t1\n",
      "  (1, 6)\t1\n",
      "  (1, 5)\t1\n",
      "  (2, 6)\t1\n",
      "  (2, 1)\t1\n",
      "  (2, 3)\t1\n",
      "  (2, 2)\t1\n",
      "  (3, 0)\t1\n",
      "  (3, 3)\t1\n",
      "  (3, 2)\t1\n",
      "  (3, 7)\t1\n"
     ]
    }
   ],
   "source": [
    "print(vectors)"
   ]
  },
  {
   "cell_type": "markdown",
   "id": "27dec178",
   "metadata": {},
   "source": [
    "## Build a small classifier"
   ]
  },
  {
   "cell_type": "code",
   "execution_count": 23,
   "id": "6422537f",
   "metadata": {},
   "outputs": [],
   "source": [
    "train_y=[\"BOOKS\",\"CLOTHING\",\"CLOTHING\",\"BOOKS\"]"
   ]
  },
  {
   "cell_type": "code",
   "execution_count": 24,
   "id": "429b69e5",
   "metadata": {},
   "outputs": [
    {
     "data": {
      "text/plain": [
       "SVC(kernel='linear')"
      ]
     },
     "execution_count": 24,
     "metadata": {},
     "output_type": "execute_result"
    }
   ],
   "source": [
    "from sklearn import svm\n",
    "clf_svm=svm.SVC(kernel='linear')\n",
    "clf_svm.fit(train_x_vectors,train_y)\n"
   ]
  },
  {
   "cell_type": "code",
   "execution_count": 30,
   "id": "e9d133d0",
   "metadata": {},
   "outputs": [
    {
     "data": {
      "text/plain": [
       "array(['BOOKS'], dtype='<U8')"
      ]
     },
     "execution_count": 30,
     "metadata": {},
     "output_type": "execute_result"
    }
   ],
   "source": [
    "test_x=vectorizer.transform(['i like the Book'])\n",
    "clf_svm.predict(test_x)"
   ]
  },
  {
   "cell_type": "code",
   "execution_count": null,
   "id": "46f0f6c7",
   "metadata": {},
   "outputs": [],
   "source": []
  }
 ],
 "metadata": {
  "kernelspec": {
   "display_name": "Python 3 (ipykernel)",
   "language": "python",
   "name": "python3"
  },
  "language_info": {
   "codemirror_mode": {
    "name": "ipython",
    "version": 3
   },
   "file_extension": ".py",
   "mimetype": "text/x-python",
   "name": "python",
   "nbconvert_exporter": "python",
   "pygments_lexer": "ipython3",
   "version": "3.9.7"
  }
 },
 "nbformat": 4,
 "nbformat_minor": 5
}
