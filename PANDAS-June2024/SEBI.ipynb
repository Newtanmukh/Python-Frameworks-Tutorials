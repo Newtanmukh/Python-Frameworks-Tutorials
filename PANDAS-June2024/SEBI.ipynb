{
 "cells": [
  {
   "cell_type": "code",
   "execution_count": 45,
   "id": "f685c362",
   "metadata": {},
   "outputs": [],
   "source": [
    "import re"
   ]
  },
  {
   "cell_type": "code",
   "execution_count": 46,
   "id": "e84626b7",
   "metadata": {},
   "outputs": [],
   "source": [
    "pattern = \"was\""
   ]
  },
  {
   "cell_type": "code",
   "execution_count": null,
   "id": "1e01feb8",
   "metadata": {},
   "outputs": [],
   "source": []
  },
  {
   "cell_type": "code",
   "execution_count": 47,
   "id": "3a9257fe",
   "metadata": {},
   "outputs": [],
   "source": [
    "search = \"was a   child was\""
   ]
  },
  {
   "cell_type": "code",
   "execution_count": 48,
   "id": "a261d31b",
   "metadata": {},
   "outputs": [
    {
     "name": "stdout",
     "output_type": "stream",
     "text": [
      "['was', 'was']\n"
     ]
    }
   ],
   "source": [
    "print(re.findall(pattern, search))"
   ]
  },
  {
   "cell_type": "markdown",
   "id": "669c1efa",
   "metadata": {},
   "source": [
    "# Match"
   ]
  },
  {
   "cell_type": "code",
   "execution_count": 51,
   "id": "71189d65",
   "metadata": {},
   "outputs": [
    {
     "name": "stdout",
     "output_type": "stream",
     "text": [
      "<re.Match object; span=(0, 3), match='was'>\n"
     ]
    }
   ],
   "source": [
    "print(re.match(\"was\", search))"
   ]
  },
  {
   "cell_type": "markdown",
   "id": "14d3e8dd",
   "metadata": {},
   "source": [
    "# FindAll"
   ]
  },
  {
   "cell_type": "code",
   "execution_count": 6,
   "id": "f58ccc59",
   "metadata": {},
   "outputs": [
    {
     "name": "stdout",
     "output_type": "stream",
     "text": [
      "[' ', ' ', ' ', ' ', ' ']\n"
     ]
    }
   ],
   "source": [
    "print(re.findall(\"\\s\", search))"
   ]
  },
  {
   "cell_type": "code",
   "execution_count": 7,
   "id": "fec066aa",
   "metadata": {},
   "outputs": [
    {
     "name": "stdout",
     "output_type": "stream",
     "text": [
      "['was', 'was']\n"
     ]
    }
   ],
   "source": [
    "print(re.findall(\"was\", search))"
   ]
  },
  {
   "cell_type": "code",
   "execution_count": 8,
   "id": "4911f624",
   "metadata": {},
   "outputs": [],
   "source": [
    "# split string"
   ]
  },
  {
   "cell_type": "markdown",
   "id": "a3db34b6",
   "metadata": {},
   "source": [
    "# SPLIT"
   ]
  },
  {
   "cell_type": "code",
   "execution_count": 9,
   "id": "b64729fa",
   "metadata": {},
   "outputs": [
    {
     "name": "stdout",
     "output_type": "stream",
     "text": [
      "['', ' a   child ', '']\n"
     ]
    }
   ],
   "source": [
    "print(re.split(\"was\", search)) # split using this reges"
   ]
  },
  {
   "cell_type": "code",
   "execution_count": 10,
   "id": "9829b205",
   "metadata": {},
   "outputs": [
    {
     "name": "stdout",
     "output_type": "stream",
     "text": [
      "['', ' a   child was']\n"
     ]
    }
   ],
   "source": [
    "print(re.split(\"was\", search, 1)) #Split using only using the first which matches"
   ]
  },
  {
   "cell_type": "markdown",
   "id": "e9b73d12",
   "metadata": {},
   "source": [
    "# Replace all empty space with 9 each"
   ]
  },
  {
   "cell_type": "code",
   "execution_count": 11,
   "id": "95250282",
   "metadata": {},
   "outputs": [],
   "source": [
    "txt = \"The   rain in Spain\"\n",
    "x = re.sub(\"\\s\", \"9\", txt)"
   ]
  },
  {
   "cell_type": "code",
   "execution_count": 12,
   "id": "d2762c9a",
   "metadata": {},
   "outputs": [
    {
     "name": "stdout",
     "output_type": "stream",
     "text": [
      "The999rain9in9Spain\n"
     ]
    }
   ],
   "source": [
    "print(x)"
   ]
  },
  {
   "cell_type": "markdown",
   "id": "05ead4eb",
   "metadata": {},
   "source": [
    "# Replace furst two instances"
   ]
  },
  {
   "cell_type": "code",
   "execution_count": 13,
   "id": "68be92e9",
   "metadata": {},
   "outputs": [
    {
     "name": "stdout",
     "output_type": "stream",
     "text": [
      "The99rain in Spain\n"
     ]
    }
   ],
   "source": [
    "txt = \"The  rain in Spain\"\n",
    "x = re.sub(\"\\s\", \"9\", txt, 2)\n",
    "print(x)"
   ]
  },
  {
   "cell_type": "markdown",
   "id": "f42f60b5",
   "metadata": {},
   "source": [
    "# Metacharacters"
   ]
  },
  {
   "cell_type": "code",
   "execution_count": 14,
   "id": "bdf1a076",
   "metadata": {},
   "outputs": [
    {
     "name": "stdout",
     "output_type": "stream",
     "text": [
      "['Pyclone', 'Syclone']\n"
     ]
    }
   ],
   "source": [
    "pattern = \"[A-Z]yclone\"\n",
    "search = \"Pyclone cyclone JDJSyclone\"\n",
    "print(re.findall(pattern, search))"
   ]
  },
  {
   "cell_type": "code",
   "execution_count": 15,
   "id": "f57d6170",
   "metadata": {},
   "outputs": [
    {
     "name": "stdout",
     "output_type": "stream",
     "text": [
      "['Pyclone', 'JDJSyclone']\n"
     ]
    }
   ],
   "source": [
    "pattern = \"[A-Z]+yclone\"\n",
    "search = \"Pyclone cyclone JDJSyclone\"\n",
    "print(re.findall(pattern, search))"
   ]
  },
  {
   "cell_type": "code",
   "execution_count": 16,
   "id": "cde9e6bf",
   "metadata": {},
   "outputs": [
    {
     "name": "stdout",
     "output_type": "stream",
     "text": [
      "['Pyclone', 'yclone', 'JDJSyclone']\n"
     ]
    }
   ],
   "source": [
    "pattern = \"[A-Z]*yclone\"\n",
    "search = \"Pyclone cyclone JDJSyclone\"\n",
    "print(re.findall(pattern, search))"
   ]
  },
  {
   "cell_type": "code",
   "execution_count": 17,
   "id": "09de8193",
   "metadata": {},
   "outputs": [
    {
     "name": "stdout",
     "output_type": "stream",
     "text": [
      "['JSyclone']\n"
     ]
    }
   ],
   "source": [
    "pattern = \"[A-Z]{2}yclone\"\n",
    "search = \"Pyclone cyclone JDJSyclone\"\n",
    "print(re.findall(pattern, search))"
   ]
  },
  {
   "cell_type": "code",
   "execution_count": 18,
   "id": "01b5f3a4",
   "metadata": {},
   "outputs": [
    {
     "name": "stdout",
     "output_type": "stream",
     "text": [
      "['fcyclone', 'JSyclone']\n"
     ]
    }
   ],
   "source": [
    "pattern = r\"[A-Z]{2}yclone|[a-z]+yclone\"\n",
    "search = \"Pyclone fcyclone JDJSyclone\"\n",
    "print(re.findall(pattern, search))"
   ]
  },
  {
   "cell_type": "code",
   "execution_count": 19,
   "id": "8e546c57",
   "metadata": {},
   "outputs": [
    {
     "name": "stdout",
     "output_type": "stream",
     "text": [
      "['yclo', 'cyclo', 'yclo']\n"
     ]
    }
   ],
   "source": [
    "pattern = \"[ylco]+\"\n",
    "search = \"Pyclone fcyclone JDJSyclone\"\n",
    "print(re.findall(pattern, search))"
   ]
  },
  {
   "cell_type": "code",
   "execution_count": 20,
   "id": "febac249",
   "metadata": {},
   "outputs": [
    {
     "name": "stdout",
     "output_type": "stream",
     "text": [
      "['P', 'ne f', 'ne JDJS', 'ne']\n"
     ]
    }
   ],
   "source": [
    "pattern = \"[^ylco]+\"\n",
    "search = \"Pyclone fcyclone JDJSyclone\"\n",
    "print(re.findall(pattern, search))"
   ]
  },
  {
   "cell_type": "code",
   "execution_count": 160,
   "id": "826de0f9",
   "metadata": {},
   "outputs": [
    {
     "name": "stdout",
     "output_type": "stream",
     "text": [
      "['Pyclone', 'fcyclone', 'JDJS21yclone']\n"
     ]
    }
   ],
   "source": [
    "pattern = \"\\w+\"\n",
    "search = \"Pyclone fcyclone JDJS21yclone\"\n",
    "print(re.findall(pattern, search))"
   ]
  },
  {
   "cell_type": "code",
   "execution_count": 22,
   "id": "affc1f21",
   "metadata": {},
   "outputs": [
    {
     "name": "stdout",
     "output_type": "stream",
     "text": [
      "['21']\n"
     ]
    }
   ],
   "source": [
    "pattern = \"\\d+\"\n",
    "search = \"Pyclone fcyclone JDJS21yclone\"\n",
    "print(re.findall(pattern, search))"
   ]
  },
  {
   "cell_type": "code",
   "execution_count": 23,
   "id": "2e0892e6",
   "metadata": {},
   "outputs": [
    {
     "name": "stdout",
     "output_type": "stream",
     "text": [
      "[' ', ' ']\n"
     ]
    }
   ],
   "source": [
    "pattern = \"\\s\"\n",
    "search = \"Pyclone fcyclone JDJS21yclone\"\n",
    "print(re.findall(pattern, search))"
   ]
  },
  {
   "cell_type": "code",
   "execution_count": 24,
   "id": "bc8be391",
   "metadata": {},
   "outputs": [
    {
     "name": "stdout",
     "output_type": "stream",
     "text": [
      "['23', '41']\n"
     ]
    }
   ],
   "source": [
    "pattern = \"\\d{2}\"\n",
    "search = \"Pyclone fcyclone JDJS2341yclone\"\n",
    "print(re.findall(pattern, search))"
   ]
  },
  {
   "cell_type": "code",
   "execution_count": 25,
   "id": "c539ec12",
   "metadata": {},
   "outputs": [
    {
     "name": "stdout",
     "output_type": "stream",
     "text": [
      "['234']\n"
     ]
    }
   ],
   "source": [
    "pattern = \"[\\d]{3}\"\n",
    "search = \"Pyclone fcyclone JDJS2341yclone\"\n",
    "print(re.findall(pattern, search))"
   ]
  },
  {
   "cell_type": "code",
   "execution_count": 158,
   "id": "de482d17",
   "metadata": {},
   "outputs": [
    {
     "name": "stdout",
     "output_type": "stream",
     "text": [
      "[' ', ' ', ' ', ' ', ' ']\n"
     ]
    }
   ],
   "source": [
    "pattern = \"\\s\"\n",
    "search = \"Pyclone    fcyclone JDJS2341yclone\"\n",
    "print(re.findall(pattern, search))"
   ]
  },
  {
   "cell_type": "markdown",
   "id": "7236a484",
   "metadata": {},
   "source": [
    "# SLICING"
   ]
  },
  {
   "cell_type": "code",
   "execution_count": 26,
   "id": "4a84fc44",
   "metadata": {},
   "outputs": [
    {
     "name": "stdout",
     "output_type": "stream",
     "text": [
      "llo\n"
     ]
    }
   ],
   "source": [
    "b = \"Hello, World!\"\n",
    "print(b[2:5]) # 2, 3 and 4"
   ]
  },
  {
   "cell_type": "code",
   "execution_count": 27,
   "id": "5c4258a0",
   "metadata": {},
   "outputs": [
    {
     "name": "stdout",
     "output_type": "stream",
     "text": [
      "[5 6]\n"
     ]
    }
   ],
   "source": [
    "import numpy as np\n",
    "\n",
    "arr = np.array([1, 2, 3, 4, 5, 6, 7])\n",
    "\n",
    "print(arr[-3:-1])"
   ]
  },
  {
   "cell_type": "code",
   "execution_count": 28,
   "id": "b812cf8b",
   "metadata": {},
   "outputs": [
    {
     "name": "stdout",
     "output_type": "stream",
     "text": [
      "[1 2 3 4]\n"
     ]
    }
   ],
   "source": [
    "import numpy as np\n",
    "\n",
    "arr = np.array([1, 2, 3, 4, 5, 6, 7])\n",
    "\n",
    "print(arr[:4])"
   ]
  },
  {
   "cell_type": "code",
   "execution_count": 29,
   "id": "076054fc",
   "metadata": {},
   "outputs": [
    {
     "name": "stdout",
     "output_type": "stream",
     "text": [
      "[2 4]\n"
     ]
    }
   ],
   "source": [
    "arr = np.array([1, 2, 3, 4, 5, 6, 7])\n",
    "\n",
    "print(arr[1:5:2])"
   ]
  },
  {
   "cell_type": "code",
   "execution_count": 30,
   "id": "15706e10",
   "metadata": {},
   "outputs": [
    {
     "name": "stdout",
     "output_type": "stream",
     "text": [
      "[2 4 6]\n"
     ]
    }
   ],
   "source": [
    "arr = np.array([1, 2, 3, 4, 5, 6, 7])\n",
    "\n",
    "print(arr[1::2])"
   ]
  },
  {
   "cell_type": "markdown",
   "id": "9b333bde",
   "metadata": {},
   "source": [
    "# Dictonaries\n"
   ]
  },
  {
   "cell_type": "markdown",
   "id": "c6eebf04",
   "metadata": {},
   "source": [
    "###### 3.7 onwards, dictoniares are oreded"
   ]
  },
  {
   "cell_type": "code",
   "execution_count": 31,
   "id": "ab774809",
   "metadata": {},
   "outputs": [
    {
     "name": "stdout",
     "output_type": "stream",
     "text": [
      "{'brand': 'Ford', 'model': 'Mustang', 'year': 1964}\n"
     ]
    }
   ],
   "source": [
    "thisdict = {\n",
    "  \"brand\": \"Ford\",\n",
    "  \"model\": \"Mustang\",\n",
    "  \"year\": 1964\n",
    "}\n",
    "print(thisdict)"
   ]
  },
  {
   "cell_type": "code",
   "execution_count": 32,
   "id": "c105a6e7",
   "metadata": {},
   "outputs": [
    {
     "name": "stdout",
     "output_type": "stream",
     "text": [
      "Ford\n"
     ]
    }
   ],
   "source": [
    "thisdict = {\n",
    "  \"brand\": \"Ford\",\n",
    "  \"model\": \"Mustang\",\n",
    "  \"year\": 1964\n",
    "}\n",
    "print(thisdict[\"brand\"])"
   ]
  },
  {
   "cell_type": "code",
   "execution_count": 33,
   "id": "57aa0878",
   "metadata": {},
   "outputs": [
    {
     "name": "stdout",
     "output_type": "stream",
     "text": [
      "3\n"
     ]
    }
   ],
   "source": [
    "print(len(thisdict))"
   ]
  },
  {
   "cell_type": "code",
   "execution_count": 34,
   "id": "247ffe3c",
   "metadata": {},
   "outputs": [
    {
     "name": "stdout",
     "output_type": "stream",
     "text": [
      "<class 'dict'>\n"
     ]
    }
   ],
   "source": [
    "print(type(thisdict))"
   ]
  },
  {
   "cell_type": "code",
   "execution_count": 35,
   "id": "303b212b",
   "metadata": {},
   "outputs": [
    {
     "name": "stdout",
     "output_type": "stream",
     "text": [
      "dict_keys(['brand', 'model', 'year'])\n"
     ]
    }
   ],
   "source": [
    "a = thisdict.keys()\n",
    "print(a)"
   ]
  },
  {
   "cell_type": "code",
   "execution_count": 36,
   "id": "87a10771",
   "metadata": {},
   "outputs": [
    {
     "name": "stdout",
     "output_type": "stream",
     "text": [
      "dict_values(['Ford', 'Mustang', 1964])\n"
     ]
    }
   ],
   "source": [
    "values = thisdict.values()\n",
    "print(values)"
   ]
  },
  {
   "cell_type": "code",
   "execution_count": 37,
   "id": "4ba16ebb",
   "metadata": {},
   "outputs": [
    {
     "name": "stdout",
     "output_type": "stream",
     "text": [
      "dict_items([('brand', 'Ford'), ('model', 'Mustang'), ('year', 1964)])\n"
     ]
    }
   ],
   "source": [
    "print(thisdict.items())"
   ]
  },
  {
   "cell_type": "code",
   "execution_count": 38,
   "id": "5366fd5e",
   "metadata": {},
   "outputs": [
    {
     "name": "stdout",
     "output_type": "stream",
     "text": [
      "Yes, 'model' is one of the keys in the thisdict dictionary\n"
     ]
    }
   ],
   "source": [
    "thisdict = {\n",
    "  \"brand\": \"Ford\",\n",
    "  \"model\": \"Mustang\",\n",
    "  \"year\": 1964\n",
    "}\n",
    "if \"model\" in thisdict.keys():\n",
    "  print(\"Yes, 'model' is one of the keys in the thisdict dictionary\")"
   ]
  },
  {
   "cell_type": "code",
   "execution_count": 39,
   "id": "25d9b9f2",
   "metadata": {},
   "outputs": [
    {
     "name": "stdout",
     "output_type": "stream",
     "text": [
      "{'brand': 'Ford', 'model': 'Mustang', 'year': 2020}\n"
     ]
    }
   ],
   "source": [
    "thisdict = {\n",
    "  \"brand\": \"Ford\",\n",
    "  \"model\": \"Mustang\",\n",
    "  \"year\": 1964\n",
    "}\n",
    "thisdict.update({\"year\": 2020})\n",
    "\n",
    "print(thisdict)"
   ]
  },
  {
   "cell_type": "code",
   "execution_count": 40,
   "id": "6260dc43",
   "metadata": {},
   "outputs": [
    {
     "name": "stdout",
     "output_type": "stream",
     "text": [
      "{'brand': 'Ford', 'model': 'Mustang', 'year': 1964, 'color': 'red'}\n"
     ]
    }
   ],
   "source": [
    "thisdict = {\n",
    "  \"brand\": \"Ford\",\n",
    "  \"model\": \"Mustang\",\n",
    "  \"year\": 1964\n",
    "}\n",
    "thisdict[\"color\"] = \"red\"\n",
    "print(thisdict)          # add a color key and value"
   ]
  },
  {
   "cell_type": "code",
   "execution_count": 41,
   "id": "ee0e49d5",
   "metadata": {},
   "outputs": [
    {
     "name": "stdout",
     "output_type": "stream",
     "text": [
      "{}\n"
     ]
    }
   ],
   "source": [
    "thisdict = {\n",
    "  \"brand\": \"Ford\",\n",
    "  \"model\": \"Mustang\",\n",
    "  \"year\": 1964\n",
    "}\n",
    "thisdict.clear()\n",
    "print(thisdict)"
   ]
  },
  {
   "cell_type": "code",
   "execution_count": 42,
   "id": "b1db31ce",
   "metadata": {},
   "outputs": [
    {
     "ename": "NameError",
     "evalue": "name 'thisdict' is not defined",
     "output_type": "error",
     "traceback": [
      "\u001b[1;31m---------------------------------------------------------------------------\u001b[0m",
      "\u001b[1;31mNameError\u001b[0m                                 Traceback (most recent call last)",
      "Cell \u001b[1;32mIn[42], line 7\u001b[0m\n\u001b[0;32m      1\u001b[0m thisdict \u001b[38;5;241m=\u001b[39m {\n\u001b[0;32m      2\u001b[0m   \u001b[38;5;124m\"\u001b[39m\u001b[38;5;124mbrand\u001b[39m\u001b[38;5;124m\"\u001b[39m: \u001b[38;5;124m\"\u001b[39m\u001b[38;5;124mFord\u001b[39m\u001b[38;5;124m\"\u001b[39m,\n\u001b[0;32m      3\u001b[0m   \u001b[38;5;124m\"\u001b[39m\u001b[38;5;124mmodel\u001b[39m\u001b[38;5;124m\"\u001b[39m: \u001b[38;5;124m\"\u001b[39m\u001b[38;5;124mMustang\u001b[39m\u001b[38;5;124m\"\u001b[39m,\n\u001b[0;32m      4\u001b[0m   \u001b[38;5;124m\"\u001b[39m\u001b[38;5;124myear\u001b[39m\u001b[38;5;124m\"\u001b[39m: \u001b[38;5;241m1964\u001b[39m\n\u001b[0;32m      5\u001b[0m }\n\u001b[0;32m      6\u001b[0m \u001b[38;5;28;01mdel\u001b[39;00m thisdict\n\u001b[1;32m----> 7\u001b[0m \u001b[38;5;28mprint\u001b[39m(thisdict)\n",
      "\u001b[1;31mNameError\u001b[0m: name 'thisdict' is not defined"
     ]
    }
   ],
   "source": [
    "thisdict = {\n",
    "  \"brand\": \"Ford\",\n",
    "  \"model\": \"Mustang\",\n",
    "  \"year\": 1964\n",
    "}\n",
    "del thisdict\n",
    "print(thisdict)"
   ]
  },
  {
   "cell_type": "code",
   "execution_count": null,
   "id": "212a2717",
   "metadata": {},
   "outputs": [],
   "source": [
    "thisdict = {\n",
    "  \"brand\": \"Ford\",\n",
    "  \"model\": \"Mustang\",\n",
    "  \"year\": 1964\n",
    "}\n",
    "\n",
    "\n",
    "for x in thisdict:\n",
    "  print(x)\n",
    "\n",
    "for x in thisdict:\n",
    "  print(thisdict[x])"
   ]
  },
  {
   "cell_type": "code",
   "execution_count": null,
   "id": "17006630",
   "metadata": {},
   "outputs": [],
   "source": [
    "for x, y in thisdict.items():\n",
    "  print(x, y)"
   ]
  },
  {
   "cell_type": "code",
   "execution_count": null,
   "id": "4c313341",
   "metadata": {},
   "outputs": [],
   "source": [
    "thisdict = {\n",
    "  \"brand\": \"Ford\",\n",
    "  \"model\": \"Mustang\",\n",
    "  \"year\": 1964\n",
    "}\n",
    "mydict = thisdict.copy()   # however both of them will point to same dictionary, so changes made in one dict will affect the other as well\n",
    "print(mydict)"
   ]
  },
  {
   "cell_type": "code",
   "execution_count": 161,
   "id": "b4092195",
   "metadata": {},
   "outputs": [
    {
     "name": "stdout",
     "output_type": "stream",
     "text": [
      "Tobias\n"
     ]
    }
   ],
   "source": [
    "myfamily = {\n",
    "  \"child1\" : {\n",
    "    \"name\" : \"Emil\",\n",
    "    \"year\" : 2004\n",
    "  },\n",
    "  \"child2\" : {\n",
    "    \"name\" : \"Tobias\",\n",
    "    \"year\" : 2007\n",
    "  },\n",
    "  \"child3\" : {\n",
    "    \"name\" : \"Linus\",\n",
    "    \"year\" : 2011\n",
    "  }\n",
    "}\n",
    "\n",
    "print(myfamily[\"child2\"][\"name\"])\n"
   ]
  },
  {
   "cell_type": "code",
   "execution_count": 162,
   "id": "641c8883",
   "metadata": {},
   "outputs": [
    {
     "name": "stdout",
     "output_type": "stream",
     "text": [
      "child1\n",
      "name: Emil\n",
      "year: 2004\n",
      "child2\n",
      "name: Tobias\n",
      "year: 2007\n",
      "child3\n",
      "name: Linus\n",
      "year: 2011\n"
     ]
    }
   ],
   "source": [
    "myfamily = {\n",
    "  \"child1\" : {\n",
    "    \"name\" : \"Emil\",\n",
    "    \"year\" : 2004\n",
    "  },\n",
    "  \"child2\" : {\n",
    "    \"name\" : \"Tobias\",\n",
    "    \"year\" : 2007\n",
    "  },\n",
    "  \"child3\" : {\n",
    "    \"name\" : \"Linus\",\n",
    "    \"year\" : 2011\n",
    "  }\n",
    "}\n",
    "\n",
    "for x, obj in myfamily.items():\n",
    "    print(x)\n",
    "    \n",
    "    for y in obj:\n",
    "        print(y + ':', obj[y])\n",
    "\n"
   ]
  },
  {
   "cell_type": "markdown",
   "id": "3c16dffa",
   "metadata": {},
   "source": [
    "# Sets"
   ]
  },
  {
   "cell_type": "code",
   "execution_count": 52,
   "id": "81cbb91a",
   "metadata": {},
   "outputs": [
    {
     "name": "stdout",
     "output_type": "stream",
     "text": [
      "3\n"
     ]
    }
   ],
   "source": [
    "thisset = {\"apple\", \"banana\", \"cherry\"}\n",
    "\n",
    "print(len(thisset))"
   ]
  },
  {
   "cell_type": "code",
   "execution_count": 53,
   "id": "312e50b9",
   "metadata": {},
   "outputs": [
    {
     "name": "stdout",
     "output_type": "stream",
     "text": [
      "{False, 'apple', 'banana'}\n",
      "<class 'set'>\n"
     ]
    }
   ],
   "source": [
    "thisset = {\"apple\", \"banana\", False}\n",
    "\n",
    "print(thisset)\n",
    "print(type(thisset))"
   ]
  },
  {
   "cell_type": "code",
   "execution_count": 54,
   "id": "9c1e7d1d",
   "metadata": {},
   "outputs": [
    {
     "name": "stdout",
     "output_type": "stream",
     "text": [
      "apple\n",
      "cherry\n",
      "banana\n",
      "True\n"
     ]
    }
   ],
   "source": [
    "thisset = {\"apple\", \"banana\", \"cherry\"}\n",
    "\n",
    "for x in thisset:\n",
    "  print(x)\n",
    "\n",
    "print(\"banana\" in thisset)"
   ]
  },
  {
   "cell_type": "code",
   "execution_count": 55,
   "id": "62fe9708",
   "metadata": {},
   "outputs": [
    {
     "name": "stdout",
     "output_type": "stream",
     "text": [
      "{'apple', 'cherry', 'banana', 'orange'}\n"
     ]
    }
   ],
   "source": [
    "thisset = {\"apple\", \"banana\", \"cherry\"}\n",
    "\n",
    "thisset.add(\"orange\")\n",
    "\n",
    "print(thisset)\n"
   ]
  },
  {
   "cell_type": "code",
   "execution_count": 56,
   "id": "ae3c8b19",
   "metadata": {},
   "outputs": [
    {
     "name": "stdout",
     "output_type": "stream",
     "text": [
      "{'pineapple', 'mango', 'papaya', 'apple', 'cherry', 'banana'}\n"
     ]
    }
   ],
   "source": [
    "thisset = {\"apple\", \"banana\", \"cherry\"}\n",
    "tropical = {\"pineapple\", \"mango\", \"papaya\"}\n",
    "\n",
    "thisset.update(tropical)\n",
    "\n",
    "print(thisset)"
   ]
  },
  {
   "cell_type": "code",
   "execution_count": 57,
   "id": "c1fcaeb8",
   "metadata": {},
   "outputs": [
    {
     "name": "stdout",
     "output_type": "stream",
     "text": [
      "{'cherry', 'orange', 'kiwi', 'apple', 'banana'}\n"
     ]
    }
   ],
   "source": [
    "thisset = {\"apple\", \"banana\", \"cherry\"}\n",
    "mylist = [\"kiwi\", \"orange\"]\n",
    "\n",
    "thisset.update(mylist)\n",
    "\n",
    "print(thisset)\n"
   ]
  },
  {
   "cell_type": "code",
   "execution_count": 58,
   "id": "5bdd8f20",
   "metadata": {},
   "outputs": [
    {
     "name": "stdout",
     "output_type": "stream",
     "text": [
      "{'apple', 'cherry'}\n"
     ]
    }
   ],
   "source": [
    "thisset = {\"apple\", \"banana\", \"cherry\"}\n",
    "\n",
    "thisset.discard(\"banana\")   # Without throwing exception\n",
    "\n",
    "print(thisset)"
   ]
  },
  {
   "cell_type": "code",
   "execution_count": 59,
   "id": "f3907d34",
   "metadata": {},
   "outputs": [
    {
     "name": "stdout",
     "output_type": "stream",
     "text": [
      "set()\n"
     ]
    }
   ],
   "source": [
    "thisset = {\"apple\", \"banana\", \"cherry\"}\n",
    "\n",
    "thisset.clear()\n",
    "\n",
    "print(thisset)"
   ]
  },
  {
   "cell_type": "code",
   "execution_count": 60,
   "id": "2d9b0a54",
   "metadata": {},
   "outputs": [
    {
     "name": "stdout",
     "output_type": "stream",
     "text": [
      "{1, 'b', 2, 3, 'Elena', 'c', 'cherry', 'John', 'bananas', 'apple', 'a'}\n"
     ]
    }
   ],
   "source": [
    "set1 = {\"a\", \"b\", \"c\"}\n",
    "set2 = {1, 2, 3}\n",
    "set3 = {\"John\", \"Elena\", \"a\", \"b\", \"c\"}\n",
    "set4 = {\"apple\", \"bananas\", \"cherry\"}\n",
    "\n",
    "myset = set1.union(set2, set3, set4)\n",
    "print(myset)\n"
   ]
  },
  {
   "cell_type": "code",
   "execution_count": null,
   "id": "0e81c00c",
   "metadata": {},
   "outputs": [],
   "source": []
  },
  {
   "cell_type": "code",
   "execution_count": null,
   "id": "86f67d97",
   "metadata": {},
   "outputs": [],
   "source": []
  },
  {
   "cell_type": "code",
   "execution_count": null,
   "id": "c41c6f2f",
   "metadata": {},
   "outputs": [],
   "source": []
  },
  {
   "cell_type": "code",
   "execution_count": null,
   "id": "cc100ec9",
   "metadata": {},
   "outputs": [],
   "source": []
  },
  {
   "cell_type": "code",
   "execution_count": null,
   "id": "9c672934",
   "metadata": {},
   "outputs": [],
   "source": []
  },
  {
   "cell_type": "markdown",
   "id": "28b6496a",
   "metadata": {},
   "source": [
    "# Pandas"
   ]
  },
  {
   "cell_type": "code",
   "execution_count": 63,
   "id": "5646cf09",
   "metadata": {},
   "outputs": [],
   "source": [
    "import pandas as pd\n",
    "import numpy as np"
   ]
  },
  {
   "cell_type": "code",
   "execution_count": 64,
   "id": "8244c7d8",
   "metadata": {},
   "outputs": [],
   "source": [
    "dict1 = {\"name\": \"newtan\",\n",
    "        \"surname\": \"mukherjee\",\n",
    "        \"marks\": [1,2,3,4]}"
   ]
  },
  {
   "cell_type": "code",
   "execution_count": 65,
   "id": "bf4dea68",
   "metadata": {},
   "outputs": [],
   "source": [
    "df = pd.DataFrame(dict1)"
   ]
  },
  {
   "cell_type": "code",
   "execution_count": 66,
   "id": "fd2b24d9",
   "metadata": {},
   "outputs": [
    {
     "data": {
      "text/html": [
       "<div>\n",
       "<style scoped>\n",
       "    .dataframe tbody tr th:only-of-type {\n",
       "        vertical-align: middle;\n",
       "    }\n",
       "\n",
       "    .dataframe tbody tr th {\n",
       "        vertical-align: top;\n",
       "    }\n",
       "\n",
       "    .dataframe thead th {\n",
       "        text-align: right;\n",
       "    }\n",
       "</style>\n",
       "<table border=\"1\" class=\"dataframe\">\n",
       "  <thead>\n",
       "    <tr style=\"text-align: right;\">\n",
       "      <th></th>\n",
       "      <th>name</th>\n",
       "      <th>surname</th>\n",
       "      <th>marks</th>\n",
       "    </tr>\n",
       "  </thead>\n",
       "  <tbody>\n",
       "    <tr>\n",
       "      <th>0</th>\n",
       "      <td>newtan</td>\n",
       "      <td>mukherjee</td>\n",
       "      <td>1</td>\n",
       "    </tr>\n",
       "    <tr>\n",
       "      <th>1</th>\n",
       "      <td>newtan</td>\n",
       "      <td>mukherjee</td>\n",
       "      <td>2</td>\n",
       "    </tr>\n",
       "    <tr>\n",
       "      <th>2</th>\n",
       "      <td>newtan</td>\n",
       "      <td>mukherjee</td>\n",
       "      <td>3</td>\n",
       "    </tr>\n",
       "    <tr>\n",
       "      <th>3</th>\n",
       "      <td>newtan</td>\n",
       "      <td>mukherjee</td>\n",
       "      <td>4</td>\n",
       "    </tr>\n",
       "  </tbody>\n",
       "</table>\n",
       "</div>"
      ],
      "text/plain": [
       "     name    surname  marks\n",
       "0  newtan  mukherjee      1\n",
       "1  newtan  mukherjee      2\n",
       "2  newtan  mukherjee      3\n",
       "3  newtan  mukherjee      4"
      ]
     },
     "execution_count": 66,
     "metadata": {},
     "output_type": "execute_result"
    }
   ],
   "source": [
    "df"
   ]
  },
  {
   "cell_type": "code",
   "execution_count": 67,
   "id": "8cdd76ed",
   "metadata": {},
   "outputs": [],
   "source": [
    "df.to_csv('newtan.csv')"
   ]
  },
  {
   "cell_type": "code",
   "execution_count": 68,
   "id": "5c44d2cc",
   "metadata": {},
   "outputs": [],
   "source": [
    "df.to_csv('newtan.csv', index = False)"
   ]
  },
  {
   "cell_type": "code",
   "execution_count": 69,
   "id": "e69b5f04",
   "metadata": {},
   "outputs": [
    {
     "data": {
      "text/html": [
       "<div>\n",
       "<style scoped>\n",
       "    .dataframe tbody tr th:only-of-type {\n",
       "        vertical-align: middle;\n",
       "    }\n",
       "\n",
       "    .dataframe tbody tr th {\n",
       "        vertical-align: top;\n",
       "    }\n",
       "\n",
       "    .dataframe thead th {\n",
       "        text-align: right;\n",
       "    }\n",
       "</style>\n",
       "<table border=\"1\" class=\"dataframe\">\n",
       "  <thead>\n",
       "    <tr style=\"text-align: right;\">\n",
       "      <th></th>\n",
       "      <th>name</th>\n",
       "      <th>surname</th>\n",
       "      <th>marks</th>\n",
       "    </tr>\n",
       "  </thead>\n",
       "  <tbody>\n",
       "    <tr>\n",
       "      <th>0</th>\n",
       "      <td>newtan</td>\n",
       "      <td>mukherjee</td>\n",
       "      <td>1</td>\n",
       "    </tr>\n",
       "    <tr>\n",
       "      <th>1</th>\n",
       "      <td>newtan</td>\n",
       "      <td>mukherjee</td>\n",
       "      <td>2</td>\n",
       "    </tr>\n",
       "    <tr>\n",
       "      <th>2</th>\n",
       "      <td>newtan</td>\n",
       "      <td>mukherjee</td>\n",
       "      <td>3</td>\n",
       "    </tr>\n",
       "  </tbody>\n",
       "</table>\n",
       "</div>"
      ],
      "text/plain": [
       "     name    surname  marks\n",
       "0  newtan  mukherjee      1\n",
       "1  newtan  mukherjee      2\n",
       "2  newtan  mukherjee      3"
      ]
     },
     "execution_count": 69,
     "metadata": {},
     "output_type": "execute_result"
    }
   ],
   "source": [
    "df.head(3)"
   ]
  },
  {
   "cell_type": "code",
   "execution_count": 70,
   "id": "969f2b7b",
   "metadata": {},
   "outputs": [
    {
     "data": {
      "text/html": [
       "<div>\n",
       "<style scoped>\n",
       "    .dataframe tbody tr th:only-of-type {\n",
       "        vertical-align: middle;\n",
       "    }\n",
       "\n",
       "    .dataframe tbody tr th {\n",
       "        vertical-align: top;\n",
       "    }\n",
       "\n",
       "    .dataframe thead th {\n",
       "        text-align: right;\n",
       "    }\n",
       "</style>\n",
       "<table border=\"1\" class=\"dataframe\">\n",
       "  <thead>\n",
       "    <tr style=\"text-align: right;\">\n",
       "      <th></th>\n",
       "      <th>name</th>\n",
       "      <th>surname</th>\n",
       "      <th>marks</th>\n",
       "    </tr>\n",
       "  </thead>\n",
       "  <tbody>\n",
       "    <tr>\n",
       "      <th>2</th>\n",
       "      <td>newtan</td>\n",
       "      <td>mukherjee</td>\n",
       "      <td>3</td>\n",
       "    </tr>\n",
       "    <tr>\n",
       "      <th>3</th>\n",
       "      <td>newtan</td>\n",
       "      <td>mukherjee</td>\n",
       "      <td>4</td>\n",
       "    </tr>\n",
       "  </tbody>\n",
       "</table>\n",
       "</div>"
      ],
      "text/plain": [
       "     name    surname  marks\n",
       "2  newtan  mukherjee      3\n",
       "3  newtan  mukherjee      4"
      ]
     },
     "execution_count": 70,
     "metadata": {},
     "output_type": "execute_result"
    }
   ],
   "source": [
    "df.tail(2)"
   ]
  },
  {
   "cell_type": "code",
   "execution_count": 71,
   "id": "a1671ea0",
   "metadata": {},
   "outputs": [
    {
     "data": {
      "text/html": [
       "<div>\n",
       "<style scoped>\n",
       "    .dataframe tbody tr th:only-of-type {\n",
       "        vertical-align: middle;\n",
       "    }\n",
       "\n",
       "    .dataframe tbody tr th {\n",
       "        vertical-align: top;\n",
       "    }\n",
       "\n",
       "    .dataframe thead th {\n",
       "        text-align: right;\n",
       "    }\n",
       "</style>\n",
       "<table border=\"1\" class=\"dataframe\">\n",
       "  <thead>\n",
       "    <tr style=\"text-align: right;\">\n",
       "      <th></th>\n",
       "      <th>marks</th>\n",
       "    </tr>\n",
       "  </thead>\n",
       "  <tbody>\n",
       "    <tr>\n",
       "      <th>count</th>\n",
       "      <td>4.000000</td>\n",
       "    </tr>\n",
       "    <tr>\n",
       "      <th>mean</th>\n",
       "      <td>2.500000</td>\n",
       "    </tr>\n",
       "    <tr>\n",
       "      <th>std</th>\n",
       "      <td>1.290994</td>\n",
       "    </tr>\n",
       "    <tr>\n",
       "      <th>min</th>\n",
       "      <td>1.000000</td>\n",
       "    </tr>\n",
       "    <tr>\n",
       "      <th>25%</th>\n",
       "      <td>1.750000</td>\n",
       "    </tr>\n",
       "    <tr>\n",
       "      <th>50%</th>\n",
       "      <td>2.500000</td>\n",
       "    </tr>\n",
       "    <tr>\n",
       "      <th>75%</th>\n",
       "      <td>3.250000</td>\n",
       "    </tr>\n",
       "    <tr>\n",
       "      <th>max</th>\n",
       "      <td>4.000000</td>\n",
       "    </tr>\n",
       "  </tbody>\n",
       "</table>\n",
       "</div>"
      ],
      "text/plain": [
       "          marks\n",
       "count  4.000000\n",
       "mean   2.500000\n",
       "std    1.290994\n",
       "min    1.000000\n",
       "25%    1.750000\n",
       "50%    2.500000\n",
       "75%    3.250000\n",
       "max    4.000000"
      ]
     },
     "execution_count": 71,
     "metadata": {},
     "output_type": "execute_result"
    }
   ],
   "source": [
    "df.describe()  # Numerical columns statistical analysis"
   ]
  },
  {
   "cell_type": "code",
   "execution_count": 72,
   "id": "a830edbb",
   "metadata": {},
   "outputs": [],
   "source": [
    "df2 = pd.read_csv('newtan.csv')"
   ]
  },
  {
   "cell_type": "code",
   "execution_count": 73,
   "id": "0161c50c",
   "metadata": {},
   "outputs": [
    {
     "data": {
      "text/html": [
       "<div>\n",
       "<style scoped>\n",
       "    .dataframe tbody tr th:only-of-type {\n",
       "        vertical-align: middle;\n",
       "    }\n",
       "\n",
       "    .dataframe tbody tr th {\n",
       "        vertical-align: top;\n",
       "    }\n",
       "\n",
       "    .dataframe thead th {\n",
       "        text-align: right;\n",
       "    }\n",
       "</style>\n",
       "<table border=\"1\" class=\"dataframe\">\n",
       "  <thead>\n",
       "    <tr style=\"text-align: right;\">\n",
       "      <th></th>\n",
       "      <th>name</th>\n",
       "      <th>surname</th>\n",
       "      <th>marks</th>\n",
       "    </tr>\n",
       "  </thead>\n",
       "  <tbody>\n",
       "    <tr>\n",
       "      <th>0</th>\n",
       "      <td>newtan</td>\n",
       "      <td>mukherjee</td>\n",
       "      <td>1</td>\n",
       "    </tr>\n",
       "    <tr>\n",
       "      <th>1</th>\n",
       "      <td>newtan</td>\n",
       "      <td>mukherjee</td>\n",
       "      <td>2</td>\n",
       "    </tr>\n",
       "    <tr>\n",
       "      <th>2</th>\n",
       "      <td>newtan</td>\n",
       "      <td>mukherjee</td>\n",
       "      <td>3</td>\n",
       "    </tr>\n",
       "    <tr>\n",
       "      <th>3</th>\n",
       "      <td>newtan</td>\n",
       "      <td>mukherjee</td>\n",
       "      <td>4</td>\n",
       "    </tr>\n",
       "  </tbody>\n",
       "</table>\n",
       "</div>"
      ],
      "text/plain": [
       "     name    surname  marks\n",
       "0  newtan  mukherjee      1\n",
       "1  newtan  mukherjee      2\n",
       "2  newtan  mukherjee      3\n",
       "3  newtan  mukherjee      4"
      ]
     },
     "execution_count": 73,
     "metadata": {},
     "output_type": "execute_result"
    }
   ],
   "source": [
    "df2.head()"
   ]
  },
  {
   "cell_type": "code",
   "execution_count": 74,
   "id": "af07147d",
   "metadata": {},
   "outputs": [
    {
     "name": "stderr",
     "output_type": "stream",
     "text": [
      "C:\\Users\\my\\AppData\\Local\\Temp\\ipykernel_1168\\481601147.py:1: SettingWithCopyWarning: \n",
      "A value is trying to be set on a copy of a slice from a DataFrame\n",
      "\n",
      "See the caveats in the documentation: https://pandas.pydata.org/pandas-docs/stable/user_guide/indexing.html#returning-a-view-versus-a-copy\n",
      "  df['name'][1] = 'harsh'   # cgange values correponding to an index at a slice\n"
     ]
    }
   ],
   "source": [
    "df['name'][1] = 'harsh'   # cgange values correponding to an index at a slice"
   ]
  },
  {
   "cell_type": "code",
   "execution_count": 75,
   "id": "c2c1c5b3",
   "metadata": {},
   "outputs": [
    {
     "data": {
      "text/html": [
       "<div>\n",
       "<style scoped>\n",
       "    .dataframe tbody tr th:only-of-type {\n",
       "        vertical-align: middle;\n",
       "    }\n",
       "\n",
       "    .dataframe tbody tr th {\n",
       "        vertical-align: top;\n",
       "    }\n",
       "\n",
       "    .dataframe thead th {\n",
       "        text-align: right;\n",
       "    }\n",
       "</style>\n",
       "<table border=\"1\" class=\"dataframe\">\n",
       "  <thead>\n",
       "    <tr style=\"text-align: right;\">\n",
       "      <th></th>\n",
       "      <th>name</th>\n",
       "      <th>surname</th>\n",
       "      <th>marks</th>\n",
       "    </tr>\n",
       "  </thead>\n",
       "  <tbody>\n",
       "    <tr>\n",
       "      <th>0</th>\n",
       "      <td>newtan</td>\n",
       "      <td>mukherjee</td>\n",
       "      <td>1</td>\n",
       "    </tr>\n",
       "    <tr>\n",
       "      <th>1</th>\n",
       "      <td>harsh</td>\n",
       "      <td>mukherjee</td>\n",
       "      <td>2</td>\n",
       "    </tr>\n",
       "    <tr>\n",
       "      <th>2</th>\n",
       "      <td>newtan</td>\n",
       "      <td>mukherjee</td>\n",
       "      <td>3</td>\n",
       "    </tr>\n",
       "    <tr>\n",
       "      <th>3</th>\n",
       "      <td>newtan</td>\n",
       "      <td>mukherjee</td>\n",
       "      <td>4</td>\n",
       "    </tr>\n",
       "  </tbody>\n",
       "</table>\n",
       "</div>"
      ],
      "text/plain": [
       "     name    surname  marks\n",
       "0  newtan  mukherjee      1\n",
       "1   harsh  mukherjee      2\n",
       "2  newtan  mukherjee      3\n",
       "3  newtan  mukherjee      4"
      ]
     },
     "execution_count": 75,
     "metadata": {},
     "output_type": "execute_result"
    }
   ],
   "source": [
    "df.head()"
   ]
  },
  {
   "cell_type": "code",
   "execution_count": 76,
   "id": "82d3d875",
   "metadata": {},
   "outputs": [],
   "source": [
    "df.index = ['first', 'second', 'third', 'fourth']"
   ]
  },
  {
   "cell_type": "code",
   "execution_count": 77,
   "id": "66edc56e",
   "metadata": {},
   "outputs": [
    {
     "data": {
      "text/html": [
       "<div>\n",
       "<style scoped>\n",
       "    .dataframe tbody tr th:only-of-type {\n",
       "        vertical-align: middle;\n",
       "    }\n",
       "\n",
       "    .dataframe tbody tr th {\n",
       "        vertical-align: top;\n",
       "    }\n",
       "\n",
       "    .dataframe thead th {\n",
       "        text-align: right;\n",
       "    }\n",
       "</style>\n",
       "<table border=\"1\" class=\"dataframe\">\n",
       "  <thead>\n",
       "    <tr style=\"text-align: right;\">\n",
       "      <th></th>\n",
       "      <th>name</th>\n",
       "      <th>surname</th>\n",
       "      <th>marks</th>\n",
       "    </tr>\n",
       "  </thead>\n",
       "  <tbody>\n",
       "    <tr>\n",
       "      <th>first</th>\n",
       "      <td>newtan</td>\n",
       "      <td>mukherjee</td>\n",
       "      <td>1</td>\n",
       "    </tr>\n",
       "    <tr>\n",
       "      <th>second</th>\n",
       "      <td>harsh</td>\n",
       "      <td>mukherjee</td>\n",
       "      <td>2</td>\n",
       "    </tr>\n",
       "    <tr>\n",
       "      <th>third</th>\n",
       "      <td>newtan</td>\n",
       "      <td>mukherjee</td>\n",
       "      <td>3</td>\n",
       "    </tr>\n",
       "    <tr>\n",
       "      <th>fourth</th>\n",
       "      <td>newtan</td>\n",
       "      <td>mukherjee</td>\n",
       "      <td>4</td>\n",
       "    </tr>\n",
       "  </tbody>\n",
       "</table>\n",
       "</div>"
      ],
      "text/plain": [
       "          name    surname  marks\n",
       "first   newtan  mukherjee      1\n",
       "second   harsh  mukherjee      2\n",
       "third   newtan  mukherjee      3\n",
       "fourth  newtan  mukherjee      4"
      ]
     },
     "execution_count": 77,
     "metadata": {},
     "output_type": "execute_result"
    }
   ],
   "source": [
    "df.head()"
   ]
  },
  {
   "cell_type": "code",
   "execution_count": 78,
   "id": "48e5f7dc",
   "metadata": {},
   "outputs": [],
   "source": [
    "ser = pd.Series(np.random.rand(5))"
   ]
  },
  {
   "cell_type": "code",
   "execution_count": 81,
   "id": "02cb15f9",
   "metadata": {},
   "outputs": [
    {
     "data": {
      "text/plain": [
       "0    0.791690\n",
       "1    0.193471\n",
       "2    0.495249\n",
       "3    0.868574\n",
       "4    0.926141\n",
       "dtype: float64"
      ]
     },
     "execution_count": 81,
     "metadata": {},
     "output_type": "execute_result"
    }
   ],
   "source": [
    "ser"
   ]
  },
  {
   "cell_type": "code",
   "execution_count": 82,
   "id": "1255ddb2",
   "metadata": {},
   "outputs": [
    {
     "name": "stdout",
     "output_type": "stream",
     "text": [
      "<class 'pandas.core.series.Series'>\n"
     ]
    }
   ],
   "source": [
    "print(type(ser))"
   ]
  },
  {
   "cell_type": "code",
   "execution_count": 83,
   "id": "88957412",
   "metadata": {},
   "outputs": [],
   "source": [
    "dataFrame =  pd.DataFrame(np.random.rand(5))"
   ]
  },
  {
   "cell_type": "code",
   "execution_count": 84,
   "id": "ef290e03",
   "metadata": {},
   "outputs": [
    {
     "data": {
      "text/html": [
       "<div>\n",
       "<style scoped>\n",
       "    .dataframe tbody tr th:only-of-type {\n",
       "        vertical-align: middle;\n",
       "    }\n",
       "\n",
       "    .dataframe tbody tr th {\n",
       "        vertical-align: top;\n",
       "    }\n",
       "\n",
       "    .dataframe thead th {\n",
       "        text-align: right;\n",
       "    }\n",
       "</style>\n",
       "<table border=\"1\" class=\"dataframe\">\n",
       "  <thead>\n",
       "    <tr style=\"text-align: right;\">\n",
       "      <th></th>\n",
       "      <th>0</th>\n",
       "    </tr>\n",
       "  </thead>\n",
       "  <tbody>\n",
       "    <tr>\n",
       "      <th>0</th>\n",
       "      <td>0.459212</td>\n",
       "    </tr>\n",
       "    <tr>\n",
       "      <th>1</th>\n",
       "      <td>0.764823</td>\n",
       "    </tr>\n",
       "    <tr>\n",
       "      <th>2</th>\n",
       "      <td>0.447424</td>\n",
       "    </tr>\n",
       "    <tr>\n",
       "      <th>3</th>\n",
       "      <td>0.372767</td>\n",
       "    </tr>\n",
       "    <tr>\n",
       "      <th>4</th>\n",
       "      <td>0.991691</td>\n",
       "    </tr>\n",
       "  </tbody>\n",
       "</table>\n",
       "</div>"
      ],
      "text/plain": [
       "          0\n",
       "0  0.459212\n",
       "1  0.764823\n",
       "2  0.447424\n",
       "3  0.372767\n",
       "4  0.991691"
      ]
     },
     "execution_count": 84,
     "metadata": {},
     "output_type": "execute_result"
    }
   ],
   "source": [
    "dataFrame.head()"
   ]
  },
  {
   "cell_type": "code",
   "execution_count": 85,
   "id": "1417aa3a",
   "metadata": {},
   "outputs": [
    {
     "name": "stdout",
     "output_type": "stream",
     "text": [
      "<class 'pandas.core.frame.DataFrame'>\n"
     ]
    }
   ],
   "source": [
    "print(type(dataFrame))"
   ]
  },
  {
   "cell_type": "code",
   "execution_count": 86,
   "id": "c8da0052",
   "metadata": {},
   "outputs": [],
   "source": [
    "dataFrame =  pd.DataFrame(np.random.rand(5,7))"
   ]
  },
  {
   "cell_type": "code",
   "execution_count": 87,
   "id": "9c1962e1",
   "metadata": {},
   "outputs": [
    {
     "name": "stdout",
     "output_type": "stream",
     "text": [
      "          0         1         2         3         4         5         6\n",
      "0  0.529185  0.093812  0.449694  0.567210  0.152848  0.031400  0.917008\n",
      "1  0.291522  0.088267  0.177664  0.322059  0.106339  0.416810  0.563144\n",
      "2  0.797538  0.819569  0.091689  0.350178  0.227299  0.216534  0.651884\n",
      "3  0.397887  0.587379  0.925749  0.443161  0.606678  0.257545  0.568305\n",
      "4  0.928931  0.097461  0.857093  0.073692  0.708424  0.813503  0.909965\n"
     ]
    }
   ],
   "source": [
    "print(dataFrame)"
   ]
  },
  {
   "cell_type": "code",
   "execution_count": 88,
   "id": "f92e3223",
   "metadata": {},
   "outputs": [
    {
     "data": {
      "text/html": [
       "<div>\n",
       "<style scoped>\n",
       "    .dataframe tbody tr th:only-of-type {\n",
       "        vertical-align: middle;\n",
       "    }\n",
       "\n",
       "    .dataframe tbody tr th {\n",
       "        vertical-align: top;\n",
       "    }\n",
       "\n",
       "    .dataframe thead th {\n",
       "        text-align: right;\n",
       "    }\n",
       "</style>\n",
       "<table border=\"1\" class=\"dataframe\">\n",
       "  <thead>\n",
       "    <tr style=\"text-align: right;\">\n",
       "      <th></th>\n",
       "      <th>0</th>\n",
       "      <th>1</th>\n",
       "      <th>2</th>\n",
       "      <th>3</th>\n",
       "      <th>4</th>\n",
       "      <th>5</th>\n",
       "      <th>6</th>\n",
       "    </tr>\n",
       "  </thead>\n",
       "  <tbody>\n",
       "    <tr>\n",
       "      <th>count</th>\n",
       "      <td>5.000000</td>\n",
       "      <td>5.000000</td>\n",
       "      <td>5.000000</td>\n",
       "      <td>5.000000</td>\n",
       "      <td>5.000000</td>\n",
       "      <td>5.000000</td>\n",
       "      <td>5.000000</td>\n",
       "    </tr>\n",
       "    <tr>\n",
       "      <th>mean</th>\n",
       "      <td>0.589013</td>\n",
       "      <td>0.337297</td>\n",
       "      <td>0.500378</td>\n",
       "      <td>0.351260</td>\n",
       "      <td>0.360318</td>\n",
       "      <td>0.347158</td>\n",
       "      <td>0.722061</td>\n",
       "    </tr>\n",
       "    <tr>\n",
       "      <th>std</th>\n",
       "      <td>0.268159</td>\n",
       "      <td>0.344220</td>\n",
       "      <td>0.381420</td>\n",
       "      <td>0.182331</td>\n",
       "      <td>0.277090</td>\n",
       "      <td>0.294586</td>\n",
       "      <td>0.178279</td>\n",
       "    </tr>\n",
       "    <tr>\n",
       "      <th>min</th>\n",
       "      <td>0.291522</td>\n",
       "      <td>0.088267</td>\n",
       "      <td>0.091689</td>\n",
       "      <td>0.073692</td>\n",
       "      <td>0.106339</td>\n",
       "      <td>0.031400</td>\n",
       "      <td>0.563144</td>\n",
       "    </tr>\n",
       "    <tr>\n",
       "      <th>25%</th>\n",
       "      <td>0.397887</td>\n",
       "      <td>0.093812</td>\n",
       "      <td>0.177664</td>\n",
       "      <td>0.322059</td>\n",
       "      <td>0.152848</td>\n",
       "      <td>0.216534</td>\n",
       "      <td>0.568305</td>\n",
       "    </tr>\n",
       "    <tr>\n",
       "      <th>50%</th>\n",
       "      <td>0.529185</td>\n",
       "      <td>0.097461</td>\n",
       "      <td>0.449694</td>\n",
       "      <td>0.350178</td>\n",
       "      <td>0.227299</td>\n",
       "      <td>0.257545</td>\n",
       "      <td>0.651884</td>\n",
       "    </tr>\n",
       "    <tr>\n",
       "      <th>75%</th>\n",
       "      <td>0.797538</td>\n",
       "      <td>0.587379</td>\n",
       "      <td>0.857093</td>\n",
       "      <td>0.443161</td>\n",
       "      <td>0.606678</td>\n",
       "      <td>0.416810</td>\n",
       "      <td>0.909965</td>\n",
       "    </tr>\n",
       "    <tr>\n",
       "      <th>max</th>\n",
       "      <td>0.928931</td>\n",
       "      <td>0.819569</td>\n",
       "      <td>0.925749</td>\n",
       "      <td>0.567210</td>\n",
       "      <td>0.708424</td>\n",
       "      <td>0.813503</td>\n",
       "      <td>0.917008</td>\n",
       "    </tr>\n",
       "  </tbody>\n",
       "</table>\n",
       "</div>"
      ],
      "text/plain": [
       "              0         1         2         3         4         5         6\n",
       "count  5.000000  5.000000  5.000000  5.000000  5.000000  5.000000  5.000000\n",
       "mean   0.589013  0.337297  0.500378  0.351260  0.360318  0.347158  0.722061\n",
       "std    0.268159  0.344220  0.381420  0.182331  0.277090  0.294586  0.178279\n",
       "min    0.291522  0.088267  0.091689  0.073692  0.106339  0.031400  0.563144\n",
       "25%    0.397887  0.093812  0.177664  0.322059  0.152848  0.216534  0.568305\n",
       "50%    0.529185  0.097461  0.449694  0.350178  0.227299  0.257545  0.651884\n",
       "75%    0.797538  0.587379  0.857093  0.443161  0.606678  0.416810  0.909965\n",
       "max    0.928931  0.819569  0.925749  0.567210  0.708424  0.813503  0.917008"
      ]
     },
     "execution_count": 88,
     "metadata": {},
     "output_type": "execute_result"
    }
   ],
   "source": [
    "dataFrame.describe()"
   ]
  },
  {
   "cell_type": "code",
   "execution_count": 89,
   "id": "63c0225e",
   "metadata": {},
   "outputs": [
    {
     "data": {
      "text/plain": [
       "0    float64\n",
       "1    float64\n",
       "2    float64\n",
       "3    float64\n",
       "4    float64\n",
       "5    float64\n",
       "6    float64\n",
       "dtype: object"
      ]
     },
     "execution_count": 89,
     "metadata": {},
     "output_type": "execute_result"
    }
   ],
   "source": [
    "dataFrame.dtypes"
   ]
  },
  {
   "cell_type": "code",
   "execution_count": 90,
   "id": "a0746f28",
   "metadata": {},
   "outputs": [
    {
     "name": "stderr",
     "output_type": "stream",
     "text": [
      "C:\\Users\\my\\AppData\\Local\\Temp\\ipykernel_1168\\1538482231.py:1: FutureWarning: Setting an item of incompatible dtype is deprecated and will raise in a future error of pandas. Value 'harry' has dtype incompatible with float64, please explicitly cast to a compatible dtype first.\n",
      "  dataFrame[0][0] = 'harry'\n"
     ]
    }
   ],
   "source": [
    "dataFrame[0][0] = 'harry'"
   ]
  },
  {
   "cell_type": "code",
   "execution_count": 91,
   "id": "4b6dd014",
   "metadata": {},
   "outputs": [
    {
     "data": {
      "text/plain": [
       "0     object\n",
       "1    float64\n",
       "2    float64\n",
       "3    float64\n",
       "4    float64\n",
       "5    float64\n",
       "6    float64\n",
       "dtype: object"
      ]
     },
     "execution_count": 91,
     "metadata": {},
     "output_type": "execute_result"
    }
   ],
   "source": [
    "dataFrame.dtypes"
   ]
  },
  {
   "cell_type": "code",
   "execution_count": 92,
   "id": "68ccda37",
   "metadata": {},
   "outputs": [
    {
     "data": {
      "text/plain": [
       "RangeIndex(start=0, stop=5, step=1)"
      ]
     },
     "execution_count": 92,
     "metadata": {},
     "output_type": "execute_result"
    }
   ],
   "source": [
    "dataFrame.index"
   ]
  },
  {
   "cell_type": "code",
   "execution_count": 93,
   "id": "62ff3ed5",
   "metadata": {},
   "outputs": [
    {
     "data": {
      "text/plain": [
       "array([['harry', 0.09381183004806715, 0.44969396491926894,\n",
       "        0.567210008045371, 0.15284759402311843, 0.03140033600207348,\n",
       "        0.9170084550284375],\n",
       "       [0.2915224070332453, 0.08826702176344725, 0.17766371594718555,\n",
       "        0.3220592794951106, 0.10633943138598267, 0.41681007851161644,\n",
       "        0.5631435169184484],\n",
       "       [0.7975379359473374, 0.8195692174551966, 0.09168929538660398,\n",
       "        0.35017813648867724, 0.227299092085111, 0.21653379882468293,\n",
       "        0.6518838499758663],\n",
       "       [0.3978874815021797, 0.587378575155235, 0.9257490354848893,\n",
       "        0.4431606781666836, 0.6066782743242848, 0.2575445186226851,\n",
       "        0.5683046478523901],\n",
       "       [0.9289311562193596, 0.09746054793361525, 0.8570925941769498,\n",
       "        0.0736923158227063, 0.7084242541044711, 0.8135025191235149,\n",
       "        0.9099651409614647]], dtype=object)"
      ]
     },
     "execution_count": 93,
     "metadata": {},
     "output_type": "execute_result"
    }
   ],
   "source": [
    "dataFrame.to_numpy()"
   ]
  },
  {
   "cell_type": "code",
   "execution_count": 94,
   "id": "63306dfb",
   "metadata": {},
   "outputs": [
    {
     "data": {
      "text/html": [
       "<div>\n",
       "<style scoped>\n",
       "    .dataframe tbody tr th:only-of-type {\n",
       "        vertical-align: middle;\n",
       "    }\n",
       "\n",
       "    .dataframe tbody tr th {\n",
       "        vertical-align: top;\n",
       "    }\n",
       "\n",
       "    .dataframe thead th {\n",
       "        text-align: right;\n",
       "    }\n",
       "</style>\n",
       "<table border=\"1\" class=\"dataframe\">\n",
       "  <thead>\n",
       "    <tr style=\"text-align: right;\">\n",
       "      <th></th>\n",
       "      <th>0</th>\n",
       "      <th>1</th>\n",
       "      <th>2</th>\n",
       "      <th>3</th>\n",
       "      <th>4</th>\n",
       "    </tr>\n",
       "  </thead>\n",
       "  <tbody>\n",
       "    <tr>\n",
       "      <th>0</th>\n",
       "      <td>harry</td>\n",
       "      <td>0.291522</td>\n",
       "      <td>0.797538</td>\n",
       "      <td>0.397887</td>\n",
       "      <td>0.928931</td>\n",
       "    </tr>\n",
       "    <tr>\n",
       "      <th>1</th>\n",
       "      <td>0.093812</td>\n",
       "      <td>0.088267</td>\n",
       "      <td>0.819569</td>\n",
       "      <td>0.587379</td>\n",
       "      <td>0.097461</td>\n",
       "    </tr>\n",
       "    <tr>\n",
       "      <th>2</th>\n",
       "      <td>0.449694</td>\n",
       "      <td>0.177664</td>\n",
       "      <td>0.091689</td>\n",
       "      <td>0.925749</td>\n",
       "      <td>0.857093</td>\n",
       "    </tr>\n",
       "    <tr>\n",
       "      <th>3</th>\n",
       "      <td>0.56721</td>\n",
       "      <td>0.322059</td>\n",
       "      <td>0.350178</td>\n",
       "      <td>0.443161</td>\n",
       "      <td>0.073692</td>\n",
       "    </tr>\n",
       "    <tr>\n",
       "      <th>4</th>\n",
       "      <td>0.152848</td>\n",
       "      <td>0.106339</td>\n",
       "      <td>0.227299</td>\n",
       "      <td>0.606678</td>\n",
       "      <td>0.708424</td>\n",
       "    </tr>\n",
       "    <tr>\n",
       "      <th>5</th>\n",
       "      <td>0.0314</td>\n",
       "      <td>0.41681</td>\n",
       "      <td>0.216534</td>\n",
       "      <td>0.257545</td>\n",
       "      <td>0.813503</td>\n",
       "    </tr>\n",
       "    <tr>\n",
       "      <th>6</th>\n",
       "      <td>0.917008</td>\n",
       "      <td>0.563144</td>\n",
       "      <td>0.651884</td>\n",
       "      <td>0.568305</td>\n",
       "      <td>0.909965</td>\n",
       "    </tr>\n",
       "  </tbody>\n",
       "</table>\n",
       "</div>"
      ],
      "text/plain": [
       "          0         1         2         3         4\n",
       "0     harry  0.291522  0.797538  0.397887  0.928931\n",
       "1  0.093812  0.088267  0.819569  0.587379  0.097461\n",
       "2  0.449694  0.177664  0.091689  0.925749  0.857093\n",
       "3   0.56721  0.322059  0.350178  0.443161  0.073692\n",
       "4  0.152848  0.106339  0.227299  0.606678  0.708424\n",
       "5    0.0314   0.41681  0.216534  0.257545  0.813503\n",
       "6  0.917008  0.563144  0.651884  0.568305  0.909965"
      ]
     },
     "execution_count": 94,
     "metadata": {},
     "output_type": "execute_result"
    }
   ],
   "source": [
    "dataFrame.T"
   ]
  },
  {
   "cell_type": "code",
   "execution_count": 95,
   "id": "fb93dd18",
   "metadata": {},
   "outputs": [
    {
     "data": {
      "text/html": [
       "<div>\n",
       "<style scoped>\n",
       "    .dataframe tbody tr th:only-of-type {\n",
       "        vertical-align: middle;\n",
       "    }\n",
       "\n",
       "    .dataframe tbody tr th {\n",
       "        vertical-align: top;\n",
       "    }\n",
       "\n",
       "    .dataframe thead th {\n",
       "        text-align: right;\n",
       "    }\n",
       "</style>\n",
       "<table border=\"1\" class=\"dataframe\">\n",
       "  <thead>\n",
       "    <tr style=\"text-align: right;\">\n",
       "      <th></th>\n",
       "      <th>0</th>\n",
       "      <th>1</th>\n",
       "      <th>2</th>\n",
       "      <th>3</th>\n",
       "      <th>4</th>\n",
       "      <th>5</th>\n",
       "      <th>6</th>\n",
       "    </tr>\n",
       "  </thead>\n",
       "  <tbody>\n",
       "    <tr>\n",
       "      <th>4</th>\n",
       "      <td>0.928931</td>\n",
       "      <td>0.097461</td>\n",
       "      <td>0.857093</td>\n",
       "      <td>0.073692</td>\n",
       "      <td>0.708424</td>\n",
       "      <td>0.813503</td>\n",
       "      <td>0.909965</td>\n",
       "    </tr>\n",
       "    <tr>\n",
       "      <th>3</th>\n",
       "      <td>0.397887</td>\n",
       "      <td>0.587379</td>\n",
       "      <td>0.925749</td>\n",
       "      <td>0.443161</td>\n",
       "      <td>0.606678</td>\n",
       "      <td>0.257545</td>\n",
       "      <td>0.568305</td>\n",
       "    </tr>\n",
       "    <tr>\n",
       "      <th>2</th>\n",
       "      <td>0.797538</td>\n",
       "      <td>0.819569</td>\n",
       "      <td>0.091689</td>\n",
       "      <td>0.350178</td>\n",
       "      <td>0.227299</td>\n",
       "      <td>0.216534</td>\n",
       "      <td>0.651884</td>\n",
       "    </tr>\n",
       "    <tr>\n",
       "      <th>1</th>\n",
       "      <td>0.291522</td>\n",
       "      <td>0.088267</td>\n",
       "      <td>0.177664</td>\n",
       "      <td>0.322059</td>\n",
       "      <td>0.106339</td>\n",
       "      <td>0.416810</td>\n",
       "      <td>0.563144</td>\n",
       "    </tr>\n",
       "    <tr>\n",
       "      <th>0</th>\n",
       "      <td>harry</td>\n",
       "      <td>0.093812</td>\n",
       "      <td>0.449694</td>\n",
       "      <td>0.567210</td>\n",
       "      <td>0.152848</td>\n",
       "      <td>0.031400</td>\n",
       "      <td>0.917008</td>\n",
       "    </tr>\n",
       "  </tbody>\n",
       "</table>\n",
       "</div>"
      ],
      "text/plain": [
       "          0         1         2         3         4         5         6\n",
       "4  0.928931  0.097461  0.857093  0.073692  0.708424  0.813503  0.909965\n",
       "3  0.397887  0.587379  0.925749  0.443161  0.606678  0.257545  0.568305\n",
       "2  0.797538  0.819569  0.091689  0.350178  0.227299  0.216534  0.651884\n",
       "1  0.291522  0.088267  0.177664  0.322059  0.106339  0.416810  0.563144\n",
       "0     harry  0.093812  0.449694  0.567210  0.152848  0.031400  0.917008"
      ]
     },
     "execution_count": 95,
     "metadata": {},
     "output_type": "execute_result"
    }
   ],
   "source": [
    "dataFrame.sort_index(axis=0, ascending = False)"
   ]
  },
  {
   "cell_type": "code",
   "execution_count": 96,
   "id": "d6545d0c",
   "metadata": {},
   "outputs": [
    {
     "data": {
      "text/html": [
       "<div>\n",
       "<style scoped>\n",
       "    .dataframe tbody tr th:only-of-type {\n",
       "        vertical-align: middle;\n",
       "    }\n",
       "\n",
       "    .dataframe tbody tr th {\n",
       "        vertical-align: top;\n",
       "    }\n",
       "\n",
       "    .dataframe thead th {\n",
       "        text-align: right;\n",
       "    }\n",
       "</style>\n",
       "<table border=\"1\" class=\"dataframe\">\n",
       "  <thead>\n",
       "    <tr style=\"text-align: right;\">\n",
       "      <th></th>\n",
       "      <th>6</th>\n",
       "      <th>5</th>\n",
       "      <th>4</th>\n",
       "      <th>3</th>\n",
       "      <th>2</th>\n",
       "      <th>1</th>\n",
       "      <th>0</th>\n",
       "    </tr>\n",
       "  </thead>\n",
       "  <tbody>\n",
       "    <tr>\n",
       "      <th>0</th>\n",
       "      <td>0.917008</td>\n",
       "      <td>0.031400</td>\n",
       "      <td>0.152848</td>\n",
       "      <td>0.567210</td>\n",
       "      <td>0.449694</td>\n",
       "      <td>0.093812</td>\n",
       "      <td>harry</td>\n",
       "    </tr>\n",
       "    <tr>\n",
       "      <th>1</th>\n",
       "      <td>0.563144</td>\n",
       "      <td>0.416810</td>\n",
       "      <td>0.106339</td>\n",
       "      <td>0.322059</td>\n",
       "      <td>0.177664</td>\n",
       "      <td>0.088267</td>\n",
       "      <td>0.291522</td>\n",
       "    </tr>\n",
       "    <tr>\n",
       "      <th>2</th>\n",
       "      <td>0.651884</td>\n",
       "      <td>0.216534</td>\n",
       "      <td>0.227299</td>\n",
       "      <td>0.350178</td>\n",
       "      <td>0.091689</td>\n",
       "      <td>0.819569</td>\n",
       "      <td>0.797538</td>\n",
       "    </tr>\n",
       "    <tr>\n",
       "      <th>3</th>\n",
       "      <td>0.568305</td>\n",
       "      <td>0.257545</td>\n",
       "      <td>0.606678</td>\n",
       "      <td>0.443161</td>\n",
       "      <td>0.925749</td>\n",
       "      <td>0.587379</td>\n",
       "      <td>0.397887</td>\n",
       "    </tr>\n",
       "    <tr>\n",
       "      <th>4</th>\n",
       "      <td>0.909965</td>\n",
       "      <td>0.813503</td>\n",
       "      <td>0.708424</td>\n",
       "      <td>0.073692</td>\n",
       "      <td>0.857093</td>\n",
       "      <td>0.097461</td>\n",
       "      <td>0.928931</td>\n",
       "    </tr>\n",
       "  </tbody>\n",
       "</table>\n",
       "</div>"
      ],
      "text/plain": [
       "          6         5         4         3         2         1         0\n",
       "0  0.917008  0.031400  0.152848  0.567210  0.449694  0.093812     harry\n",
       "1  0.563144  0.416810  0.106339  0.322059  0.177664  0.088267  0.291522\n",
       "2  0.651884  0.216534  0.227299  0.350178  0.091689  0.819569  0.797538\n",
       "3  0.568305  0.257545  0.606678  0.443161  0.925749  0.587379  0.397887\n",
       "4  0.909965  0.813503  0.708424  0.073692  0.857093  0.097461  0.928931"
      ]
     },
     "execution_count": 96,
     "metadata": {},
     "output_type": "execute_result"
    }
   ],
   "source": [
    "dataFrame.sort_index(axis=1, ascending = False)"
   ]
  },
  {
   "cell_type": "code",
   "execution_count": 97,
   "id": "cc33ac30",
   "metadata": {},
   "outputs": [
    {
     "data": {
      "text/plain": [
       "pandas.core.series.Series"
      ]
     },
     "execution_count": 97,
     "metadata": {},
     "output_type": "execute_result"
    }
   ],
   "source": [
    "type(dataFrame[0])"
   ]
  },
  {
   "cell_type": "code",
   "execution_count": 98,
   "id": "6b7ec667",
   "metadata": {},
   "outputs": [],
   "source": [
    "newdf2 = dataFrame.copy()"
   ]
  },
  {
   "cell_type": "code",
   "execution_count": 99,
   "id": "5d09ada4",
   "metadata": {},
   "outputs": [
    {
     "data": {
      "text/html": [
       "<div>\n",
       "<style scoped>\n",
       "    .dataframe tbody tr th:only-of-type {\n",
       "        vertical-align: middle;\n",
       "    }\n",
       "\n",
       "    .dataframe tbody tr th {\n",
       "        vertical-align: top;\n",
       "    }\n",
       "\n",
       "    .dataframe thead th {\n",
       "        text-align: right;\n",
       "    }\n",
       "</style>\n",
       "<table border=\"1\" class=\"dataframe\">\n",
       "  <thead>\n",
       "    <tr style=\"text-align: right;\">\n",
       "      <th></th>\n",
       "      <th>0</th>\n",
       "      <th>1</th>\n",
       "      <th>2</th>\n",
       "      <th>3</th>\n",
       "      <th>4</th>\n",
       "      <th>5</th>\n",
       "      <th>6</th>\n",
       "    </tr>\n",
       "  </thead>\n",
       "  <tbody>\n",
       "    <tr>\n",
       "      <th>0</th>\n",
       "      <td>harry</td>\n",
       "      <td>0.093812</td>\n",
       "      <td>0.449694</td>\n",
       "      <td>0.567210</td>\n",
       "      <td>0.152848</td>\n",
       "      <td>0.031400</td>\n",
       "      <td>0.917008</td>\n",
       "    </tr>\n",
       "    <tr>\n",
       "      <th>1</th>\n",
       "      <td>0.291522</td>\n",
       "      <td>0.088267</td>\n",
       "      <td>0.177664</td>\n",
       "      <td>0.322059</td>\n",
       "      <td>0.106339</td>\n",
       "      <td>0.416810</td>\n",
       "      <td>0.563144</td>\n",
       "    </tr>\n",
       "    <tr>\n",
       "      <th>2</th>\n",
       "      <td>0.797538</td>\n",
       "      <td>0.819569</td>\n",
       "      <td>0.091689</td>\n",
       "      <td>0.350178</td>\n",
       "      <td>0.227299</td>\n",
       "      <td>0.216534</td>\n",
       "      <td>0.651884</td>\n",
       "    </tr>\n",
       "    <tr>\n",
       "      <th>3</th>\n",
       "      <td>0.397887</td>\n",
       "      <td>0.587379</td>\n",
       "      <td>0.925749</td>\n",
       "      <td>0.443161</td>\n",
       "      <td>0.606678</td>\n",
       "      <td>0.257545</td>\n",
       "      <td>0.568305</td>\n",
       "    </tr>\n",
       "    <tr>\n",
       "      <th>4</th>\n",
       "      <td>0.928931</td>\n",
       "      <td>0.097461</td>\n",
       "      <td>0.857093</td>\n",
       "      <td>0.073692</td>\n",
       "      <td>0.708424</td>\n",
       "      <td>0.813503</td>\n",
       "      <td>0.909965</td>\n",
       "    </tr>\n",
       "  </tbody>\n",
       "</table>\n",
       "</div>"
      ],
      "text/plain": [
       "          0         1         2         3         4         5         6\n",
       "0     harry  0.093812  0.449694  0.567210  0.152848  0.031400  0.917008\n",
       "1  0.291522  0.088267  0.177664  0.322059  0.106339  0.416810  0.563144\n",
       "2  0.797538  0.819569  0.091689  0.350178  0.227299  0.216534  0.651884\n",
       "3  0.397887  0.587379  0.925749  0.443161  0.606678  0.257545  0.568305\n",
       "4  0.928931  0.097461  0.857093  0.073692  0.708424  0.813503  0.909965"
      ]
     },
     "execution_count": 99,
     "metadata": {},
     "output_type": "execute_result"
    }
   ],
   "source": [
    "newdf2"
   ]
  },
  {
   "cell_type": "code",
   "execution_count": 100,
   "id": "fe3fb892",
   "metadata": {},
   "outputs": [],
   "source": [
    "newdf2.columns = list(\"ABCDEFG\")"
   ]
  },
  {
   "cell_type": "code",
   "execution_count": 101,
   "id": "e449cb72",
   "metadata": {},
   "outputs": [
    {
     "data": {
      "text/html": [
       "<div>\n",
       "<style scoped>\n",
       "    .dataframe tbody tr th:only-of-type {\n",
       "        vertical-align: middle;\n",
       "    }\n",
       "\n",
       "    .dataframe tbody tr th {\n",
       "        vertical-align: top;\n",
       "    }\n",
       "\n",
       "    .dataframe thead th {\n",
       "        text-align: right;\n",
       "    }\n",
       "</style>\n",
       "<table border=\"1\" class=\"dataframe\">\n",
       "  <thead>\n",
       "    <tr style=\"text-align: right;\">\n",
       "      <th></th>\n",
       "      <th>A</th>\n",
       "      <th>B</th>\n",
       "      <th>C</th>\n",
       "      <th>D</th>\n",
       "      <th>E</th>\n",
       "      <th>F</th>\n",
       "      <th>G</th>\n",
       "    </tr>\n",
       "  </thead>\n",
       "  <tbody>\n",
       "    <tr>\n",
       "      <th>0</th>\n",
       "      <td>harry</td>\n",
       "      <td>0.093812</td>\n",
       "      <td>0.449694</td>\n",
       "      <td>0.567210</td>\n",
       "      <td>0.152848</td>\n",
       "      <td>0.031400</td>\n",
       "      <td>0.917008</td>\n",
       "    </tr>\n",
       "    <tr>\n",
       "      <th>1</th>\n",
       "      <td>0.291522</td>\n",
       "      <td>0.088267</td>\n",
       "      <td>0.177664</td>\n",
       "      <td>0.322059</td>\n",
       "      <td>0.106339</td>\n",
       "      <td>0.416810</td>\n",
       "      <td>0.563144</td>\n",
       "    </tr>\n",
       "    <tr>\n",
       "      <th>2</th>\n",
       "      <td>0.797538</td>\n",
       "      <td>0.819569</td>\n",
       "      <td>0.091689</td>\n",
       "      <td>0.350178</td>\n",
       "      <td>0.227299</td>\n",
       "      <td>0.216534</td>\n",
       "      <td>0.651884</td>\n",
       "    </tr>\n",
       "    <tr>\n",
       "      <th>3</th>\n",
       "      <td>0.397887</td>\n",
       "      <td>0.587379</td>\n",
       "      <td>0.925749</td>\n",
       "      <td>0.443161</td>\n",
       "      <td>0.606678</td>\n",
       "      <td>0.257545</td>\n",
       "      <td>0.568305</td>\n",
       "    </tr>\n",
       "    <tr>\n",
       "      <th>4</th>\n",
       "      <td>0.928931</td>\n",
       "      <td>0.097461</td>\n",
       "      <td>0.857093</td>\n",
       "      <td>0.073692</td>\n",
       "      <td>0.708424</td>\n",
       "      <td>0.813503</td>\n",
       "      <td>0.909965</td>\n",
       "    </tr>\n",
       "  </tbody>\n",
       "</table>\n",
       "</div>"
      ],
      "text/plain": [
       "          A         B         C         D         E         F         G\n",
       "0     harry  0.093812  0.449694  0.567210  0.152848  0.031400  0.917008\n",
       "1  0.291522  0.088267  0.177664  0.322059  0.106339  0.416810  0.563144\n",
       "2  0.797538  0.819569  0.091689  0.350178  0.227299  0.216534  0.651884\n",
       "3  0.397887  0.587379  0.925749  0.443161  0.606678  0.257545  0.568305\n",
       "4  0.928931  0.097461  0.857093  0.073692  0.708424  0.813503  0.909965"
      ]
     },
     "execution_count": 101,
     "metadata": {},
     "output_type": "execute_result"
    }
   ],
   "source": [
    "newdf2"
   ]
  },
  {
   "cell_type": "code",
   "execution_count": 102,
   "id": "d2875831",
   "metadata": {
    "scrolled": true
   },
   "outputs": [
    {
     "name": "stderr",
     "output_type": "stream",
     "text": [
      "C:\\Users\\my\\AppData\\Local\\Temp\\ipykernel_1168\\1087135841.py:1: FutureWarning: Setting an item of incompatible dtype is deprecated and will raise in a future error of pandas. Value '3C' has dtype incompatible with float64, please explicitly cast to a compatible dtype first.\n",
      "  newdf2.loc[3,'C'] = \"3C\"\n"
     ]
    }
   ],
   "source": [
    "newdf2.loc[3,'C'] = \"3C\""
   ]
  },
  {
   "cell_type": "code",
   "execution_count": 103,
   "id": "2fafe614",
   "metadata": {},
   "outputs": [
    {
     "data": {
      "text/html": [
       "<div>\n",
       "<style scoped>\n",
       "    .dataframe tbody tr th:only-of-type {\n",
       "        vertical-align: middle;\n",
       "    }\n",
       "\n",
       "    .dataframe tbody tr th {\n",
       "        vertical-align: top;\n",
       "    }\n",
       "\n",
       "    .dataframe thead th {\n",
       "        text-align: right;\n",
       "    }\n",
       "</style>\n",
       "<table border=\"1\" class=\"dataframe\">\n",
       "  <thead>\n",
       "    <tr style=\"text-align: right;\">\n",
       "      <th></th>\n",
       "      <th>A</th>\n",
       "      <th>B</th>\n",
       "      <th>C</th>\n",
       "      <th>D</th>\n",
       "      <th>E</th>\n",
       "      <th>F</th>\n",
       "      <th>G</th>\n",
       "    </tr>\n",
       "  </thead>\n",
       "  <tbody>\n",
       "    <tr>\n",
       "      <th>0</th>\n",
       "      <td>harry</td>\n",
       "      <td>0.093812</td>\n",
       "      <td>0.449694</td>\n",
       "      <td>0.567210</td>\n",
       "      <td>0.152848</td>\n",
       "      <td>0.031400</td>\n",
       "      <td>0.917008</td>\n",
       "    </tr>\n",
       "    <tr>\n",
       "      <th>1</th>\n",
       "      <td>0.291522</td>\n",
       "      <td>0.088267</td>\n",
       "      <td>0.177664</td>\n",
       "      <td>0.322059</td>\n",
       "      <td>0.106339</td>\n",
       "      <td>0.416810</td>\n",
       "      <td>0.563144</td>\n",
       "    </tr>\n",
       "    <tr>\n",
       "      <th>2</th>\n",
       "      <td>0.797538</td>\n",
       "      <td>0.819569</td>\n",
       "      <td>0.091689</td>\n",
       "      <td>0.350178</td>\n",
       "      <td>0.227299</td>\n",
       "      <td>0.216534</td>\n",
       "      <td>0.651884</td>\n",
       "    </tr>\n",
       "    <tr>\n",
       "      <th>3</th>\n",
       "      <td>0.397887</td>\n",
       "      <td>0.587379</td>\n",
       "      <td>3C</td>\n",
       "      <td>0.443161</td>\n",
       "      <td>0.606678</td>\n",
       "      <td>0.257545</td>\n",
       "      <td>0.568305</td>\n",
       "    </tr>\n",
       "    <tr>\n",
       "      <th>4</th>\n",
       "      <td>0.928931</td>\n",
       "      <td>0.097461</td>\n",
       "      <td>0.857093</td>\n",
       "      <td>0.073692</td>\n",
       "      <td>0.708424</td>\n",
       "      <td>0.813503</td>\n",
       "      <td>0.909965</td>\n",
       "    </tr>\n",
       "  </tbody>\n",
       "</table>\n",
       "</div>"
      ],
      "text/plain": [
       "          A         B         C         D         E         F         G\n",
       "0     harry  0.093812  0.449694  0.567210  0.152848  0.031400  0.917008\n",
       "1  0.291522  0.088267  0.177664  0.322059  0.106339  0.416810  0.563144\n",
       "2  0.797538  0.819569  0.091689  0.350178  0.227299  0.216534  0.651884\n",
       "3  0.397887  0.587379        3C  0.443161  0.606678  0.257545  0.568305\n",
       "4  0.928931  0.097461  0.857093  0.073692  0.708424  0.813503  0.909965"
      ]
     },
     "execution_count": 103,
     "metadata": {},
     "output_type": "execute_result"
    }
   ],
   "source": [
    "newdf2"
   ]
  },
  {
   "cell_type": "code",
   "execution_count": 104,
   "id": "78bfff1d",
   "metadata": {},
   "outputs": [],
   "source": [
    "newdf2.loc[[1,3],['A', 'C']] = \"3C\""
   ]
  },
  {
   "cell_type": "code",
   "execution_count": 105,
   "id": "936f6e9a",
   "metadata": {},
   "outputs": [
    {
     "data": {
      "text/html": [
       "<div>\n",
       "<style scoped>\n",
       "    .dataframe tbody tr th:only-of-type {\n",
       "        vertical-align: middle;\n",
       "    }\n",
       "\n",
       "    .dataframe tbody tr th {\n",
       "        vertical-align: top;\n",
       "    }\n",
       "\n",
       "    .dataframe thead th {\n",
       "        text-align: right;\n",
       "    }\n",
       "</style>\n",
       "<table border=\"1\" class=\"dataframe\">\n",
       "  <thead>\n",
       "    <tr style=\"text-align: right;\">\n",
       "      <th></th>\n",
       "      <th>A</th>\n",
       "      <th>B</th>\n",
       "      <th>C</th>\n",
       "      <th>D</th>\n",
       "      <th>E</th>\n",
       "      <th>F</th>\n",
       "      <th>G</th>\n",
       "    </tr>\n",
       "  </thead>\n",
       "  <tbody>\n",
       "    <tr>\n",
       "      <th>0</th>\n",
       "      <td>harry</td>\n",
       "      <td>0.093812</td>\n",
       "      <td>0.449694</td>\n",
       "      <td>0.567210</td>\n",
       "      <td>0.152848</td>\n",
       "      <td>0.031400</td>\n",
       "      <td>0.917008</td>\n",
       "    </tr>\n",
       "    <tr>\n",
       "      <th>1</th>\n",
       "      <td>3C</td>\n",
       "      <td>0.088267</td>\n",
       "      <td>3C</td>\n",
       "      <td>0.322059</td>\n",
       "      <td>0.106339</td>\n",
       "      <td>0.416810</td>\n",
       "      <td>0.563144</td>\n",
       "    </tr>\n",
       "    <tr>\n",
       "      <th>2</th>\n",
       "      <td>0.797538</td>\n",
       "      <td>0.819569</td>\n",
       "      <td>0.091689</td>\n",
       "      <td>0.350178</td>\n",
       "      <td>0.227299</td>\n",
       "      <td>0.216534</td>\n",
       "      <td>0.651884</td>\n",
       "    </tr>\n",
       "    <tr>\n",
       "      <th>3</th>\n",
       "      <td>3C</td>\n",
       "      <td>0.587379</td>\n",
       "      <td>3C</td>\n",
       "      <td>0.443161</td>\n",
       "      <td>0.606678</td>\n",
       "      <td>0.257545</td>\n",
       "      <td>0.568305</td>\n",
       "    </tr>\n",
       "    <tr>\n",
       "      <th>4</th>\n",
       "      <td>0.928931</td>\n",
       "      <td>0.097461</td>\n",
       "      <td>0.857093</td>\n",
       "      <td>0.073692</td>\n",
       "      <td>0.708424</td>\n",
       "      <td>0.813503</td>\n",
       "      <td>0.909965</td>\n",
       "    </tr>\n",
       "  </tbody>\n",
       "</table>\n",
       "</div>"
      ],
      "text/plain": [
       "          A         B         C         D         E         F         G\n",
       "0     harry  0.093812  0.449694  0.567210  0.152848  0.031400  0.917008\n",
       "1        3C  0.088267        3C  0.322059  0.106339  0.416810  0.563144\n",
       "2  0.797538  0.819569  0.091689  0.350178  0.227299  0.216534  0.651884\n",
       "3        3C  0.587379        3C  0.443161  0.606678  0.257545  0.568305\n",
       "4  0.928931  0.097461  0.857093  0.073692  0.708424  0.813503  0.909965"
      ]
     },
     "execution_count": 105,
     "metadata": {},
     "output_type": "execute_result"
    }
   ],
   "source": [
    "newdf2"
   ]
  },
  {
   "cell_type": "code",
   "execution_count": 106,
   "id": "a8323a08",
   "metadata": {},
   "outputs": [
    {
     "data": {
      "text/html": [
       "<div>\n",
       "<style scoped>\n",
       "    .dataframe tbody tr th:only-of-type {\n",
       "        vertical-align: middle;\n",
       "    }\n",
       "\n",
       "    .dataframe tbody tr th {\n",
       "        vertical-align: top;\n",
       "    }\n",
       "\n",
       "    .dataframe thead th {\n",
       "        text-align: right;\n",
       "    }\n",
       "</style>\n",
       "<table border=\"1\" class=\"dataframe\">\n",
       "  <thead>\n",
       "    <tr style=\"text-align: right;\">\n",
       "      <th></th>\n",
       "      <th>A</th>\n",
       "      <th>B</th>\n",
       "      <th>D</th>\n",
       "      <th>E</th>\n",
       "      <th>F</th>\n",
       "      <th>G</th>\n",
       "    </tr>\n",
       "  </thead>\n",
       "  <tbody>\n",
       "    <tr>\n",
       "      <th>0</th>\n",
       "      <td>harry</td>\n",
       "      <td>0.093812</td>\n",
       "      <td>0.567210</td>\n",
       "      <td>0.152848</td>\n",
       "      <td>0.031400</td>\n",
       "      <td>0.917008</td>\n",
       "    </tr>\n",
       "    <tr>\n",
       "      <th>1</th>\n",
       "      <td>3C</td>\n",
       "      <td>0.088267</td>\n",
       "      <td>0.322059</td>\n",
       "      <td>0.106339</td>\n",
       "      <td>0.416810</td>\n",
       "      <td>0.563144</td>\n",
       "    </tr>\n",
       "    <tr>\n",
       "      <th>2</th>\n",
       "      <td>0.797538</td>\n",
       "      <td>0.819569</td>\n",
       "      <td>0.350178</td>\n",
       "      <td>0.227299</td>\n",
       "      <td>0.216534</td>\n",
       "      <td>0.651884</td>\n",
       "    </tr>\n",
       "    <tr>\n",
       "      <th>3</th>\n",
       "      <td>3C</td>\n",
       "      <td>0.587379</td>\n",
       "      <td>0.443161</td>\n",
       "      <td>0.606678</td>\n",
       "      <td>0.257545</td>\n",
       "      <td>0.568305</td>\n",
       "    </tr>\n",
       "    <tr>\n",
       "      <th>4</th>\n",
       "      <td>0.928931</td>\n",
       "      <td>0.097461</td>\n",
       "      <td>0.073692</td>\n",
       "      <td>0.708424</td>\n",
       "      <td>0.813503</td>\n",
       "      <td>0.909965</td>\n",
       "    </tr>\n",
       "  </tbody>\n",
       "</table>\n",
       "</div>"
      ],
      "text/plain": [
       "          A         B         D         E         F         G\n",
       "0     harry  0.093812  0.567210  0.152848  0.031400  0.917008\n",
       "1        3C  0.088267  0.322059  0.106339  0.416810  0.563144\n",
       "2  0.797538  0.819569  0.350178  0.227299  0.216534  0.651884\n",
       "3        3C  0.587379  0.443161  0.606678  0.257545  0.568305\n",
       "4  0.928931  0.097461  0.073692  0.708424  0.813503  0.909965"
      ]
     },
     "execution_count": 106,
     "metadata": {},
     "output_type": "execute_result"
    }
   ],
   "source": [
    "newdf2.drop(\"C\", axis=1) # Drop this column"
   ]
  },
  {
   "cell_type": "code",
   "execution_count": 107,
   "id": "20e8c388",
   "metadata": {},
   "outputs": [
    {
     "data": {
      "text/html": [
       "<div>\n",
       "<style scoped>\n",
       "    .dataframe tbody tr th:only-of-type {\n",
       "        vertical-align: middle;\n",
       "    }\n",
       "\n",
       "    .dataframe tbody tr th {\n",
       "        vertical-align: top;\n",
       "    }\n",
       "\n",
       "    .dataframe thead th {\n",
       "        text-align: right;\n",
       "    }\n",
       "</style>\n",
       "<table border=\"1\" class=\"dataframe\">\n",
       "  <thead>\n",
       "    <tr style=\"text-align: right;\">\n",
       "      <th></th>\n",
       "      <th>A</th>\n",
       "      <th>B</th>\n",
       "      <th>C</th>\n",
       "      <th>D</th>\n",
       "      <th>E</th>\n",
       "      <th>F</th>\n",
       "      <th>G</th>\n",
       "    </tr>\n",
       "  </thead>\n",
       "  <tbody>\n",
       "    <tr>\n",
       "      <th>1</th>\n",
       "      <td>3C</td>\n",
       "      <td>0.088267</td>\n",
       "      <td>3C</td>\n",
       "      <td>0.322059</td>\n",
       "      <td>0.106339</td>\n",
       "      <td>0.416810</td>\n",
       "      <td>0.563144</td>\n",
       "    </tr>\n",
       "    <tr>\n",
       "      <th>2</th>\n",
       "      <td>0.797538</td>\n",
       "      <td>0.819569</td>\n",
       "      <td>0.091689</td>\n",
       "      <td>0.350178</td>\n",
       "      <td>0.227299</td>\n",
       "      <td>0.216534</td>\n",
       "      <td>0.651884</td>\n",
       "    </tr>\n",
       "  </tbody>\n",
       "</table>\n",
       "</div>"
      ],
      "text/plain": [
       "          A         B         C         D         E         F         G\n",
       "1        3C  0.088267        3C  0.322059  0.106339  0.416810  0.563144\n",
       "2  0.797538  0.819569  0.091689  0.350178  0.227299  0.216534  0.651884"
      ]
     },
     "execution_count": 107,
     "metadata": {},
     "output_type": "execute_result"
    }
   ],
   "source": [
    "newdf2.loc[[1,2], :]"
   ]
  },
  {
   "cell_type": "code",
   "execution_count": 108,
   "id": "02813857",
   "metadata": {},
   "outputs": [
    {
     "data": {
      "text/html": [
       "<div>\n",
       "<style scoped>\n",
       "    .dataframe tbody tr th:only-of-type {\n",
       "        vertical-align: middle;\n",
       "    }\n",
       "\n",
       "    .dataframe tbody tr th {\n",
       "        vertical-align: top;\n",
       "    }\n",
       "\n",
       "    .dataframe thead th {\n",
       "        text-align: right;\n",
       "    }\n",
       "</style>\n",
       "<table border=\"1\" class=\"dataframe\">\n",
       "  <thead>\n",
       "    <tr style=\"text-align: right;\">\n",
       "      <th></th>\n",
       "      <th>A</th>\n",
       "      <th>B</th>\n",
       "      <th>C</th>\n",
       "      <th>D</th>\n",
       "      <th>E</th>\n",
       "      <th>F</th>\n",
       "      <th>G</th>\n",
       "    </tr>\n",
       "  </thead>\n",
       "  <tbody>\n",
       "    <tr>\n",
       "      <th>2</th>\n",
       "      <td>0.797538</td>\n",
       "      <td>0.819569</td>\n",
       "      <td>0.091689</td>\n",
       "      <td>0.350178</td>\n",
       "      <td>0.227299</td>\n",
       "      <td>0.216534</td>\n",
       "      <td>0.651884</td>\n",
       "    </tr>\n",
       "  </tbody>\n",
       "</table>\n",
       "</div>"
      ],
      "text/plain": [
       "          A         B         C         D         E         F         G\n",
       "2  0.797538  0.819569  0.091689  0.350178  0.227299  0.216534  0.651884"
      ]
     },
     "execution_count": 108,
     "metadata": {},
     "output_type": "execute_result"
    }
   ],
   "source": [
    "newdf2.loc[(newdf2['B']>0.6) & (newdf2['D']>0.2)]"
   ]
  },
  {
   "cell_type": "code",
   "execution_count": 109,
   "id": "1ffcbcc3",
   "metadata": {},
   "outputs": [
    {
     "data": {
      "text/plain": [
       "0.09381183004806715"
      ]
     },
     "execution_count": 109,
     "metadata": {},
     "output_type": "execute_result"
    }
   ],
   "source": [
    "newdf2.iloc[0,1]"
   ]
  },
  {
   "cell_type": "code",
   "execution_count": 110,
   "id": "a6d969f2",
   "metadata": {},
   "outputs": [
    {
     "data": {
      "text/html": [
       "<div>\n",
       "<style scoped>\n",
       "    .dataframe tbody tr th:only-of-type {\n",
       "        vertical-align: middle;\n",
       "    }\n",
       "\n",
       "    .dataframe tbody tr th {\n",
       "        vertical-align: top;\n",
       "    }\n",
       "\n",
       "    .dataframe thead th {\n",
       "        text-align: right;\n",
       "    }\n",
       "</style>\n",
       "<table border=\"1\" class=\"dataframe\">\n",
       "  <thead>\n",
       "    <tr style=\"text-align: right;\">\n",
       "      <th></th>\n",
       "      <th>B</th>\n",
       "      <th>C</th>\n",
       "      <th>E</th>\n",
       "      <th>F</th>\n",
       "      <th>G</th>\n",
       "    </tr>\n",
       "  </thead>\n",
       "  <tbody>\n",
       "    <tr>\n",
       "      <th>0</th>\n",
       "      <td>0.093812</td>\n",
       "      <td>0.449694</td>\n",
       "      <td>0.152848</td>\n",
       "      <td>0.031400</td>\n",
       "      <td>0.917008</td>\n",
       "    </tr>\n",
       "    <tr>\n",
       "      <th>1</th>\n",
       "      <td>0.088267</td>\n",
       "      <td>3C</td>\n",
       "      <td>0.106339</td>\n",
       "      <td>0.416810</td>\n",
       "      <td>0.563144</td>\n",
       "    </tr>\n",
       "    <tr>\n",
       "      <th>2</th>\n",
       "      <td>0.819569</td>\n",
       "      <td>0.091689</td>\n",
       "      <td>0.227299</td>\n",
       "      <td>0.216534</td>\n",
       "      <td>0.651884</td>\n",
       "    </tr>\n",
       "    <tr>\n",
       "      <th>3</th>\n",
       "      <td>0.587379</td>\n",
       "      <td>3C</td>\n",
       "      <td>0.606678</td>\n",
       "      <td>0.257545</td>\n",
       "      <td>0.568305</td>\n",
       "    </tr>\n",
       "    <tr>\n",
       "      <th>4</th>\n",
       "      <td>0.097461</td>\n",
       "      <td>0.857093</td>\n",
       "      <td>0.708424</td>\n",
       "      <td>0.813503</td>\n",
       "      <td>0.909965</td>\n",
       "    </tr>\n",
       "  </tbody>\n",
       "</table>\n",
       "</div>"
      ],
      "text/plain": [
       "          B         C         E         F         G\n",
       "0  0.093812  0.449694  0.152848  0.031400  0.917008\n",
       "1  0.088267        3C  0.106339  0.416810  0.563144\n",
       "2  0.819569  0.091689  0.227299  0.216534  0.651884\n",
       "3  0.587379        3C  0.606678  0.257545  0.568305\n",
       "4  0.097461  0.857093  0.708424  0.813503  0.909965"
      ]
     },
     "execution_count": 110,
     "metadata": {},
     "output_type": "execute_result"
    }
   ],
   "source": [
    "newdf2.drop(['A', 'D'], axis=1)"
   ]
  },
  {
   "cell_type": "code",
   "execution_count": 111,
   "id": "fa421a93",
   "metadata": {},
   "outputs": [],
   "source": [
    "newdf2.drop(['A', 'D'], axis=1, inplace=True)"
   ]
  },
  {
   "cell_type": "code",
   "execution_count": 112,
   "id": "819e42e7",
   "metadata": {},
   "outputs": [
    {
     "data": {
      "text/html": [
       "<div>\n",
       "<style scoped>\n",
       "    .dataframe tbody tr th:only-of-type {\n",
       "        vertical-align: middle;\n",
       "    }\n",
       "\n",
       "    .dataframe tbody tr th {\n",
       "        vertical-align: top;\n",
       "    }\n",
       "\n",
       "    .dataframe thead th {\n",
       "        text-align: right;\n",
       "    }\n",
       "</style>\n",
       "<table border=\"1\" class=\"dataframe\">\n",
       "  <thead>\n",
       "    <tr style=\"text-align: right;\">\n",
       "      <th></th>\n",
       "      <th>B</th>\n",
       "      <th>C</th>\n",
       "      <th>E</th>\n",
       "      <th>F</th>\n",
       "      <th>G</th>\n",
       "    </tr>\n",
       "  </thead>\n",
       "  <tbody>\n",
       "    <tr>\n",
       "      <th>0</th>\n",
       "      <td>0.093812</td>\n",
       "      <td>0.449694</td>\n",
       "      <td>0.152848</td>\n",
       "      <td>0.031400</td>\n",
       "      <td>0.917008</td>\n",
       "    </tr>\n",
       "    <tr>\n",
       "      <th>1</th>\n",
       "      <td>0.088267</td>\n",
       "      <td>3C</td>\n",
       "      <td>0.106339</td>\n",
       "      <td>0.416810</td>\n",
       "      <td>0.563144</td>\n",
       "    </tr>\n",
       "    <tr>\n",
       "      <th>2</th>\n",
       "      <td>0.819569</td>\n",
       "      <td>0.091689</td>\n",
       "      <td>0.227299</td>\n",
       "      <td>0.216534</td>\n",
       "      <td>0.651884</td>\n",
       "    </tr>\n",
       "    <tr>\n",
       "      <th>3</th>\n",
       "      <td>0.587379</td>\n",
       "      <td>3C</td>\n",
       "      <td>0.606678</td>\n",
       "      <td>0.257545</td>\n",
       "      <td>0.568305</td>\n",
       "    </tr>\n",
       "    <tr>\n",
       "      <th>4</th>\n",
       "      <td>0.097461</td>\n",
       "      <td>0.857093</td>\n",
       "      <td>0.708424</td>\n",
       "      <td>0.813503</td>\n",
       "      <td>0.909965</td>\n",
       "    </tr>\n",
       "  </tbody>\n",
       "</table>\n",
       "</div>"
      ],
      "text/plain": [
       "          B         C         E         F         G\n",
       "0  0.093812  0.449694  0.152848  0.031400  0.917008\n",
       "1  0.088267        3C  0.106339  0.416810  0.563144\n",
       "2  0.819569  0.091689  0.227299  0.216534  0.651884\n",
       "3  0.587379        3C  0.606678  0.257545  0.568305\n",
       "4  0.097461  0.857093  0.708424  0.813503  0.909965"
      ]
     },
     "execution_count": 112,
     "metadata": {},
     "output_type": "execute_result"
    }
   ],
   "source": [
    "newdf2"
   ]
  },
  {
   "cell_type": "code",
   "execution_count": 113,
   "id": "c68ded83",
   "metadata": {},
   "outputs": [
    {
     "name": "stdout",
     "output_type": "stream",
     "text": [
      "          B         C         E         F         G\n",
      "0  0.093812  0.449694  0.152848  0.031400  0.917008\n",
      "3  0.587379        3C  0.606678  0.257545  0.568305\n",
      "4  0.097461  0.857093  0.708424  0.813503  0.909965\n"
     ]
    }
   ],
   "source": [
    "newdf2.drop([1,2], axis=0, inplace=True)\n",
    "print(newdf2)"
   ]
  },
  {
   "cell_type": "code",
   "execution_count": 114,
   "id": "c89b554f",
   "metadata": {},
   "outputs": [
    {
     "data": {
      "text/html": [
       "<div>\n",
       "<style scoped>\n",
       "    .dataframe tbody tr th:only-of-type {\n",
       "        vertical-align: middle;\n",
       "    }\n",
       "\n",
       "    .dataframe tbody tr th {\n",
       "        vertical-align: top;\n",
       "    }\n",
       "\n",
       "    .dataframe thead th {\n",
       "        text-align: right;\n",
       "    }\n",
       "</style>\n",
       "<table border=\"1\" class=\"dataframe\">\n",
       "  <thead>\n",
       "    <tr style=\"text-align: right;\">\n",
       "      <th></th>\n",
       "      <th>index</th>\n",
       "      <th>B</th>\n",
       "      <th>C</th>\n",
       "      <th>E</th>\n",
       "      <th>F</th>\n",
       "      <th>G</th>\n",
       "    </tr>\n",
       "  </thead>\n",
       "  <tbody>\n",
       "    <tr>\n",
       "      <th>0</th>\n",
       "      <td>0</td>\n",
       "      <td>0.093812</td>\n",
       "      <td>0.449694</td>\n",
       "      <td>0.152848</td>\n",
       "      <td>0.031400</td>\n",
       "      <td>0.917008</td>\n",
       "    </tr>\n",
       "    <tr>\n",
       "      <th>1</th>\n",
       "      <td>3</td>\n",
       "      <td>0.587379</td>\n",
       "      <td>3C</td>\n",
       "      <td>0.606678</td>\n",
       "      <td>0.257545</td>\n",
       "      <td>0.568305</td>\n",
       "    </tr>\n",
       "    <tr>\n",
       "      <th>2</th>\n",
       "      <td>4</td>\n",
       "      <td>0.097461</td>\n",
       "      <td>0.857093</td>\n",
       "      <td>0.708424</td>\n",
       "      <td>0.813503</td>\n",
       "      <td>0.909965</td>\n",
       "    </tr>\n",
       "  </tbody>\n",
       "</table>\n",
       "</div>"
      ],
      "text/plain": [
       "   index         B         C         E         F         G\n",
       "0      0  0.093812  0.449694  0.152848  0.031400  0.917008\n",
       "1      3  0.587379        3C  0.606678  0.257545  0.568305\n",
       "2      4  0.097461  0.857093  0.708424  0.813503  0.909965"
      ]
     },
     "execution_count": 114,
     "metadata": {},
     "output_type": "execute_result"
    }
   ],
   "source": [
    "newdf2.reset_index()"
   ]
  },
  {
   "cell_type": "code",
   "execution_count": 115,
   "id": "80cb5690",
   "metadata": {},
   "outputs": [
    {
     "data": {
      "text/html": [
       "<div>\n",
       "<style scoped>\n",
       "    .dataframe tbody tr th:only-of-type {\n",
       "        vertical-align: middle;\n",
       "    }\n",
       "\n",
       "    .dataframe tbody tr th {\n",
       "        vertical-align: top;\n",
       "    }\n",
       "\n",
       "    .dataframe thead th {\n",
       "        text-align: right;\n",
       "    }\n",
       "</style>\n",
       "<table border=\"1\" class=\"dataframe\">\n",
       "  <thead>\n",
       "    <tr style=\"text-align: right;\">\n",
       "      <th></th>\n",
       "      <th>B</th>\n",
       "      <th>C</th>\n",
       "      <th>E</th>\n",
       "      <th>F</th>\n",
       "      <th>G</th>\n",
       "    </tr>\n",
       "  </thead>\n",
       "  <tbody>\n",
       "    <tr>\n",
       "      <th>0</th>\n",
       "      <td>0.093812</td>\n",
       "      <td>0.449694</td>\n",
       "      <td>0.152848</td>\n",
       "      <td>0.031400</td>\n",
       "      <td>0.917008</td>\n",
       "    </tr>\n",
       "    <tr>\n",
       "      <th>1</th>\n",
       "      <td>0.587379</td>\n",
       "      <td>3C</td>\n",
       "      <td>0.606678</td>\n",
       "      <td>0.257545</td>\n",
       "      <td>0.568305</td>\n",
       "    </tr>\n",
       "    <tr>\n",
       "      <th>2</th>\n",
       "      <td>0.097461</td>\n",
       "      <td>0.857093</td>\n",
       "      <td>0.708424</td>\n",
       "      <td>0.813503</td>\n",
       "      <td>0.909965</td>\n",
       "    </tr>\n",
       "  </tbody>\n",
       "</table>\n",
       "</div>"
      ],
      "text/plain": [
       "          B         C         E         F         G\n",
       "0  0.093812  0.449694  0.152848  0.031400  0.917008\n",
       "1  0.587379        3C  0.606678  0.257545  0.568305\n",
       "2  0.097461  0.857093  0.708424  0.813503  0.909965"
      ]
     },
     "execution_count": 115,
     "metadata": {},
     "output_type": "execute_result"
    }
   ],
   "source": [
    "newdf2.reset_index(drop = True)"
   ]
  },
  {
   "cell_type": "code",
   "execution_count": 116,
   "id": "7fb5f5b9",
   "metadata": {},
   "outputs": [
    {
     "data": {
      "text/html": [
       "<div>\n",
       "<style scoped>\n",
       "    .dataframe tbody tr th:only-of-type {\n",
       "        vertical-align: middle;\n",
       "    }\n",
       "\n",
       "    .dataframe tbody tr th {\n",
       "        vertical-align: top;\n",
       "    }\n",
       "\n",
       "    .dataframe thead th {\n",
       "        text-align: right;\n",
       "    }\n",
       "</style>\n",
       "<table border=\"1\" class=\"dataframe\">\n",
       "  <thead>\n",
       "    <tr style=\"text-align: right;\">\n",
       "      <th></th>\n",
       "      <th>B</th>\n",
       "      <th>C</th>\n",
       "      <th>E</th>\n",
       "      <th>F</th>\n",
       "      <th>G</th>\n",
       "    </tr>\n",
       "  </thead>\n",
       "  <tbody>\n",
       "    <tr>\n",
       "      <th>0</th>\n",
       "      <td>0.093812</td>\n",
       "      <td>0.449694</td>\n",
       "      <td>0.152848</td>\n",
       "      <td>0.031400</td>\n",
       "      <td>0.917008</td>\n",
       "    </tr>\n",
       "    <tr>\n",
       "      <th>3</th>\n",
       "      <td>0.587379</td>\n",
       "      <td>3C</td>\n",
       "      <td>0.606678</td>\n",
       "      <td>0.257545</td>\n",
       "      <td>0.568305</td>\n",
       "    </tr>\n",
       "    <tr>\n",
       "      <th>4</th>\n",
       "      <td>0.097461</td>\n",
       "      <td>0.857093</td>\n",
       "      <td>0.708424</td>\n",
       "      <td>0.813503</td>\n",
       "      <td>0.909965</td>\n",
       "    </tr>\n",
       "  </tbody>\n",
       "</table>\n",
       "</div>"
      ],
      "text/plain": [
       "          B         C         E         F         G\n",
       "0  0.093812  0.449694  0.152848  0.031400  0.917008\n",
       "3  0.587379        3C  0.606678  0.257545  0.568305\n",
       "4  0.097461  0.857093  0.708424  0.813503  0.909965"
      ]
     },
     "execution_count": 116,
     "metadata": {},
     "output_type": "execute_result"
    }
   ],
   "source": [
    "newdf2"
   ]
  },
  {
   "cell_type": "code",
   "execution_count": 117,
   "id": "607a9de1",
   "metadata": {},
   "outputs": [
    {
     "data": {
      "text/plain": [
       "0    False\n",
       "3    False\n",
       "4    False\n",
       "Name: B, dtype: bool"
      ]
     },
     "execution_count": 117,
     "metadata": {},
     "output_type": "execute_result"
    }
   ],
   "source": [
    "newdf2['B'].isnull()"
   ]
  },
  {
   "cell_type": "code",
   "execution_count": 118,
   "id": "495225e7",
   "metadata": {},
   "outputs": [],
   "source": [
    "newdf2['B'] = None"
   ]
  },
  {
   "cell_type": "code",
   "execution_count": 119,
   "id": "4c387035",
   "metadata": {},
   "outputs": [
    {
     "data": {
      "text/plain": [
       "0    True\n",
       "3    True\n",
       "4    True\n",
       "Name: B, dtype: bool"
      ]
     },
     "execution_count": 119,
     "metadata": {},
     "output_type": "execute_result"
    }
   ],
   "source": [
    "newdf2['B'].isnull()"
   ]
  },
  {
   "cell_type": "code",
   "execution_count": 120,
   "id": "ef330815",
   "metadata": {},
   "outputs": [],
   "source": [
    "newdf2.loc[:, ['B']] = None"
   ]
  },
  {
   "cell_type": "code",
   "execution_count": 121,
   "id": "deafc198",
   "metadata": {},
   "outputs": [
    {
     "data": {
      "text/html": [
       "<div>\n",
       "<style scoped>\n",
       "    .dataframe tbody tr th:only-of-type {\n",
       "        vertical-align: middle;\n",
       "    }\n",
       "\n",
       "    .dataframe tbody tr th {\n",
       "        vertical-align: top;\n",
       "    }\n",
       "\n",
       "    .dataframe thead th {\n",
       "        text-align: right;\n",
       "    }\n",
       "</style>\n",
       "<table border=\"1\" class=\"dataframe\">\n",
       "  <thead>\n",
       "    <tr style=\"text-align: right;\">\n",
       "      <th></th>\n",
       "      <th>B</th>\n",
       "      <th>C</th>\n",
       "      <th>E</th>\n",
       "      <th>F</th>\n",
       "      <th>G</th>\n",
       "    </tr>\n",
       "  </thead>\n",
       "  <tbody>\n",
       "    <tr>\n",
       "      <th>0</th>\n",
       "      <td>None</td>\n",
       "      <td>0.449694</td>\n",
       "      <td>0.152848</td>\n",
       "      <td>0.031400</td>\n",
       "      <td>0.917008</td>\n",
       "    </tr>\n",
       "    <tr>\n",
       "      <th>3</th>\n",
       "      <td>None</td>\n",
       "      <td>3C</td>\n",
       "      <td>0.606678</td>\n",
       "      <td>0.257545</td>\n",
       "      <td>0.568305</td>\n",
       "    </tr>\n",
       "    <tr>\n",
       "      <th>4</th>\n",
       "      <td>None</td>\n",
       "      <td>0.857093</td>\n",
       "      <td>0.708424</td>\n",
       "      <td>0.813503</td>\n",
       "      <td>0.909965</td>\n",
       "    </tr>\n",
       "  </tbody>\n",
       "</table>\n",
       "</div>"
      ],
      "text/plain": [
       "      B         C         E         F         G\n",
       "0  None  0.449694  0.152848  0.031400  0.917008\n",
       "3  None        3C  0.606678  0.257545  0.568305\n",
       "4  None  0.857093  0.708424  0.813503  0.909965"
      ]
     },
     "execution_count": 121,
     "metadata": {},
     "output_type": "execute_result"
    }
   ],
   "source": [
    "newdf2"
   ]
  },
  {
   "cell_type": "code",
   "execution_count": 122,
   "id": "de5948a5",
   "metadata": {},
   "outputs": [
    {
     "data": {
      "text/html": [
       "<div>\n",
       "<style scoped>\n",
       "    .dataframe tbody tr th:only-of-type {\n",
       "        vertical-align: middle;\n",
       "    }\n",
       "\n",
       "    .dataframe tbody tr th {\n",
       "        vertical-align: top;\n",
       "    }\n",
       "\n",
       "    .dataframe thead th {\n",
       "        text-align: right;\n",
       "    }\n",
       "</style>\n",
       "<table border=\"1\" class=\"dataframe\">\n",
       "  <thead>\n",
       "    <tr style=\"text-align: right;\">\n",
       "      <th></th>\n",
       "      <th>B</th>\n",
       "      <th>C</th>\n",
       "      <th>E</th>\n",
       "      <th>F</th>\n",
       "      <th>G</th>\n",
       "    </tr>\n",
       "  </thead>\n",
       "  <tbody>\n",
       "    <tr>\n",
       "      <th>0</th>\n",
       "      <td>None</td>\n",
       "      <td>0.449694</td>\n",
       "      <td>0.152848</td>\n",
       "      <td>0.0314</td>\n",
       "      <td>0.917008</td>\n",
       "    </tr>\n",
       "  </tbody>\n",
       "</table>\n",
       "</div>"
      ],
      "text/plain": [
       "      B         C         E       F         G\n",
       "0  None  0.449694  0.152848  0.0314  0.917008"
      ]
     },
     "execution_count": 122,
     "metadata": {},
     "output_type": "execute_result"
    }
   ],
   "source": [
    "newdf2.drop_duplicates(subset=['B'])"
   ]
  },
  {
   "cell_type": "code",
   "execution_count": 123,
   "id": "7b338a26",
   "metadata": {},
   "outputs": [
    {
     "name": "stdout",
     "output_type": "stream",
     "text": [
      "<class 'pandas.core.frame.DataFrame'>\n",
      "Index: 3 entries, 0 to 4\n",
      "Data columns (total 5 columns):\n",
      " #   Column  Non-Null Count  Dtype  \n",
      "---  ------  --------------  -----  \n",
      " 0   B       0 non-null      object \n",
      " 1   C       3 non-null      object \n",
      " 2   E       3 non-null      float64\n",
      " 3   F       3 non-null      float64\n",
      " 4   G       3 non-null      float64\n",
      "dtypes: float64(3), object(2)\n",
      "memory usage: 144.0+ bytes\n"
     ]
    }
   ],
   "source": [
    "newdf2.info()"
   ]
  },
  {
   "cell_type": "code",
   "execution_count": 124,
   "id": "6540d52b",
   "metadata": {},
   "outputs": [
    {
     "data": {
      "text/plain": [
       "C\n",
       "0.44969396491926894    1\n",
       "3C                     1\n",
       "0.8570925941769498     1\n",
       "Name: count, dtype: int64"
      ]
     },
     "execution_count": 124,
     "metadata": {},
     "output_type": "execute_result"
    }
   ],
   "source": [
    "newdf2['C'].value_counts()"
   ]
  },
  {
   "cell_type": "code",
   "execution_count": 126,
   "id": "329166cc",
   "metadata": {},
   "outputs": [],
   "source": [
    "df = newdf2"
   ]
  },
  {
   "cell_type": "code",
   "execution_count": 127,
   "id": "b56be802",
   "metadata": {},
   "outputs": [
    {
     "data": {
      "text/plain": [
       "B    0\n",
       "C    3\n",
       "E    3\n",
       "F    3\n",
       "G    3\n",
       "dtype: int64"
      ]
     },
     "execution_count": 127,
     "metadata": {},
     "output_type": "execute_result"
    }
   ],
   "source": [
    "df.count()"
   ]
  },
  {
   "cell_type": "code",
   "execution_count": 128,
   "id": "b4f7e467",
   "metadata": {},
   "outputs": [
    {
     "data": {
      "text/plain": [
       "(3, 5)"
      ]
     },
     "execution_count": 128,
     "metadata": {},
     "output_type": "execute_result"
    }
   ],
   "source": [
    "df.shape"
   ]
  },
  {
   "cell_type": "code",
   "execution_count": 129,
   "id": "2bfdb8ee",
   "metadata": {},
   "outputs": [
    {
     "data": {
      "text/plain": [
       "3"
      ]
     },
     "execution_count": 129,
     "metadata": {},
     "output_type": "execute_result"
    }
   ],
   "source": [
    "df.shape[0]"
   ]
  },
  {
   "cell_type": "markdown",
   "id": "b0959059",
   "metadata": {},
   "source": [
    "# Classes and Objects in Python"
   ]
  },
  {
   "cell_type": "code",
   "execution_count": 130,
   "id": "5373073c",
   "metadata": {},
   "outputs": [],
   "source": [
    "class Person:\n",
    "    \n",
    "    \n",
    "    def info(self):\n",
    "        print(f\"{self.name} is {self.age} old\")\n",
    "        \n",
    "    def setName(self, name):\n",
    "        self.name = name\n",
    "        \n",
    "    def setAge(self, age):\n",
    "        self.age = age\n",
    "        \n",
    "    def getName(self, name):\n",
    "        return self.name"
   ]
  },
  {
   "cell_type": "code",
   "execution_count": 131,
   "id": "b7345af0",
   "metadata": {},
   "outputs": [],
   "source": [
    "p = Person()\n",
    "p.setName(\"newton\")\n",
    "p.setAge(20)"
   ]
  },
  {
   "cell_type": "code",
   "execution_count": 132,
   "id": "84a78cb5",
   "metadata": {},
   "outputs": [
    {
     "name": "stdout",
     "output_type": "stream",
     "text": [
      "newton is 20 old\n"
     ]
    }
   ],
   "source": [
    "p.info()"
   ]
  },
  {
   "cell_type": "markdown",
   "id": "2a90315c",
   "metadata": {},
   "source": [
    "### https://github.com/Newtanmukh/Olympics-Data-App/blob/main/Olympics-Analysis.ipynb\n",
    "\n",
    "### https://github.com/Newtanmukh/Python-Frameworks-Tutorials/blob/main/matplotlib/Matplotlib%20Tutorial.ipynb"
   ]
  },
  {
   "cell_type": "markdown",
   "id": "c9478758",
   "metadata": {},
   "source": [
    "# Reshaping"
   ]
  },
  {
   "cell_type": "code",
   "execution_count": 133,
   "id": "88d5f5d4",
   "metadata": {},
   "outputs": [
    {
     "name": "stdout",
     "output_type": "stream",
     "text": [
      "Original array : \n",
      " [0 1 2 3 4 5 6 7]\n",
      "\n",
      "array reshaped with 2 rows and 4 columns : \n",
      " [[0 1 2 3]\n",
      " [4 5 6 7]]\n",
      "\n",
      "array reshaped with 4 rows and 2 columns : \n",
      " [[0 1]\n",
      " [2 3]\n",
      " [4 5]\n",
      " [6 7]]\n",
      "\n",
      "Original array reshaped to 3D : \n",
      " [[[0 1]\n",
      "  [2 3]]\n",
      "\n",
      " [[4 5]\n",
      "  [6 7]]]\n"
     ]
    }
   ],
   "source": [
    "array1 = np.arange(8) \n",
    "print(\"Original array : \\n\", array1) \n",
    "  \n",
    "\n",
    "array2 = np.arange(8).reshape(2, 4) \n",
    "print(\"\\narray reshaped with 2 rows and 4 columns : \\n\",  \n",
    "      array2) \n",
    "  \n",
    "\n",
    "array3 = np.arange(8).reshape(4, 2) \n",
    "print(\"\\narray reshaped with 4 rows and 2 columns : \\n\", \n",
    "      array3) \n",
    "  \n",
    "\n",
    "array4 = np.arange(8).reshape(2, 2, 2) \n",
    "print(\"\\nOriginal array reshaped to 3D : \\n\", \n",
    "      array4) "
   ]
  },
  {
   "cell_type": "code",
   "execution_count": 150,
   "id": "ead62ae8",
   "metadata": {},
   "outputs": [
    {
     "name": "stdout",
     "output_type": "stream",
     "text": [
      "   0  1  2  3\n",
      "0  0  1  2  3\n",
      "1  4  5  6  7\n"
     ]
    }
   ],
   "source": [
    "arr = np.arange(8).reshape(2, 4) \n",
    "x = pd.DataFrame(arr)\n",
    "\n",
    "print(x)"
   ]
  },
  {
   "cell_type": "code",
   "execution_count": 151,
   "id": "0e5d11e4",
   "metadata": {},
   "outputs": [
    {
     "name": "stdout",
     "output_type": "stream",
     "text": [
      "   0  1  2  3\n",
      "0  0  1  2  3\n",
      "1  4  5  6  7\n"
     ]
    }
   ],
   "source": [
    "arr = np.arange(8).reshape(2, 4) \n",
    "\n",
    "print(x)"
   ]
  },
  {
   "cell_type": "code",
   "execution_count": 152,
   "id": "34b6425a",
   "metadata": {},
   "outputs": [],
   "source": [
    "x = pd.DataFrame(np.zeros((4,4)).reshape(2,8)).to_numpy()"
   ]
  },
  {
   "cell_type": "code",
   "execution_count": 153,
   "id": "6e2c1f14",
   "metadata": {},
   "outputs": [
    {
     "data": {
      "text/plain": [
       "array([[0., 0., 0., 0., 0., 0., 0., 0.],\n",
       "       [0., 0., 0., 0., 0., 0., 0., 0.]])"
      ]
     },
     "execution_count": 153,
     "metadata": {},
     "output_type": "execute_result"
    }
   ],
   "source": [
    "x"
   ]
  },
  {
   "cell_type": "markdown",
   "id": "4dd44c53",
   "metadata": {},
   "source": [
    "#### reshape and tolist() will only happen on numpy array"
   ]
  },
  {
   "cell_type": "code",
   "execution_count": 154,
   "id": "7b116448",
   "metadata": {},
   "outputs": [],
   "source": [
    "x = pd.DataFrame(pd.DataFrame(np.zeros((4,4)).reshape(2,8)).to_numpy().reshape(16,1))"
   ]
  },
  {
   "cell_type": "code",
   "execution_count": 155,
   "id": "3dad8f90",
   "metadata": {},
   "outputs": [
    {
     "data": {
      "text/plain": [
       "[[0.0],\n",
       " [0.0],\n",
       " [0.0],\n",
       " [0.0],\n",
       " [0.0],\n",
       " [0.0],\n",
       " [0.0],\n",
       " [0.0],\n",
       " [0.0],\n",
       " [0.0],\n",
       " [0.0],\n",
       " [0.0],\n",
       " [0.0],\n",
       " [0.0],\n",
       " [0.0],\n",
       " [0.0]]"
      ]
     },
     "execution_count": 155,
     "metadata": {},
     "output_type": "execute_result"
    }
   ],
   "source": [
    "x.to_numpy().tolist()"
   ]
  },
  {
   "cell_type": "markdown",
   "id": "6dbfe77c",
   "metadata": {},
   "source": [
    "# File Handling"
   ]
  },
  {
   "cell_type": "code",
   "execution_count": 199,
   "id": "fcb397b7",
   "metadata": {},
   "outputs": [],
   "source": [
    "f=open('newtan.csv', 'r')\n"
   ]
  },
  {
   "cell_type": "code",
   "execution_count": 182,
   "id": "0d3fd789",
   "metadata": {},
   "outputs": [
    {
     "data": {
      "text/plain": [
       "'name,surname,marks\\n'"
      ]
     },
     "execution_count": 182,
     "metadata": {},
     "output_type": "execute_result"
    }
   ],
   "source": [
    "f.readline()  # Readlone has pointer inside it"
   ]
  },
  {
   "cell_type": "code",
   "execution_count": 183,
   "id": "aa0de693",
   "metadata": {},
   "outputs": [
    {
     "data": {
      "text/plain": [
       "'newtan,mukherjee,1\\n'"
      ]
     },
     "execution_count": 183,
     "metadata": {},
     "output_type": "execute_result"
    }
   ],
   "source": [
    "f.readline()"
   ]
  },
  {
   "cell_type": "code",
   "execution_count": 184,
   "id": "351a8766",
   "metadata": {},
   "outputs": [
    {
     "data": {
      "text/plain": [
       "'newt'"
      ]
     },
     "execution_count": 184,
     "metadata": {},
     "output_type": "execute_result"
    }
   ],
   "source": [
    "f.readline(4) # Print first 4 characters"
   ]
  },
  {
   "cell_type": "code",
   "execution_count": 198,
   "id": "f546e942",
   "metadata": {},
   "outputs": [],
   "source": [
    "f.close()"
   ]
  },
  {
   "cell_type": "markdown",
   "id": "a10dafb5",
   "metadata": {},
   "source": [
    " ### Writing to a file"
   ]
  },
  {
   "cell_type": "code",
   "execution_count": 195,
   "id": "2d0853b1",
   "metadata": {},
   "outputs": [],
   "source": [
    "f1 = open('abc', 'a') # If write mode, it will first check if file of this name already exist. if not, it will create one."
   ]
  },
  {
   "cell_type": "code",
   "execution_count": 196,
   "id": "310581e3",
   "metadata": {},
   "outputs": [
    {
     "data": {
      "text/plain": [
       "6"
      ]
     },
     "execution_count": 196,
     "metadata": {},
     "output_type": "execute_result"
    }
   ],
   "source": [
    "f1.write(\"newtan\")"
   ]
  },
  {
   "cell_type": "code",
   "execution_count": 203,
   "id": "b07de727",
   "metadata": {},
   "outputs": [],
   "source": [
    "f1.close()"
   ]
  },
  {
   "cell_type": "code",
   "execution_count": 200,
   "id": "b68aeb12",
   "metadata": {},
   "outputs": [
    {
     "name": "stdout",
     "output_type": "stream",
     "text": [
      "name,surname,marks\n",
      "\n",
      "newtan,mukherjee,1\n",
      "\n",
      "newtan,mukherjee,2\n",
      "\n",
      "newtan,mukherjee,3\n",
      "\n",
      "newtan,mukherjee,4\n",
      "\n"
     ]
    }
   ],
   "source": [
    "for data in f:\n",
    "    print(data)"
   ]
  },
  {
   "cell_type": "code",
   "execution_count": 201,
   "id": "3d368e42",
   "metadata": {},
   "outputs": [],
   "source": [
    "# NOTE : \"w\" mode will overwrite the content"
   ]
  },
  {
   "cell_type": "markdown",
   "id": "7c8102a5",
   "metadata": {},
   "source": [
    "## Delete Files"
   ]
  },
  {
   "cell_type": "code",
   "execution_count": 205,
   "id": "9f808dc1",
   "metadata": {},
   "outputs": [],
   "source": [
    "import os\n",
    "\n",
    "if os.path.exists(\"abc\"):\n",
    "  os.remove(\"abc\")"
   ]
  },
  {
   "cell_type": "markdown",
   "id": "395356b2",
   "metadata": {},
   "source": [
    "https://www.w3schools.com/python/python_lists_add.asp"
   ]
  },
  {
   "cell_type": "markdown",
   "id": "9b618372",
   "metadata": {},
   "source": [
    "# Plotting Libraries"
   ]
  },
  {
   "cell_type": "code",
   "execution_count": 208,
   "id": "3f750f40",
   "metadata": {},
   "outputs": [
    {
     "data": {
      "image/png": "[encoded data removed]",
      "text/plain": [
       "<Figure size 640x480 with 1 Axes>"
      ]
     },
     "metadata": {},
     "output_type": "display_data"
    }
   ],
   "source": [
    "%matplotlib inline \n",
    "from matplotlib import pyplot as plt\n",
    "plt.plot([2,1,4],[3,6,1])  #order matters\n",
    "plt.title(\"Newtan's data\") #title\n",
    "plt.xlabel(\"age\")\n",
    "plt.ylabel(\"time\")\n",
    "plt.show()"
   ]
  },
  {
   "cell_type": "code",
   "execution_count": null,
   "id": "42994c55",
   "metadata": {},
   "outputs": [],
   "source": []
  }
 ],
 "metadata": {
  "kernelspec": {
   "display_name": "Python 3 (ipykernel)",
   "language": "python",
   "name": "python3"
  },
  "language_info": {
   "codemirror_mode": {
    "name": "ipython",
    "version": 3
   },
   "file_extension": ".py",
   "mimetype": "text/x-python",
   "name": "python",
   "nbconvert_exporter": "python",
   "pygments_lexer": "ipython3",
   "version": "3.11.4"
  }
 },
 "nbformat": 4,
 "nbformat_minor": 5
}
