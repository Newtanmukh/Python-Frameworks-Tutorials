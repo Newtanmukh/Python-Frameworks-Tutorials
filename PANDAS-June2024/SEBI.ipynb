{
 "cells": [
  {
   "cell_type": "code",
   "execution_count": 43,
   "id": "af503e7c",
   "metadata": {},
   "outputs": [],
   "source": [
    "import re"
   ]
  },
  {
   "cell_type": "code",
   "execution_count": 44,
   "id": "8796e4f0",
   "metadata": {},
   "outputs": [],
   "source": [
    "pattern = \"was\""
   ]
  },
  {
   "cell_type": "code",
   "execution_count": null,
   "id": "a1f88f56",
   "metadata": {},
   "outputs": [],
   "source": []
  },
  {
   "cell_type": "code",
   "execution_count": 45,
   "id": "275820b3",
   "metadata": {},
   "outputs": [],
   "source": [
    "search = \"was a   child was\""
   ]
  },
  {
   "cell_type": "code",
   "execution_count": 46,
   "id": "a030c32c",
   "metadata": {},
   "outputs": [
    {
     "name": "stdout",
     "output_type": "stream",
     "text": [
      "['was', 'was']\n"
     ]
    }
   ],
   "source": [
    "print(re.findall(pattern, search))"
   ]
  },
  {
   "cell_type": "markdown",
   "id": "ca693161",
   "metadata": {},
   "source": [
    "# Match"
   ]
  },
  {
   "cell_type": "code",
   "execution_count": 47,
   "id": "a0bdee04",
   "metadata": {},
   "outputs": [
    {
     "name": "stdout",
     "output_type": "stream",
     "text": [
      "<re.Match object; span=(0, 3), match='was'>\n"
     ]
    }
   ],
   "source": [
    "print(re.match(\"was\", search))"
   ]
  },
  {
   "cell_type": "markdown",
   "id": "3439f320",
   "metadata": {},
   "source": [
    "# FindAll"
   ]
  },
  {
   "cell_type": "code",
   "execution_count": 48,
   "id": "7046ae94",
   "metadata": {},
   "outputs": [
    {
     "name": "stdout",
     "output_type": "stream",
     "text": [
      "[' ', ' ', ' ', ' ', ' ']\n"
     ]
    }
   ],
   "source": [
    "print(re.findall(\"\\s\", search))"
   ]
  },
  {
   "cell_type": "code",
   "execution_count": 49,
   "id": "a022c55b",
   "metadata": {},
   "outputs": [
    {
     "name": "stdout",
     "output_type": "stream",
     "text": [
      "['was', 'was']\n"
     ]
    }
   ],
   "source": [
    "print(re.findall(\"was\", search))"
   ]
  },
  {
   "cell_type": "code",
   "execution_count": 50,
   "id": "f4de9526",
   "metadata": {},
   "outputs": [],
   "source": [
    "# split string"
   ]
  },
  {
   "cell_type": "code",
   "execution_count": 51,
   "id": "8b8bacb4",
   "metadata": {},
   "outputs": [
    {
     "name": "stdout",
     "output_type": "stream",
     "text": [
      "['', ' a   child ', '']\n"
     ]
    }
   ],
   "source": [
    "print(re.split(\"was\", search)) # split using this reges"
   ]
  },
  {
   "cell_type": "code",
   "execution_count": 52,
   "id": "e5821fc4",
   "metadata": {},
   "outputs": [
    {
     "name": "stdout",
     "output_type": "stream",
     "text": [
      "['', ' a   child was']\n"
     ]
    }
   ],
   "source": [
    "print(re.split(\"was\", search, 1)) #Split using only using the first which matches"
   ]
  },
  {
   "cell_type": "markdown",
   "id": "5ac7fb67",
   "metadata": {},
   "source": [
    "# Replace all empty space with 9 each"
   ]
  },
  {
   "cell_type": "code",
   "execution_count": 53,
   "id": "8c828778",
   "metadata": {},
   "outputs": [],
   "source": [
    "txt = \"The   rain in Spain\"\n",
    "x = re.sub(\"\\s\", \"9\", txt)"
   ]
  },
  {
   "cell_type": "code",
   "execution_count": 54,
   "id": "f1745a66",
   "metadata": {},
   "outputs": [
    {
     "name": "stdout",
     "output_type": "stream",
     "text": [
      "The999rain9in9Spain\n"
     ]
    }
   ],
   "source": [
    "print(x)"
   ]
  },
  {
   "cell_type": "markdown",
   "id": "04806e34",
   "metadata": {},
   "source": [
    "# Replace furst two instances"
   ]
  },
  {
   "cell_type": "code",
   "execution_count": 55,
   "id": "d37868dd",
   "metadata": {},
   "outputs": [
    {
     "name": "stdout",
     "output_type": "stream",
     "text": [
      "The99rain in Spain\n"
     ]
    }
   ],
   "source": [
    "txt = \"The  rain in Spain\"\n",
    "x = re.sub(\"\\s\", \"9\", txt, 2)\n",
    "print(x)"
   ]
  },
  {
   "cell_type": "markdown",
   "id": "2138f064",
   "metadata": {},
   "source": [
    "# Metacharacters"
   ]
  },
  {
   "cell_type": "code",
   "execution_count": 56,
   "id": "645f0a3f",
   "metadata": {},
   "outputs": [
    {
     "name": "stdout",
     "output_type": "stream",
     "text": [
      "['Pyclone', 'Syclone']\n"
     ]
    }
   ],
   "source": [
    "pattern = \"[A-Z]yclone\"\n",
    "search = \"Pyclone cyclone JDJSyclone\"\n",
    "print(re.findall(pattern, search))"
   ]
  },
  {
   "cell_type": "code",
   "execution_count": 57,
   "id": "eb64edac",
   "metadata": {},
   "outputs": [
    {
     "name": "stdout",
     "output_type": "stream",
     "text": [
      "['Pyclone', 'JDJSyclone']\n"
     ]
    }
   ],
   "source": [
    "pattern = \"[A-Z]+yclone\"\n",
    "search = \"Pyclone cyclone JDJSyclone\"\n",
    "print(re.findall(pattern, search))"
   ]
  },
  {
   "cell_type": "code",
   "execution_count": 58,
   "id": "971702f1",
   "metadata": {},
   "outputs": [
    {
     "name": "stdout",
     "output_type": "stream",
     "text": [
      "['Pyclone', 'yclone', 'JDJSyclone']\n"
     ]
    }
   ],
   "source": [
    "pattern = \"[A-Z]*yclone\"\n",
    "search = \"Pyclone cyclone JDJSyclone\"\n",
    "print(re.findall(pattern, search))"
   ]
  },
  {
   "cell_type": "code",
   "execution_count": 59,
   "id": "e620a554",
   "metadata": {},
   "outputs": [
    {
     "name": "stdout",
     "output_type": "stream",
     "text": [
      "['JSyclone']\n"
     ]
    }
   ],
   "source": [
    "pattern = \"[A-Z]{2}yclone\"\n",
    "search = \"Pyclone cyclone JDJSyclone\"\n",
    "print(re.findall(pattern, search))"
   ]
  },
  {
   "cell_type": "code",
   "execution_count": 60,
   "id": "8eaf630d",
   "metadata": {},
   "outputs": [
    {
     "name": "stdout",
     "output_type": "stream",
     "text": [
      "['fcyclone', 'JSyclone']\n"
     ]
    }
   ],
   "source": [
    "pattern = r\"[A-Z]{2}yclone|[a-z]+yclone\"\n",
    "search = \"Pyclone fcyclone JDJSyclone\"\n",
    "print(re.findall(pattern, search))"
   ]
  },
  {
   "cell_type": "code",
   "execution_count": 61,
   "id": "79a05c23",
   "metadata": {},
   "outputs": [
    {
     "name": "stdout",
     "output_type": "stream",
     "text": [
      "['yclo', 'cyclo', 'yclo']\n"
     ]
    }
   ],
   "source": [
    "pattern = \"[ylco]+\"\n",
    "search = \"Pyclone fcyclone JDJSyclone\"\n",
    "print(re.findall(pattern, search))"
   ]
  },
  {
   "cell_type": "code",
   "execution_count": 62,
   "id": "f484bcb4",
   "metadata": {},
   "outputs": [
    {
     "name": "stdout",
     "output_type": "stream",
     "text": [
      "['P', 'ne f', 'ne JDJS', 'ne']\n"
     ]
    }
   ],
   "source": [
    "pattern = \"[^ylco]+\"\n",
    "search = \"Pyclone fcyclone JDJSyclone\"\n",
    "print(re.findall(pattern, search))"
   ]
  },
  {
   "cell_type": "code",
   "execution_count": 63,
   "id": "918b5bc9",
   "metadata": {},
   "outputs": [
    {
     "name": "stdout",
     "output_type": "stream",
     "text": [
      "['Pyclone', 'fcyclone', 'JDJS21yclone']\n"
     ]
    }
   ],
   "source": [
    "pattern = \"\\w+\"\n",
    "search = \"Pyclone fcyclone JDJS21yclone\"\n",
    "print(re.findall(pattern, search))"
   ]
  },
  {
   "cell_type": "code",
   "execution_count": 64,
   "id": "a6ac1ac7",
   "metadata": {},
   "outputs": [
    {
     "name": "stdout",
     "output_type": "stream",
     "text": [
      "['21']\n"
     ]
    }
   ],
   "source": [
    "pattern = \"\\d+\"\n",
    "search = \"Pyclone fcyclone JDJS21yclone\"\n",
    "print(re.findall(pattern, search))"
   ]
  },
  {
   "cell_type": "code",
   "execution_count": 65,
   "id": "c72748bd",
   "metadata": {},
   "outputs": [
    {
     "name": "stdout",
     "output_type": "stream",
     "text": [
      "[' ', ' ']\n"
     ]
    }
   ],
   "source": [
    "pattern = \"\\s\"\n",
    "search = \"Pyclone fcyclone JDJS21yclone\"\n",
    "print(re.findall(pattern, search))"
   ]
  },
  {
   "cell_type": "code",
   "execution_count": 66,
   "id": "5d197216",
   "metadata": {},
   "outputs": [
    {
     "name": "stdout",
     "output_type": "stream",
     "text": [
      "['23', '41']\n"
     ]
    }
   ],
   "source": [
    "pattern = \"\\d{2}\"\n",
    "search = \"Pyclone fcyclone JDJS2341yclone\"\n",
    "print(re.findall(pattern, search))"
   ]
  },
  {
   "cell_type": "code",
   "execution_count": 67,
   "id": "70a7e201",
   "metadata": {},
   "outputs": [
    {
     "name": "stdout",
     "output_type": "stream",
     "text": [
      "['234']\n"
     ]
    }
   ],
   "source": [
    "pattern = \"[\\d]{3}\"\n",
    "search = \"Pyclone fcyclone JDJS2341yclone\"\n",
    "print(re.findall(pattern, search))"
   ]
  },
  {
   "cell_type": "markdown",
   "id": "11ede9fc",
   "metadata": {},
   "source": [
    "# SLICING"
   ]
  },
  {
   "cell_type": "code",
   "execution_count": 68,
   "id": "b5610254",
   "metadata": {},
   "outputs": [
    {
     "name": "stdout",
     "output_type": "stream",
     "text": [
      "llo\n"
     ]
    }
   ],
   "source": [
    "b = \"Hello, World!\"\n",
    "print(b[2:5]) # 2, 3 and 4"
   ]
  },
  {
   "cell_type": "code",
   "execution_count": 69,
   "id": "c5acbd0b",
   "metadata": {},
   "outputs": [
    {
     "name": "stdout",
     "output_type": "stream",
     "text": [
      "[5 6]\n"
     ]
    }
   ],
   "source": [
    "import numpy as np\n",
    "\n",
    "arr = np.array([1, 2, 3, 4, 5, 6, 7])\n",
    "\n",
    "print(arr[-3:-1])"
   ]
  },
  {
   "cell_type": "code",
   "execution_count": 70,
   "id": "d54421df",
   "metadata": {},
   "outputs": [
    {
     "name": "stdout",
     "output_type": "stream",
     "text": [
      "[1 2 3 4]\n"
     ]
    }
   ],
   "source": [
    "import numpy as np\n",
    "\n",
    "arr = np.array([1, 2, 3, 4, 5, 6, 7])\n",
    "\n",
    "print(arr[:4])"
   ]
  },
  {
   "cell_type": "code",
   "execution_count": 71,
   "id": "b981eea7",
   "metadata": {},
   "outputs": [
    {
     "name": "stdout",
     "output_type": "stream",
     "text": [
      "[2 4]\n"
     ]
    }
   ],
   "source": [
    "arr = np.array([1, 2, 3, 4, 5, 6, 7])\n",
    "\n",
    "print(arr[1:5:2])"
   ]
  },
  {
   "cell_type": "code",
   "execution_count": 72,
   "id": "ff7d5c47",
   "metadata": {},
   "outputs": [
    {
     "name": "stdout",
     "output_type": "stream",
     "text": [
      "[2 4 6]\n"
     ]
    }
   ],
   "source": [
    "arr = np.array([1, 2, 3, 4, 5, 6, 7])\n",
    "\n",
    "print(arr[1::2])"
   ]
  },
  {
   "cell_type": "markdown",
   "id": "789df011",
   "metadata": {},
   "source": [
    "# Dictonaries\n"
   ]
  },
  {
   "cell_type": "markdown",
   "id": "efebd09a",
   "metadata": {},
   "source": [
    "###### 3.7 onwards, dictoniares are oreded"
   ]
  },
  {
   "cell_type": "code",
   "execution_count": 73,
   "id": "46b723d0",
   "metadata": {},
   "outputs": [
    {
     "name": "stdout",
     "output_type": "stream",
     "text": [
      "{'brand': 'Ford', 'model': 'Mustang', 'year': 1964}\n"
     ]
    }
   ],
   "source": [
    "thisdict = {\n",
    "  \"brand\": \"Ford\",\n",
    "  \"model\": \"Mustang\",\n",
    "  \"year\": 1964\n",
    "}\n",
    "print(thisdict)"
   ]
  },
  {
   "cell_type": "code",
   "execution_count": 74,
   "id": "ca8a7f13",
   "metadata": {},
   "outputs": [
    {
     "name": "stdout",
     "output_type": "stream",
     "text": [
      "Ford\n"
     ]
    }
   ],
   "source": [
    "thisdict = {\n",
    "  \"brand\": \"Ford\",\n",
    "  \"model\": \"Mustang\",\n",
    "  \"year\": 1964\n",
    "}\n",
    "print(thisdict[\"brand\"])"
   ]
  },
  {
   "cell_type": "code",
   "execution_count": 75,
   "id": "ceb2a637",
   "metadata": {},
   "outputs": [
    {
     "name": "stdout",
     "output_type": "stream",
     "text": [
      "3\n"
     ]
    }
   ],
   "source": [
    "print(len(thisdict))"
   ]
  },
  {
   "cell_type": "code",
   "execution_count": 76,
   "id": "b1b09007",
   "metadata": {},
   "outputs": [
    {
     "name": "stdout",
     "output_type": "stream",
     "text": [
      "<class 'dict'>\n"
     ]
    }
   ],
   "source": [
    "print(type(thisdict))"
   ]
  },
  {
   "cell_type": "code",
   "execution_count": 77,
   "id": "572d0376",
   "metadata": {},
   "outputs": [
    {
     "name": "stdout",
     "output_type": "stream",
     "text": [
      "dict_keys(['brand', 'model', 'year'])\n"
     ]
    }
   ],
   "source": [
    "a = thisdict.keys()\n",
    "print(a)"
   ]
  },
  {
   "cell_type": "code",
   "execution_count": 78,
   "id": "17ec2f62",
   "metadata": {},
   "outputs": [
    {
     "name": "stdout",
     "output_type": "stream",
     "text": [
      "dict_values(['Ford', 'Mustang', 1964])\n"
     ]
    }
   ],
   "source": [
    "values = thisdict.values()\n",
    "print(values)"
   ]
  },
  {
   "cell_type": "code",
   "execution_count": 79,
   "id": "fe72c1b7",
   "metadata": {},
   "outputs": [
    {
     "name": "stdout",
     "output_type": "stream",
     "text": [
      "dict_items([('brand', 'Ford'), ('model', 'Mustang'), ('year', 1964)])\n"
     ]
    }
   ],
   "source": [
    "print(thisdict.items())"
   ]
  },
  {
   "cell_type": "code",
   "execution_count": 80,
   "id": "0705d7bc",
   "metadata": {},
   "outputs": [
    {
     "name": "stdout",
     "output_type": "stream",
     "text": [
      "Yes, 'model' is one of the keys in the thisdict dictionary\n"
     ]
    }
   ],
   "source": [
    "thisdict = {\n",
    "  \"brand\": \"Ford\",\n",
    "  \"model\": \"Mustang\",\n",
    "  \"year\": 1964\n",
    "}\n",
    "if \"model\" in thisdict.keys():\n",
    "  print(\"Yes, 'model' is one of the keys in the thisdict dictionary\")"
   ]
  },
  {
   "cell_type": "code",
   "execution_count": 81,
   "id": "9fb941f8",
   "metadata": {},
   "outputs": [
    {
     "name": "stdout",
     "output_type": "stream",
     "text": [
      "{'brand': 'Ford', 'model': 'Mustang', 'year': 2020}\n"
     ]
    }
   ],
   "source": [
    "thisdict = {\n",
    "  \"brand\": \"Ford\",\n",
    "  \"model\": \"Mustang\",\n",
    "  \"year\": 1964\n",
    "}\n",
    "thisdict.update({\"year\": 2020})\n",
    "\n",
    "print(thisdict)"
   ]
  },
  {
   "cell_type": "code",
   "execution_count": 82,
   "id": "7094de1c",
   "metadata": {},
   "outputs": [
    {
     "name": "stdout",
     "output_type": "stream",
     "text": [
      "{'brand': 'Ford', 'model': 'Mustang', 'year': 1964, 'color': 'red'}\n"
     ]
    }
   ],
   "source": [
    "thisdict = {\n",
    "  \"brand\": \"Ford\",\n",
    "  \"model\": \"Mustang\",\n",
    "  \"year\": 1964\n",
    "}\n",
    "thisdict[\"color\"] = \"red\"\n",
    "print(thisdict)          # add a color key and value"
   ]
  },
  {
   "cell_type": "code",
   "execution_count": 83,
   "id": "46ac9943",
   "metadata": {},
   "outputs": [
    {
     "name": "stdout",
     "output_type": "stream",
     "text": [
      "{}\n"
     ]
    }
   ],
   "source": [
    "thisdict = {\n",
    "  \"brand\": \"Ford\",\n",
    "  \"model\": \"Mustang\",\n",
    "  \"year\": 1964\n",
    "}\n",
    "thisdict.clear()\n",
    "print(thisdict)"
   ]
  },
  {
   "cell_type": "code",
   "execution_count": 84,
   "id": "13a2b977",
   "metadata": {},
   "outputs": [
    {
     "ename": "NameError",
     "evalue": "name 'thisdict' is not defined",
     "output_type": "error",
     "traceback": [
      "\u001b[1;31m---------------------------------------------------------------------------\u001b[0m",
      "\u001b[1;31mNameError\u001b[0m                                 Traceback (most recent call last)",
      "Cell \u001b[1;32mIn[84], line 7\u001b[0m\n\u001b[0;32m      1\u001b[0m thisdict \u001b[38;5;241m=\u001b[39m {\n\u001b[0;32m      2\u001b[0m   \u001b[38;5;124m\"\u001b[39m\u001b[38;5;124mbrand\u001b[39m\u001b[38;5;124m\"\u001b[39m: \u001b[38;5;124m\"\u001b[39m\u001b[38;5;124mFord\u001b[39m\u001b[38;5;124m\"\u001b[39m,\n\u001b[0;32m      3\u001b[0m   \u001b[38;5;124m\"\u001b[39m\u001b[38;5;124mmodel\u001b[39m\u001b[38;5;124m\"\u001b[39m: \u001b[38;5;124m\"\u001b[39m\u001b[38;5;124mMustang\u001b[39m\u001b[38;5;124m\"\u001b[39m,\n\u001b[0;32m      4\u001b[0m   \u001b[38;5;124m\"\u001b[39m\u001b[38;5;124myear\u001b[39m\u001b[38;5;124m\"\u001b[39m: \u001b[38;5;241m1964\u001b[39m\n\u001b[0;32m      5\u001b[0m }\n\u001b[0;32m      6\u001b[0m \u001b[38;5;28;01mdel\u001b[39;00m thisdict\n\u001b[1;32m----> 7\u001b[0m \u001b[38;5;28mprint\u001b[39m(thisdict)\n",
      "\u001b[1;31mNameError\u001b[0m: name 'thisdict' is not defined"
     ]
    }
   ],
   "source": [
    "thisdict = {\n",
    "  \"brand\": \"Ford\",\n",
    "  \"model\": \"Mustang\",\n",
    "  \"year\": 1964\n",
    "}\n",
    "del thisdict\n",
    "print(thisdict)"
   ]
  },
  {
   "cell_type": "code",
   "execution_count": 85,
   "id": "5f37d7cf",
   "metadata": {},
   "outputs": [
    {
     "name": "stdout",
     "output_type": "stream",
     "text": [
      "brand\n",
      "model\n",
      "year\n",
      "Ford\n",
      "Mustang\n",
      "1964\n"
     ]
    }
   ],
   "source": [
    "thisdict = {\n",
    "  \"brand\": \"Ford\",\n",
    "  \"model\": \"Mustang\",\n",
    "  \"year\": 1964\n",
    "}\n",
    "\n",
    "\n",
    "for x in thisdict:\n",
    "  print(x)\n",
    "\n",
    "for x in thisdict:\n",
    "  print(thisdict[x])"
   ]
  },
  {
   "cell_type": "code",
   "execution_count": 86,
   "id": "e7367364",
   "metadata": {},
   "outputs": [
    {
     "name": "stdout",
     "output_type": "stream",
     "text": [
      "brand Ford\n",
      "model Mustang\n",
      "year 1964\n"
     ]
    }
   ],
   "source": [
    "for x, y in thisdict.items():\n",
    "  print(x, y)"
   ]
  },
  {
   "cell_type": "code",
   "execution_count": 87,
   "id": "ee5b0854",
   "metadata": {},
   "outputs": [
    {
     "name": "stdout",
     "output_type": "stream",
     "text": [
      "{'brand': 'Ford', 'model': 'Mustang', 'year': 1964}\n"
     ]
    }
   ],
   "source": [
    "thisdict = {\n",
    "  \"brand\": \"Ford\",\n",
    "  \"model\": \"Mustang\",\n",
    "  \"year\": 1964\n",
    "}\n",
    "mydict = thisdict.copy()   # however both of them will point to same dictionary, so changes made in one dict will affect the other as well\n",
    "print(mydict)"
   ]
  },
  {
   "cell_type": "code",
   "execution_count": 88,
   "id": "55ef89a3",
   "metadata": {},
   "outputs": [
    {
     "name": "stdout",
     "output_type": "stream",
     "text": [
      "Tobias\n"
     ]
    }
   ],
   "source": [
    "myfamily = {\n",
    "  \"child1\" : {\n",
    "    \"name\" : \"Emil\",\n",
    "    \"year\" : 2004\n",
    "  },\n",
    "  \"child2\" : {\n",
    "    \"name\" : \"Tobias\",\n",
    "    \"year\" : 2007\n",
    "  },\n",
    "  \"child3\" : {\n",
    "    \"name\" : \"Linus\",\n",
    "    \"year\" : 2011\n",
    "  }\n",
    "}\n",
    "\n",
    "print(myfamily[\"child2\"][\"name\"])\n"
   ]
  },
  {
   "cell_type": "code",
   "execution_count": 89,
   "id": "9a723647",
   "metadata": {},
   "outputs": [
    {
     "name": "stdout",
     "output_type": "stream",
     "text": [
      "child1\n",
      "name: Emil\n",
      "year: 2004\n",
      "child2\n",
      "name: Tobias\n",
      "year: 2007\n",
      "child3\n",
      "name: Linus\n",
      "year: 2011\n"
     ]
    }
   ],
   "source": [
    "myfamily = {\n",
    "  \"child1\" : {\n",
    "    \"name\" : \"Emil\",\n",
    "    \"year\" : 2004\n",
    "  },\n",
    "  \"child2\" : {\n",
    "    \"name\" : \"Tobias\",\n",
    "    \"year\" : 2007\n",
    "  },\n",
    "  \"child3\" : {\n",
    "    \"name\" : \"Linus\",\n",
    "    \"year\" : 2011\n",
    "  }\n",
    "}\n",
    "\n",
    "for x, obj in myfamily.items():\n",
    "    print(x)\n",
    "    \n",
    "    for y in obj:\n",
    "        print(y + ':', obj[y])\n",
    "\n"
   ]
  },
  {
   "cell_type": "markdown",
   "id": "0358be75",
   "metadata": {},
   "source": [
    "# Sets"
   ]
  },
  {
   "cell_type": "code",
   "execution_count": 90,
   "id": "17ec9251",
   "metadata": {},
   "outputs": [
    {
     "name": "stdout",
     "output_type": "stream",
     "text": [
      "3\n"
     ]
    }
   ],
   "source": [
    "thisset = {\"apple\", \"banana\", \"cherry\"}\n",
    "\n",
    "print(len(thisset))"
   ]
  },
  {
   "cell_type": "code",
   "execution_count": 91,
   "id": "91bcb326",
   "metadata": {},
   "outputs": [
    {
     "name": "stdout",
     "output_type": "stream",
     "text": [
      "{False, 'apple', 'banana'}\n",
      "<class 'set'>\n"
     ]
    }
   ],
   "source": [
    "thisset = {\"apple\", \"banana\", False}\n",
    "\n",
    "print(thisset)\n",
    "print(type(thisset))"
   ]
  },
  {
   "cell_type": "code",
   "execution_count": 92,
   "id": "c4e7b83b",
   "metadata": {},
   "outputs": [
    {
     "name": "stdout",
     "output_type": "stream",
     "text": [
      "cherry\n",
      "apple\n",
      "banana\n",
      "True\n"
     ]
    }
   ],
   "source": [
    "thisset = {\"apple\", \"banana\", \"cherry\"}\n",
    "\n",
    "for x in thisset:\n",
    "  print(x)\n",
    "\n",
    "print(\"banana\" in thisset)"
   ]
  },
  {
   "cell_type": "code",
   "execution_count": 93,
   "id": "0ea17bc6",
   "metadata": {},
   "outputs": [
    {
     "name": "stdout",
     "output_type": "stream",
     "text": [
      "{'cherry', 'apple', 'banana', 'orange'}\n"
     ]
    }
   ],
   "source": [
    "thisset = {\"apple\", \"banana\", \"cherry\"}\n",
    "\n",
    "thisset.add(\"orange\")\n",
    "\n",
    "print(thisset)\n"
   ]
  },
  {
   "cell_type": "code",
   "execution_count": 94,
   "id": "13be8825",
   "metadata": {},
   "outputs": [
    {
     "name": "stdout",
     "output_type": "stream",
     "text": [
      "{'cherry', 'papaya', 'mango', 'apple', 'banana', 'pineapple'}\n"
     ]
    }
   ],
   "source": [
    "thisset = {\"apple\", \"banana\", \"cherry\"}\n",
    "tropical = {\"pineapple\", \"mango\", \"papaya\"}\n",
    "\n",
    "thisset.update(tropical)\n",
    "\n",
    "print(thisset)"
   ]
  },
  {
   "cell_type": "code",
   "execution_count": 95,
   "id": "e8a30337",
   "metadata": {},
   "outputs": [
    {
     "name": "stdout",
     "output_type": "stream",
     "text": [
      "{'cherry', 'banana', 'kiwi', 'orange', 'apple'}\n"
     ]
    }
   ],
   "source": [
    "thisset = {\"apple\", \"banana\", \"cherry\"}\n",
    "mylist = [\"kiwi\", \"orange\"]\n",
    "\n",
    "thisset.update(mylist)\n",
    "\n",
    "print(thisset)\n"
   ]
  },
  {
   "cell_type": "code",
   "execution_count": 96,
   "id": "b2b7f1cf",
   "metadata": {},
   "outputs": [
    {
     "name": "stdout",
     "output_type": "stream",
     "text": [
      "{'cherry', 'apple'}\n"
     ]
    }
   ],
   "source": [
    "thisset = {\"apple\", \"banana\", \"cherry\"}\n",
    "\n",
    "thisset.discard(\"banana\")   # Without throwing exception\n",
    "\n",
    "print(thisset)"
   ]
  },
  {
   "cell_type": "code",
   "execution_count": 97,
   "id": "3faaa811",
   "metadata": {},
   "outputs": [
    {
     "name": "stdout",
     "output_type": "stream",
     "text": [
      "set()\n"
     ]
    }
   ],
   "source": [
    "thisset = {\"apple\", \"banana\", \"cherry\"}\n",
    "\n",
    "thisset.clear()\n",
    "\n",
    "print(thisset)"
   ]
  },
  {
   "cell_type": "code",
   "execution_count": 98,
   "id": "faac129d",
   "metadata": {},
   "outputs": [
    {
     "name": "stdout",
     "output_type": "stream",
     "text": [
      "{1, 2, 3, 'cherry', 'a', 'apple', 'John', 'bananas', 'Elena', 'c', 'b'}\n"
     ]
    }
   ],
   "source": [
    "set1 = {\"a\", \"b\", \"c\"}\n",
    "set2 = {1, 2, 3}\n",
    "set3 = {\"John\", \"Elena\", \"a\", \"b\", \"c\"}\n",
    "set4 = {\"apple\", \"bananas\", \"cherry\"}\n",
    "\n",
    "myset = set1.union(set2, set3, set4)\n",
    "print(myset)\n"
   ]
  },
  {
   "cell_type": "code",
   "execution_count": null,
   "id": "6d09deb7",
   "metadata": {},
   "outputs": [],
   "source": []
  },
  {
   "cell_type": "code",
   "execution_count": null,
   "id": "c1d651e8",
   "metadata": {},
   "outputs": [],
   "source": []
  },
  {
   "cell_type": "code",
   "execution_count": null,
   "id": "a9410c75",
   "metadata": {},
   "outputs": [],
   "source": []
  },
  {
   "cell_type": "code",
   "execution_count": null,
   "id": "36d3bbaf",
   "metadata": {},
   "outputs": [],
   "source": []
  },
  {
   "cell_type": "code",
   "execution_count": null,
   "id": "af1939f7",
   "metadata": {},
   "outputs": [],
   "source": []
  },
  {
   "cell_type": "markdown",
   "id": "759ab1bd",
   "metadata": {},
   "source": [
    "# Pandas"
   ]
  },
  {
   "cell_type": "code",
   "execution_count": 99,
   "id": "74db44bc",
   "metadata": {},
   "outputs": [],
   "source": [
    "import pandas as pd\n",
    "import numpy as np"
   ]
  },
  {
   "cell_type": "code",
   "execution_count": 100,
   "id": "92932201",
   "metadata": {},
   "outputs": [],
   "source": [
    "dict1 = {\"name\": \"newtan\",\n",
    "        \"surname\": \"mukherjee\",\n",
    "        \"marks\": [1,2,3,4]}"
   ]
  },
  {
   "cell_type": "code",
   "execution_count": 101,
   "id": "2c0092cb",
   "metadata": {},
   "outputs": [],
   "source": [
    "df = pd.DataFrame(dict1)"
   ]
  },
  {
   "cell_type": "code",
   "execution_count": 102,
   "id": "4b8bfc3b",
   "metadata": {},
   "outputs": [
    {
     "data": {
      "text/html": [
       "<div>\n",
       "<style scoped>\n",
       "    .dataframe tbody tr th:only-of-type {\n",
       "        vertical-align: middle;\n",
       "    }\n",
       "\n",
       "    .dataframe tbody tr th {\n",
       "        vertical-align: top;\n",
       "    }\n",
       "\n",
       "    .dataframe thead th {\n",
       "        text-align: right;\n",
       "    }\n",
       "</style>\n",
       "<table border=\"1\" class=\"dataframe\">\n",
       "  <thead>\n",
       "    <tr style=\"text-align: right;\">\n",
       "      <th></th>\n",
       "      <th>name</th>\n",
       "      <th>surname</th>\n",
       "      <th>marks</th>\n",
       "    </tr>\n",
       "  </thead>\n",
       "  <tbody>\n",
       "    <tr>\n",
       "      <th>0</th>\n",
       "      <td>newtan</td>\n",
       "      <td>mukherjee</td>\n",
       "      <td>1</td>\n",
       "    </tr>\n",
       "    <tr>\n",
       "      <th>1</th>\n",
       "      <td>newtan</td>\n",
       "      <td>mukherjee</td>\n",
       "      <td>2</td>\n",
       "    </tr>\n",
       "    <tr>\n",
       "      <th>2</th>\n",
       "      <td>newtan</td>\n",
       "      <td>mukherjee</td>\n",
       "      <td>3</td>\n",
       "    </tr>\n",
       "    <tr>\n",
       "      <th>3</th>\n",
       "      <td>newtan</td>\n",
       "      <td>mukherjee</td>\n",
       "      <td>4</td>\n",
       "    </tr>\n",
       "  </tbody>\n",
       "</table>\n",
       "</div>"
      ],
      "text/plain": [
       "     name    surname  marks\n",
       "0  newtan  mukherjee      1\n",
       "1  newtan  mukherjee      2\n",
       "2  newtan  mukherjee      3\n",
       "3  newtan  mukherjee      4"
      ]
     },
     "execution_count": 102,
     "metadata": {},
     "output_type": "execute_result"
    }
   ],
   "source": [
    "df"
   ]
  },
  {
   "cell_type": "code",
   "execution_count": 103,
   "id": "9d581da3",
   "metadata": {},
   "outputs": [],
   "source": [
    "df.to_csv('newtan.csv')"
   ]
  },
  {
   "cell_type": "code",
   "execution_count": 104,
   "id": "687d2d7a",
   "metadata": {},
   "outputs": [],
   "source": [
    "df.to_csv('newtan.csv', index = False)"
   ]
  },
  {
   "cell_type": "code",
   "execution_count": 105,
   "id": "f5abaee1",
   "metadata": {},
   "outputs": [
    {
     "data": {
      "text/html": [
       "<div>\n",
       "<style scoped>\n",
       "    .dataframe tbody tr th:only-of-type {\n",
       "        vertical-align: middle;\n",
       "    }\n",
       "\n",
       "    .dataframe tbody tr th {\n",
       "        vertical-align: top;\n",
       "    }\n",
       "\n",
       "    .dataframe thead th {\n",
       "        text-align: right;\n",
       "    }\n",
       "</style>\n",
       "<table border=\"1\" class=\"dataframe\">\n",
       "  <thead>\n",
       "    <tr style=\"text-align: right;\">\n",
       "      <th></th>\n",
       "      <th>name</th>\n",
       "      <th>surname</th>\n",
       "      <th>marks</th>\n",
       "    </tr>\n",
       "  </thead>\n",
       "  <tbody>\n",
       "    <tr>\n",
       "      <th>0</th>\n",
       "      <td>newtan</td>\n",
       "      <td>mukherjee</td>\n",
       "      <td>1</td>\n",
       "    </tr>\n",
       "    <tr>\n",
       "      <th>1</th>\n",
       "      <td>newtan</td>\n",
       "      <td>mukherjee</td>\n",
       "      <td>2</td>\n",
       "    </tr>\n",
       "    <tr>\n",
       "      <th>2</th>\n",
       "      <td>newtan</td>\n",
       "      <td>mukherjee</td>\n",
       "      <td>3</td>\n",
       "    </tr>\n",
       "  </tbody>\n",
       "</table>\n",
       "</div>"
      ],
      "text/plain": [
       "     name    surname  marks\n",
       "0  newtan  mukherjee      1\n",
       "1  newtan  mukherjee      2\n",
       "2  newtan  mukherjee      3"
      ]
     },
     "execution_count": 105,
     "metadata": {},
     "output_type": "execute_result"
    }
   ],
   "source": [
    "df.head(3)"
   ]
  },
  {
   "cell_type": "code",
   "execution_count": 106,
   "id": "d8b0cb8c",
   "metadata": {},
   "outputs": [
    {
     "data": {
      "text/html": [
       "<div>\n",
       "<style scoped>\n",
       "    .dataframe tbody tr th:only-of-type {\n",
       "        vertical-align: middle;\n",
       "    }\n",
       "\n",
       "    .dataframe tbody tr th {\n",
       "        vertical-align: top;\n",
       "    }\n",
       "\n",
       "    .dataframe thead th {\n",
       "        text-align: right;\n",
       "    }\n",
       "</style>\n",
       "<table border=\"1\" class=\"dataframe\">\n",
       "  <thead>\n",
       "    <tr style=\"text-align: right;\">\n",
       "      <th></th>\n",
       "      <th>name</th>\n",
       "      <th>surname</th>\n",
       "      <th>marks</th>\n",
       "    </tr>\n",
       "  </thead>\n",
       "  <tbody>\n",
       "    <tr>\n",
       "      <th>2</th>\n",
       "      <td>newtan</td>\n",
       "      <td>mukherjee</td>\n",
       "      <td>3</td>\n",
       "    </tr>\n",
       "    <tr>\n",
       "      <th>3</th>\n",
       "      <td>newtan</td>\n",
       "      <td>mukherjee</td>\n",
       "      <td>4</td>\n",
       "    </tr>\n",
       "  </tbody>\n",
       "</table>\n",
       "</div>"
      ],
      "text/plain": [
       "     name    surname  marks\n",
       "2  newtan  mukherjee      3\n",
       "3  newtan  mukherjee      4"
      ]
     },
     "execution_count": 106,
     "metadata": {},
     "output_type": "execute_result"
    }
   ],
   "source": [
    "df.tail(2)"
   ]
  },
  {
   "cell_type": "code",
   "execution_count": 107,
   "id": "3bdcd95f",
   "metadata": {},
   "outputs": [
    {
     "data": {
      "text/html": [
       "<div>\n",
       "<style scoped>\n",
       "    .dataframe tbody tr th:only-of-type {\n",
       "        vertical-align: middle;\n",
       "    }\n",
       "\n",
       "    .dataframe tbody tr th {\n",
       "        vertical-align: top;\n",
       "    }\n",
       "\n",
       "    .dataframe thead th {\n",
       "        text-align: right;\n",
       "    }\n",
       "</style>\n",
       "<table border=\"1\" class=\"dataframe\">\n",
       "  <thead>\n",
       "    <tr style=\"text-align: right;\">\n",
       "      <th></th>\n",
       "      <th>marks</th>\n",
       "    </tr>\n",
       "  </thead>\n",
       "  <tbody>\n",
       "    <tr>\n",
       "      <th>count</th>\n",
       "      <td>4.000000</td>\n",
       "    </tr>\n",
       "    <tr>\n",
       "      <th>mean</th>\n",
       "      <td>2.500000</td>\n",
       "    </tr>\n",
       "    <tr>\n",
       "      <th>std</th>\n",
       "      <td>1.290994</td>\n",
       "    </tr>\n",
       "    <tr>\n",
       "      <th>min</th>\n",
       "      <td>1.000000</td>\n",
       "    </tr>\n",
       "    <tr>\n",
       "      <th>25%</th>\n",
       "      <td>1.750000</td>\n",
       "    </tr>\n",
       "    <tr>\n",
       "      <th>50%</th>\n",
       "      <td>2.500000</td>\n",
       "    </tr>\n",
       "    <tr>\n",
       "      <th>75%</th>\n",
       "      <td>3.250000</td>\n",
       "    </tr>\n",
       "    <tr>\n",
       "      <th>max</th>\n",
       "      <td>4.000000</td>\n",
       "    </tr>\n",
       "  </tbody>\n",
       "</table>\n",
       "</div>"
      ],
      "text/plain": [
       "          marks\n",
       "count  4.000000\n",
       "mean   2.500000\n",
       "std    1.290994\n",
       "min    1.000000\n",
       "25%    1.750000\n",
       "50%    2.500000\n",
       "75%    3.250000\n",
       "max    4.000000"
      ]
     },
     "execution_count": 107,
     "metadata": {},
     "output_type": "execute_result"
    }
   ],
   "source": [
    "df.describe()  # Numerical columns statistical analysis"
   ]
  },
  {
   "cell_type": "code",
   "execution_count": 108,
   "id": "aeeb816e",
   "metadata": {},
   "outputs": [],
   "source": [
    "df2 = pd.read_csv('newtan.csv')"
   ]
  },
  {
   "cell_type": "code",
   "execution_count": 109,
   "id": "8caac654",
   "metadata": {},
   "outputs": [
    {
     "data": {
      "text/html": [
       "<div>\n",
       "<style scoped>\n",
       "    .dataframe tbody tr th:only-of-type {\n",
       "        vertical-align: middle;\n",
       "    }\n",
       "\n",
       "    .dataframe tbody tr th {\n",
       "        vertical-align: top;\n",
       "    }\n",
       "\n",
       "    .dataframe thead th {\n",
       "        text-align: right;\n",
       "    }\n",
       "</style>\n",
       "<table border=\"1\" class=\"dataframe\">\n",
       "  <thead>\n",
       "    <tr style=\"text-align: right;\">\n",
       "      <th></th>\n",
       "      <th>name</th>\n",
       "      <th>surname</th>\n",
       "      <th>marks</th>\n",
       "    </tr>\n",
       "  </thead>\n",
       "  <tbody>\n",
       "    <tr>\n",
       "      <th>0</th>\n",
       "      <td>newtan</td>\n",
       "      <td>mukherjee</td>\n",
       "      <td>1</td>\n",
       "    </tr>\n",
       "    <tr>\n",
       "      <th>1</th>\n",
       "      <td>newtan</td>\n",
       "      <td>mukherjee</td>\n",
       "      <td>2</td>\n",
       "    </tr>\n",
       "    <tr>\n",
       "      <th>2</th>\n",
       "      <td>newtan</td>\n",
       "      <td>mukherjee</td>\n",
       "      <td>3</td>\n",
       "    </tr>\n",
       "    <tr>\n",
       "      <th>3</th>\n",
       "      <td>newtan</td>\n",
       "      <td>mukherjee</td>\n",
       "      <td>4</td>\n",
       "    </tr>\n",
       "  </tbody>\n",
       "</table>\n",
       "</div>"
      ],
      "text/plain": [
       "     name    surname  marks\n",
       "0  newtan  mukherjee      1\n",
       "1  newtan  mukherjee      2\n",
       "2  newtan  mukherjee      3\n",
       "3  newtan  mukherjee      4"
      ]
     },
     "execution_count": 109,
     "metadata": {},
     "output_type": "execute_result"
    }
   ],
   "source": [
    "df2.head()"
   ]
  },
  {
   "cell_type": "code",
   "execution_count": 110,
   "id": "9500f3c9",
   "metadata": {},
   "outputs": [
    {
     "name": "stderr",
     "output_type": "stream",
     "text": [
      "C:\\Users\\my\\AppData\\Local\\Temp\\ipykernel_17924\\481601147.py:1: SettingWithCopyWarning: \n",
      "A value is trying to be set on a copy of a slice from a DataFrame\n",
      "\n",
      "See the caveats in the documentation: https://pandas.pydata.org/pandas-docs/stable/user_guide/indexing.html#returning-a-view-versus-a-copy\n",
      "  df['name'][1] = 'harsh'   # cgange values correponding to an index at a slice\n"
     ]
    }
   ],
   "source": [
    "df['name'][1] = 'harsh'   # cgange values correponding to an index at a slice"
   ]
  },
  {
   "cell_type": "code",
   "execution_count": 111,
   "id": "c42f1353",
   "metadata": {},
   "outputs": [
    {
     "data": {
      "text/html": [
       "<div>\n",
       "<style scoped>\n",
       "    .dataframe tbody tr th:only-of-type {\n",
       "        vertical-align: middle;\n",
       "    }\n",
       "\n",
       "    .dataframe tbody tr th {\n",
       "        vertical-align: top;\n",
       "    }\n",
       "\n",
       "    .dataframe thead th {\n",
       "        text-align: right;\n",
       "    }\n",
       "</style>\n",
       "<table border=\"1\" class=\"dataframe\">\n",
       "  <thead>\n",
       "    <tr style=\"text-align: right;\">\n",
       "      <th></th>\n",
       "      <th>name</th>\n",
       "      <th>surname</th>\n",
       "      <th>marks</th>\n",
       "    </tr>\n",
       "  </thead>\n",
       "  <tbody>\n",
       "    <tr>\n",
       "      <th>0</th>\n",
       "      <td>newtan</td>\n",
       "      <td>mukherjee</td>\n",
       "      <td>1</td>\n",
       "    </tr>\n",
       "    <tr>\n",
       "      <th>1</th>\n",
       "      <td>harsh</td>\n",
       "      <td>mukherjee</td>\n",
       "      <td>2</td>\n",
       "    </tr>\n",
       "    <tr>\n",
       "      <th>2</th>\n",
       "      <td>newtan</td>\n",
       "      <td>mukherjee</td>\n",
       "      <td>3</td>\n",
       "    </tr>\n",
       "    <tr>\n",
       "      <th>3</th>\n",
       "      <td>newtan</td>\n",
       "      <td>mukherjee</td>\n",
       "      <td>4</td>\n",
       "    </tr>\n",
       "  </tbody>\n",
       "</table>\n",
       "</div>"
      ],
      "text/plain": [
       "     name    surname  marks\n",
       "0  newtan  mukherjee      1\n",
       "1   harsh  mukherjee      2\n",
       "2  newtan  mukherjee      3\n",
       "3  newtan  mukherjee      4"
      ]
     },
     "execution_count": 111,
     "metadata": {},
     "output_type": "execute_result"
    }
   ],
   "source": [
    "df.head()"
   ]
  },
  {
   "cell_type": "code",
   "execution_count": 112,
   "id": "63745c5b",
   "metadata": {},
   "outputs": [],
   "source": [
    "df.index = ['first', 'second', 'third', 'fourth']"
   ]
  },
  {
   "cell_type": "code",
   "execution_count": 113,
   "id": "26387d59",
   "metadata": {},
   "outputs": [
    {
     "data": {
      "text/html": [
       "<div>\n",
       "<style scoped>\n",
       "    .dataframe tbody tr th:only-of-type {\n",
       "        vertical-align: middle;\n",
       "    }\n",
       "\n",
       "    .dataframe tbody tr th {\n",
       "        vertical-align: top;\n",
       "    }\n",
       "\n",
       "    .dataframe thead th {\n",
       "        text-align: right;\n",
       "    }\n",
       "</style>\n",
       "<table border=\"1\" class=\"dataframe\">\n",
       "  <thead>\n",
       "    <tr style=\"text-align: right;\">\n",
       "      <th></th>\n",
       "      <th>name</th>\n",
       "      <th>surname</th>\n",
       "      <th>marks</th>\n",
       "    </tr>\n",
       "  </thead>\n",
       "  <tbody>\n",
       "    <tr>\n",
       "      <th>first</th>\n",
       "      <td>newtan</td>\n",
       "      <td>mukherjee</td>\n",
       "      <td>1</td>\n",
       "    </tr>\n",
       "    <tr>\n",
       "      <th>second</th>\n",
       "      <td>harsh</td>\n",
       "      <td>mukherjee</td>\n",
       "      <td>2</td>\n",
       "    </tr>\n",
       "    <tr>\n",
       "      <th>third</th>\n",
       "      <td>newtan</td>\n",
       "      <td>mukherjee</td>\n",
       "      <td>3</td>\n",
       "    </tr>\n",
       "    <tr>\n",
       "      <th>fourth</th>\n",
       "      <td>newtan</td>\n",
       "      <td>mukherjee</td>\n",
       "      <td>4</td>\n",
       "    </tr>\n",
       "  </tbody>\n",
       "</table>\n",
       "</div>"
      ],
      "text/plain": [
       "          name    surname  marks\n",
       "first   newtan  mukherjee      1\n",
       "second   harsh  mukherjee      2\n",
       "third   newtan  mukherjee      3\n",
       "fourth  newtan  mukherjee      4"
      ]
     },
     "execution_count": 113,
     "metadata": {},
     "output_type": "execute_result"
    }
   ],
   "source": [
    "df.head()"
   ]
  },
  {
   "cell_type": "code",
   "execution_count": 114,
   "id": "190939ed",
   "metadata": {},
   "outputs": [],
   "source": [
    "ser = pd.Series(np.random.rand(5))"
   ]
  },
  {
   "cell_type": "code",
   "execution_count": 115,
   "id": "4968fd70",
   "metadata": {},
   "outputs": [
    {
     "data": {
      "text/plain": [
       "0    0.419632\n",
       "1    0.989871\n",
       "2    0.854071\n",
       "3    0.319279\n",
       "4    0.769079\n",
       "dtype: float64"
      ]
     },
     "execution_count": 115,
     "metadata": {},
     "output_type": "execute_result"
    }
   ],
   "source": [
    "ser"
   ]
  },
  {
   "cell_type": "code",
   "execution_count": 116,
   "id": "f1a98724",
   "metadata": {},
   "outputs": [
    {
     "name": "stdout",
     "output_type": "stream",
     "text": [
      "<class 'pandas.core.series.Series'>\n"
     ]
    }
   ],
   "source": [
    "print(type(ser))"
   ]
  },
  {
   "cell_type": "code",
   "execution_count": 117,
   "id": "a6030c25",
   "metadata": {},
   "outputs": [],
   "source": [
    "dataFrame =  pd.DataFrame(np.random.rand(5))"
   ]
  },
  {
   "cell_type": "code",
   "execution_count": 118,
   "id": "125fb73f",
   "metadata": {},
   "outputs": [
    {
     "data": {
      "text/html": [
       "<div>\n",
       "<style scoped>\n",
       "    .dataframe tbody tr th:only-of-type {\n",
       "        vertical-align: middle;\n",
       "    }\n",
       "\n",
       "    .dataframe tbody tr th {\n",
       "        vertical-align: top;\n",
       "    }\n",
       "\n",
       "    .dataframe thead th {\n",
       "        text-align: right;\n",
       "    }\n",
       "</style>\n",
       "<table border=\"1\" class=\"dataframe\">\n",
       "  <thead>\n",
       "    <tr style=\"text-align: right;\">\n",
       "      <th></th>\n",
       "      <th>0</th>\n",
       "    </tr>\n",
       "  </thead>\n",
       "  <tbody>\n",
       "    <tr>\n",
       "      <th>0</th>\n",
       "      <td>0.524386</td>\n",
       "    </tr>\n",
       "    <tr>\n",
       "      <th>1</th>\n",
       "      <td>0.166387</td>\n",
       "    </tr>\n",
       "    <tr>\n",
       "      <th>2</th>\n",
       "      <td>0.780932</td>\n",
       "    </tr>\n",
       "    <tr>\n",
       "      <th>3</th>\n",
       "      <td>0.681365</td>\n",
       "    </tr>\n",
       "    <tr>\n",
       "      <th>4</th>\n",
       "      <td>0.595382</td>\n",
       "    </tr>\n",
       "  </tbody>\n",
       "</table>\n",
       "</div>"
      ],
      "text/plain": [
       "          0\n",
       "0  0.524386\n",
       "1  0.166387\n",
       "2  0.780932\n",
       "3  0.681365\n",
       "4  0.595382"
      ]
     },
     "execution_count": 118,
     "metadata": {},
     "output_type": "execute_result"
    }
   ],
   "source": [
    "dataFrame.head()"
   ]
  },
  {
   "cell_type": "code",
   "execution_count": 119,
   "id": "01872278",
   "metadata": {},
   "outputs": [
    {
     "name": "stdout",
     "output_type": "stream",
     "text": [
      "<class 'pandas.core.frame.DataFrame'>\n"
     ]
    }
   ],
   "source": [
    "print(type(dataFrame))"
   ]
  },
  {
   "cell_type": "code",
   "execution_count": 120,
   "id": "f44f70fc",
   "metadata": {},
   "outputs": [],
   "source": [
    "dataFrame =  pd.DataFrame(np.random.rand(5,7))"
   ]
  },
  {
   "cell_type": "code",
   "execution_count": 121,
   "id": "3b20b765",
   "metadata": {},
   "outputs": [
    {
     "name": "stdout",
     "output_type": "stream",
     "text": [
      "          0         1         2         3         4         5         6\n",
      "0  0.326856  0.084446  0.608523  0.172650  0.665257  0.886400  0.579239\n",
      "1  0.478510  0.990280  0.391509  0.204213  0.779200  0.670630  0.993223\n",
      "2  0.476481  0.503598  0.667815  0.266115  0.829073  0.255410  0.596635\n",
      "3  0.050383  0.807997  0.342456  0.837508  0.717598  0.921567  0.702254\n",
      "4  0.205352  0.972982  0.311395  0.115636  0.381257  0.948770  0.380561\n"
     ]
    }
   ],
   "source": [
    "print(dataFrame)"
   ]
  },
  {
   "cell_type": "code",
   "execution_count": 122,
   "id": "e1da19f8",
   "metadata": {},
   "outputs": [
    {
     "data": {
      "text/html": [
       "<div>\n",
       "<style scoped>\n",
       "    .dataframe tbody tr th:only-of-type {\n",
       "        vertical-align: middle;\n",
       "    }\n",
       "\n",
       "    .dataframe tbody tr th {\n",
       "        vertical-align: top;\n",
       "    }\n",
       "\n",
       "    .dataframe thead th {\n",
       "        text-align: right;\n",
       "    }\n",
       "</style>\n",
       "<table border=\"1\" class=\"dataframe\">\n",
       "  <thead>\n",
       "    <tr style=\"text-align: right;\">\n",
       "      <th></th>\n",
       "      <th>0</th>\n",
       "      <th>1</th>\n",
       "      <th>2</th>\n",
       "      <th>3</th>\n",
       "      <th>4</th>\n",
       "      <th>5</th>\n",
       "      <th>6</th>\n",
       "    </tr>\n",
       "  </thead>\n",
       "  <tbody>\n",
       "    <tr>\n",
       "      <th>count</th>\n",
       "      <td>5.000000</td>\n",
       "      <td>5.000000</td>\n",
       "      <td>5.000000</td>\n",
       "      <td>5.000000</td>\n",
       "      <td>5.000000</td>\n",
       "      <td>5.000000</td>\n",
       "      <td>5.000000</td>\n",
       "    </tr>\n",
       "    <tr>\n",
       "      <th>mean</th>\n",
       "      <td>0.307516</td>\n",
       "      <td>0.671861</td>\n",
       "      <td>0.464339</td>\n",
       "      <td>0.319225</td>\n",
       "      <td>0.674477</td>\n",
       "      <td>0.736555</td>\n",
       "      <td>0.650382</td>\n",
       "    </tr>\n",
       "    <tr>\n",
       "      <th>std</th>\n",
       "      <td>0.183519</td>\n",
       "      <td>0.382089</td>\n",
       "      <td>0.162591</td>\n",
       "      <td>0.294788</td>\n",
       "      <td>0.175206</td>\n",
       "      <td>0.290502</td>\n",
       "      <td>0.224156</td>\n",
       "    </tr>\n",
       "    <tr>\n",
       "      <th>min</th>\n",
       "      <td>0.050383</td>\n",
       "      <td>0.084446</td>\n",
       "      <td>0.311395</td>\n",
       "      <td>0.115636</td>\n",
       "      <td>0.381257</td>\n",
       "      <td>0.255410</td>\n",
       "      <td>0.380561</td>\n",
       "    </tr>\n",
       "    <tr>\n",
       "      <th>25%</th>\n",
       "      <td>0.205352</td>\n",
       "      <td>0.503598</td>\n",
       "      <td>0.342456</td>\n",
       "      <td>0.172650</td>\n",
       "      <td>0.665257</td>\n",
       "      <td>0.670630</td>\n",
       "      <td>0.579239</td>\n",
       "    </tr>\n",
       "    <tr>\n",
       "      <th>50%</th>\n",
       "      <td>0.326856</td>\n",
       "      <td>0.807997</td>\n",
       "      <td>0.391509</td>\n",
       "      <td>0.204213</td>\n",
       "      <td>0.717598</td>\n",
       "      <td>0.886400</td>\n",
       "      <td>0.596635</td>\n",
       "    </tr>\n",
       "    <tr>\n",
       "      <th>75%</th>\n",
       "      <td>0.476481</td>\n",
       "      <td>0.972982</td>\n",
       "      <td>0.608523</td>\n",
       "      <td>0.266115</td>\n",
       "      <td>0.779200</td>\n",
       "      <td>0.921567</td>\n",
       "      <td>0.702254</td>\n",
       "    </tr>\n",
       "    <tr>\n",
       "      <th>max</th>\n",
       "      <td>0.478510</td>\n",
       "      <td>0.990280</td>\n",
       "      <td>0.667815</td>\n",
       "      <td>0.837508</td>\n",
       "      <td>0.829073</td>\n",
       "      <td>0.948770</td>\n",
       "      <td>0.993223</td>\n",
       "    </tr>\n",
       "  </tbody>\n",
       "</table>\n",
       "</div>"
      ],
      "text/plain": [
       "              0         1         2         3         4         5         6\n",
       "count  5.000000  5.000000  5.000000  5.000000  5.000000  5.000000  5.000000\n",
       "mean   0.307516  0.671861  0.464339  0.319225  0.674477  0.736555  0.650382\n",
       "std    0.183519  0.382089  0.162591  0.294788  0.175206  0.290502  0.224156\n",
       "min    0.050383  0.084446  0.311395  0.115636  0.381257  0.255410  0.380561\n",
       "25%    0.205352  0.503598  0.342456  0.172650  0.665257  0.670630  0.579239\n",
       "50%    0.326856  0.807997  0.391509  0.204213  0.717598  0.886400  0.596635\n",
       "75%    0.476481  0.972982  0.608523  0.266115  0.779200  0.921567  0.702254\n",
       "max    0.478510  0.990280  0.667815  0.837508  0.829073  0.948770  0.993223"
      ]
     },
     "execution_count": 122,
     "metadata": {},
     "output_type": "execute_result"
    }
   ],
   "source": [
    "dataFrame.describe()"
   ]
  },
  {
   "cell_type": "code",
   "execution_count": 123,
   "id": "22d9d686",
   "metadata": {},
   "outputs": [
    {
     "data": {
      "text/plain": [
       "0    float64\n",
       "1    float64\n",
       "2    float64\n",
       "3    float64\n",
       "4    float64\n",
       "5    float64\n",
       "6    float64\n",
       "dtype: object"
      ]
     },
     "execution_count": 123,
     "metadata": {},
     "output_type": "execute_result"
    }
   ],
   "source": [
    "dataFrame.dtypes"
   ]
  },
  {
   "cell_type": "code",
   "execution_count": 124,
   "id": "22b1e53e",
   "metadata": {},
   "outputs": [
    {
     "name": "stderr",
     "output_type": "stream",
     "text": [
      "C:\\Users\\my\\AppData\\Local\\Temp\\ipykernel_17924\\1538482231.py:1: FutureWarning: Setting an item of incompatible dtype is deprecated and will raise in a future error of pandas. Value 'harry' has dtype incompatible with float64, please explicitly cast to a compatible dtype first.\n",
      "  dataFrame[0][0] = 'harry'\n"
     ]
    }
   ],
   "source": [
    "dataFrame[0][0] = 'harry'"
   ]
  },
  {
   "cell_type": "code",
   "execution_count": 125,
   "id": "c0caa4f0",
   "metadata": {},
   "outputs": [
    {
     "data": {
      "text/plain": [
       "0     object\n",
       "1    float64\n",
       "2    float64\n",
       "3    float64\n",
       "4    float64\n",
       "5    float64\n",
       "6    float64\n",
       "dtype: object"
      ]
     },
     "execution_count": 125,
     "metadata": {},
     "output_type": "execute_result"
    }
   ],
   "source": [
    "dataFrame.dtypes"
   ]
  },
  {
   "cell_type": "code",
   "execution_count": 126,
   "id": "bb9b7a8f",
   "metadata": {},
   "outputs": [
    {
     "data": {
      "text/plain": [
       "RangeIndex(start=0, stop=5, step=1)"
      ]
     },
     "execution_count": 126,
     "metadata": {},
     "output_type": "execute_result"
    }
   ],
   "source": [
    "dataFrame.index"
   ]
  },
  {
   "cell_type": "code",
   "execution_count": 127,
   "id": "b29a1c7d",
   "metadata": {},
   "outputs": [
    {
     "data": {
      "text/plain": [
       "array([['harry', 0.08444568269975694, 0.6085228131362512,\n",
       "        0.17264990040080608, 0.6652573526284863, 0.8863998718381001,\n",
       "        0.5792392043567813],\n",
       "       [0.4785104837392683, 0.9902803906550616, 0.39150882026758826,\n",
       "        0.20421252289312497, 0.7791999296247594, 0.6706295030707298,\n",
       "        0.9932228833923346],\n",
       "       [0.476481411417327, 0.5035982591832826, 0.6678150040699432,\n",
       "        0.2661151522309626, 0.8290731044158557, 0.2554101412839117,\n",
       "        0.596634895871857],\n",
       "       [0.05038283341418259, 0.8079965132792987, 0.34245569832293143,\n",
       "        0.8375084513107337, 0.7175977881359038, 0.9215674169923793,\n",
       "        0.7022538388313249],\n",
       "       [0.20535170908763944, 0.9729823061412566, 0.311394959054057,\n",
       "        0.11563647316984871, 0.38125736825910306, 0.9487699142020414,\n",
       "        0.3805607405407335]], dtype=object)"
      ]
     },
     "execution_count": 127,
     "metadata": {},
     "output_type": "execute_result"
    }
   ],
   "source": [
    "dataFrame.to_numpy()"
   ]
  },
  {
   "cell_type": "code",
   "execution_count": 128,
   "id": "9eac4b94",
   "metadata": {},
   "outputs": [
    {
     "data": {
      "text/html": [
       "<div>\n",
       "<style scoped>\n",
       "    .dataframe tbody tr th:only-of-type {\n",
       "        vertical-align: middle;\n",
       "    }\n",
       "\n",
       "    .dataframe tbody tr th {\n",
       "        vertical-align: top;\n",
       "    }\n",
       "\n",
       "    .dataframe thead th {\n",
       "        text-align: right;\n",
       "    }\n",
       "</style>\n",
       "<table border=\"1\" class=\"dataframe\">\n",
       "  <thead>\n",
       "    <tr style=\"text-align: right;\">\n",
       "      <th></th>\n",
       "      <th>0</th>\n",
       "      <th>1</th>\n",
       "      <th>2</th>\n",
       "      <th>3</th>\n",
       "      <th>4</th>\n",
       "    </tr>\n",
       "  </thead>\n",
       "  <tbody>\n",
       "    <tr>\n",
       "      <th>0</th>\n",
       "      <td>harry</td>\n",
       "      <td>0.47851</td>\n",
       "      <td>0.476481</td>\n",
       "      <td>0.050383</td>\n",
       "      <td>0.205352</td>\n",
       "    </tr>\n",
       "    <tr>\n",
       "      <th>1</th>\n",
       "      <td>0.084446</td>\n",
       "      <td>0.99028</td>\n",
       "      <td>0.503598</td>\n",
       "      <td>0.807997</td>\n",
       "      <td>0.972982</td>\n",
       "    </tr>\n",
       "    <tr>\n",
       "      <th>2</th>\n",
       "      <td>0.608523</td>\n",
       "      <td>0.391509</td>\n",
       "      <td>0.667815</td>\n",
       "      <td>0.342456</td>\n",
       "      <td>0.311395</td>\n",
       "    </tr>\n",
       "    <tr>\n",
       "      <th>3</th>\n",
       "      <td>0.17265</td>\n",
       "      <td>0.204213</td>\n",
       "      <td>0.266115</td>\n",
       "      <td>0.837508</td>\n",
       "      <td>0.115636</td>\n",
       "    </tr>\n",
       "    <tr>\n",
       "      <th>4</th>\n",
       "      <td>0.665257</td>\n",
       "      <td>0.7792</td>\n",
       "      <td>0.829073</td>\n",
       "      <td>0.717598</td>\n",
       "      <td>0.381257</td>\n",
       "    </tr>\n",
       "    <tr>\n",
       "      <th>5</th>\n",
       "      <td>0.8864</td>\n",
       "      <td>0.67063</td>\n",
       "      <td>0.25541</td>\n",
       "      <td>0.921567</td>\n",
       "      <td>0.94877</td>\n",
       "    </tr>\n",
       "    <tr>\n",
       "      <th>6</th>\n",
       "      <td>0.579239</td>\n",
       "      <td>0.993223</td>\n",
       "      <td>0.596635</td>\n",
       "      <td>0.702254</td>\n",
       "      <td>0.380561</td>\n",
       "    </tr>\n",
       "  </tbody>\n",
       "</table>\n",
       "</div>"
      ],
      "text/plain": [
       "          0         1         2         3         4\n",
       "0     harry   0.47851  0.476481  0.050383  0.205352\n",
       "1  0.084446   0.99028  0.503598  0.807997  0.972982\n",
       "2  0.608523  0.391509  0.667815  0.342456  0.311395\n",
       "3   0.17265  0.204213  0.266115  0.837508  0.115636\n",
       "4  0.665257    0.7792  0.829073  0.717598  0.381257\n",
       "5    0.8864   0.67063   0.25541  0.921567   0.94877\n",
       "6  0.579239  0.993223  0.596635  0.702254  0.380561"
      ]
     },
     "execution_count": 128,
     "metadata": {},
     "output_type": "execute_result"
    }
   ],
   "source": [
    "dataFrame.T"
   ]
  },
  {
   "cell_type": "code",
   "execution_count": 129,
   "id": "80654800",
   "metadata": {},
   "outputs": [
    {
     "data": {
      "text/html": [
       "<div>\n",
       "<style scoped>\n",
       "    .dataframe tbody tr th:only-of-type {\n",
       "        vertical-align: middle;\n",
       "    }\n",
       "\n",
       "    .dataframe tbody tr th {\n",
       "        vertical-align: top;\n",
       "    }\n",
       "\n",
       "    .dataframe thead th {\n",
       "        text-align: right;\n",
       "    }\n",
       "</style>\n",
       "<table border=\"1\" class=\"dataframe\">\n",
       "  <thead>\n",
       "    <tr style=\"text-align: right;\">\n",
       "      <th></th>\n",
       "      <th>0</th>\n",
       "      <th>1</th>\n",
       "      <th>2</th>\n",
       "      <th>3</th>\n",
       "      <th>4</th>\n",
       "      <th>5</th>\n",
       "      <th>6</th>\n",
       "    </tr>\n",
       "  </thead>\n",
       "  <tbody>\n",
       "    <tr>\n",
       "      <th>4</th>\n",
       "      <td>0.205352</td>\n",
       "      <td>0.972982</td>\n",
       "      <td>0.311395</td>\n",
       "      <td>0.115636</td>\n",
       "      <td>0.381257</td>\n",
       "      <td>0.948770</td>\n",
       "      <td>0.380561</td>\n",
       "    </tr>\n",
       "    <tr>\n",
       "      <th>3</th>\n",
       "      <td>0.050383</td>\n",
       "      <td>0.807997</td>\n",
       "      <td>0.342456</td>\n",
       "      <td>0.837508</td>\n",
       "      <td>0.717598</td>\n",
       "      <td>0.921567</td>\n",
       "      <td>0.702254</td>\n",
       "    </tr>\n",
       "    <tr>\n",
       "      <th>2</th>\n",
       "      <td>0.476481</td>\n",
       "      <td>0.503598</td>\n",
       "      <td>0.667815</td>\n",
       "      <td>0.266115</td>\n",
       "      <td>0.829073</td>\n",
       "      <td>0.255410</td>\n",
       "      <td>0.596635</td>\n",
       "    </tr>\n",
       "    <tr>\n",
       "      <th>1</th>\n",
       "      <td>0.47851</td>\n",
       "      <td>0.990280</td>\n",
       "      <td>0.391509</td>\n",
       "      <td>0.204213</td>\n",
       "      <td>0.779200</td>\n",
       "      <td>0.670630</td>\n",
       "      <td>0.993223</td>\n",
       "    </tr>\n",
       "    <tr>\n",
       "      <th>0</th>\n",
       "      <td>harry</td>\n",
       "      <td>0.084446</td>\n",
       "      <td>0.608523</td>\n",
       "      <td>0.172650</td>\n",
       "      <td>0.665257</td>\n",
       "      <td>0.886400</td>\n",
       "      <td>0.579239</td>\n",
       "    </tr>\n",
       "  </tbody>\n",
       "</table>\n",
       "</div>"
      ],
      "text/plain": [
       "          0         1         2         3         4         5         6\n",
       "4  0.205352  0.972982  0.311395  0.115636  0.381257  0.948770  0.380561\n",
       "3  0.050383  0.807997  0.342456  0.837508  0.717598  0.921567  0.702254\n",
       "2  0.476481  0.503598  0.667815  0.266115  0.829073  0.255410  0.596635\n",
       "1   0.47851  0.990280  0.391509  0.204213  0.779200  0.670630  0.993223\n",
       "0     harry  0.084446  0.608523  0.172650  0.665257  0.886400  0.579239"
      ]
     },
     "execution_count": 129,
     "metadata": {},
     "output_type": "execute_result"
    }
   ],
   "source": [
    "dataFrame.sort_index(axis=0, ascending = False)"
   ]
  },
  {
   "cell_type": "code",
   "execution_count": 130,
   "id": "73545dba",
   "metadata": {},
   "outputs": [
    {
     "data": {
      "text/html": [
       "<div>\n",
       "<style scoped>\n",
       "    .dataframe tbody tr th:only-of-type {\n",
       "        vertical-align: middle;\n",
       "    }\n",
       "\n",
       "    .dataframe tbody tr th {\n",
       "        vertical-align: top;\n",
       "    }\n",
       "\n",
       "    .dataframe thead th {\n",
       "        text-align: right;\n",
       "    }\n",
       "</style>\n",
       "<table border=\"1\" class=\"dataframe\">\n",
       "  <thead>\n",
       "    <tr style=\"text-align: right;\">\n",
       "      <th></th>\n",
       "      <th>6</th>\n",
       "      <th>5</th>\n",
       "      <th>4</th>\n",
       "      <th>3</th>\n",
       "      <th>2</th>\n",
       "      <th>1</th>\n",
       "      <th>0</th>\n",
       "    </tr>\n",
       "  </thead>\n",
       "  <tbody>\n",
       "    <tr>\n",
       "      <th>0</th>\n",
       "      <td>0.579239</td>\n",
       "      <td>0.886400</td>\n",
       "      <td>0.665257</td>\n",
       "      <td>0.172650</td>\n",
       "      <td>0.608523</td>\n",
       "      <td>0.084446</td>\n",
       "      <td>harry</td>\n",
       "    </tr>\n",
       "    <tr>\n",
       "      <th>1</th>\n",
       "      <td>0.993223</td>\n",
       "      <td>0.670630</td>\n",
       "      <td>0.779200</td>\n",
       "      <td>0.204213</td>\n",
       "      <td>0.391509</td>\n",
       "      <td>0.990280</td>\n",
       "      <td>0.47851</td>\n",
       "    </tr>\n",
       "    <tr>\n",
       "      <th>2</th>\n",
       "      <td>0.596635</td>\n",
       "      <td>0.255410</td>\n",
       "      <td>0.829073</td>\n",
       "      <td>0.266115</td>\n",
       "      <td>0.667815</td>\n",
       "      <td>0.503598</td>\n",
       "      <td>0.476481</td>\n",
       "    </tr>\n",
       "    <tr>\n",
       "      <th>3</th>\n",
       "      <td>0.702254</td>\n",
       "      <td>0.921567</td>\n",
       "      <td>0.717598</td>\n",
       "      <td>0.837508</td>\n",
       "      <td>0.342456</td>\n",
       "      <td>0.807997</td>\n",
       "      <td>0.050383</td>\n",
       "    </tr>\n",
       "    <tr>\n",
       "      <th>4</th>\n",
       "      <td>0.380561</td>\n",
       "      <td>0.948770</td>\n",
       "      <td>0.381257</td>\n",
       "      <td>0.115636</td>\n",
       "      <td>0.311395</td>\n",
       "      <td>0.972982</td>\n",
       "      <td>0.205352</td>\n",
       "    </tr>\n",
       "  </tbody>\n",
       "</table>\n",
       "</div>"
      ],
      "text/plain": [
       "          6         5         4         3         2         1         0\n",
       "0  0.579239  0.886400  0.665257  0.172650  0.608523  0.084446     harry\n",
       "1  0.993223  0.670630  0.779200  0.204213  0.391509  0.990280   0.47851\n",
       "2  0.596635  0.255410  0.829073  0.266115  0.667815  0.503598  0.476481\n",
       "3  0.702254  0.921567  0.717598  0.837508  0.342456  0.807997  0.050383\n",
       "4  0.380561  0.948770  0.381257  0.115636  0.311395  0.972982  0.205352"
      ]
     },
     "execution_count": 130,
     "metadata": {},
     "output_type": "execute_result"
    }
   ],
   "source": [
    "dataFrame.sort_index(axis=1, ascending = False)"
   ]
  },
  {
   "cell_type": "code",
   "execution_count": 131,
   "id": "49419da8",
   "metadata": {},
   "outputs": [
    {
     "data": {
      "text/plain": [
       "pandas.core.series.Series"
      ]
     },
     "execution_count": 131,
     "metadata": {},
     "output_type": "execute_result"
    }
   ],
   "source": [
    "type(dataFrame[0])"
   ]
  },
  {
   "cell_type": "code",
   "execution_count": 132,
   "id": "f7edd9f5",
   "metadata": {},
   "outputs": [],
   "source": [
    "newdf2 = dataFrame.copy()"
   ]
  },
  {
   "cell_type": "code",
   "execution_count": 133,
   "id": "425df9ca",
   "metadata": {},
   "outputs": [
    {
     "data": {
      "text/html": [
       "<div>\n",
       "<style scoped>\n",
       "    .dataframe tbody tr th:only-of-type {\n",
       "        vertical-align: middle;\n",
       "    }\n",
       "\n",
       "    .dataframe tbody tr th {\n",
       "        vertical-align: top;\n",
       "    }\n",
       "\n",
       "    .dataframe thead th {\n",
       "        text-align: right;\n",
       "    }\n",
       "</style>\n",
       "<table border=\"1\" class=\"dataframe\">\n",
       "  <thead>\n",
       "    <tr style=\"text-align: right;\">\n",
       "      <th></th>\n",
       "      <th>0</th>\n",
       "      <th>1</th>\n",
       "      <th>2</th>\n",
       "      <th>3</th>\n",
       "      <th>4</th>\n",
       "      <th>5</th>\n",
       "      <th>6</th>\n",
       "    </tr>\n",
       "  </thead>\n",
       "  <tbody>\n",
       "    <tr>\n",
       "      <th>0</th>\n",
       "      <td>harry</td>\n",
       "      <td>0.084446</td>\n",
       "      <td>0.608523</td>\n",
       "      <td>0.172650</td>\n",
       "      <td>0.665257</td>\n",
       "      <td>0.886400</td>\n",
       "      <td>0.579239</td>\n",
       "    </tr>\n",
       "    <tr>\n",
       "      <th>1</th>\n",
       "      <td>0.47851</td>\n",
       "      <td>0.990280</td>\n",
       "      <td>0.391509</td>\n",
       "      <td>0.204213</td>\n",
       "      <td>0.779200</td>\n",
       "      <td>0.670630</td>\n",
       "      <td>0.993223</td>\n",
       "    </tr>\n",
       "    <tr>\n",
       "      <th>2</th>\n",
       "      <td>0.476481</td>\n",
       "      <td>0.503598</td>\n",
       "      <td>0.667815</td>\n",
       "      <td>0.266115</td>\n",
       "      <td>0.829073</td>\n",
       "      <td>0.255410</td>\n",
       "      <td>0.596635</td>\n",
       "    </tr>\n",
       "    <tr>\n",
       "      <th>3</th>\n",
       "      <td>0.050383</td>\n",
       "      <td>0.807997</td>\n",
       "      <td>0.342456</td>\n",
       "      <td>0.837508</td>\n",
       "      <td>0.717598</td>\n",
       "      <td>0.921567</td>\n",
       "      <td>0.702254</td>\n",
       "    </tr>\n",
       "    <tr>\n",
       "      <th>4</th>\n",
       "      <td>0.205352</td>\n",
       "      <td>0.972982</td>\n",
       "      <td>0.311395</td>\n",
       "      <td>0.115636</td>\n",
       "      <td>0.381257</td>\n",
       "      <td>0.948770</td>\n",
       "      <td>0.380561</td>\n",
       "    </tr>\n",
       "  </tbody>\n",
       "</table>\n",
       "</div>"
      ],
      "text/plain": [
       "          0         1         2         3         4         5         6\n",
       "0     harry  0.084446  0.608523  0.172650  0.665257  0.886400  0.579239\n",
       "1   0.47851  0.990280  0.391509  0.204213  0.779200  0.670630  0.993223\n",
       "2  0.476481  0.503598  0.667815  0.266115  0.829073  0.255410  0.596635\n",
       "3  0.050383  0.807997  0.342456  0.837508  0.717598  0.921567  0.702254\n",
       "4  0.205352  0.972982  0.311395  0.115636  0.381257  0.948770  0.380561"
      ]
     },
     "execution_count": 133,
     "metadata": {},
     "output_type": "execute_result"
    }
   ],
   "source": [
    "newdf2"
   ]
  },
  {
   "cell_type": "code",
   "execution_count": 134,
   "id": "4008e6c4",
   "metadata": {},
   "outputs": [],
   "source": [
    "newdf2.columns = list(\"ABCDEFG\")"
   ]
  },
  {
   "cell_type": "code",
   "execution_count": 136,
   "id": "2e716cca",
   "metadata": {},
   "outputs": [
    {
     "data": {
      "text/html": [
       "<div>\n",
       "<style scoped>\n",
       "    .dataframe tbody tr th:only-of-type {\n",
       "        vertical-align: middle;\n",
       "    }\n",
       "\n",
       "    .dataframe tbody tr th {\n",
       "        vertical-align: top;\n",
       "    }\n",
       "\n",
       "    .dataframe thead th {\n",
       "        text-align: right;\n",
       "    }\n",
       "</style>\n",
       "<table border=\"1\" class=\"dataframe\">\n",
       "  <thead>\n",
       "    <tr style=\"text-align: right;\">\n",
       "      <th></th>\n",
       "      <th>A</th>\n",
       "      <th>B</th>\n",
       "      <th>C</th>\n",
       "      <th>D</th>\n",
       "      <th>E</th>\n",
       "      <th>F</th>\n",
       "      <th>G</th>\n",
       "    </tr>\n",
       "  </thead>\n",
       "  <tbody>\n",
       "    <tr>\n",
       "      <th>0</th>\n",
       "      <td>harry</td>\n",
       "      <td>0.084446</td>\n",
       "      <td>0.608523</td>\n",
       "      <td>0.172650</td>\n",
       "      <td>0.665257</td>\n",
       "      <td>0.886400</td>\n",
       "      <td>0.579239</td>\n",
       "    </tr>\n",
       "    <tr>\n",
       "      <th>1</th>\n",
       "      <td>0.47851</td>\n",
       "      <td>0.990280</td>\n",
       "      <td>0.391509</td>\n",
       "      <td>0.204213</td>\n",
       "      <td>0.779200</td>\n",
       "      <td>0.670630</td>\n",
       "      <td>0.993223</td>\n",
       "    </tr>\n",
       "    <tr>\n",
       "      <th>2</th>\n",
       "      <td>0.476481</td>\n",
       "      <td>0.503598</td>\n",
       "      <td>0.667815</td>\n",
       "      <td>0.266115</td>\n",
       "      <td>0.829073</td>\n",
       "      <td>0.255410</td>\n",
       "      <td>0.596635</td>\n",
       "    </tr>\n",
       "    <tr>\n",
       "      <th>3</th>\n",
       "      <td>0.050383</td>\n",
       "      <td>0.807997</td>\n",
       "      <td>0.342456</td>\n",
       "      <td>0.837508</td>\n",
       "      <td>0.717598</td>\n",
       "      <td>0.921567</td>\n",
       "      <td>0.702254</td>\n",
       "    </tr>\n",
       "    <tr>\n",
       "      <th>4</th>\n",
       "      <td>0.205352</td>\n",
       "      <td>0.972982</td>\n",
       "      <td>0.311395</td>\n",
       "      <td>0.115636</td>\n",
       "      <td>0.381257</td>\n",
       "      <td>0.948770</td>\n",
       "      <td>0.380561</td>\n",
       "    </tr>\n",
       "  </tbody>\n",
       "</table>\n",
       "</div>"
      ],
      "text/plain": [
       "          A         B         C         D         E         F         G\n",
       "0     harry  0.084446  0.608523  0.172650  0.665257  0.886400  0.579239\n",
       "1   0.47851  0.990280  0.391509  0.204213  0.779200  0.670630  0.993223\n",
       "2  0.476481  0.503598  0.667815  0.266115  0.829073  0.255410  0.596635\n",
       "3  0.050383  0.807997  0.342456  0.837508  0.717598  0.921567  0.702254\n",
       "4  0.205352  0.972982  0.311395  0.115636  0.381257  0.948770  0.380561"
      ]
     },
     "execution_count": 136,
     "metadata": {},
     "output_type": "execute_result"
    }
   ],
   "source": [
    "newdf2"
   ]
  },
  {
   "cell_type": "code",
   "execution_count": 137,
   "id": "e2a23138",
   "metadata": {
    "scrolled": true
   },
   "outputs": [
    {
     "name": "stderr",
     "output_type": "stream",
     "text": [
      "C:\\Users\\my\\AppData\\Local\\Temp\\ipykernel_17924\\1087135841.py:1: FutureWarning: Setting an item of incompatible dtype is deprecated and will raise in a future error of pandas. Value '3C' has dtype incompatible with float64, please explicitly cast to a compatible dtype first.\n",
      "  newdf2.loc[3,'C'] = \"3C\"\n"
     ]
    }
   ],
   "source": [
    "newdf2.loc[3,'C'] = \"3C\""
   ]
  },
  {
   "cell_type": "code",
   "execution_count": 146,
   "id": "ad95a1ef",
   "metadata": {},
   "outputs": [
    {
     "data": {
      "text/html": [
       "<div>\n",
       "<style scoped>\n",
       "    .dataframe tbody tr th:only-of-type {\n",
       "        vertical-align: middle;\n",
       "    }\n",
       "\n",
       "    .dataframe tbody tr th {\n",
       "        vertical-align: top;\n",
       "    }\n",
       "\n",
       "    .dataframe thead th {\n",
       "        text-align: right;\n",
       "    }\n",
       "</style>\n",
       "<table border=\"1\" class=\"dataframe\">\n",
       "  <thead>\n",
       "    <tr style=\"text-align: right;\">\n",
       "      <th></th>\n",
       "      <th>A</th>\n",
       "      <th>B</th>\n",
       "      <th>C</th>\n",
       "      <th>D</th>\n",
       "      <th>E</th>\n",
       "      <th>F</th>\n",
       "      <th>G</th>\n",
       "    </tr>\n",
       "  </thead>\n",
       "  <tbody>\n",
       "    <tr>\n",
       "      <th>0</th>\n",
       "      <td>harry</td>\n",
       "      <td>0.084446</td>\n",
       "      <td>0.608523</td>\n",
       "      <td>0.172650</td>\n",
       "      <td>0.665257</td>\n",
       "      <td>0.886400</td>\n",
       "      <td>0.579239</td>\n",
       "    </tr>\n",
       "    <tr>\n",
       "      <th>1</th>\n",
       "      <td>0.47851</td>\n",
       "      <td>0.990280</td>\n",
       "      <td>0.391509</td>\n",
       "      <td>0.204213</td>\n",
       "      <td>0.779200</td>\n",
       "      <td>0.670630</td>\n",
       "      <td>0.993223</td>\n",
       "    </tr>\n",
       "    <tr>\n",
       "      <th>2</th>\n",
       "      <td>0.476481</td>\n",
       "      <td>0.503598</td>\n",
       "      <td>0.667815</td>\n",
       "      <td>0.266115</td>\n",
       "      <td>0.829073</td>\n",
       "      <td>0.255410</td>\n",
       "      <td>0.596635</td>\n",
       "    </tr>\n",
       "    <tr>\n",
       "      <th>3</th>\n",
       "      <td>0.050383</td>\n",
       "      <td>0.807997</td>\n",
       "      <td>3C</td>\n",
       "      <td>0.837508</td>\n",
       "      <td>0.717598</td>\n",
       "      <td>0.921567</td>\n",
       "      <td>0.702254</td>\n",
       "    </tr>\n",
       "    <tr>\n",
       "      <th>4</th>\n",
       "      <td>0.205352</td>\n",
       "      <td>0.972982</td>\n",
       "      <td>0.311395</td>\n",
       "      <td>0.115636</td>\n",
       "      <td>0.381257</td>\n",
       "      <td>0.948770</td>\n",
       "      <td>0.380561</td>\n",
       "    </tr>\n",
       "  </tbody>\n",
       "</table>\n",
       "</div>"
      ],
      "text/plain": [
       "          A         B         C         D         E         F         G\n",
       "0     harry  0.084446  0.608523  0.172650  0.665257  0.886400  0.579239\n",
       "1   0.47851  0.990280  0.391509  0.204213  0.779200  0.670630  0.993223\n",
       "2  0.476481  0.503598  0.667815  0.266115  0.829073  0.255410  0.596635\n",
       "3  0.050383  0.807997        3C  0.837508  0.717598  0.921567  0.702254\n",
       "4  0.205352  0.972982  0.311395  0.115636  0.381257  0.948770  0.380561"
      ]
     },
     "execution_count": 146,
     "metadata": {},
     "output_type": "execute_result"
    }
   ],
   "source": [
    "newdf2"
   ]
  },
  {
   "cell_type": "code",
   "execution_count": 147,
   "id": "cd0005bf",
   "metadata": {},
   "outputs": [],
   "source": [
    "newdf2.loc[[1,3],['A', 'C']] = \"3C\""
   ]
  },
  {
   "cell_type": "code",
   "execution_count": 148,
   "id": "eb8cf973",
   "metadata": {},
   "outputs": [
    {
     "data": {
      "text/html": [
       "<div>\n",
       "<style scoped>\n",
       "    .dataframe tbody tr th:only-of-type {\n",
       "        vertical-align: middle;\n",
       "    }\n",
       "\n",
       "    .dataframe tbody tr th {\n",
       "        vertical-align: top;\n",
       "    }\n",
       "\n",
       "    .dataframe thead th {\n",
       "        text-align: right;\n",
       "    }\n",
       "</style>\n",
       "<table border=\"1\" class=\"dataframe\">\n",
       "  <thead>\n",
       "    <tr style=\"text-align: right;\">\n",
       "      <th></th>\n",
       "      <th>A</th>\n",
       "      <th>B</th>\n",
       "      <th>C</th>\n",
       "      <th>D</th>\n",
       "      <th>E</th>\n",
       "      <th>F</th>\n",
       "      <th>G</th>\n",
       "    </tr>\n",
       "  </thead>\n",
       "  <tbody>\n",
       "    <tr>\n",
       "      <th>0</th>\n",
       "      <td>harry</td>\n",
       "      <td>0.084446</td>\n",
       "      <td>0.608523</td>\n",
       "      <td>0.172650</td>\n",
       "      <td>0.665257</td>\n",
       "      <td>0.886400</td>\n",
       "      <td>0.579239</td>\n",
       "    </tr>\n",
       "    <tr>\n",
       "      <th>1</th>\n",
       "      <td>3C</td>\n",
       "      <td>0.990280</td>\n",
       "      <td>3C</td>\n",
       "      <td>0.204213</td>\n",
       "      <td>0.779200</td>\n",
       "      <td>0.670630</td>\n",
       "      <td>0.993223</td>\n",
       "    </tr>\n",
       "    <tr>\n",
       "      <th>2</th>\n",
       "      <td>0.476481</td>\n",
       "      <td>0.503598</td>\n",
       "      <td>0.667815</td>\n",
       "      <td>0.266115</td>\n",
       "      <td>0.829073</td>\n",
       "      <td>0.255410</td>\n",
       "      <td>0.596635</td>\n",
       "    </tr>\n",
       "    <tr>\n",
       "      <th>3</th>\n",
       "      <td>3C</td>\n",
       "      <td>0.807997</td>\n",
       "      <td>3C</td>\n",
       "      <td>0.837508</td>\n",
       "      <td>0.717598</td>\n",
       "      <td>0.921567</td>\n",
       "      <td>0.702254</td>\n",
       "    </tr>\n",
       "    <tr>\n",
       "      <th>4</th>\n",
       "      <td>0.205352</td>\n",
       "      <td>0.972982</td>\n",
       "      <td>0.311395</td>\n",
       "      <td>0.115636</td>\n",
       "      <td>0.381257</td>\n",
       "      <td>0.948770</td>\n",
       "      <td>0.380561</td>\n",
       "    </tr>\n",
       "  </tbody>\n",
       "</table>\n",
       "</div>"
      ],
      "text/plain": [
       "          A         B         C         D         E         F         G\n",
       "0     harry  0.084446  0.608523  0.172650  0.665257  0.886400  0.579239\n",
       "1        3C  0.990280        3C  0.204213  0.779200  0.670630  0.993223\n",
       "2  0.476481  0.503598  0.667815  0.266115  0.829073  0.255410  0.596635\n",
       "3        3C  0.807997        3C  0.837508  0.717598  0.921567  0.702254\n",
       "4  0.205352  0.972982  0.311395  0.115636  0.381257  0.948770  0.380561"
      ]
     },
     "execution_count": 148,
     "metadata": {},
     "output_type": "execute_result"
    }
   ],
   "source": [
    "newdf2"
   ]
  },
  {
   "cell_type": "code",
   "execution_count": 149,
   "id": "1d08a949",
   "metadata": {},
   "outputs": [
    {
     "data": {
      "text/html": [
       "<div>\n",
       "<style scoped>\n",
       "    .dataframe tbody tr th:only-of-type {\n",
       "        vertical-align: middle;\n",
       "    }\n",
       "\n",
       "    .dataframe tbody tr th {\n",
       "        vertical-align: top;\n",
       "    }\n",
       "\n",
       "    .dataframe thead th {\n",
       "        text-align: right;\n",
       "    }\n",
       "</style>\n",
       "<table border=\"1\" class=\"dataframe\">\n",
       "  <thead>\n",
       "    <tr style=\"text-align: right;\">\n",
       "      <th></th>\n",
       "      <th>A</th>\n",
       "      <th>B</th>\n",
       "      <th>D</th>\n",
       "      <th>E</th>\n",
       "      <th>F</th>\n",
       "      <th>G</th>\n",
       "    </tr>\n",
       "  </thead>\n",
       "  <tbody>\n",
       "    <tr>\n",
       "      <th>0</th>\n",
       "      <td>harry</td>\n",
       "      <td>0.084446</td>\n",
       "      <td>0.172650</td>\n",
       "      <td>0.665257</td>\n",
       "      <td>0.886400</td>\n",
       "      <td>0.579239</td>\n",
       "    </tr>\n",
       "    <tr>\n",
       "      <th>1</th>\n",
       "      <td>3C</td>\n",
       "      <td>0.990280</td>\n",
       "      <td>0.204213</td>\n",
       "      <td>0.779200</td>\n",
       "      <td>0.670630</td>\n",
       "      <td>0.993223</td>\n",
       "    </tr>\n",
       "    <tr>\n",
       "      <th>2</th>\n",
       "      <td>0.476481</td>\n",
       "      <td>0.503598</td>\n",
       "      <td>0.266115</td>\n",
       "      <td>0.829073</td>\n",
       "      <td>0.255410</td>\n",
       "      <td>0.596635</td>\n",
       "    </tr>\n",
       "    <tr>\n",
       "      <th>3</th>\n",
       "      <td>3C</td>\n",
       "      <td>0.807997</td>\n",
       "      <td>0.837508</td>\n",
       "      <td>0.717598</td>\n",
       "      <td>0.921567</td>\n",
       "      <td>0.702254</td>\n",
       "    </tr>\n",
       "    <tr>\n",
       "      <th>4</th>\n",
       "      <td>0.205352</td>\n",
       "      <td>0.972982</td>\n",
       "      <td>0.115636</td>\n",
       "      <td>0.381257</td>\n",
       "      <td>0.948770</td>\n",
       "      <td>0.380561</td>\n",
       "    </tr>\n",
       "  </tbody>\n",
       "</table>\n",
       "</div>"
      ],
      "text/plain": [
       "          A         B         D         E         F         G\n",
       "0     harry  0.084446  0.172650  0.665257  0.886400  0.579239\n",
       "1        3C  0.990280  0.204213  0.779200  0.670630  0.993223\n",
       "2  0.476481  0.503598  0.266115  0.829073  0.255410  0.596635\n",
       "3        3C  0.807997  0.837508  0.717598  0.921567  0.702254\n",
       "4  0.205352  0.972982  0.115636  0.381257  0.948770  0.380561"
      ]
     },
     "execution_count": 149,
     "metadata": {},
     "output_type": "execute_result"
    }
   ],
   "source": [
    "newdf2.drop(\"C\", axis=1) # Drop this column"
   ]
  },
  {
   "cell_type": "code",
   "execution_count": 151,
   "id": "e4ff5ab1",
   "metadata": {},
   "outputs": [
    {
     "data": {
      "text/html": [
       "<div>\n",
       "<style scoped>\n",
       "    .dataframe tbody tr th:only-of-type {\n",
       "        vertical-align: middle;\n",
       "    }\n",
       "\n",
       "    .dataframe tbody tr th {\n",
       "        vertical-align: top;\n",
       "    }\n",
       "\n",
       "    .dataframe thead th {\n",
       "        text-align: right;\n",
       "    }\n",
       "</style>\n",
       "<table border=\"1\" class=\"dataframe\">\n",
       "  <thead>\n",
       "    <tr style=\"text-align: right;\">\n",
       "      <th></th>\n",
       "      <th>A</th>\n",
       "      <th>B</th>\n",
       "      <th>C</th>\n",
       "      <th>D</th>\n",
       "      <th>E</th>\n",
       "      <th>F</th>\n",
       "      <th>G</th>\n",
       "    </tr>\n",
       "  </thead>\n",
       "  <tbody>\n",
       "    <tr>\n",
       "      <th>1</th>\n",
       "      <td>3C</td>\n",
       "      <td>0.990280</td>\n",
       "      <td>3C</td>\n",
       "      <td>0.204213</td>\n",
       "      <td>0.779200</td>\n",
       "      <td>0.67063</td>\n",
       "      <td>0.993223</td>\n",
       "    </tr>\n",
       "    <tr>\n",
       "      <th>2</th>\n",
       "      <td>0.476481</td>\n",
       "      <td>0.503598</td>\n",
       "      <td>0.667815</td>\n",
       "      <td>0.266115</td>\n",
       "      <td>0.829073</td>\n",
       "      <td>0.25541</td>\n",
       "      <td>0.596635</td>\n",
       "    </tr>\n",
       "  </tbody>\n",
       "</table>\n",
       "</div>"
      ],
      "text/plain": [
       "          A         B         C         D         E        F         G\n",
       "1        3C  0.990280        3C  0.204213  0.779200  0.67063  0.993223\n",
       "2  0.476481  0.503598  0.667815  0.266115  0.829073  0.25541  0.596635"
      ]
     },
     "execution_count": 151,
     "metadata": {},
     "output_type": "execute_result"
    }
   ],
   "source": [
    "newdf2.loc[[1,2], :]"
   ]
  },
  {
   "cell_type": "code",
   "execution_count": 157,
   "id": "666c4f65",
   "metadata": {},
   "outputs": [
    {
     "data": {
      "text/html": [
       "<div>\n",
       "<style scoped>\n",
       "    .dataframe tbody tr th:only-of-type {\n",
       "        vertical-align: middle;\n",
       "    }\n",
       "\n",
       "    .dataframe tbody tr th {\n",
       "        vertical-align: top;\n",
       "    }\n",
       "\n",
       "    .dataframe thead th {\n",
       "        text-align: right;\n",
       "    }\n",
       "</style>\n",
       "<table border=\"1\" class=\"dataframe\">\n",
       "  <thead>\n",
       "    <tr style=\"text-align: right;\">\n",
       "      <th></th>\n",
       "      <th>A</th>\n",
       "      <th>B</th>\n",
       "      <th>C</th>\n",
       "      <th>D</th>\n",
       "      <th>E</th>\n",
       "      <th>F</th>\n",
       "      <th>G</th>\n",
       "    </tr>\n",
       "  </thead>\n",
       "  <tbody>\n",
       "    <tr>\n",
       "      <th>1</th>\n",
       "      <td>3C</td>\n",
       "      <td>0.990280</td>\n",
       "      <td>3C</td>\n",
       "      <td>0.204213</td>\n",
       "      <td>0.779200</td>\n",
       "      <td>0.670630</td>\n",
       "      <td>0.993223</td>\n",
       "    </tr>\n",
       "    <tr>\n",
       "      <th>3</th>\n",
       "      <td>3C</td>\n",
       "      <td>0.807997</td>\n",
       "      <td>3C</td>\n",
       "      <td>0.837508</td>\n",
       "      <td>0.717598</td>\n",
       "      <td>0.921567</td>\n",
       "      <td>0.702254</td>\n",
       "    </tr>\n",
       "  </tbody>\n",
       "</table>\n",
       "</div>"
      ],
      "text/plain": [
       "    A         B   C         D         E         F         G\n",
       "1  3C  0.990280  3C  0.204213  0.779200  0.670630  0.993223\n",
       "3  3C  0.807997  3C  0.837508  0.717598  0.921567  0.702254"
      ]
     },
     "execution_count": 157,
     "metadata": {},
     "output_type": "execute_result"
    }
   ],
   "source": [
    "newdf2.loc[(newdf2['B']>0.6) & (newdf2['D']>0.2)]"
   ]
  },
  {
   "cell_type": "code",
   "execution_count": 158,
   "id": "94ec0bf2",
   "metadata": {},
   "outputs": [
    {
     "data": {
      "text/plain": [
       "0.08444568269975694"
      ]
     },
     "execution_count": 158,
     "metadata": {},
     "output_type": "execute_result"
    }
   ],
   "source": [
    "newdf2.iloc[0,1]"
   ]
  },
  {
   "cell_type": "code",
   "execution_count": 159,
   "id": "c700ae3f",
   "metadata": {},
   "outputs": [
    {
     "data": {
      "text/html": [
       "<div>\n",
       "<style scoped>\n",
       "    .dataframe tbody tr th:only-of-type {\n",
       "        vertical-align: middle;\n",
       "    }\n",
       "\n",
       "    .dataframe tbody tr th {\n",
       "        vertical-align: top;\n",
       "    }\n",
       "\n",
       "    .dataframe thead th {\n",
       "        text-align: right;\n",
       "    }\n",
       "</style>\n",
       "<table border=\"1\" class=\"dataframe\">\n",
       "  <thead>\n",
       "    <tr style=\"text-align: right;\">\n",
       "      <th></th>\n",
       "      <th>B</th>\n",
       "      <th>C</th>\n",
       "      <th>E</th>\n",
       "      <th>F</th>\n",
       "      <th>G</th>\n",
       "    </tr>\n",
       "  </thead>\n",
       "  <tbody>\n",
       "    <tr>\n",
       "      <th>0</th>\n",
       "      <td>0.084446</td>\n",
       "      <td>0.608523</td>\n",
       "      <td>0.665257</td>\n",
       "      <td>0.886400</td>\n",
       "      <td>0.579239</td>\n",
       "    </tr>\n",
       "    <tr>\n",
       "      <th>1</th>\n",
       "      <td>0.990280</td>\n",
       "      <td>3C</td>\n",
       "      <td>0.779200</td>\n",
       "      <td>0.670630</td>\n",
       "      <td>0.993223</td>\n",
       "    </tr>\n",
       "    <tr>\n",
       "      <th>2</th>\n",
       "      <td>0.503598</td>\n",
       "      <td>0.667815</td>\n",
       "      <td>0.829073</td>\n",
       "      <td>0.255410</td>\n",
       "      <td>0.596635</td>\n",
       "    </tr>\n",
       "    <tr>\n",
       "      <th>3</th>\n",
       "      <td>0.807997</td>\n",
       "      <td>3C</td>\n",
       "      <td>0.717598</td>\n",
       "      <td>0.921567</td>\n",
       "      <td>0.702254</td>\n",
       "    </tr>\n",
       "    <tr>\n",
       "      <th>4</th>\n",
       "      <td>0.972982</td>\n",
       "      <td>0.311395</td>\n",
       "      <td>0.381257</td>\n",
       "      <td>0.948770</td>\n",
       "      <td>0.380561</td>\n",
       "    </tr>\n",
       "  </tbody>\n",
       "</table>\n",
       "</div>"
      ],
      "text/plain": [
       "          B         C         E         F         G\n",
       "0  0.084446  0.608523  0.665257  0.886400  0.579239\n",
       "1  0.990280        3C  0.779200  0.670630  0.993223\n",
       "2  0.503598  0.667815  0.829073  0.255410  0.596635\n",
       "3  0.807997        3C  0.717598  0.921567  0.702254\n",
       "4  0.972982  0.311395  0.381257  0.948770  0.380561"
      ]
     },
     "execution_count": 159,
     "metadata": {},
     "output_type": "execute_result"
    }
   ],
   "source": [
    "newdf2.drop(['A', 'D'], axis=1)"
   ]
  },
  {
   "cell_type": "code",
   "execution_count": 160,
   "id": "2aa87909",
   "metadata": {},
   "outputs": [],
   "source": [
    "newdf2.drop(['A', 'D'], axis=1, inplace=True)"
   ]
  },
  {
   "cell_type": "code",
   "execution_count": 161,
   "id": "0847e7e6",
   "metadata": {},
   "outputs": [
    {
     "data": {
      "text/html": [
       "<div>\n",
       "<style scoped>\n",
       "    .dataframe tbody tr th:only-of-type {\n",
       "        vertical-align: middle;\n",
       "    }\n",
       "\n",
       "    .dataframe tbody tr th {\n",
       "        vertical-align: top;\n",
       "    }\n",
       "\n",
       "    .dataframe thead th {\n",
       "        text-align: right;\n",
       "    }\n",
       "</style>\n",
       "<table border=\"1\" class=\"dataframe\">\n",
       "  <thead>\n",
       "    <tr style=\"text-align: right;\">\n",
       "      <th></th>\n",
       "      <th>B</th>\n",
       "      <th>C</th>\n",
       "      <th>E</th>\n",
       "      <th>F</th>\n",
       "      <th>G</th>\n",
       "    </tr>\n",
       "  </thead>\n",
       "  <tbody>\n",
       "    <tr>\n",
       "      <th>0</th>\n",
       "      <td>0.084446</td>\n",
       "      <td>0.608523</td>\n",
       "      <td>0.665257</td>\n",
       "      <td>0.886400</td>\n",
       "      <td>0.579239</td>\n",
       "    </tr>\n",
       "    <tr>\n",
       "      <th>1</th>\n",
       "      <td>0.990280</td>\n",
       "      <td>3C</td>\n",
       "      <td>0.779200</td>\n",
       "      <td>0.670630</td>\n",
       "      <td>0.993223</td>\n",
       "    </tr>\n",
       "    <tr>\n",
       "      <th>2</th>\n",
       "      <td>0.503598</td>\n",
       "      <td>0.667815</td>\n",
       "      <td>0.829073</td>\n",
       "      <td>0.255410</td>\n",
       "      <td>0.596635</td>\n",
       "    </tr>\n",
       "    <tr>\n",
       "      <th>3</th>\n",
       "      <td>0.807997</td>\n",
       "      <td>3C</td>\n",
       "      <td>0.717598</td>\n",
       "      <td>0.921567</td>\n",
       "      <td>0.702254</td>\n",
       "    </tr>\n",
       "    <tr>\n",
       "      <th>4</th>\n",
       "      <td>0.972982</td>\n",
       "      <td>0.311395</td>\n",
       "      <td>0.381257</td>\n",
       "      <td>0.948770</td>\n",
       "      <td>0.380561</td>\n",
       "    </tr>\n",
       "  </tbody>\n",
       "</table>\n",
       "</div>"
      ],
      "text/plain": [
       "          B         C         E         F         G\n",
       "0  0.084446  0.608523  0.665257  0.886400  0.579239\n",
       "1  0.990280        3C  0.779200  0.670630  0.993223\n",
       "2  0.503598  0.667815  0.829073  0.255410  0.596635\n",
       "3  0.807997        3C  0.717598  0.921567  0.702254\n",
       "4  0.972982  0.311395  0.381257  0.948770  0.380561"
      ]
     },
     "execution_count": 161,
     "metadata": {},
     "output_type": "execute_result"
    }
   ],
   "source": [
    "newdf2"
   ]
  },
  {
   "cell_type": "code",
   "execution_count": 163,
   "id": "d25715f1",
   "metadata": {},
   "outputs": [
    {
     "name": "stdout",
     "output_type": "stream",
     "text": [
      "          B         C         E         F         G\n",
      "0  0.084446  0.608523  0.665257  0.886400  0.579239\n",
      "3  0.807997        3C  0.717598  0.921567  0.702254\n",
      "4  0.972982  0.311395  0.381257  0.948770  0.380561\n"
     ]
    }
   ],
   "source": [
    "newdf2.drop([1,2], axis=0, inplace=True)\n",
    "print(newdf2)"
   ]
  },
  {
   "cell_type": "code",
   "execution_count": 164,
   "id": "f7a6ed2a",
   "metadata": {},
   "outputs": [
    {
     "data": {
      "text/html": [
       "<div>\n",
       "<style scoped>\n",
       "    .dataframe tbody tr th:only-of-type {\n",
       "        vertical-align: middle;\n",
       "    }\n",
       "\n",
       "    .dataframe tbody tr th {\n",
       "        vertical-align: top;\n",
       "    }\n",
       "\n",
       "    .dataframe thead th {\n",
       "        text-align: right;\n",
       "    }\n",
       "</style>\n",
       "<table border=\"1\" class=\"dataframe\">\n",
       "  <thead>\n",
       "    <tr style=\"text-align: right;\">\n",
       "      <th></th>\n",
       "      <th>index</th>\n",
       "      <th>B</th>\n",
       "      <th>C</th>\n",
       "      <th>E</th>\n",
       "      <th>F</th>\n",
       "      <th>G</th>\n",
       "    </tr>\n",
       "  </thead>\n",
       "  <tbody>\n",
       "    <tr>\n",
       "      <th>0</th>\n",
       "      <td>0</td>\n",
       "      <td>0.084446</td>\n",
       "      <td>0.608523</td>\n",
       "      <td>0.665257</td>\n",
       "      <td>0.886400</td>\n",
       "      <td>0.579239</td>\n",
       "    </tr>\n",
       "    <tr>\n",
       "      <th>1</th>\n",
       "      <td>3</td>\n",
       "      <td>0.807997</td>\n",
       "      <td>3C</td>\n",
       "      <td>0.717598</td>\n",
       "      <td>0.921567</td>\n",
       "      <td>0.702254</td>\n",
       "    </tr>\n",
       "    <tr>\n",
       "      <th>2</th>\n",
       "      <td>4</td>\n",
       "      <td>0.972982</td>\n",
       "      <td>0.311395</td>\n",
       "      <td>0.381257</td>\n",
       "      <td>0.948770</td>\n",
       "      <td>0.380561</td>\n",
       "    </tr>\n",
       "  </tbody>\n",
       "</table>\n",
       "</div>"
      ],
      "text/plain": [
       "   index         B         C         E         F         G\n",
       "0      0  0.084446  0.608523  0.665257  0.886400  0.579239\n",
       "1      3  0.807997        3C  0.717598  0.921567  0.702254\n",
       "2      4  0.972982  0.311395  0.381257  0.948770  0.380561"
      ]
     },
     "execution_count": 164,
     "metadata": {},
     "output_type": "execute_result"
    }
   ],
   "source": [
    "newdf2.reset_index()"
   ]
  },
  {
   "cell_type": "code",
   "execution_count": 166,
   "id": "dcb9fbc8",
   "metadata": {},
   "outputs": [
    {
     "data": {
      "text/html": [
       "<div>\n",
       "<style scoped>\n",
       "    .dataframe tbody tr th:only-of-type {\n",
       "        vertical-align: middle;\n",
       "    }\n",
       "\n",
       "    .dataframe tbody tr th {\n",
       "        vertical-align: top;\n",
       "    }\n",
       "\n",
       "    .dataframe thead th {\n",
       "        text-align: right;\n",
       "    }\n",
       "</style>\n",
       "<table border=\"1\" class=\"dataframe\">\n",
       "  <thead>\n",
       "    <tr style=\"text-align: right;\">\n",
       "      <th></th>\n",
       "      <th>B</th>\n",
       "      <th>C</th>\n",
       "      <th>E</th>\n",
       "      <th>F</th>\n",
       "      <th>G</th>\n",
       "    </tr>\n",
       "  </thead>\n",
       "  <tbody>\n",
       "    <tr>\n",
       "      <th>0</th>\n",
       "      <td>0.084446</td>\n",
       "      <td>0.608523</td>\n",
       "      <td>0.665257</td>\n",
       "      <td>0.886400</td>\n",
       "      <td>0.579239</td>\n",
       "    </tr>\n",
       "    <tr>\n",
       "      <th>1</th>\n",
       "      <td>0.807997</td>\n",
       "      <td>3C</td>\n",
       "      <td>0.717598</td>\n",
       "      <td>0.921567</td>\n",
       "      <td>0.702254</td>\n",
       "    </tr>\n",
       "    <tr>\n",
       "      <th>2</th>\n",
       "      <td>0.972982</td>\n",
       "      <td>0.311395</td>\n",
       "      <td>0.381257</td>\n",
       "      <td>0.948770</td>\n",
       "      <td>0.380561</td>\n",
       "    </tr>\n",
       "  </tbody>\n",
       "</table>\n",
       "</div>"
      ],
      "text/plain": [
       "          B         C         E         F         G\n",
       "0  0.084446  0.608523  0.665257  0.886400  0.579239\n",
       "1  0.807997        3C  0.717598  0.921567  0.702254\n",
       "2  0.972982  0.311395  0.381257  0.948770  0.380561"
      ]
     },
     "execution_count": 166,
     "metadata": {},
     "output_type": "execute_result"
    }
   ],
   "source": [
    "newdf2.reset_index(drop = True)"
   ]
  },
  {
   "cell_type": "code",
   "execution_count": 165,
   "id": "6787ad5f",
   "metadata": {},
   "outputs": [
    {
     "data": {
      "text/html": [
       "<div>\n",
       "<style scoped>\n",
       "    .dataframe tbody tr th:only-of-type {\n",
       "        vertical-align: middle;\n",
       "    }\n",
       "\n",
       "    .dataframe tbody tr th {\n",
       "        vertical-align: top;\n",
       "    }\n",
       "\n",
       "    .dataframe thead th {\n",
       "        text-align: right;\n",
       "    }\n",
       "</style>\n",
       "<table border=\"1\" class=\"dataframe\">\n",
       "  <thead>\n",
       "    <tr style=\"text-align: right;\">\n",
       "      <th></th>\n",
       "      <th>B</th>\n",
       "      <th>C</th>\n",
       "      <th>E</th>\n",
       "      <th>F</th>\n",
       "      <th>G</th>\n",
       "    </tr>\n",
       "  </thead>\n",
       "  <tbody>\n",
       "    <tr>\n",
       "      <th>0</th>\n",
       "      <td>0.084446</td>\n",
       "      <td>0.608523</td>\n",
       "      <td>0.665257</td>\n",
       "      <td>0.886400</td>\n",
       "      <td>0.579239</td>\n",
       "    </tr>\n",
       "    <tr>\n",
       "      <th>3</th>\n",
       "      <td>0.807997</td>\n",
       "      <td>3C</td>\n",
       "      <td>0.717598</td>\n",
       "      <td>0.921567</td>\n",
       "      <td>0.702254</td>\n",
       "    </tr>\n",
       "    <tr>\n",
       "      <th>4</th>\n",
       "      <td>0.972982</td>\n",
       "      <td>0.311395</td>\n",
       "      <td>0.381257</td>\n",
       "      <td>0.948770</td>\n",
       "      <td>0.380561</td>\n",
       "    </tr>\n",
       "  </tbody>\n",
       "</table>\n",
       "</div>"
      ],
      "text/plain": [
       "          B         C         E         F         G\n",
       "0  0.084446  0.608523  0.665257  0.886400  0.579239\n",
       "3  0.807997        3C  0.717598  0.921567  0.702254\n",
       "4  0.972982  0.311395  0.381257  0.948770  0.380561"
      ]
     },
     "execution_count": 165,
     "metadata": {},
     "output_type": "execute_result"
    }
   ],
   "source": [
    "newdf2"
   ]
  },
  {
   "cell_type": "code",
   "execution_count": 168,
   "id": "393ccd43",
   "metadata": {},
   "outputs": [
    {
     "data": {
      "text/plain": [
       "0    False\n",
       "3    False\n",
       "4    False\n",
       "Name: B, dtype: bool"
      ]
     },
     "execution_count": 168,
     "metadata": {},
     "output_type": "execute_result"
    }
   ],
   "source": [
    "newdf2['B'].isnull()"
   ]
  },
  {
   "cell_type": "code",
   "execution_count": 169,
   "id": "373e6c47",
   "metadata": {},
   "outputs": [],
   "source": [
    "newdf2['B'] = None"
   ]
  },
  {
   "cell_type": "code",
   "execution_count": 170,
   "id": "adfa25d8",
   "metadata": {},
   "outputs": [
    {
     "data": {
      "text/plain": [
       "0    True\n",
       "3    True\n",
       "4    True\n",
       "Name: B, dtype: bool"
      ]
     },
     "execution_count": 170,
     "metadata": {},
     "output_type": "execute_result"
    }
   ],
   "source": [
    "newdf2['B'].isnull()"
   ]
  },
  {
   "cell_type": "code",
   "execution_count": 171,
   "id": "58e8c39a",
   "metadata": {},
   "outputs": [],
   "source": [
    "newdf2.loc[:, ['B']] = None"
   ]
  },
  {
   "cell_type": "code",
   "execution_count": 172,
   "id": "ba976fe1",
   "metadata": {},
   "outputs": [
    {
     "data": {
      "text/html": [
       "<div>\n",
       "<style scoped>\n",
       "    .dataframe tbody tr th:only-of-type {\n",
       "        vertical-align: middle;\n",
       "    }\n",
       "\n",
       "    .dataframe tbody tr th {\n",
       "        vertical-align: top;\n",
       "    }\n",
       "\n",
       "    .dataframe thead th {\n",
       "        text-align: right;\n",
       "    }\n",
       "</style>\n",
       "<table border=\"1\" class=\"dataframe\">\n",
       "  <thead>\n",
       "    <tr style=\"text-align: right;\">\n",
       "      <th></th>\n",
       "      <th>B</th>\n",
       "      <th>C</th>\n",
       "      <th>E</th>\n",
       "      <th>F</th>\n",
       "      <th>G</th>\n",
       "    </tr>\n",
       "  </thead>\n",
       "  <tbody>\n",
       "    <tr>\n",
       "      <th>0</th>\n",
       "      <td>None</td>\n",
       "      <td>0.608523</td>\n",
       "      <td>0.665257</td>\n",
       "      <td>0.886400</td>\n",
       "      <td>0.579239</td>\n",
       "    </tr>\n",
       "    <tr>\n",
       "      <th>3</th>\n",
       "      <td>None</td>\n",
       "      <td>3C</td>\n",
       "      <td>0.717598</td>\n",
       "      <td>0.921567</td>\n",
       "      <td>0.702254</td>\n",
       "    </tr>\n",
       "    <tr>\n",
       "      <th>4</th>\n",
       "      <td>None</td>\n",
       "      <td>0.311395</td>\n",
       "      <td>0.381257</td>\n",
       "      <td>0.948770</td>\n",
       "      <td>0.380561</td>\n",
       "    </tr>\n",
       "  </tbody>\n",
       "</table>\n",
       "</div>"
      ],
      "text/plain": [
       "      B         C         E         F         G\n",
       "0  None  0.608523  0.665257  0.886400  0.579239\n",
       "3  None        3C  0.717598  0.921567  0.702254\n",
       "4  None  0.311395  0.381257  0.948770  0.380561"
      ]
     },
     "execution_count": 172,
     "metadata": {},
     "output_type": "execute_result"
    }
   ],
   "source": [
    "newdf2"
   ]
  },
  {
   "cell_type": "code",
   "execution_count": null,
   "id": "42166b0f",
   "metadata": {},
   "outputs": [],
   "source": []
  }
 ],
 "metadata": {
  "kernelspec": {
   "display_name": "Python 3 (ipykernel)",
   "language": "python",
   "name": "python3"
  },
  "language_info": {
   "codemirror_mode": {
    "name": "ipython",
    "version": 3
   },
   "file_extension": ".py",
   "mimetype": "text/x-python",
   "name": "python",
   "nbconvert_exporter": "python",
   "pygments_lexer": "ipython3",
   "version": "3.11.4"
  }
 },
 "nbformat": 4,
 "nbformat_minor": 5
}
