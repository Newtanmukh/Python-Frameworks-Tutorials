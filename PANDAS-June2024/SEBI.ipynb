{
 "cells": [
  {
   "cell_type": "code",
   "execution_count": 43,
   "id": "d9cf05b5",
   "metadata": {},
   "outputs": [],
   "source": [
    "import re"
   ]
  },
  {
   "cell_type": "code",
   "execution_count": 44,
   "id": "c6191af7",
   "metadata": {},
   "outputs": [],
   "source": [
    "pattern = \"was\""
   ]
  },
  {
   "cell_type": "code",
   "execution_count": null,
   "id": "00bcb6ea",
   "metadata": {},
   "outputs": [],
   "source": []
  },
  {
   "cell_type": "code",
   "execution_count": 45,
   "id": "002a9f6f",
   "metadata": {},
   "outputs": [],
   "source": [
    "search = \"was a   child was\""
   ]
  },
  {
   "cell_type": "code",
   "execution_count": 46,
   "id": "1efa6f80",
   "metadata": {},
   "outputs": [
    {
     "name": "stdout",
     "output_type": "stream",
     "text": [
      "['was', 'was']\n"
     ]
    }
   ],
   "source": [
    "print(re.findall(pattern, search))"
   ]
  },
  {
   "cell_type": "markdown",
   "id": "af72eb99",
   "metadata": {},
   "source": [
    "# Match"
   ]
  },
  {
   "cell_type": "code",
   "execution_count": 47,
   "id": "e3d1eb84",
   "metadata": {},
   "outputs": [
    {
     "name": "stdout",
     "output_type": "stream",
     "text": [
      "<re.Match object; span=(0, 3), match='was'>\n"
     ]
    }
   ],
   "source": [
    "print(re.match(\"was\", search))"
   ]
  },
  {
   "cell_type": "markdown",
   "id": "6169df21",
   "metadata": {},
   "source": [
    "# FindAll"
   ]
  },
  {
   "cell_type": "code",
   "execution_count": 48,
   "id": "2d7102ed",
   "metadata": {},
   "outputs": [
    {
     "name": "stdout",
     "output_type": "stream",
     "text": [
      "[' ', ' ', ' ', ' ', ' ']\n"
     ]
    }
   ],
   "source": [
    "print(re.findall(\"\\s\", search))"
   ]
  },
  {
   "cell_type": "code",
   "execution_count": 49,
   "id": "dfb1bbc6",
   "metadata": {},
   "outputs": [
    {
     "name": "stdout",
     "output_type": "stream",
     "text": [
      "['was', 'was']\n"
     ]
    }
   ],
   "source": [
    "print(re.findall(\"was\", search))"
   ]
  },
  {
   "cell_type": "code",
   "execution_count": 50,
   "id": "9f854d4a",
   "metadata": {},
   "outputs": [],
   "source": [
    "# split string"
   ]
  },
  {
   "cell_type": "code",
   "execution_count": 51,
   "id": "e2304ac1",
   "metadata": {},
   "outputs": [
    {
     "name": "stdout",
     "output_type": "stream",
     "text": [
      "['', ' a   child ', '']\n"
     ]
    }
   ],
   "source": [
    "print(re.split(\"was\", search)) # split using this reges"
   ]
  },
  {
   "cell_type": "code",
   "execution_count": 52,
   "id": "2b6d7c80",
   "metadata": {},
   "outputs": [
    {
     "name": "stdout",
     "output_type": "stream",
     "text": [
      "['', ' a   child was']\n"
     ]
    }
   ],
   "source": [
    "print(re.split(\"was\", search, 1)) #Split using only using the first which matches"
   ]
  },
  {
   "cell_type": "markdown",
   "id": "7713dff4",
   "metadata": {},
   "source": [
    "# Replace all empty space with 9 each"
   ]
  },
  {
   "cell_type": "code",
   "execution_count": 53,
   "id": "bc7bfb0f",
   "metadata": {},
   "outputs": [],
   "source": [
    "txt = \"The   rain in Spain\"\n",
    "x = re.sub(\"\\s\", \"9\", txt)"
   ]
  },
  {
   "cell_type": "code",
   "execution_count": 54,
   "id": "4db12ba6",
   "metadata": {},
   "outputs": [
    {
     "name": "stdout",
     "output_type": "stream",
     "text": [
      "The999rain9in9Spain\n"
     ]
    }
   ],
   "source": [
    "print(x)"
   ]
  },
  {
   "cell_type": "markdown",
   "id": "b9c29ade",
   "metadata": {},
   "source": [
    "# Replace furst two instances"
   ]
  },
  {
   "cell_type": "code",
   "execution_count": 55,
   "id": "d523bf72",
   "metadata": {},
   "outputs": [
    {
     "name": "stdout",
     "output_type": "stream",
     "text": [
      "The99rain in Spain\n"
     ]
    }
   ],
   "source": [
    "txt = \"The  rain in Spain\"\n",
    "x = re.sub(\"\\s\", \"9\", txt, 2)\n",
    "print(x)"
   ]
  },
  {
   "cell_type": "markdown",
   "id": "7879de7a",
   "metadata": {},
   "source": [
    "# Metacharacters"
   ]
  },
  {
   "cell_type": "code",
   "execution_count": 56,
   "id": "d7156021",
   "metadata": {},
   "outputs": [
    {
     "name": "stdout",
     "output_type": "stream",
     "text": [
      "['Pyclone', 'Syclone']\n"
     ]
    }
   ],
   "source": [
    "pattern = \"[A-Z]yclone\"\n",
    "search = \"Pyclone cyclone JDJSyclone\"\n",
    "print(re.findall(pattern, search))"
   ]
  },
  {
   "cell_type": "code",
   "execution_count": 57,
   "id": "d0db25c4",
   "metadata": {},
   "outputs": [
    {
     "name": "stdout",
     "output_type": "stream",
     "text": [
      "['Pyclone', 'JDJSyclone']\n"
     ]
    }
   ],
   "source": [
    "pattern = \"[A-Z]+yclone\"\n",
    "search = \"Pyclone cyclone JDJSyclone\"\n",
    "print(re.findall(pattern, search))"
   ]
  },
  {
   "cell_type": "code",
   "execution_count": 58,
   "id": "cfe16aed",
   "metadata": {},
   "outputs": [
    {
     "name": "stdout",
     "output_type": "stream",
     "text": [
      "['Pyclone', 'yclone', 'JDJSyclone']\n"
     ]
    }
   ],
   "source": [
    "pattern = \"[A-Z]*yclone\"\n",
    "search = \"Pyclone cyclone JDJSyclone\"\n",
    "print(re.findall(pattern, search))"
   ]
  },
  {
   "cell_type": "code",
   "execution_count": 59,
   "id": "5c9e3684",
   "metadata": {},
   "outputs": [
    {
     "name": "stdout",
     "output_type": "stream",
     "text": [
      "['JSyclone']\n"
     ]
    }
   ],
   "source": [
    "pattern = \"[A-Z]{2}yclone\"\n",
    "search = \"Pyclone cyclone JDJSyclone\"\n",
    "print(re.findall(pattern, search))"
   ]
  },
  {
   "cell_type": "code",
   "execution_count": 60,
   "id": "b2e94271",
   "metadata": {},
   "outputs": [
    {
     "name": "stdout",
     "output_type": "stream",
     "text": [
      "['fcyclone', 'JSyclone']\n"
     ]
    }
   ],
   "source": [
    "pattern = r\"[A-Z]{2}yclone|[a-z]+yclone\"\n",
    "search = \"Pyclone fcyclone JDJSyclone\"\n",
    "print(re.findall(pattern, search))"
   ]
  },
  {
   "cell_type": "code",
   "execution_count": 61,
   "id": "989b8a10",
   "metadata": {},
   "outputs": [
    {
     "name": "stdout",
     "output_type": "stream",
     "text": [
      "['yclo', 'cyclo', 'yclo']\n"
     ]
    }
   ],
   "source": [
    "pattern = \"[ylco]+\"\n",
    "search = \"Pyclone fcyclone JDJSyclone\"\n",
    "print(re.findall(pattern, search))"
   ]
  },
  {
   "cell_type": "code",
   "execution_count": 62,
   "id": "22e994d3",
   "metadata": {},
   "outputs": [
    {
     "name": "stdout",
     "output_type": "stream",
     "text": [
      "['P', 'ne f', 'ne JDJS', 'ne']\n"
     ]
    }
   ],
   "source": [
    "pattern = \"[^ylco]+\"\n",
    "search = \"Pyclone fcyclone JDJSyclone\"\n",
    "print(re.findall(pattern, search))"
   ]
  },
  {
   "cell_type": "code",
   "execution_count": 63,
   "id": "4dd74957",
   "metadata": {},
   "outputs": [
    {
     "name": "stdout",
     "output_type": "stream",
     "text": [
      "['Pyclone', 'fcyclone', 'JDJS21yclone']\n"
     ]
    }
   ],
   "source": [
    "pattern = \"\\w+\"\n",
    "search = \"Pyclone fcyclone JDJS21yclone\"\n",
    "print(re.findall(pattern, search))"
   ]
  },
  {
   "cell_type": "code",
   "execution_count": 64,
   "id": "6f9162b4",
   "metadata": {},
   "outputs": [
    {
     "name": "stdout",
     "output_type": "stream",
     "text": [
      "['21']\n"
     ]
    }
   ],
   "source": [
    "pattern = \"\\d+\"\n",
    "search = \"Pyclone fcyclone JDJS21yclone\"\n",
    "print(re.findall(pattern, search))"
   ]
  },
  {
   "cell_type": "code",
   "execution_count": 65,
   "id": "8c10f41f",
   "metadata": {},
   "outputs": [
    {
     "name": "stdout",
     "output_type": "stream",
     "text": [
      "[' ', ' ']\n"
     ]
    }
   ],
   "source": [
    "pattern = \"\\s\"\n",
    "search = \"Pyclone fcyclone JDJS21yclone\"\n",
    "print(re.findall(pattern, search))"
   ]
  },
  {
   "cell_type": "code",
   "execution_count": 66,
   "id": "b20b99e9",
   "metadata": {},
   "outputs": [
    {
     "name": "stdout",
     "output_type": "stream",
     "text": [
      "['23', '41']\n"
     ]
    }
   ],
   "source": [
    "pattern = \"\\d{2}\"\n",
    "search = \"Pyclone fcyclone JDJS2341yclone\"\n",
    "print(re.findall(pattern, search))"
   ]
  },
  {
   "cell_type": "code",
   "execution_count": 67,
   "id": "61aa78ee",
   "metadata": {},
   "outputs": [
    {
     "name": "stdout",
     "output_type": "stream",
     "text": [
      "['234']\n"
     ]
    }
   ],
   "source": [
    "pattern = \"[\\d]{3}\"\n",
    "search = \"Pyclone fcyclone JDJS2341yclone\"\n",
    "print(re.findall(pattern, search))"
   ]
  },
  {
   "cell_type": "markdown",
   "id": "32d37e39",
   "metadata": {},
   "source": [
    "# SLICING"
   ]
  },
  {
   "cell_type": "code",
   "execution_count": 68,
   "id": "a964d681",
   "metadata": {},
   "outputs": [
    {
     "name": "stdout",
     "output_type": "stream",
     "text": [
      "llo\n"
     ]
    }
   ],
   "source": [
    "b = \"Hello, World!\"\n",
    "print(b[2:5]) # 2, 3 and 4"
   ]
  },
  {
   "cell_type": "code",
   "execution_count": 69,
   "id": "10524b4f",
   "metadata": {},
   "outputs": [
    {
     "name": "stdout",
     "output_type": "stream",
     "text": [
      "[5 6]\n"
     ]
    }
   ],
   "source": [
    "import numpy as np\n",
    "\n",
    "arr = np.array([1, 2, 3, 4, 5, 6, 7])\n",
    "\n",
    "print(arr[-3:-1])"
   ]
  },
  {
   "cell_type": "code",
   "execution_count": 70,
   "id": "a2c4cf16",
   "metadata": {},
   "outputs": [
    {
     "name": "stdout",
     "output_type": "stream",
     "text": [
      "[1 2 3 4]\n"
     ]
    }
   ],
   "source": [
    "import numpy as np\n",
    "\n",
    "arr = np.array([1, 2, 3, 4, 5, 6, 7])\n",
    "\n",
    "print(arr[:4])"
   ]
  },
  {
   "cell_type": "code",
   "execution_count": 71,
   "id": "a111f0d1",
   "metadata": {},
   "outputs": [
    {
     "name": "stdout",
     "output_type": "stream",
     "text": [
      "[2 4]\n"
     ]
    }
   ],
   "source": [
    "arr = np.array([1, 2, 3, 4, 5, 6, 7])\n",
    "\n",
    "print(arr[1:5:2])"
   ]
  },
  {
   "cell_type": "code",
   "execution_count": 72,
   "id": "3031bec8",
   "metadata": {},
   "outputs": [
    {
     "name": "stdout",
     "output_type": "stream",
     "text": [
      "[2 4 6]\n"
     ]
    }
   ],
   "source": [
    "arr = np.array([1, 2, 3, 4, 5, 6, 7])\n",
    "\n",
    "print(arr[1::2])"
   ]
  },
  {
   "cell_type": "markdown",
   "id": "08fc2ec2",
   "metadata": {},
   "source": [
    "# Dictonaries\n"
   ]
  },
  {
   "cell_type": "markdown",
   "id": "09574c8c",
   "metadata": {},
   "source": [
    "###### 3.7 onwards, dictoniares are oreded"
   ]
  },
  {
   "cell_type": "code",
   "execution_count": 73,
   "id": "6859a45a",
   "metadata": {},
   "outputs": [
    {
     "name": "stdout",
     "output_type": "stream",
     "text": [
      "{'brand': 'Ford', 'model': 'Mustang', 'year': 1964}\n"
     ]
    }
   ],
   "source": [
    "thisdict = {\n",
    "  \"brand\": \"Ford\",\n",
    "  \"model\": \"Mustang\",\n",
    "  \"year\": 1964\n",
    "}\n",
    "print(thisdict)"
   ]
  },
  {
   "cell_type": "code",
   "execution_count": 74,
   "id": "098ddc85",
   "metadata": {},
   "outputs": [
    {
     "name": "stdout",
     "output_type": "stream",
     "text": [
      "Ford\n"
     ]
    }
   ],
   "source": [
    "thisdict = {\n",
    "  \"brand\": \"Ford\",\n",
    "  \"model\": \"Mustang\",\n",
    "  \"year\": 1964\n",
    "}\n",
    "print(thisdict[\"brand\"])"
   ]
  },
  {
   "cell_type": "code",
   "execution_count": 75,
   "id": "6828a68d",
   "metadata": {},
   "outputs": [
    {
     "name": "stdout",
     "output_type": "stream",
     "text": [
      "3\n"
     ]
    }
   ],
   "source": [
    "print(len(thisdict))"
   ]
  },
  {
   "cell_type": "code",
   "execution_count": 76,
   "id": "590113fa",
   "metadata": {},
   "outputs": [
    {
     "name": "stdout",
     "output_type": "stream",
     "text": [
      "<class 'dict'>\n"
     ]
    }
   ],
   "source": [
    "print(type(thisdict))"
   ]
  },
  {
   "cell_type": "code",
   "execution_count": 77,
   "id": "174a295d",
   "metadata": {},
   "outputs": [
    {
     "name": "stdout",
     "output_type": "stream",
     "text": [
      "dict_keys(['brand', 'model', 'year'])\n"
     ]
    }
   ],
   "source": [
    "a = thisdict.keys()\n",
    "print(a)"
   ]
  },
  {
   "cell_type": "code",
   "execution_count": 78,
   "id": "fd978086",
   "metadata": {},
   "outputs": [
    {
     "name": "stdout",
     "output_type": "stream",
     "text": [
      "dict_values(['Ford', 'Mustang', 1964])\n"
     ]
    }
   ],
   "source": [
    "values = thisdict.values()\n",
    "print(values)"
   ]
  },
  {
   "cell_type": "code",
   "execution_count": 79,
   "id": "f6c4d6b4",
   "metadata": {},
   "outputs": [
    {
     "name": "stdout",
     "output_type": "stream",
     "text": [
      "dict_items([('brand', 'Ford'), ('model', 'Mustang'), ('year', 1964)])\n"
     ]
    }
   ],
   "source": [
    "print(thisdict.items())"
   ]
  },
  {
   "cell_type": "code",
   "execution_count": 80,
   "id": "05778f6e",
   "metadata": {},
   "outputs": [
    {
     "name": "stdout",
     "output_type": "stream",
     "text": [
      "Yes, 'model' is one of the keys in the thisdict dictionary\n"
     ]
    }
   ],
   "source": [
    "thisdict = {\n",
    "  \"brand\": \"Ford\",\n",
    "  \"model\": \"Mustang\",\n",
    "  \"year\": 1964\n",
    "}\n",
    "if \"model\" in thisdict.keys():\n",
    "  print(\"Yes, 'model' is one of the keys in the thisdict dictionary\")"
   ]
  },
  {
   "cell_type": "code",
   "execution_count": 81,
   "id": "2345ccde",
   "metadata": {},
   "outputs": [
    {
     "name": "stdout",
     "output_type": "stream",
     "text": [
      "{'brand': 'Ford', 'model': 'Mustang', 'year': 2020}\n"
     ]
    }
   ],
   "source": [
    "thisdict = {\n",
    "  \"brand\": \"Ford\",\n",
    "  \"model\": \"Mustang\",\n",
    "  \"year\": 1964\n",
    "}\n",
    "thisdict.update({\"year\": 2020})\n",
    "\n",
    "print(thisdict)"
   ]
  },
  {
   "cell_type": "code",
   "execution_count": 82,
   "id": "56d39ad2",
   "metadata": {},
   "outputs": [
    {
     "name": "stdout",
     "output_type": "stream",
     "text": [
      "{'brand': 'Ford', 'model': 'Mustang', 'year': 1964, 'color': 'red'}\n"
     ]
    }
   ],
   "source": [
    "thisdict = {\n",
    "  \"brand\": \"Ford\",\n",
    "  \"model\": \"Mustang\",\n",
    "  \"year\": 1964\n",
    "}\n",
    "thisdict[\"color\"] = \"red\"\n",
    "print(thisdict)          # add a color key and value"
   ]
  },
  {
   "cell_type": "code",
   "execution_count": 83,
   "id": "4ec9d563",
   "metadata": {},
   "outputs": [
    {
     "name": "stdout",
     "output_type": "stream",
     "text": [
      "{}\n"
     ]
    }
   ],
   "source": [
    "thisdict = {\n",
    "  \"brand\": \"Ford\",\n",
    "  \"model\": \"Mustang\",\n",
    "  \"year\": 1964\n",
    "}\n",
    "thisdict.clear()\n",
    "print(thisdict)"
   ]
  },
  {
   "cell_type": "code",
   "execution_count": 84,
   "id": "5bb13935",
   "metadata": {},
   "outputs": [
    {
     "ename": "NameError",
     "evalue": "name 'thisdict' is not defined",
     "output_type": "error",
     "traceback": [
      "\u001b[1;31m---------------------------------------------------------------------------\u001b[0m",
      "\u001b[1;31mNameError\u001b[0m                                 Traceback (most recent call last)",
      "Cell \u001b[1;32mIn[84], line 7\u001b[0m\n\u001b[0;32m      1\u001b[0m thisdict \u001b[38;5;241m=\u001b[39m {\n\u001b[0;32m      2\u001b[0m   \u001b[38;5;124m\"\u001b[39m\u001b[38;5;124mbrand\u001b[39m\u001b[38;5;124m\"\u001b[39m: \u001b[38;5;124m\"\u001b[39m\u001b[38;5;124mFord\u001b[39m\u001b[38;5;124m\"\u001b[39m,\n\u001b[0;32m      3\u001b[0m   \u001b[38;5;124m\"\u001b[39m\u001b[38;5;124mmodel\u001b[39m\u001b[38;5;124m\"\u001b[39m: \u001b[38;5;124m\"\u001b[39m\u001b[38;5;124mMustang\u001b[39m\u001b[38;5;124m\"\u001b[39m,\n\u001b[0;32m      4\u001b[0m   \u001b[38;5;124m\"\u001b[39m\u001b[38;5;124myear\u001b[39m\u001b[38;5;124m\"\u001b[39m: \u001b[38;5;241m1964\u001b[39m\n\u001b[0;32m      5\u001b[0m }\n\u001b[0;32m      6\u001b[0m \u001b[38;5;28;01mdel\u001b[39;00m thisdict\n\u001b[1;32m----> 7\u001b[0m \u001b[38;5;28mprint\u001b[39m(thisdict)\n",
      "\u001b[1;31mNameError\u001b[0m: name 'thisdict' is not defined"
     ]
    }
   ],
   "source": [
    "thisdict = {\n",
    "  \"brand\": \"Ford\",\n",
    "  \"model\": \"Mustang\",\n",
    "  \"year\": 1964\n",
    "}\n",
    "del thisdict\n",
    "print(thisdict)"
   ]
  },
  {
   "cell_type": "code",
   "execution_count": 85,
   "id": "7feced53",
   "metadata": {},
   "outputs": [
    {
     "name": "stdout",
     "output_type": "stream",
     "text": [
      "brand\n",
      "model\n",
      "year\n",
      "Ford\n",
      "Mustang\n",
      "1964\n"
     ]
    }
   ],
   "source": [
    "thisdict = {\n",
    "  \"brand\": \"Ford\",\n",
    "  \"model\": \"Mustang\",\n",
    "  \"year\": 1964\n",
    "}\n",
    "\n",
    "\n",
    "for x in thisdict:\n",
    "  print(x)\n",
    "\n",
    "for x in thisdict:\n",
    "  print(thisdict[x])"
   ]
  },
  {
   "cell_type": "code",
   "execution_count": 86,
   "id": "facf9388",
   "metadata": {},
   "outputs": [
    {
     "name": "stdout",
     "output_type": "stream",
     "text": [
      "brand Ford\n",
      "model Mustang\n",
      "year 1964\n"
     ]
    }
   ],
   "source": [
    "for x, y in thisdict.items():\n",
    "  print(x, y)"
   ]
  },
  {
   "cell_type": "code",
   "execution_count": 87,
   "id": "cf4ab745",
   "metadata": {},
   "outputs": [
    {
     "name": "stdout",
     "output_type": "stream",
     "text": [
      "{'brand': 'Ford', 'model': 'Mustang', 'year': 1964}\n"
     ]
    }
   ],
   "source": [
    "thisdict = {\n",
    "  \"brand\": \"Ford\",\n",
    "  \"model\": \"Mustang\",\n",
    "  \"year\": 1964\n",
    "}\n",
    "mydict = thisdict.copy()   # however both of them will point to same dictionary, so changes made in one dict will affect the other as well\n",
    "print(mydict)"
   ]
  },
  {
   "cell_type": "code",
   "execution_count": 88,
   "id": "ea2ade51",
   "metadata": {},
   "outputs": [
    {
     "name": "stdout",
     "output_type": "stream",
     "text": [
      "Tobias\n"
     ]
    }
   ],
   "source": [
    "myfamily = {\n",
    "  \"child1\" : {\n",
    "    \"name\" : \"Emil\",\n",
    "    \"year\" : 2004\n",
    "  },\n",
    "  \"child2\" : {\n",
    "    \"name\" : \"Tobias\",\n",
    "    \"year\" : 2007\n",
    "  },\n",
    "  \"child3\" : {\n",
    "    \"name\" : \"Linus\",\n",
    "    \"year\" : 2011\n",
    "  }\n",
    "}\n",
    "\n",
    "print(myfamily[\"child2\"][\"name\"])\n"
   ]
  },
  {
   "cell_type": "code",
   "execution_count": 89,
   "id": "ed763884",
   "metadata": {},
   "outputs": [
    {
     "name": "stdout",
     "output_type": "stream",
     "text": [
      "child1\n",
      "name: Emil\n",
      "year: 2004\n",
      "child2\n",
      "name: Tobias\n",
      "year: 2007\n",
      "child3\n",
      "name: Linus\n",
      "year: 2011\n"
     ]
    }
   ],
   "source": [
    "myfamily = {\n",
    "  \"child1\" : {\n",
    "    \"name\" : \"Emil\",\n",
    "    \"year\" : 2004\n",
    "  },\n",
    "  \"child2\" : {\n",
    "    \"name\" : \"Tobias\",\n",
    "    \"year\" : 2007\n",
    "  },\n",
    "  \"child3\" : {\n",
    "    \"name\" : \"Linus\",\n",
    "    \"year\" : 2011\n",
    "  }\n",
    "}\n",
    "\n",
    "for x, obj in myfamily.items():\n",
    "    print(x)\n",
    "    \n",
    "    for y in obj:\n",
    "        print(y + ':', obj[y])\n",
    "\n"
   ]
  },
  {
   "cell_type": "markdown",
   "id": "d1c58ad0",
   "metadata": {},
   "source": [
    "# Sets"
   ]
  },
  {
   "cell_type": "code",
   "execution_count": 90,
   "id": "63fe95ae",
   "metadata": {},
   "outputs": [
    {
     "name": "stdout",
     "output_type": "stream",
     "text": [
      "3\n"
     ]
    }
   ],
   "source": [
    "thisset = {\"apple\", \"banana\", \"cherry\"}\n",
    "\n",
    "print(len(thisset))"
   ]
  },
  {
   "cell_type": "code",
   "execution_count": 91,
   "id": "ac3c02cb",
   "metadata": {},
   "outputs": [
    {
     "name": "stdout",
     "output_type": "stream",
     "text": [
      "{False, 'apple', 'banana'}\n",
      "<class 'set'>\n"
     ]
    }
   ],
   "source": [
    "thisset = {\"apple\", \"banana\", False}\n",
    "\n",
    "print(thisset)\n",
    "print(type(thisset))"
   ]
  },
  {
   "cell_type": "code",
   "execution_count": 92,
   "id": "951e5f5e",
   "metadata": {},
   "outputs": [
    {
     "name": "stdout",
     "output_type": "stream",
     "text": [
      "cherry\n",
      "apple\n",
      "banana\n",
      "True\n"
     ]
    }
   ],
   "source": [
    "thisset = {\"apple\", \"banana\", \"cherry\"}\n",
    "\n",
    "for x in thisset:\n",
    "  print(x)\n",
    "\n",
    "print(\"banana\" in thisset)"
   ]
  },
  {
   "cell_type": "code",
   "execution_count": 93,
   "id": "e05a7909",
   "metadata": {},
   "outputs": [
    {
     "name": "stdout",
     "output_type": "stream",
     "text": [
      "{'cherry', 'apple', 'banana', 'orange'}\n"
     ]
    }
   ],
   "source": [
    "thisset = {\"apple\", \"banana\", \"cherry\"}\n",
    "\n",
    "thisset.add(\"orange\")\n",
    "\n",
    "print(thisset)\n"
   ]
  },
  {
   "cell_type": "code",
   "execution_count": 94,
   "id": "d8f58ed5",
   "metadata": {},
   "outputs": [
    {
     "name": "stdout",
     "output_type": "stream",
     "text": [
      "{'cherry', 'papaya', 'mango', 'apple', 'banana', 'pineapple'}\n"
     ]
    }
   ],
   "source": [
    "thisset = {\"apple\", \"banana\", \"cherry\"}\n",
    "tropical = {\"pineapple\", \"mango\", \"papaya\"}\n",
    "\n",
    "thisset.update(tropical)\n",
    "\n",
    "print(thisset)"
   ]
  },
  {
   "cell_type": "code",
   "execution_count": 95,
   "id": "01a9a4e6",
   "metadata": {},
   "outputs": [
    {
     "name": "stdout",
     "output_type": "stream",
     "text": [
      "{'cherry', 'banana', 'kiwi', 'orange', 'apple'}\n"
     ]
    }
   ],
   "source": [
    "thisset = {\"apple\", \"banana\", \"cherry\"}\n",
    "mylist = [\"kiwi\", \"orange\"]\n",
    "\n",
    "thisset.update(mylist)\n",
    "\n",
    "print(thisset)\n"
   ]
  },
  {
   "cell_type": "code",
   "execution_count": 96,
   "id": "e844ced4",
   "metadata": {},
   "outputs": [
    {
     "name": "stdout",
     "output_type": "stream",
     "text": [
      "{'cherry', 'apple'}\n"
     ]
    }
   ],
   "source": [
    "thisset = {\"apple\", \"banana\", \"cherry\"}\n",
    "\n",
    "thisset.discard(\"banana\")   # Without throwing exception\n",
    "\n",
    "print(thisset)"
   ]
  },
  {
   "cell_type": "code",
   "execution_count": 97,
   "id": "a6f6c882",
   "metadata": {},
   "outputs": [
    {
     "name": "stdout",
     "output_type": "stream",
     "text": [
      "set()\n"
     ]
    }
   ],
   "source": [
    "thisset = {\"apple\", \"banana\", \"cherry\"}\n",
    "\n",
    "thisset.clear()\n",
    "\n",
    "print(thisset)"
   ]
  },
  {
   "cell_type": "code",
   "execution_count": 98,
   "id": "f01d60c2",
   "metadata": {},
   "outputs": [
    {
     "name": "stdout",
     "output_type": "stream",
     "text": [
      "{1, 2, 3, 'cherry', 'a', 'apple', 'John', 'bananas', 'Elena', 'c', 'b'}\n"
     ]
    }
   ],
   "source": [
    "set1 = {\"a\", \"b\", \"c\"}\n",
    "set2 = {1, 2, 3}\n",
    "set3 = {\"John\", \"Elena\", \"a\", \"b\", \"c\"}\n",
    "set4 = {\"apple\", \"bananas\", \"cherry\"}\n",
    "\n",
    "myset = set1.union(set2, set3, set4)\n",
    "print(myset)\n"
   ]
  },
  {
   "cell_type": "code",
   "execution_count": null,
   "id": "4ec9da1c",
   "metadata": {},
   "outputs": [],
   "source": []
  },
  {
   "cell_type": "code",
   "execution_count": null,
   "id": "69527d84",
   "metadata": {},
   "outputs": [],
   "source": []
  },
  {
   "cell_type": "code",
   "execution_count": null,
   "id": "46ace16f",
   "metadata": {},
   "outputs": [],
   "source": []
  },
  {
   "cell_type": "code",
   "execution_count": null,
   "id": "235fe8b5",
   "metadata": {},
   "outputs": [],
   "source": []
  },
  {
   "cell_type": "code",
   "execution_count": null,
   "id": "d139827c",
   "metadata": {},
   "outputs": [],
   "source": []
  },
  {
   "cell_type": "markdown",
   "id": "c44f287c",
   "metadata": {},
   "source": [
    "# Pandas"
   ]
  },
  {
   "cell_type": "code",
   "execution_count": 99,
   "id": "33f638c8",
   "metadata": {},
   "outputs": [],
   "source": [
    "import pandas as pd\n",
    "import numpy as np"
   ]
  },
  {
   "cell_type": "code",
   "execution_count": 100,
   "id": "2ec6d355",
   "metadata": {},
   "outputs": [],
   "source": [
    "dict1 = {\"name\": \"newtan\",\n",
    "        \"surname\": \"mukherjee\",\n",
    "        \"marks\": [1,2,3,4]}"
   ]
  },
  {
   "cell_type": "code",
   "execution_count": 101,
   "id": "0ef0b61c",
   "metadata": {},
   "outputs": [],
   "source": [
    "df = pd.DataFrame(dict1)"
   ]
  },
  {
   "cell_type": "code",
   "execution_count": 102,
   "id": "239b04ef",
   "metadata": {},
   "outputs": [
    {
     "data": {
      "text/html": [
       "<div>\n",
       "<style scoped>\n",
       "    .dataframe tbody tr th:only-of-type {\n",
       "        vertical-align: middle;\n",
       "    }\n",
       "\n",
       "    .dataframe tbody tr th {\n",
       "        vertical-align: top;\n",
       "    }\n",
       "\n",
       "    .dataframe thead th {\n",
       "        text-align: right;\n",
       "    }\n",
       "</style>\n",
       "<table border=\"1\" class=\"dataframe\">\n",
       "  <thead>\n",
       "    <tr style=\"text-align: right;\">\n",
       "      <th></th>\n",
       "      <th>name</th>\n",
       "      <th>surname</th>\n",
       "      <th>marks</th>\n",
       "    </tr>\n",
       "  </thead>\n",
       "  <tbody>\n",
       "    <tr>\n",
       "      <th>0</th>\n",
       "      <td>newtan</td>\n",
       "      <td>mukherjee</td>\n",
       "      <td>1</td>\n",
       "    </tr>\n",
       "    <tr>\n",
       "      <th>1</th>\n",
       "      <td>newtan</td>\n",
       "      <td>mukherjee</td>\n",
       "      <td>2</td>\n",
       "    </tr>\n",
       "    <tr>\n",
       "      <th>2</th>\n",
       "      <td>newtan</td>\n",
       "      <td>mukherjee</td>\n",
       "      <td>3</td>\n",
       "    </tr>\n",
       "    <tr>\n",
       "      <th>3</th>\n",
       "      <td>newtan</td>\n",
       "      <td>mukherjee</td>\n",
       "      <td>4</td>\n",
       "    </tr>\n",
       "  </tbody>\n",
       "</table>\n",
       "</div>"
      ],
      "text/plain": [
       "     name    surname  marks\n",
       "0  newtan  mukherjee      1\n",
       "1  newtan  mukherjee      2\n",
       "2  newtan  mukherjee      3\n",
       "3  newtan  mukherjee      4"
      ]
     },
     "execution_count": 102,
     "metadata": {},
     "output_type": "execute_result"
    }
   ],
   "source": [
    "df"
   ]
  },
  {
   "cell_type": "code",
   "execution_count": 103,
   "id": "da6c1c65",
   "metadata": {},
   "outputs": [],
   "source": [
    "df.to_csv('newtan.csv')"
   ]
  },
  {
   "cell_type": "code",
   "execution_count": 104,
   "id": "d01582a7",
   "metadata": {},
   "outputs": [],
   "source": [
    "df.to_csv('newtan.csv', index = False)"
   ]
  },
  {
   "cell_type": "code",
   "execution_count": 105,
   "id": "1e8fb14e",
   "metadata": {},
   "outputs": [
    {
     "data": {
      "text/html": [
       "<div>\n",
       "<style scoped>\n",
       "    .dataframe tbody tr th:only-of-type {\n",
       "        vertical-align: middle;\n",
       "    }\n",
       "\n",
       "    .dataframe tbody tr th {\n",
       "        vertical-align: top;\n",
       "    }\n",
       "\n",
       "    .dataframe thead th {\n",
       "        text-align: right;\n",
       "    }\n",
       "</style>\n",
       "<table border=\"1\" class=\"dataframe\">\n",
       "  <thead>\n",
       "    <tr style=\"text-align: right;\">\n",
       "      <th></th>\n",
       "      <th>name</th>\n",
       "      <th>surname</th>\n",
       "      <th>marks</th>\n",
       "    </tr>\n",
       "  </thead>\n",
       "  <tbody>\n",
       "    <tr>\n",
       "      <th>0</th>\n",
       "      <td>newtan</td>\n",
       "      <td>mukherjee</td>\n",
       "      <td>1</td>\n",
       "    </tr>\n",
       "    <tr>\n",
       "      <th>1</th>\n",
       "      <td>newtan</td>\n",
       "      <td>mukherjee</td>\n",
       "      <td>2</td>\n",
       "    </tr>\n",
       "    <tr>\n",
       "      <th>2</th>\n",
       "      <td>newtan</td>\n",
       "      <td>mukherjee</td>\n",
       "      <td>3</td>\n",
       "    </tr>\n",
       "  </tbody>\n",
       "</table>\n",
       "</div>"
      ],
      "text/plain": [
       "     name    surname  marks\n",
       "0  newtan  mukherjee      1\n",
       "1  newtan  mukherjee      2\n",
       "2  newtan  mukherjee      3"
      ]
     },
     "execution_count": 105,
     "metadata": {},
     "output_type": "execute_result"
    }
   ],
   "source": [
    "df.head(3)"
   ]
  },
  {
   "cell_type": "code",
   "execution_count": 106,
   "id": "e9eb9829",
   "metadata": {},
   "outputs": [
    {
     "data": {
      "text/html": [
       "<div>\n",
       "<style scoped>\n",
       "    .dataframe tbody tr th:only-of-type {\n",
       "        vertical-align: middle;\n",
       "    }\n",
       "\n",
       "    .dataframe tbody tr th {\n",
       "        vertical-align: top;\n",
       "    }\n",
       "\n",
       "    .dataframe thead th {\n",
       "        text-align: right;\n",
       "    }\n",
       "</style>\n",
       "<table border=\"1\" class=\"dataframe\">\n",
       "  <thead>\n",
       "    <tr style=\"text-align: right;\">\n",
       "      <th></th>\n",
       "      <th>name</th>\n",
       "      <th>surname</th>\n",
       "      <th>marks</th>\n",
       "    </tr>\n",
       "  </thead>\n",
       "  <tbody>\n",
       "    <tr>\n",
       "      <th>2</th>\n",
       "      <td>newtan</td>\n",
       "      <td>mukherjee</td>\n",
       "      <td>3</td>\n",
       "    </tr>\n",
       "    <tr>\n",
       "      <th>3</th>\n",
       "      <td>newtan</td>\n",
       "      <td>mukherjee</td>\n",
       "      <td>4</td>\n",
       "    </tr>\n",
       "  </tbody>\n",
       "</table>\n",
       "</div>"
      ],
      "text/plain": [
       "     name    surname  marks\n",
       "2  newtan  mukherjee      3\n",
       "3  newtan  mukherjee      4"
      ]
     },
     "execution_count": 106,
     "metadata": {},
     "output_type": "execute_result"
    }
   ],
   "source": [
    "df.tail(2)"
   ]
  },
  {
   "cell_type": "code",
   "execution_count": 107,
   "id": "aba217b9",
   "metadata": {},
   "outputs": [
    {
     "data": {
      "text/html": [
       "<div>\n",
       "<style scoped>\n",
       "    .dataframe tbody tr th:only-of-type {\n",
       "        vertical-align: middle;\n",
       "    }\n",
       "\n",
       "    .dataframe tbody tr th {\n",
       "        vertical-align: top;\n",
       "    }\n",
       "\n",
       "    .dataframe thead th {\n",
       "        text-align: right;\n",
       "    }\n",
       "</style>\n",
       "<table border=\"1\" class=\"dataframe\">\n",
       "  <thead>\n",
       "    <tr style=\"text-align: right;\">\n",
       "      <th></th>\n",
       "      <th>marks</th>\n",
       "    </tr>\n",
       "  </thead>\n",
       "  <tbody>\n",
       "    <tr>\n",
       "      <th>count</th>\n",
       "      <td>4.000000</td>\n",
       "    </tr>\n",
       "    <tr>\n",
       "      <th>mean</th>\n",
       "      <td>2.500000</td>\n",
       "    </tr>\n",
       "    <tr>\n",
       "      <th>std</th>\n",
       "      <td>1.290994</td>\n",
       "    </tr>\n",
       "    <tr>\n",
       "      <th>min</th>\n",
       "      <td>1.000000</td>\n",
       "    </tr>\n",
       "    <tr>\n",
       "      <th>25%</th>\n",
       "      <td>1.750000</td>\n",
       "    </tr>\n",
       "    <tr>\n",
       "      <th>50%</th>\n",
       "      <td>2.500000</td>\n",
       "    </tr>\n",
       "    <tr>\n",
       "      <th>75%</th>\n",
       "      <td>3.250000</td>\n",
       "    </tr>\n",
       "    <tr>\n",
       "      <th>max</th>\n",
       "      <td>4.000000</td>\n",
       "    </tr>\n",
       "  </tbody>\n",
       "</table>\n",
       "</div>"
      ],
      "text/plain": [
       "          marks\n",
       "count  4.000000\n",
       "mean   2.500000\n",
       "std    1.290994\n",
       "min    1.000000\n",
       "25%    1.750000\n",
       "50%    2.500000\n",
       "75%    3.250000\n",
       "max    4.000000"
      ]
     },
     "execution_count": 107,
     "metadata": {},
     "output_type": "execute_result"
    }
   ],
   "source": [
    "df.describe()  # Numerical columns statistical analysis"
   ]
  },
  {
   "cell_type": "code",
   "execution_count": 108,
   "id": "2866dfe4",
   "metadata": {},
   "outputs": [],
   "source": [
    "df2 = pd.read_csv('newtan.csv')"
   ]
  },
  {
   "cell_type": "code",
   "execution_count": 109,
   "id": "9a28546d",
   "metadata": {},
   "outputs": [
    {
     "data": {
      "text/html": [
       "<div>\n",
       "<style scoped>\n",
       "    .dataframe tbody tr th:only-of-type {\n",
       "        vertical-align: middle;\n",
       "    }\n",
       "\n",
       "    .dataframe tbody tr th {\n",
       "        vertical-align: top;\n",
       "    }\n",
       "\n",
       "    .dataframe thead th {\n",
       "        text-align: right;\n",
       "    }\n",
       "</style>\n",
       "<table border=\"1\" class=\"dataframe\">\n",
       "  <thead>\n",
       "    <tr style=\"text-align: right;\">\n",
       "      <th></th>\n",
       "      <th>name</th>\n",
       "      <th>surname</th>\n",
       "      <th>marks</th>\n",
       "    </tr>\n",
       "  </thead>\n",
       "  <tbody>\n",
       "    <tr>\n",
       "      <th>0</th>\n",
       "      <td>newtan</td>\n",
       "      <td>mukherjee</td>\n",
       "      <td>1</td>\n",
       "    </tr>\n",
       "    <tr>\n",
       "      <th>1</th>\n",
       "      <td>newtan</td>\n",
       "      <td>mukherjee</td>\n",
       "      <td>2</td>\n",
       "    </tr>\n",
       "    <tr>\n",
       "      <th>2</th>\n",
       "      <td>newtan</td>\n",
       "      <td>mukherjee</td>\n",
       "      <td>3</td>\n",
       "    </tr>\n",
       "    <tr>\n",
       "      <th>3</th>\n",
       "      <td>newtan</td>\n",
       "      <td>mukherjee</td>\n",
       "      <td>4</td>\n",
       "    </tr>\n",
       "  </tbody>\n",
       "</table>\n",
       "</div>"
      ],
      "text/plain": [
       "     name    surname  marks\n",
       "0  newtan  mukherjee      1\n",
       "1  newtan  mukherjee      2\n",
       "2  newtan  mukherjee      3\n",
       "3  newtan  mukherjee      4"
      ]
     },
     "execution_count": 109,
     "metadata": {},
     "output_type": "execute_result"
    }
   ],
   "source": [
    "df2.head()"
   ]
  },
  {
   "cell_type": "code",
   "execution_count": 110,
   "id": "5a19d683",
   "metadata": {},
   "outputs": [
    {
     "name": "stderr",
     "output_type": "stream",
     "text": [
      "C:\\Users\\my\\AppData\\Local\\Temp\\ipykernel_17924\\481601147.py:1: SettingWithCopyWarning: \n",
      "A value is trying to be set on a copy of a slice from a DataFrame\n",
      "\n",
      "See the caveats in the documentation: https://pandas.pydata.org/pandas-docs/stable/user_guide/indexing.html#returning-a-view-versus-a-copy\n",
      "  df['name'][1] = 'harsh'   # cgange values correponding to an index at a slice\n"
     ]
    }
   ],
   "source": [
    "df['name'][1] = 'harsh'   # cgange values correponding to an index at a slice"
   ]
  },
  {
   "cell_type": "code",
   "execution_count": 111,
   "id": "850857d3",
   "metadata": {},
   "outputs": [
    {
     "data": {
      "text/html": [
       "<div>\n",
       "<style scoped>\n",
       "    .dataframe tbody tr th:only-of-type {\n",
       "        vertical-align: middle;\n",
       "    }\n",
       "\n",
       "    .dataframe tbody tr th {\n",
       "        vertical-align: top;\n",
       "    }\n",
       "\n",
       "    .dataframe thead th {\n",
       "        text-align: right;\n",
       "    }\n",
       "</style>\n",
       "<table border=\"1\" class=\"dataframe\">\n",
       "  <thead>\n",
       "    <tr style=\"text-align: right;\">\n",
       "      <th></th>\n",
       "      <th>name</th>\n",
       "      <th>surname</th>\n",
       "      <th>marks</th>\n",
       "    </tr>\n",
       "  </thead>\n",
       "  <tbody>\n",
       "    <tr>\n",
       "      <th>0</th>\n",
       "      <td>newtan</td>\n",
       "      <td>mukherjee</td>\n",
       "      <td>1</td>\n",
       "    </tr>\n",
       "    <tr>\n",
       "      <th>1</th>\n",
       "      <td>harsh</td>\n",
       "      <td>mukherjee</td>\n",
       "      <td>2</td>\n",
       "    </tr>\n",
       "    <tr>\n",
       "      <th>2</th>\n",
       "      <td>newtan</td>\n",
       "      <td>mukherjee</td>\n",
       "      <td>3</td>\n",
       "    </tr>\n",
       "    <tr>\n",
       "      <th>3</th>\n",
       "      <td>newtan</td>\n",
       "      <td>mukherjee</td>\n",
       "      <td>4</td>\n",
       "    </tr>\n",
       "  </tbody>\n",
       "</table>\n",
       "</div>"
      ],
      "text/plain": [
       "     name    surname  marks\n",
       "0  newtan  mukherjee      1\n",
       "1   harsh  mukherjee      2\n",
       "2  newtan  mukherjee      3\n",
       "3  newtan  mukherjee      4"
      ]
     },
     "execution_count": 111,
     "metadata": {},
     "output_type": "execute_result"
    }
   ],
   "source": [
    "df.head()"
   ]
  },
  {
   "cell_type": "code",
   "execution_count": 112,
   "id": "2811aa07",
   "metadata": {},
   "outputs": [],
   "source": [
    "df.index = ['first', 'second', 'third', 'fourth']"
   ]
  },
  {
   "cell_type": "code",
   "execution_count": 113,
   "id": "3b95d956",
   "metadata": {},
   "outputs": [
    {
     "data": {
      "text/html": [
       "<div>\n",
       "<style scoped>\n",
       "    .dataframe tbody tr th:only-of-type {\n",
       "        vertical-align: middle;\n",
       "    }\n",
       "\n",
       "    .dataframe tbody tr th {\n",
       "        vertical-align: top;\n",
       "    }\n",
       "\n",
       "    .dataframe thead th {\n",
       "        text-align: right;\n",
       "    }\n",
       "</style>\n",
       "<table border=\"1\" class=\"dataframe\">\n",
       "  <thead>\n",
       "    <tr style=\"text-align: right;\">\n",
       "      <th></th>\n",
       "      <th>name</th>\n",
       "      <th>surname</th>\n",
       "      <th>marks</th>\n",
       "    </tr>\n",
       "  </thead>\n",
       "  <tbody>\n",
       "    <tr>\n",
       "      <th>first</th>\n",
       "      <td>newtan</td>\n",
       "      <td>mukherjee</td>\n",
       "      <td>1</td>\n",
       "    </tr>\n",
       "    <tr>\n",
       "      <th>second</th>\n",
       "      <td>harsh</td>\n",
       "      <td>mukherjee</td>\n",
       "      <td>2</td>\n",
       "    </tr>\n",
       "    <tr>\n",
       "      <th>third</th>\n",
       "      <td>newtan</td>\n",
       "      <td>mukherjee</td>\n",
       "      <td>3</td>\n",
       "    </tr>\n",
       "    <tr>\n",
       "      <th>fourth</th>\n",
       "      <td>newtan</td>\n",
       "      <td>mukherjee</td>\n",
       "      <td>4</td>\n",
       "    </tr>\n",
       "  </tbody>\n",
       "</table>\n",
       "</div>"
      ],
      "text/plain": [
       "          name    surname  marks\n",
       "first   newtan  mukherjee      1\n",
       "second   harsh  mukherjee      2\n",
       "third   newtan  mukherjee      3\n",
       "fourth  newtan  mukherjee      4"
      ]
     },
     "execution_count": 113,
     "metadata": {},
     "output_type": "execute_result"
    }
   ],
   "source": [
    "df.head()"
   ]
  },
  {
   "cell_type": "code",
   "execution_count": 114,
   "id": "67dfa681",
   "metadata": {},
   "outputs": [],
   "source": [
    "ser = pd.Series(np.random.rand(5))"
   ]
  },
  {
   "cell_type": "code",
   "execution_count": 115,
   "id": "3d444e6f",
   "metadata": {},
   "outputs": [
    {
     "data": {
      "text/plain": [
       "0    0.419632\n",
       "1    0.989871\n",
       "2    0.854071\n",
       "3    0.319279\n",
       "4    0.769079\n",
       "dtype: float64"
      ]
     },
     "execution_count": 115,
     "metadata": {},
     "output_type": "execute_result"
    }
   ],
   "source": [
    "ser"
   ]
  },
  {
   "cell_type": "code",
   "execution_count": 116,
   "id": "a880fec7",
   "metadata": {},
   "outputs": [
    {
     "name": "stdout",
     "output_type": "stream",
     "text": [
      "<class 'pandas.core.series.Series'>\n"
     ]
    }
   ],
   "source": [
    "print(type(ser))"
   ]
  },
  {
   "cell_type": "code",
   "execution_count": 117,
   "id": "bf37051f",
   "metadata": {},
   "outputs": [],
   "source": [
    "dataFrame =  pd.DataFrame(np.random.rand(5))"
   ]
  },
  {
   "cell_type": "code",
   "execution_count": 118,
   "id": "95a47c73",
   "metadata": {},
   "outputs": [
    {
     "data": {
      "text/html": [
       "<div>\n",
       "<style scoped>\n",
       "    .dataframe tbody tr th:only-of-type {\n",
       "        vertical-align: middle;\n",
       "    }\n",
       "\n",
       "    .dataframe tbody tr th {\n",
       "        vertical-align: top;\n",
       "    }\n",
       "\n",
       "    .dataframe thead th {\n",
       "        text-align: right;\n",
       "    }\n",
       "</style>\n",
       "<table border=\"1\" class=\"dataframe\">\n",
       "  <thead>\n",
       "    <tr style=\"text-align: right;\">\n",
       "      <th></th>\n",
       "      <th>0</th>\n",
       "    </tr>\n",
       "  </thead>\n",
       "  <tbody>\n",
       "    <tr>\n",
       "      <th>0</th>\n",
       "      <td>0.524386</td>\n",
       "    </tr>\n",
       "    <tr>\n",
       "      <th>1</th>\n",
       "      <td>0.166387</td>\n",
       "    </tr>\n",
       "    <tr>\n",
       "      <th>2</th>\n",
       "      <td>0.780932</td>\n",
       "    </tr>\n",
       "    <tr>\n",
       "      <th>3</th>\n",
       "      <td>0.681365</td>\n",
       "    </tr>\n",
       "    <tr>\n",
       "      <th>4</th>\n",
       "      <td>0.595382</td>\n",
       "    </tr>\n",
       "  </tbody>\n",
       "</table>\n",
       "</div>"
      ],
      "text/plain": [
       "          0\n",
       "0  0.524386\n",
       "1  0.166387\n",
       "2  0.780932\n",
       "3  0.681365\n",
       "4  0.595382"
      ]
     },
     "execution_count": 118,
     "metadata": {},
     "output_type": "execute_result"
    }
   ],
   "source": [
    "dataFrame.head()"
   ]
  },
  {
   "cell_type": "code",
   "execution_count": 119,
   "id": "abd776c7",
   "metadata": {},
   "outputs": [
    {
     "name": "stdout",
     "output_type": "stream",
     "text": [
      "<class 'pandas.core.frame.DataFrame'>\n"
     ]
    }
   ],
   "source": [
    "print(type(dataFrame))"
   ]
  },
  {
   "cell_type": "code",
   "execution_count": 120,
   "id": "3672ee9f",
   "metadata": {},
   "outputs": [],
   "source": [
    "dataFrame =  pd.DataFrame(np.random.rand(5,7))"
   ]
  },
  {
   "cell_type": "code",
   "execution_count": 121,
   "id": "f30735cf",
   "metadata": {},
   "outputs": [
    {
     "name": "stdout",
     "output_type": "stream",
     "text": [
      "          0         1         2         3         4         5         6\n",
      "0  0.326856  0.084446  0.608523  0.172650  0.665257  0.886400  0.579239\n",
      "1  0.478510  0.990280  0.391509  0.204213  0.779200  0.670630  0.993223\n",
      "2  0.476481  0.503598  0.667815  0.266115  0.829073  0.255410  0.596635\n",
      "3  0.050383  0.807997  0.342456  0.837508  0.717598  0.921567  0.702254\n",
      "4  0.205352  0.972982  0.311395  0.115636  0.381257  0.948770  0.380561\n"
     ]
    }
   ],
   "source": [
    "print(dataFrame)"
   ]
  },
  {
   "cell_type": "code",
   "execution_count": 122,
   "id": "070d344d",
   "metadata": {},
   "outputs": [
    {
     "data": {
      "text/html": [
       "<div>\n",
       "<style scoped>\n",
       "    .dataframe tbody tr th:only-of-type {\n",
       "        vertical-align: middle;\n",
       "    }\n",
       "\n",
       "    .dataframe tbody tr th {\n",
       "        vertical-align: top;\n",
       "    }\n",
       "\n",
       "    .dataframe thead th {\n",
       "        text-align: right;\n",
       "    }\n",
       "</style>\n",
       "<table border=\"1\" class=\"dataframe\">\n",
       "  <thead>\n",
       "    <tr style=\"text-align: right;\">\n",
       "      <th></th>\n",
       "      <th>0</th>\n",
       "      <th>1</th>\n",
       "      <th>2</th>\n",
       "      <th>3</th>\n",
       "      <th>4</th>\n",
       "      <th>5</th>\n",
       "      <th>6</th>\n",
       "    </tr>\n",
       "  </thead>\n",
       "  <tbody>\n",
       "    <tr>\n",
       "      <th>count</th>\n",
       "      <td>5.000000</td>\n",
       "      <td>5.000000</td>\n",
       "      <td>5.000000</td>\n",
       "      <td>5.000000</td>\n",
       "      <td>5.000000</td>\n",
       "      <td>5.000000</td>\n",
       "      <td>5.000000</td>\n",
       "    </tr>\n",
       "    <tr>\n",
       "      <th>mean</th>\n",
       "      <td>0.307516</td>\n",
       "      <td>0.671861</td>\n",
       "      <td>0.464339</td>\n",
       "      <td>0.319225</td>\n",
       "      <td>0.674477</td>\n",
       "      <td>0.736555</td>\n",
       "      <td>0.650382</td>\n",
       "    </tr>\n",
       "    <tr>\n",
       "      <th>std</th>\n",
       "      <td>0.183519</td>\n",
       "      <td>0.382089</td>\n",
       "      <td>0.162591</td>\n",
       "      <td>0.294788</td>\n",
       "      <td>0.175206</td>\n",
       "      <td>0.290502</td>\n",
       "      <td>0.224156</td>\n",
       "    </tr>\n",
       "    <tr>\n",
       "      <th>min</th>\n",
       "      <td>0.050383</td>\n",
       "      <td>0.084446</td>\n",
       "      <td>0.311395</td>\n",
       "      <td>0.115636</td>\n",
       "      <td>0.381257</td>\n",
       "      <td>0.255410</td>\n",
       "      <td>0.380561</td>\n",
       "    </tr>\n",
       "    <tr>\n",
       "      <th>25%</th>\n",
       "      <td>0.205352</td>\n",
       "      <td>0.503598</td>\n",
       "      <td>0.342456</td>\n",
       "      <td>0.172650</td>\n",
       "      <td>0.665257</td>\n",
       "      <td>0.670630</td>\n",
       "      <td>0.579239</td>\n",
       "    </tr>\n",
       "    <tr>\n",
       "      <th>50%</th>\n",
       "      <td>0.326856</td>\n",
       "      <td>0.807997</td>\n",
       "      <td>0.391509</td>\n",
       "      <td>0.204213</td>\n",
       "      <td>0.717598</td>\n",
       "      <td>0.886400</td>\n",
       "      <td>0.596635</td>\n",
       "    </tr>\n",
       "    <tr>\n",
       "      <th>75%</th>\n",
       "      <td>0.476481</td>\n",
       "      <td>0.972982</td>\n",
       "      <td>0.608523</td>\n",
       "      <td>0.266115</td>\n",
       "      <td>0.779200</td>\n",
       "      <td>0.921567</td>\n",
       "      <td>0.702254</td>\n",
       "    </tr>\n",
       "    <tr>\n",
       "      <th>max</th>\n",
       "      <td>0.478510</td>\n",
       "      <td>0.990280</td>\n",
       "      <td>0.667815</td>\n",
       "      <td>0.837508</td>\n",
       "      <td>0.829073</td>\n",
       "      <td>0.948770</td>\n",
       "      <td>0.993223</td>\n",
       "    </tr>\n",
       "  </tbody>\n",
       "</table>\n",
       "</div>"
      ],
      "text/plain": [
       "              0         1         2         3         4         5         6\n",
       "count  5.000000  5.000000  5.000000  5.000000  5.000000  5.000000  5.000000\n",
       "mean   0.307516  0.671861  0.464339  0.319225  0.674477  0.736555  0.650382\n",
       "std    0.183519  0.382089  0.162591  0.294788  0.175206  0.290502  0.224156\n",
       "min    0.050383  0.084446  0.311395  0.115636  0.381257  0.255410  0.380561\n",
       "25%    0.205352  0.503598  0.342456  0.172650  0.665257  0.670630  0.579239\n",
       "50%    0.326856  0.807997  0.391509  0.204213  0.717598  0.886400  0.596635\n",
       "75%    0.476481  0.972982  0.608523  0.266115  0.779200  0.921567  0.702254\n",
       "max    0.478510  0.990280  0.667815  0.837508  0.829073  0.948770  0.993223"
      ]
     },
     "execution_count": 122,
     "metadata": {},
     "output_type": "execute_result"
    }
   ],
   "source": [
    "dataFrame.describe()"
   ]
  },
  {
   "cell_type": "code",
   "execution_count": 123,
   "id": "2abd6e16",
   "metadata": {},
   "outputs": [
    {
     "data": {
      "text/plain": [
       "0    float64\n",
       "1    float64\n",
       "2    float64\n",
       "3    float64\n",
       "4    float64\n",
       "5    float64\n",
       "6    float64\n",
       "dtype: object"
      ]
     },
     "execution_count": 123,
     "metadata": {},
     "output_type": "execute_result"
    }
   ],
   "source": [
    "dataFrame.dtypes"
   ]
  },
  {
   "cell_type": "code",
   "execution_count": 124,
   "id": "5460248c",
   "metadata": {},
   "outputs": [
    {
     "name": "stderr",
     "output_type": "stream",
     "text": [
      "C:\\Users\\my\\AppData\\Local\\Temp\\ipykernel_17924\\1538482231.py:1: FutureWarning: Setting an item of incompatible dtype is deprecated and will raise in a future error of pandas. Value 'harry' has dtype incompatible with float64, please explicitly cast to a compatible dtype first.\n",
      "  dataFrame[0][0] = 'harry'\n"
     ]
    }
   ],
   "source": [
    "dataFrame[0][0] = 'harry'"
   ]
  },
  {
   "cell_type": "code",
   "execution_count": 125,
   "id": "2074d795",
   "metadata": {},
   "outputs": [
    {
     "data": {
      "text/plain": [
       "0     object\n",
       "1    float64\n",
       "2    float64\n",
       "3    float64\n",
       "4    float64\n",
       "5    float64\n",
       "6    float64\n",
       "dtype: object"
      ]
     },
     "execution_count": 125,
     "metadata": {},
     "output_type": "execute_result"
    }
   ],
   "source": [
    "dataFrame.dtypes"
   ]
  },
  {
   "cell_type": "code",
   "execution_count": 126,
   "id": "fb8739ba",
   "metadata": {},
   "outputs": [
    {
     "data": {
      "text/plain": [
       "RangeIndex(start=0, stop=5, step=1)"
      ]
     },
     "execution_count": 126,
     "metadata": {},
     "output_type": "execute_result"
    }
   ],
   "source": [
    "dataFrame.index"
   ]
  },
  {
   "cell_type": "code",
   "execution_count": 127,
   "id": "87627137",
   "metadata": {},
   "outputs": [
    {
     "data": {
      "text/plain": [
       "array([['harry', 0.08444568269975694, 0.6085228131362512,\n",
       "        0.17264990040080608, 0.6652573526284863, 0.8863998718381001,\n",
       "        0.5792392043567813],\n",
       "       [0.4785104837392683, 0.9902803906550616, 0.39150882026758826,\n",
       "        0.20421252289312497, 0.7791999296247594, 0.6706295030707298,\n",
       "        0.9932228833923346],\n",
       "       [0.476481411417327, 0.5035982591832826, 0.6678150040699432,\n",
       "        0.2661151522309626, 0.8290731044158557, 0.2554101412839117,\n",
       "        0.596634895871857],\n",
       "       [0.05038283341418259, 0.8079965132792987, 0.34245569832293143,\n",
       "        0.8375084513107337, 0.7175977881359038, 0.9215674169923793,\n",
       "        0.7022538388313249],\n",
       "       [0.20535170908763944, 0.9729823061412566, 0.311394959054057,\n",
       "        0.11563647316984871, 0.38125736825910306, 0.9487699142020414,\n",
       "        0.3805607405407335]], dtype=object)"
      ]
     },
     "execution_count": 127,
     "metadata": {},
     "output_type": "execute_result"
    }
   ],
   "source": [
    "dataFrame.to_numpy()"
   ]
  },
  {
   "cell_type": "code",
   "execution_count": 128,
   "id": "0b5470c0",
   "metadata": {},
   "outputs": [
    {
     "data": {
      "text/html": [
       "<div>\n",
       "<style scoped>\n",
       "    .dataframe tbody tr th:only-of-type {\n",
       "        vertical-align: middle;\n",
       "    }\n",
       "\n",
       "    .dataframe tbody tr th {\n",
       "        vertical-align: top;\n",
       "    }\n",
       "\n",
       "    .dataframe thead th {\n",
       "        text-align: right;\n",
       "    }\n",
       "</style>\n",
       "<table border=\"1\" class=\"dataframe\">\n",
       "  <thead>\n",
       "    <tr style=\"text-align: right;\">\n",
       "      <th></th>\n",
       "      <th>0</th>\n",
       "      <th>1</th>\n",
       "      <th>2</th>\n",
       "      <th>3</th>\n",
       "      <th>4</th>\n",
       "    </tr>\n",
       "  </thead>\n",
       "  <tbody>\n",
       "    <tr>\n",
       "      <th>0</th>\n",
       "      <td>harry</td>\n",
       "      <td>0.47851</td>\n",
       "      <td>0.476481</td>\n",
       "      <td>0.050383</td>\n",
       "      <td>0.205352</td>\n",
       "    </tr>\n",
       "    <tr>\n",
       "      <th>1</th>\n",
       "      <td>0.084446</td>\n",
       "      <td>0.99028</td>\n",
       "      <td>0.503598</td>\n",
       "      <td>0.807997</td>\n",
       "      <td>0.972982</td>\n",
       "    </tr>\n",
       "    <tr>\n",
       "      <th>2</th>\n",
       "      <td>0.608523</td>\n",
       "      <td>0.391509</td>\n",
       "      <td>0.667815</td>\n",
       "      <td>0.342456</td>\n",
       "      <td>0.311395</td>\n",
       "    </tr>\n",
       "    <tr>\n",
       "      <th>3</th>\n",
       "      <td>0.17265</td>\n",
       "      <td>0.204213</td>\n",
       "      <td>0.266115</td>\n",
       "      <td>0.837508</td>\n",
       "      <td>0.115636</td>\n",
       "    </tr>\n",
       "    <tr>\n",
       "      <th>4</th>\n",
       "      <td>0.665257</td>\n",
       "      <td>0.7792</td>\n",
       "      <td>0.829073</td>\n",
       "      <td>0.717598</td>\n",
       "      <td>0.381257</td>\n",
       "    </tr>\n",
       "    <tr>\n",
       "      <th>5</th>\n",
       "      <td>0.8864</td>\n",
       "      <td>0.67063</td>\n",
       "      <td>0.25541</td>\n",
       "      <td>0.921567</td>\n",
       "      <td>0.94877</td>\n",
       "    </tr>\n",
       "    <tr>\n",
       "      <th>6</th>\n",
       "      <td>0.579239</td>\n",
       "      <td>0.993223</td>\n",
       "      <td>0.596635</td>\n",
       "      <td>0.702254</td>\n",
       "      <td>0.380561</td>\n",
       "    </tr>\n",
       "  </tbody>\n",
       "</table>\n",
       "</div>"
      ],
      "text/plain": [
       "          0         1         2         3         4\n",
       "0     harry   0.47851  0.476481  0.050383  0.205352\n",
       "1  0.084446   0.99028  0.503598  0.807997  0.972982\n",
       "2  0.608523  0.391509  0.667815  0.342456  0.311395\n",
       "3   0.17265  0.204213  0.266115  0.837508  0.115636\n",
       "4  0.665257    0.7792  0.829073  0.717598  0.381257\n",
       "5    0.8864   0.67063   0.25541  0.921567   0.94877\n",
       "6  0.579239  0.993223  0.596635  0.702254  0.380561"
      ]
     },
     "execution_count": 128,
     "metadata": {},
     "output_type": "execute_result"
    }
   ],
   "source": [
    "dataFrame.T"
   ]
  },
  {
   "cell_type": "code",
   "execution_count": 129,
   "id": "d98d349e",
   "metadata": {},
   "outputs": [
    {
     "data": {
      "text/html": [
       "<div>\n",
       "<style scoped>\n",
       "    .dataframe tbody tr th:only-of-type {\n",
       "        vertical-align: middle;\n",
       "    }\n",
       "\n",
       "    .dataframe tbody tr th {\n",
       "        vertical-align: top;\n",
       "    }\n",
       "\n",
       "    .dataframe thead th {\n",
       "        text-align: right;\n",
       "    }\n",
       "</style>\n",
       "<table border=\"1\" class=\"dataframe\">\n",
       "  <thead>\n",
       "    <tr style=\"text-align: right;\">\n",
       "      <th></th>\n",
       "      <th>0</th>\n",
       "      <th>1</th>\n",
       "      <th>2</th>\n",
       "      <th>3</th>\n",
       "      <th>4</th>\n",
       "      <th>5</th>\n",
       "      <th>6</th>\n",
       "    </tr>\n",
       "  </thead>\n",
       "  <tbody>\n",
       "    <tr>\n",
       "      <th>4</th>\n",
       "      <td>0.205352</td>\n",
       "      <td>0.972982</td>\n",
       "      <td>0.311395</td>\n",
       "      <td>0.115636</td>\n",
       "      <td>0.381257</td>\n",
       "      <td>0.948770</td>\n",
       "      <td>0.380561</td>\n",
       "    </tr>\n",
       "    <tr>\n",
       "      <th>3</th>\n",
       "      <td>0.050383</td>\n",
       "      <td>0.807997</td>\n",
       "      <td>0.342456</td>\n",
       "      <td>0.837508</td>\n",
       "      <td>0.717598</td>\n",
       "      <td>0.921567</td>\n",
       "      <td>0.702254</td>\n",
       "    </tr>\n",
       "    <tr>\n",
       "      <th>2</th>\n",
       "      <td>0.476481</td>\n",
       "      <td>0.503598</td>\n",
       "      <td>0.667815</td>\n",
       "      <td>0.266115</td>\n",
       "      <td>0.829073</td>\n",
       "      <td>0.255410</td>\n",
       "      <td>0.596635</td>\n",
       "    </tr>\n",
       "    <tr>\n",
       "      <th>1</th>\n",
       "      <td>0.47851</td>\n",
       "      <td>0.990280</td>\n",
       "      <td>0.391509</td>\n",
       "      <td>0.204213</td>\n",
       "      <td>0.779200</td>\n",
       "      <td>0.670630</td>\n",
       "      <td>0.993223</td>\n",
       "    </tr>\n",
       "    <tr>\n",
       "      <th>0</th>\n",
       "      <td>harry</td>\n",
       "      <td>0.084446</td>\n",
       "      <td>0.608523</td>\n",
       "      <td>0.172650</td>\n",
       "      <td>0.665257</td>\n",
       "      <td>0.886400</td>\n",
       "      <td>0.579239</td>\n",
       "    </tr>\n",
       "  </tbody>\n",
       "</table>\n",
       "</div>"
      ],
      "text/plain": [
       "          0         1         2         3         4         5         6\n",
       "4  0.205352  0.972982  0.311395  0.115636  0.381257  0.948770  0.380561\n",
       "3  0.050383  0.807997  0.342456  0.837508  0.717598  0.921567  0.702254\n",
       "2  0.476481  0.503598  0.667815  0.266115  0.829073  0.255410  0.596635\n",
       "1   0.47851  0.990280  0.391509  0.204213  0.779200  0.670630  0.993223\n",
       "0     harry  0.084446  0.608523  0.172650  0.665257  0.886400  0.579239"
      ]
     },
     "execution_count": 129,
     "metadata": {},
     "output_type": "execute_result"
    }
   ],
   "source": [
    "dataFrame.sort_index(axis=0, ascending = False)"
   ]
  },
  {
   "cell_type": "code",
   "execution_count": 130,
   "id": "d49b12d5",
   "metadata": {},
   "outputs": [
    {
     "data": {
      "text/html": [
       "<div>\n",
       "<style scoped>\n",
       "    .dataframe tbody tr th:only-of-type {\n",
       "        vertical-align: middle;\n",
       "    }\n",
       "\n",
       "    .dataframe tbody tr th {\n",
       "        vertical-align: top;\n",
       "    }\n",
       "\n",
       "    .dataframe thead th {\n",
       "        text-align: right;\n",
       "    }\n",
       "</style>\n",
       "<table border=\"1\" class=\"dataframe\">\n",
       "  <thead>\n",
       "    <tr style=\"text-align: right;\">\n",
       "      <th></th>\n",
       "      <th>6</th>\n",
       "      <th>5</th>\n",
       "      <th>4</th>\n",
       "      <th>3</th>\n",
       "      <th>2</th>\n",
       "      <th>1</th>\n",
       "      <th>0</th>\n",
       "    </tr>\n",
       "  </thead>\n",
       "  <tbody>\n",
       "    <tr>\n",
       "      <th>0</th>\n",
       "      <td>0.579239</td>\n",
       "      <td>0.886400</td>\n",
       "      <td>0.665257</td>\n",
       "      <td>0.172650</td>\n",
       "      <td>0.608523</td>\n",
       "      <td>0.084446</td>\n",
       "      <td>harry</td>\n",
       "    </tr>\n",
       "    <tr>\n",
       "      <th>1</th>\n",
       "      <td>0.993223</td>\n",
       "      <td>0.670630</td>\n",
       "      <td>0.779200</td>\n",
       "      <td>0.204213</td>\n",
       "      <td>0.391509</td>\n",
       "      <td>0.990280</td>\n",
       "      <td>0.47851</td>\n",
       "    </tr>\n",
       "    <tr>\n",
       "      <th>2</th>\n",
       "      <td>0.596635</td>\n",
       "      <td>0.255410</td>\n",
       "      <td>0.829073</td>\n",
       "      <td>0.266115</td>\n",
       "      <td>0.667815</td>\n",
       "      <td>0.503598</td>\n",
       "      <td>0.476481</td>\n",
       "    </tr>\n",
       "    <tr>\n",
       "      <th>3</th>\n",
       "      <td>0.702254</td>\n",
       "      <td>0.921567</td>\n",
       "      <td>0.717598</td>\n",
       "      <td>0.837508</td>\n",
       "      <td>0.342456</td>\n",
       "      <td>0.807997</td>\n",
       "      <td>0.050383</td>\n",
       "    </tr>\n",
       "    <tr>\n",
       "      <th>4</th>\n",
       "      <td>0.380561</td>\n",
       "      <td>0.948770</td>\n",
       "      <td>0.381257</td>\n",
       "      <td>0.115636</td>\n",
       "      <td>0.311395</td>\n",
       "      <td>0.972982</td>\n",
       "      <td>0.205352</td>\n",
       "    </tr>\n",
       "  </tbody>\n",
       "</table>\n",
       "</div>"
      ],
      "text/plain": [
       "          6         5         4         3         2         1         0\n",
       "0  0.579239  0.886400  0.665257  0.172650  0.608523  0.084446     harry\n",
       "1  0.993223  0.670630  0.779200  0.204213  0.391509  0.990280   0.47851\n",
       "2  0.596635  0.255410  0.829073  0.266115  0.667815  0.503598  0.476481\n",
       "3  0.702254  0.921567  0.717598  0.837508  0.342456  0.807997  0.050383\n",
       "4  0.380561  0.948770  0.381257  0.115636  0.311395  0.972982  0.205352"
      ]
     },
     "execution_count": 130,
     "metadata": {},
     "output_type": "execute_result"
    }
   ],
   "source": [
    "dataFrame.sort_index(axis=1, ascending = False)"
   ]
  },
  {
   "cell_type": "code",
   "execution_count": 131,
   "id": "fe0f842e",
   "metadata": {},
   "outputs": [
    {
     "data": {
      "text/plain": [
       "pandas.core.series.Series"
      ]
     },
     "execution_count": 131,
     "metadata": {},
     "output_type": "execute_result"
    }
   ],
   "source": [
    "type(dataFrame[0])"
   ]
  },
  {
   "cell_type": "code",
   "execution_count": 132,
   "id": "1954c77d",
   "metadata": {},
   "outputs": [],
   "source": [
    "newdf2 = dataFrame.copy()"
   ]
  },
  {
   "cell_type": "code",
   "execution_count": 133,
   "id": "f568b163",
   "metadata": {},
   "outputs": [
    {
     "data": {
      "text/html": [
       "<div>\n",
       "<style scoped>\n",
       "    .dataframe tbody tr th:only-of-type {\n",
       "        vertical-align: middle;\n",
       "    }\n",
       "\n",
       "    .dataframe tbody tr th {\n",
       "        vertical-align: top;\n",
       "    }\n",
       "\n",
       "    .dataframe thead th {\n",
       "        text-align: right;\n",
       "    }\n",
       "</style>\n",
       "<table border=\"1\" class=\"dataframe\">\n",
       "  <thead>\n",
       "    <tr style=\"text-align: right;\">\n",
       "      <th></th>\n",
       "      <th>0</th>\n",
       "      <th>1</th>\n",
       "      <th>2</th>\n",
       "      <th>3</th>\n",
       "      <th>4</th>\n",
       "      <th>5</th>\n",
       "      <th>6</th>\n",
       "    </tr>\n",
       "  </thead>\n",
       "  <tbody>\n",
       "    <tr>\n",
       "      <th>0</th>\n",
       "      <td>harry</td>\n",
       "      <td>0.084446</td>\n",
       "      <td>0.608523</td>\n",
       "      <td>0.172650</td>\n",
       "      <td>0.665257</td>\n",
       "      <td>0.886400</td>\n",
       "      <td>0.579239</td>\n",
       "    </tr>\n",
       "    <tr>\n",
       "      <th>1</th>\n",
       "      <td>0.47851</td>\n",
       "      <td>0.990280</td>\n",
       "      <td>0.391509</td>\n",
       "      <td>0.204213</td>\n",
       "      <td>0.779200</td>\n",
       "      <td>0.670630</td>\n",
       "      <td>0.993223</td>\n",
       "    </tr>\n",
       "    <tr>\n",
       "      <th>2</th>\n",
       "      <td>0.476481</td>\n",
       "      <td>0.503598</td>\n",
       "      <td>0.667815</td>\n",
       "      <td>0.266115</td>\n",
       "      <td>0.829073</td>\n",
       "      <td>0.255410</td>\n",
       "      <td>0.596635</td>\n",
       "    </tr>\n",
       "    <tr>\n",
       "      <th>3</th>\n",
       "      <td>0.050383</td>\n",
       "      <td>0.807997</td>\n",
       "      <td>0.342456</td>\n",
       "      <td>0.837508</td>\n",
       "      <td>0.717598</td>\n",
       "      <td>0.921567</td>\n",
       "      <td>0.702254</td>\n",
       "    </tr>\n",
       "    <tr>\n",
       "      <th>4</th>\n",
       "      <td>0.205352</td>\n",
       "      <td>0.972982</td>\n",
       "      <td>0.311395</td>\n",
       "      <td>0.115636</td>\n",
       "      <td>0.381257</td>\n",
       "      <td>0.948770</td>\n",
       "      <td>0.380561</td>\n",
       "    </tr>\n",
       "  </tbody>\n",
       "</table>\n",
       "</div>"
      ],
      "text/plain": [
       "          0         1         2         3         4         5         6\n",
       "0     harry  0.084446  0.608523  0.172650  0.665257  0.886400  0.579239\n",
       "1   0.47851  0.990280  0.391509  0.204213  0.779200  0.670630  0.993223\n",
       "2  0.476481  0.503598  0.667815  0.266115  0.829073  0.255410  0.596635\n",
       "3  0.050383  0.807997  0.342456  0.837508  0.717598  0.921567  0.702254\n",
       "4  0.205352  0.972982  0.311395  0.115636  0.381257  0.948770  0.380561"
      ]
     },
     "execution_count": 133,
     "metadata": {},
     "output_type": "execute_result"
    }
   ],
   "source": [
    "newdf2"
   ]
  },
  {
   "cell_type": "code",
   "execution_count": 134,
   "id": "29e2d75c",
   "metadata": {},
   "outputs": [],
   "source": [
    "newdf2.columns = list(\"ABCDEFG\")"
   ]
  },
  {
   "cell_type": "code",
   "execution_count": 136,
   "id": "1052f894",
   "metadata": {},
   "outputs": [
    {
     "data": {
      "text/html": [
       "<div>\n",
       "<style scoped>\n",
       "    .dataframe tbody tr th:only-of-type {\n",
       "        vertical-align: middle;\n",
       "    }\n",
       "\n",
       "    .dataframe tbody tr th {\n",
       "        vertical-align: top;\n",
       "    }\n",
       "\n",
       "    .dataframe thead th {\n",
       "        text-align: right;\n",
       "    }\n",
       "</style>\n",
       "<table border=\"1\" class=\"dataframe\">\n",
       "  <thead>\n",
       "    <tr style=\"text-align: right;\">\n",
       "      <th></th>\n",
       "      <th>A</th>\n",
       "      <th>B</th>\n",
       "      <th>C</th>\n",
       "      <th>D</th>\n",
       "      <th>E</th>\n",
       "      <th>F</th>\n",
       "      <th>G</th>\n",
       "    </tr>\n",
       "  </thead>\n",
       "  <tbody>\n",
       "    <tr>\n",
       "      <th>0</th>\n",
       "      <td>harry</td>\n",
       "      <td>0.084446</td>\n",
       "      <td>0.608523</td>\n",
       "      <td>0.172650</td>\n",
       "      <td>0.665257</td>\n",
       "      <td>0.886400</td>\n",
       "      <td>0.579239</td>\n",
       "    </tr>\n",
       "    <tr>\n",
       "      <th>1</th>\n",
       "      <td>0.47851</td>\n",
       "      <td>0.990280</td>\n",
       "      <td>0.391509</td>\n",
       "      <td>0.204213</td>\n",
       "      <td>0.779200</td>\n",
       "      <td>0.670630</td>\n",
       "      <td>0.993223</td>\n",
       "    </tr>\n",
       "    <tr>\n",
       "      <th>2</th>\n",
       "      <td>0.476481</td>\n",
       "      <td>0.503598</td>\n",
       "      <td>0.667815</td>\n",
       "      <td>0.266115</td>\n",
       "      <td>0.829073</td>\n",
       "      <td>0.255410</td>\n",
       "      <td>0.596635</td>\n",
       "    </tr>\n",
       "    <tr>\n",
       "      <th>3</th>\n",
       "      <td>0.050383</td>\n",
       "      <td>0.807997</td>\n",
       "      <td>0.342456</td>\n",
       "      <td>0.837508</td>\n",
       "      <td>0.717598</td>\n",
       "      <td>0.921567</td>\n",
       "      <td>0.702254</td>\n",
       "    </tr>\n",
       "    <tr>\n",
       "      <th>4</th>\n",
       "      <td>0.205352</td>\n",
       "      <td>0.972982</td>\n",
       "      <td>0.311395</td>\n",
       "      <td>0.115636</td>\n",
       "      <td>0.381257</td>\n",
       "      <td>0.948770</td>\n",
       "      <td>0.380561</td>\n",
       "    </tr>\n",
       "  </tbody>\n",
       "</table>\n",
       "</div>"
      ],
      "text/plain": [
       "          A         B         C         D         E         F         G\n",
       "0     harry  0.084446  0.608523  0.172650  0.665257  0.886400  0.579239\n",
       "1   0.47851  0.990280  0.391509  0.204213  0.779200  0.670630  0.993223\n",
       "2  0.476481  0.503598  0.667815  0.266115  0.829073  0.255410  0.596635\n",
       "3  0.050383  0.807997  0.342456  0.837508  0.717598  0.921567  0.702254\n",
       "4  0.205352  0.972982  0.311395  0.115636  0.381257  0.948770  0.380561"
      ]
     },
     "execution_count": 136,
     "metadata": {},
     "output_type": "execute_result"
    }
   ],
   "source": [
    "newdf2"
   ]
  },
  {
   "cell_type": "code",
   "execution_count": 137,
   "id": "957bdc58",
   "metadata": {
    "scrolled": true
   },
   "outputs": [
    {
     "name": "stderr",
     "output_type": "stream",
     "text": [
      "C:\\Users\\my\\AppData\\Local\\Temp\\ipykernel_17924\\1087135841.py:1: FutureWarning: Setting an item of incompatible dtype is deprecated and will raise in a future error of pandas. Value '3C' has dtype incompatible with float64, please explicitly cast to a compatible dtype first.\n",
      "  newdf2.loc[3,'C'] = \"3C\"\n"
     ]
    }
   ],
   "source": [
    "newdf2.loc[3,'C'] = \"3C\""
   ]
  },
  {
   "cell_type": "code",
   "execution_count": 146,
   "id": "025fb8f7",
   "metadata": {},
   "outputs": [
    {
     "data": {
      "text/html": [
       "<div>\n",
       "<style scoped>\n",
       "    .dataframe tbody tr th:only-of-type {\n",
       "        vertical-align: middle;\n",
       "    }\n",
       "\n",
       "    .dataframe tbody tr th {\n",
       "        vertical-align: top;\n",
       "    }\n",
       "\n",
       "    .dataframe thead th {\n",
       "        text-align: right;\n",
       "    }\n",
       "</style>\n",
       "<table border=\"1\" class=\"dataframe\">\n",
       "  <thead>\n",
       "    <tr style=\"text-align: right;\">\n",
       "      <th></th>\n",
       "      <th>A</th>\n",
       "      <th>B</th>\n",
       "      <th>C</th>\n",
       "      <th>D</th>\n",
       "      <th>E</th>\n",
       "      <th>F</th>\n",
       "      <th>G</th>\n",
       "    </tr>\n",
       "  </thead>\n",
       "  <tbody>\n",
       "    <tr>\n",
       "      <th>0</th>\n",
       "      <td>harry</td>\n",
       "      <td>0.084446</td>\n",
       "      <td>0.608523</td>\n",
       "      <td>0.172650</td>\n",
       "      <td>0.665257</td>\n",
       "      <td>0.886400</td>\n",
       "      <td>0.579239</td>\n",
       "    </tr>\n",
       "    <tr>\n",
       "      <th>1</th>\n",
       "      <td>0.47851</td>\n",
       "      <td>0.990280</td>\n",
       "      <td>0.391509</td>\n",
       "      <td>0.204213</td>\n",
       "      <td>0.779200</td>\n",
       "      <td>0.670630</td>\n",
       "      <td>0.993223</td>\n",
       "    </tr>\n",
       "    <tr>\n",
       "      <th>2</th>\n",
       "      <td>0.476481</td>\n",
       "      <td>0.503598</td>\n",
       "      <td>0.667815</td>\n",
       "      <td>0.266115</td>\n",
       "      <td>0.829073</td>\n",
       "      <td>0.255410</td>\n",
       "      <td>0.596635</td>\n",
       "    </tr>\n",
       "    <tr>\n",
       "      <th>3</th>\n",
       "      <td>0.050383</td>\n",
       "      <td>0.807997</td>\n",
       "      <td>3C</td>\n",
       "      <td>0.837508</td>\n",
       "      <td>0.717598</td>\n",
       "      <td>0.921567</td>\n",
       "      <td>0.702254</td>\n",
       "    </tr>\n",
       "    <tr>\n",
       "      <th>4</th>\n",
       "      <td>0.205352</td>\n",
       "      <td>0.972982</td>\n",
       "      <td>0.311395</td>\n",
       "      <td>0.115636</td>\n",
       "      <td>0.381257</td>\n",
       "      <td>0.948770</td>\n",
       "      <td>0.380561</td>\n",
       "    </tr>\n",
       "  </tbody>\n",
       "</table>\n",
       "</div>"
      ],
      "text/plain": [
       "          A         B         C         D         E         F         G\n",
       "0     harry  0.084446  0.608523  0.172650  0.665257  0.886400  0.579239\n",
       "1   0.47851  0.990280  0.391509  0.204213  0.779200  0.670630  0.993223\n",
       "2  0.476481  0.503598  0.667815  0.266115  0.829073  0.255410  0.596635\n",
       "3  0.050383  0.807997        3C  0.837508  0.717598  0.921567  0.702254\n",
       "4  0.205352  0.972982  0.311395  0.115636  0.381257  0.948770  0.380561"
      ]
     },
     "execution_count": 146,
     "metadata": {},
     "output_type": "execute_result"
    }
   ],
   "source": [
    "newdf2"
   ]
  },
  {
   "cell_type": "code",
   "execution_count": 147,
   "id": "ecb50183",
   "metadata": {},
   "outputs": [],
   "source": [
    "newdf2.loc[[1,3],['A', 'C']] = \"3C\""
   ]
  },
  {
   "cell_type": "code",
   "execution_count": 148,
   "id": "e32d4185",
   "metadata": {},
   "outputs": [
    {
     "data": {
      "text/html": [
       "<div>\n",
       "<style scoped>\n",
       "    .dataframe tbody tr th:only-of-type {\n",
       "        vertical-align: middle;\n",
       "    }\n",
       "\n",
       "    .dataframe tbody tr th {\n",
       "        vertical-align: top;\n",
       "    }\n",
       "\n",
       "    .dataframe thead th {\n",
       "        text-align: right;\n",
       "    }\n",
       "</style>\n",
       "<table border=\"1\" class=\"dataframe\">\n",
       "  <thead>\n",
       "    <tr style=\"text-align: right;\">\n",
       "      <th></th>\n",
       "      <th>A</th>\n",
       "      <th>B</th>\n",
       "      <th>C</th>\n",
       "      <th>D</th>\n",
       "      <th>E</th>\n",
       "      <th>F</th>\n",
       "      <th>G</th>\n",
       "    </tr>\n",
       "  </thead>\n",
       "  <tbody>\n",
       "    <tr>\n",
       "      <th>0</th>\n",
       "      <td>harry</td>\n",
       "      <td>0.084446</td>\n",
       "      <td>0.608523</td>\n",
       "      <td>0.172650</td>\n",
       "      <td>0.665257</td>\n",
       "      <td>0.886400</td>\n",
       "      <td>0.579239</td>\n",
       "    </tr>\n",
       "    <tr>\n",
       "      <th>1</th>\n",
       "      <td>3C</td>\n",
       "      <td>0.990280</td>\n",
       "      <td>3C</td>\n",
       "      <td>0.204213</td>\n",
       "      <td>0.779200</td>\n",
       "      <td>0.670630</td>\n",
       "      <td>0.993223</td>\n",
       "    </tr>\n",
       "    <tr>\n",
       "      <th>2</th>\n",
       "      <td>0.476481</td>\n",
       "      <td>0.503598</td>\n",
       "      <td>0.667815</td>\n",
       "      <td>0.266115</td>\n",
       "      <td>0.829073</td>\n",
       "      <td>0.255410</td>\n",
       "      <td>0.596635</td>\n",
       "    </tr>\n",
       "    <tr>\n",
       "      <th>3</th>\n",
       "      <td>3C</td>\n",
       "      <td>0.807997</td>\n",
       "      <td>3C</td>\n",
       "      <td>0.837508</td>\n",
       "      <td>0.717598</td>\n",
       "      <td>0.921567</td>\n",
       "      <td>0.702254</td>\n",
       "    </tr>\n",
       "    <tr>\n",
       "      <th>4</th>\n",
       "      <td>0.205352</td>\n",
       "      <td>0.972982</td>\n",
       "      <td>0.311395</td>\n",
       "      <td>0.115636</td>\n",
       "      <td>0.381257</td>\n",
       "      <td>0.948770</td>\n",
       "      <td>0.380561</td>\n",
       "    </tr>\n",
       "  </tbody>\n",
       "</table>\n",
       "</div>"
      ],
      "text/plain": [
       "          A         B         C         D         E         F         G\n",
       "0     harry  0.084446  0.608523  0.172650  0.665257  0.886400  0.579239\n",
       "1        3C  0.990280        3C  0.204213  0.779200  0.670630  0.993223\n",
       "2  0.476481  0.503598  0.667815  0.266115  0.829073  0.255410  0.596635\n",
       "3        3C  0.807997        3C  0.837508  0.717598  0.921567  0.702254\n",
       "4  0.205352  0.972982  0.311395  0.115636  0.381257  0.948770  0.380561"
      ]
     },
     "execution_count": 148,
     "metadata": {},
     "output_type": "execute_result"
    }
   ],
   "source": [
    "newdf2"
   ]
  },
  {
   "cell_type": "code",
   "execution_count": 149,
   "id": "abe9adab",
   "metadata": {},
   "outputs": [
    {
     "data": {
      "text/html": [
       "<div>\n",
       "<style scoped>\n",
       "    .dataframe tbody tr th:only-of-type {\n",
       "        vertical-align: middle;\n",
       "    }\n",
       "\n",
       "    .dataframe tbody tr th {\n",
       "        vertical-align: top;\n",
       "    }\n",
       "\n",
       "    .dataframe thead th {\n",
       "        text-align: right;\n",
       "    }\n",
       "</style>\n",
       "<table border=\"1\" class=\"dataframe\">\n",
       "  <thead>\n",
       "    <tr style=\"text-align: right;\">\n",
       "      <th></th>\n",
       "      <th>A</th>\n",
       "      <th>B</th>\n",
       "      <th>D</th>\n",
       "      <th>E</th>\n",
       "      <th>F</th>\n",
       "      <th>G</th>\n",
       "    </tr>\n",
       "  </thead>\n",
       "  <tbody>\n",
       "    <tr>\n",
       "      <th>0</th>\n",
       "      <td>harry</td>\n",
       "      <td>0.084446</td>\n",
       "      <td>0.172650</td>\n",
       "      <td>0.665257</td>\n",
       "      <td>0.886400</td>\n",
       "      <td>0.579239</td>\n",
       "    </tr>\n",
       "    <tr>\n",
       "      <th>1</th>\n",
       "      <td>3C</td>\n",
       "      <td>0.990280</td>\n",
       "      <td>0.204213</td>\n",
       "      <td>0.779200</td>\n",
       "      <td>0.670630</td>\n",
       "      <td>0.993223</td>\n",
       "    </tr>\n",
       "    <tr>\n",
       "      <th>2</th>\n",
       "      <td>0.476481</td>\n",
       "      <td>0.503598</td>\n",
       "      <td>0.266115</td>\n",
       "      <td>0.829073</td>\n",
       "      <td>0.255410</td>\n",
       "      <td>0.596635</td>\n",
       "    </tr>\n",
       "    <tr>\n",
       "      <th>3</th>\n",
       "      <td>3C</td>\n",
       "      <td>0.807997</td>\n",
       "      <td>0.837508</td>\n",
       "      <td>0.717598</td>\n",
       "      <td>0.921567</td>\n",
       "      <td>0.702254</td>\n",
       "    </tr>\n",
       "    <tr>\n",
       "      <th>4</th>\n",
       "      <td>0.205352</td>\n",
       "      <td>0.972982</td>\n",
       "      <td>0.115636</td>\n",
       "      <td>0.381257</td>\n",
       "      <td>0.948770</td>\n",
       "      <td>0.380561</td>\n",
       "    </tr>\n",
       "  </tbody>\n",
       "</table>\n",
       "</div>"
      ],
      "text/plain": [
       "          A         B         D         E         F         G\n",
       "0     harry  0.084446  0.172650  0.665257  0.886400  0.579239\n",
       "1        3C  0.990280  0.204213  0.779200  0.670630  0.993223\n",
       "2  0.476481  0.503598  0.266115  0.829073  0.255410  0.596635\n",
       "3        3C  0.807997  0.837508  0.717598  0.921567  0.702254\n",
       "4  0.205352  0.972982  0.115636  0.381257  0.948770  0.380561"
      ]
     },
     "execution_count": 149,
     "metadata": {},
     "output_type": "execute_result"
    }
   ],
   "source": [
    "newdf2.drop(\"C\", axis=1) # Drop this column"
   ]
  },
  {
   "cell_type": "code",
   "execution_count": 151,
   "id": "fd460e77",
   "metadata": {},
   "outputs": [
    {
     "data": {
      "text/html": [
       "<div>\n",
       "<style scoped>\n",
       "    .dataframe tbody tr th:only-of-type {\n",
       "        vertical-align: middle;\n",
       "    }\n",
       "\n",
       "    .dataframe tbody tr th {\n",
       "        vertical-align: top;\n",
       "    }\n",
       "\n",
       "    .dataframe thead th {\n",
       "        text-align: right;\n",
       "    }\n",
       "</style>\n",
       "<table border=\"1\" class=\"dataframe\">\n",
       "  <thead>\n",
       "    <tr style=\"text-align: right;\">\n",
       "      <th></th>\n",
       "      <th>A</th>\n",
       "      <th>B</th>\n",
       "      <th>C</th>\n",
       "      <th>D</th>\n",
       "      <th>E</th>\n",
       "      <th>F</th>\n",
       "      <th>G</th>\n",
       "    </tr>\n",
       "  </thead>\n",
       "  <tbody>\n",
       "    <tr>\n",
       "      <th>1</th>\n",
       "      <td>3C</td>\n",
       "      <td>0.990280</td>\n",
       "      <td>3C</td>\n",
       "      <td>0.204213</td>\n",
       "      <td>0.779200</td>\n",
       "      <td>0.67063</td>\n",
       "      <td>0.993223</td>\n",
       "    </tr>\n",
       "    <tr>\n",
       "      <th>2</th>\n",
       "      <td>0.476481</td>\n",
       "      <td>0.503598</td>\n",
       "      <td>0.667815</td>\n",
       "      <td>0.266115</td>\n",
       "      <td>0.829073</td>\n",
       "      <td>0.25541</td>\n",
       "      <td>0.596635</td>\n",
       "    </tr>\n",
       "  </tbody>\n",
       "</table>\n",
       "</div>"
      ],
      "text/plain": [
       "          A         B         C         D         E        F         G\n",
       "1        3C  0.990280        3C  0.204213  0.779200  0.67063  0.993223\n",
       "2  0.476481  0.503598  0.667815  0.266115  0.829073  0.25541  0.596635"
      ]
     },
     "execution_count": 151,
     "metadata": {},
     "output_type": "execute_result"
    }
   ],
   "source": [
    "newdf2.loc[[1,2], :]"
   ]
  },
  {
   "cell_type": "code",
   "execution_count": 156,
   "id": "7b9c4319",
   "metadata": {},
   "outputs": [
    {
     "data": {
      "text/html": [
       "<div>\n",
       "<style scoped>\n",
       "    .dataframe tbody tr th:only-of-type {\n",
       "        vertical-align: middle;\n",
       "    }\n",
       "\n",
       "    .dataframe tbody tr th {\n",
       "        vertical-align: top;\n",
       "    }\n",
       "\n",
       "    .dataframe thead th {\n",
       "        text-align: right;\n",
       "    }\n",
       "</style>\n",
       "<table border=\"1\" class=\"dataframe\">\n",
       "  <thead>\n",
       "    <tr style=\"text-align: right;\">\n",
       "      <th></th>\n",
       "      <th>A</th>\n",
       "      <th>B</th>\n",
       "      <th>C</th>\n",
       "      <th>D</th>\n",
       "      <th>E</th>\n",
       "      <th>F</th>\n",
       "      <th>G</th>\n",
       "    </tr>\n",
       "  </thead>\n",
       "  <tbody>\n",
       "    <tr>\n",
       "      <th>1</th>\n",
       "      <td>3C</td>\n",
       "      <td>0.990280</td>\n",
       "      <td>3C</td>\n",
       "      <td>0.204213</td>\n",
       "      <td>0.779200</td>\n",
       "      <td>0.670630</td>\n",
       "      <td>0.993223</td>\n",
       "    </tr>\n",
       "    <tr>\n",
       "      <th>3</th>\n",
       "      <td>3C</td>\n",
       "      <td>0.807997</td>\n",
       "      <td>3C</td>\n",
       "      <td>0.837508</td>\n",
       "      <td>0.717598</td>\n",
       "      <td>0.921567</td>\n",
       "      <td>0.702254</td>\n",
       "    </tr>\n",
       "    <tr>\n",
       "      <th>4</th>\n",
       "      <td>0.205352</td>\n",
       "      <td>0.972982</td>\n",
       "      <td>0.311395</td>\n",
       "      <td>0.115636</td>\n",
       "      <td>0.381257</td>\n",
       "      <td>0.948770</td>\n",
       "      <td>0.380561</td>\n",
       "    </tr>\n",
       "  </tbody>\n",
       "</table>\n",
       "</div>"
      ],
      "text/plain": [
       "          A         B         C         D         E         F         G\n",
       "1        3C  0.990280        3C  0.204213  0.779200  0.670630  0.993223\n",
       "3        3C  0.807997        3C  0.837508  0.717598  0.921567  0.702254\n",
       "4  0.205352  0.972982  0.311395  0.115636  0.381257  0.948770  0.380561"
      ]
     },
     "execution_count": 156,
     "metadata": {},
     "output_type": "execute_result"
    }
   ],
   "source": [
    "newdf2.loc[newdf2['B']>0.6]"
   ]
  },
  {
   "cell_type": "code",
   "execution_count": null,
   "id": "3471dfbb",
   "metadata": {},
   "outputs": [],
   "source": []
  }
 ],
 "metadata": {
  "kernelspec": {
   "display_name": "Python 3 (ipykernel)",
   "language": "python",
   "name": "python3"
  },
  "language_info": {
   "codemirror_mode": {
    "name": "ipython",
    "version": 3
   },
   "file_extension": ".py",
   "mimetype": "text/x-python",
   "name": "python",
   "nbconvert_exporter": "python",
   "pygments_lexer": "ipython3",
   "version": "3.11.4"
  }
 },
 "nbformat": 4,
 "nbformat_minor": 5
}
